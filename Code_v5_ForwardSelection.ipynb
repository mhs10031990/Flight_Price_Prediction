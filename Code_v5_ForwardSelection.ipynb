{
 "cells": [
  {
   "cell_type": "code",
   "execution_count": 88,
   "metadata": {
    "collapsed": true
   },
   "outputs": [],
   "source": [
    "import pandas as pd\n",
    "import numpy as np\n",
    "from sklearn.model_selection import train_test_split\n",
    "from sklearn.ensemble import RandomForestRegressor\n",
    "from sklearn.linear_model import LinearRegression\n",
    "from sklearn.metrics import mean_squared_log_error, r2_score\n",
    "import pandas_profiling as pp\n",
    "from sklearn.linear_model import Lasso, Ridge\n",
    "from sklearn.ensemble import RandomForestRegressor\n",
    "from sklearn.model_selection import RandomizedSearchCV,GridSearchCV\n",
    "import xgboost\n",
    "from sklearn.preprocessing import MinMaxScaler, StandardScaler"
   ]
  },
  {
   "cell_type": "code",
   "execution_count": 3,
   "metadata": {
    "collapsed": true
   },
   "outputs": [],
   "source": [
    "pd.set_option('display.max_columns', 1000)"
   ]
  },
  {
   "cell_type": "code",
   "execution_count": 4,
   "metadata": {
    "collapsed": true
   },
   "outputs": [],
   "source": [
    "def onehotencode(data,col_name,prefix):\n",
    "    return pd.concat([data, pd.get_dummies(data[col_name], prefix=prefix)],axis=1)"
   ]
  },
  {
   "cell_type": "code",
   "execution_count": 5,
   "metadata": {
    "collapsed": true
   },
   "outputs": [],
   "source": [
    "def encode_total_stops(data):\n",
    "    data['Encoded_stops'] = 0.0\n",
    "    for i in range(0,len(data['Total_Stops'])):\n",
    "        if data.loc[i, 'Total_Stops'] == '1 stop':\n",
    "            data.loc[i,'Encoded_stops'] = 0.1\n",
    "        elif data.loc[i, 'Total_Stops'] == '2 stops':\n",
    "            data.loc[i,'Encoded_stops'] = 0.2\n",
    "        elif data.loc[i, 'Total_Stops'] == '3 stops':\n",
    "            data.loc[i,'Encoded_stops'] = 0.3\n",
    "        elif data.loc[i, 'Total_Stops'] == '4 stops':\n",
    "            data.loc[i,'Encoded_stops'] = 0.4\n",
    "        elif data.loc[i, 'Total_Stops'] == 'non-stop':\n",
    "            data.loc[i,'Encoded_stops'] = 0.0\n",
    "\n",
    "    return data"
   ]
  },
  {
   "cell_type": "code",
   "execution_count": 6,
   "metadata": {
    "collapsed": true
   },
   "outputs": [],
   "source": [
    "def extract_journey_data(data):\n",
    "    data['Journey_Day'] = pd.DataFrame(pd.to_datetime(data['Date_of_Journey'], format='%d/%m/%Y').dt.day)\n",
    "    data['Journey_Month'] = pd.DataFrame(pd.to_datetime(data['Date_of_Journey'], format='%d/%m/%Y').dt.month)\n",
    "    data['Journey_day_of_week'] =  pd.DataFrame(((pd.to_datetime(data['Date_of_Journey'], format='%d/%m/%Y').dt.dayofweek)).astype('int'))\n",
    "    data['Journey_over_weekend'] =  pd.DataFrame(((pd.to_datetime(data['Date_of_Journey'], format='%d/%m/%Y').dt.dayofweek) // 5).astype('int'))\n",
    "\n",
    "    \n",
    "    return data"
   ]
  },
  {
   "cell_type": "code",
   "execution_count": 100,
   "metadata": {
    "scrolled": true
   },
   "outputs": [
    {
     "data": {
      "text/plain": [
       "0    24/03/2019\n",
       "1     1/05/2019\n",
       "2     9/06/2019\n",
       "3    12/05/2019\n",
       "4    01/03/2019\n",
       "Name: Date_of_Journey, dtype: object"
      ]
     },
     "execution_count": 100,
     "metadata": {},
     "output_type": "execute_result"
    }
   ],
   "source": [
    "data['Date_of_Journey'].head()"
   ]
  },
  {
   "cell_type": "code",
   "execution_count": 7,
   "metadata": {
    "collapsed": true
   },
   "outputs": [],
   "source": [
    "def encode_duration(data):\n",
    "    data['Duration_Type'] = 0\n",
    "    for i in range(0, len(data)):\n",
    "    \n",
    "        split_len = data.loc[i,'Duration'].split(' ')\n",
    "        if len(split_len) == 1:\n",
    "            if str(data.loc[i,'Duration']).find('h') != -1:\n",
    "#                print (\"hours: \",data.loc[i,'Duration'])\n",
    "                hours = int(split_len[0].replace('h',\"\"))\n",
    "                mins = 0\n",
    "            else:\n",
    "                hours = 4 \n",
    "#                print (\"mins: \",data.loc[i,'Duration']\n",
    "                mins = int(split_len[0].replace('m',\"\"))\n",
    "        else:\n",
    "            \n",
    "            hours = int(split_len[0].replace('h',\"\"))\n",
    "            mins  = int(split_len[1].replace('m',\"\"))\n",
    "        \n",
    "        data.loc[i,'Duration_Type'] = (hours*60 + mins)\n",
    "        \n",
    "    return data"
   ]
  },
  {
   "cell_type": "code",
   "execution_count": 8,
   "metadata": {
    "collapsed": true
   },
   "outputs": [],
   "source": [
    "def flight_hours(data):\n",
    "    data['Fly_Hours'] = 0\n",
    "    \n",
    "    data_Dep_Time = data['Dep_Time'].str.split(\":\",n=1,expand=True).astype('int64')\n",
    "    data_Dep_Time.columns = ['Hours','Mins']\n",
    "    for i in range(0,len(data)):\n",
    "        \n",
    "        hr = data_Dep_Time.loc[i, 'Hours']\n",
    "        min = data_Dep_Time.loc[i, 'Mins']\n",
    "        data.loc[i,'Fly_Hours'] = (hr*60 + (min))\n",
    "            \n",
    "    return data"
   ]
  },
  {
   "cell_type": "code",
   "execution_count": 9,
   "metadata": {
    "collapsed": true
   },
   "outputs": [],
   "source": [
    "def arrival_hours(data):\n",
    "    data['Arrival_Hours'] = 0\n",
    "    for i in range(0,len(data)):\n",
    "      \n",
    "        data_Arr_Time = data.loc[i,'Arrival_Time'].split(\" \")[0]\n",
    "        data_Dep_Time = data_Arr_Time.split(\":\")\n",
    "        \n",
    "        hr = int(data_Dep_Time[0])\n",
    "        min = int(data_Dep_Time[1])\n",
    "        data.loc[i,'Arrival_Hours'] = (hr*60 + (min))\n",
    "            \n",
    "    return data"
   ]
  },
  {
   "cell_type": "code",
   "execution_count": 10,
   "metadata": {
    "collapsed": true
   },
   "outputs": [],
   "source": [
    "def log_transform(data):\n",
    "    return np.log10(data)"
   ]
  },
  {
   "cell_type": "markdown",
   "metadata": {},
   "source": [
    "# Data cleaning and Modeling starts here"
   ]
  },
  {
   "cell_type": "code",
   "execution_count": 11,
   "metadata": {
    "collapsed": true
   },
   "outputs": [],
   "source": [
    "data = pd.read_excel('C:\\\\Users\\\\LENOVO\\\\Desktop\\\\Flight_Ticket_Participant_Datasets\\\\Data_Train.xlsx')"
   ]
  },
  {
   "cell_type": "code",
   "execution_count": 12,
   "metadata": {
    "collapsed": true
   },
   "outputs": [],
   "source": [
    "test = pd.read_excel('C:\\\\Users\\\\LENOVO\\\\Desktop\\\\Flight_Ticket_Participant_Datasets\\\\Test_set.xlsx')"
   ]
  },
  {
   "cell_type": "code",
   "execution_count": 13,
   "metadata": {
    "collapsed": true
   },
   "outputs": [],
   "source": [
    "data_copy = data\n",
    "test_copy = test"
   ]
  },
  {
   "cell_type": "code",
   "execution_count": 14,
   "metadata": {},
   "outputs": [
    {
     "data": {
      "text/plain": [
       "(10683, 11)"
      ]
     },
     "execution_count": 14,
     "metadata": {},
     "output_type": "execute_result"
    }
   ],
   "source": [
    "data_copy.shape"
   ]
  },
  {
   "cell_type": "code",
   "execution_count": 15,
   "metadata": {
    "collapsed": true
   },
   "outputs": [],
   "source": [
    "data_copy.drop_duplicates(keep='first', inplace=True)"
   ]
  },
  {
   "cell_type": "code",
   "execution_count": 16,
   "metadata": {},
   "outputs": [
    {
     "data": {
      "text/plain": [
       "(10463, 11)"
      ]
     },
     "execution_count": 16,
     "metadata": {},
     "output_type": "execute_result"
    }
   ],
   "source": [
    "data_copy.shape"
   ]
  },
  {
   "cell_type": "code",
   "execution_count": 17,
   "metadata": {
    "collapsed": true
   },
   "outputs": [],
   "source": [
    "#Drop anamolies.\n",
    "#data_copy = data_copy[data_copy['Price'] > data[\"Price\"].quantile(0.01)]\n",
    "#data_copy = data_copy[data_copy['Price'] < data[\"Price\"].quantile(0.99)]\n",
    "data_copy = data_copy[data_copy['Airline'] != 'Trujet']\n",
    "data_copy = data_copy[data_copy['Additional_Info'] != 'Red-eye flight']"
   ]
  },
  {
   "cell_type": "code",
   "execution_count": 18,
   "metadata": {
    "collapsed": true
   },
   "outputs": [],
   "source": [
    "#data_copy.loc[data_copy['Airline'] == 'Jet Airways Business','Airline'] = 'Jet Airways'\n",
    "#data_copy.loc[data_copy['Airline'] == 'Multiple carriers Premium economy','Airline'] = 'Multiple carriers'\n",
    "#data_copy.loc[data_copy['Airline'] == 'Vistara Premium economy','Airline'] = 'Vistara'"
   ]
  },
  {
   "cell_type": "code",
   "execution_count": null,
   "metadata": {
    "collapsed": true
   },
   "outputs": [],
   "source": [
    "data_copy = extract_journey_data(data_copy)"
   ]
  },
  {
   "cell_type": "code",
   "execution_count": 109,
   "metadata": {},
   "outputs": [
    {
     "ename": "KeyError",
     "evalue": "'Month_Start'",
     "output_type": "error",
     "traceback": [
      "\u001b[1;31m---------------------------------------------------------------------------\u001b[0m",
      "\u001b[1;31mKeyError\u001b[0m                                  Traceback (most recent call last)",
      "\u001b[1;32mC:\\Anaconda\\envs\\tfdeeplearning\\lib\\site-packages\\pandas\\core\\indexes\\base.py\u001b[0m in \u001b[0;36mget_loc\u001b[1;34m(self, key, method, tolerance)\u001b[0m\n\u001b[0;32m   2441\u001b[0m             \u001b[1;32mtry\u001b[0m\u001b[1;33m:\u001b[0m\u001b[1;33m\u001b[0m\u001b[0m\n\u001b[1;32m-> 2442\u001b[1;33m                 \u001b[1;32mreturn\u001b[0m \u001b[0mself\u001b[0m\u001b[1;33m.\u001b[0m\u001b[0m_engine\u001b[0m\u001b[1;33m.\u001b[0m\u001b[0mget_loc\u001b[0m\u001b[1;33m(\u001b[0m\u001b[0mkey\u001b[0m\u001b[1;33m)\u001b[0m\u001b[1;33m\u001b[0m\u001b[0m\n\u001b[0m\u001b[0;32m   2443\u001b[0m             \u001b[1;32mexcept\u001b[0m \u001b[0mKeyError\u001b[0m\u001b[1;33m:\u001b[0m\u001b[1;33m\u001b[0m\u001b[0m\n",
      "\u001b[1;32mpandas\\_libs\\index.pyx\u001b[0m in \u001b[0;36mpandas._libs.index.IndexEngine.get_loc (pandas\\_libs\\index.c:5280)\u001b[1;34m()\u001b[0m\n",
      "\u001b[1;32mpandas\\_libs\\index.pyx\u001b[0m in \u001b[0;36mpandas._libs.index.IndexEngine.get_loc (pandas\\_libs\\index.c:5126)\u001b[1;34m()\u001b[0m\n",
      "\u001b[1;32mpandas\\_libs\\hashtable_class_helper.pxi\u001b[0m in \u001b[0;36mpandas._libs.hashtable.PyObjectHashTable.get_item (pandas\\_libs\\hashtable.c:20523)\u001b[1;34m()\u001b[0m\n",
      "\u001b[1;32mpandas\\_libs\\hashtable_class_helper.pxi\u001b[0m in \u001b[0;36mpandas._libs.hashtable.PyObjectHashTable.get_item (pandas\\_libs\\hashtable.c:20477)\u001b[1;34m()\u001b[0m\n",
      "\u001b[1;31mKeyError\u001b[0m: 'Month_Start'",
      "\nDuring handling of the above exception, another exception occurred:\n",
      "\u001b[1;31mKeyError\u001b[0m                                  Traceback (most recent call last)",
      "\u001b[1;32m<ipython-input-109-f2278f839b80>\u001b[0m in \u001b[0;36m<module>\u001b[1;34m()\u001b[0m\n\u001b[1;32m----> 1\u001b[1;33m \u001b[0mdata_copy\u001b[0m\u001b[1;33m.\u001b[0m\u001b[0mloc\u001b[0m\u001b[1;33m[\u001b[0m\u001b[0mdata_copy\u001b[0m\u001b[1;33m[\u001b[0m\u001b[1;34m'Month_Start'\u001b[0m\u001b[1;33m]\u001b[0m \u001b[1;33m==\u001b[0m \u001b[1;36m1\u001b[0m\u001b[1;33m,\u001b[0m\u001b[1;34m'Month_Start'\u001b[0m\u001b[1;33m]\u001b[0m \u001b[1;33m=\u001b[0m \u001b[1;36m1\u001b[0m\u001b[1;33m\u001b[0m\u001b[0m\n\u001b[0m\u001b[0;32m      2\u001b[0m \u001b[0mdata_copy\u001b[0m\u001b[1;33m.\u001b[0m\u001b[0mloc\u001b[0m\u001b[1;33m[\u001b[0m\u001b[0mdata_copy\u001b[0m\u001b[1;33m[\u001b[0m\u001b[1;34m'Month_Start'\u001b[0m\u001b[1;33m]\u001b[0m \u001b[1;33m==\u001b[0m \u001b[1;36m1\u001b[0m\u001b[1;33m,\u001b[0m\u001b[1;34m'Month_Start'\u001b[0m\u001b[1;33m]\u001b[0m \u001b[1;33m=\u001b[0m \u001b[1;36m1\u001b[0m\u001b[1;33m\u001b[0m\u001b[0m\n\u001b[0;32m      3\u001b[0m \u001b[0mdata_copy\u001b[0m\u001b[1;33m.\u001b[0m\u001b[0mloc\u001b[0m\u001b[1;33m[\u001b[0m\u001b[0mdata_copy\u001b[0m\u001b[1;33m[\u001b[0m\u001b[1;34m'Month_Start'\u001b[0m\u001b[1;33m]\u001b[0m \u001b[1;33m==\u001b[0m \u001b[1;36m1\u001b[0m\u001b[1;33m,\u001b[0m\u001b[1;34m'Month_Start'\u001b[0m\u001b[1;33m]\u001b[0m \u001b[1;33m=\u001b[0m \u001b[1;36m1\u001b[0m\u001b[1;33m\u001b[0m\u001b[0m\n",
      "\u001b[1;32mC:\\Anaconda\\envs\\tfdeeplearning\\lib\\site-packages\\pandas\\core\\frame.py\u001b[0m in \u001b[0;36m__getitem__\u001b[1;34m(self, key)\u001b[0m\n\u001b[0;32m   1962\u001b[0m             \u001b[1;32mreturn\u001b[0m \u001b[0mself\u001b[0m\u001b[1;33m.\u001b[0m\u001b[0m_getitem_multilevel\u001b[0m\u001b[1;33m(\u001b[0m\u001b[0mkey\u001b[0m\u001b[1;33m)\u001b[0m\u001b[1;33m\u001b[0m\u001b[0m\n\u001b[0;32m   1963\u001b[0m         \u001b[1;32melse\u001b[0m\u001b[1;33m:\u001b[0m\u001b[1;33m\u001b[0m\u001b[0m\n\u001b[1;32m-> 1964\u001b[1;33m             \u001b[1;32mreturn\u001b[0m \u001b[0mself\u001b[0m\u001b[1;33m.\u001b[0m\u001b[0m_getitem_column\u001b[0m\u001b[1;33m(\u001b[0m\u001b[0mkey\u001b[0m\u001b[1;33m)\u001b[0m\u001b[1;33m\u001b[0m\u001b[0m\n\u001b[0m\u001b[0;32m   1965\u001b[0m \u001b[1;33m\u001b[0m\u001b[0m\n\u001b[0;32m   1966\u001b[0m     \u001b[1;32mdef\u001b[0m \u001b[0m_getitem_column\u001b[0m\u001b[1;33m(\u001b[0m\u001b[0mself\u001b[0m\u001b[1;33m,\u001b[0m \u001b[0mkey\u001b[0m\u001b[1;33m)\u001b[0m\u001b[1;33m:\u001b[0m\u001b[1;33m\u001b[0m\u001b[0m\n",
      "\u001b[1;32mC:\\Anaconda\\envs\\tfdeeplearning\\lib\\site-packages\\pandas\\core\\frame.py\u001b[0m in \u001b[0;36m_getitem_column\u001b[1;34m(self, key)\u001b[0m\n\u001b[0;32m   1969\u001b[0m         \u001b[1;31m# get column\u001b[0m\u001b[1;33m\u001b[0m\u001b[1;33m\u001b[0m\u001b[0m\n\u001b[0;32m   1970\u001b[0m         \u001b[1;32mif\u001b[0m \u001b[0mself\u001b[0m\u001b[1;33m.\u001b[0m\u001b[0mcolumns\u001b[0m\u001b[1;33m.\u001b[0m\u001b[0mis_unique\u001b[0m\u001b[1;33m:\u001b[0m\u001b[1;33m\u001b[0m\u001b[0m\n\u001b[1;32m-> 1971\u001b[1;33m             \u001b[1;32mreturn\u001b[0m \u001b[0mself\u001b[0m\u001b[1;33m.\u001b[0m\u001b[0m_get_item_cache\u001b[0m\u001b[1;33m(\u001b[0m\u001b[0mkey\u001b[0m\u001b[1;33m)\u001b[0m\u001b[1;33m\u001b[0m\u001b[0m\n\u001b[0m\u001b[0;32m   1972\u001b[0m \u001b[1;33m\u001b[0m\u001b[0m\n\u001b[0;32m   1973\u001b[0m         \u001b[1;31m# duplicate columns & possible reduce dimensionality\u001b[0m\u001b[1;33m\u001b[0m\u001b[1;33m\u001b[0m\u001b[0m\n",
      "\u001b[1;32mC:\\Anaconda\\envs\\tfdeeplearning\\lib\\site-packages\\pandas\\core\\generic.py\u001b[0m in \u001b[0;36m_get_item_cache\u001b[1;34m(self, item)\u001b[0m\n\u001b[0;32m   1643\u001b[0m         \u001b[0mres\u001b[0m \u001b[1;33m=\u001b[0m \u001b[0mcache\u001b[0m\u001b[1;33m.\u001b[0m\u001b[0mget\u001b[0m\u001b[1;33m(\u001b[0m\u001b[0mitem\u001b[0m\u001b[1;33m)\u001b[0m\u001b[1;33m\u001b[0m\u001b[0m\n\u001b[0;32m   1644\u001b[0m         \u001b[1;32mif\u001b[0m \u001b[0mres\u001b[0m \u001b[1;32mis\u001b[0m \u001b[1;32mNone\u001b[0m\u001b[1;33m:\u001b[0m\u001b[1;33m\u001b[0m\u001b[0m\n\u001b[1;32m-> 1645\u001b[1;33m             \u001b[0mvalues\u001b[0m \u001b[1;33m=\u001b[0m \u001b[0mself\u001b[0m\u001b[1;33m.\u001b[0m\u001b[0m_data\u001b[0m\u001b[1;33m.\u001b[0m\u001b[0mget\u001b[0m\u001b[1;33m(\u001b[0m\u001b[0mitem\u001b[0m\u001b[1;33m)\u001b[0m\u001b[1;33m\u001b[0m\u001b[0m\n\u001b[0m\u001b[0;32m   1646\u001b[0m             \u001b[0mres\u001b[0m \u001b[1;33m=\u001b[0m \u001b[0mself\u001b[0m\u001b[1;33m.\u001b[0m\u001b[0m_box_item_values\u001b[0m\u001b[1;33m(\u001b[0m\u001b[0mitem\u001b[0m\u001b[1;33m,\u001b[0m \u001b[0mvalues\u001b[0m\u001b[1;33m)\u001b[0m\u001b[1;33m\u001b[0m\u001b[0m\n\u001b[0;32m   1647\u001b[0m             \u001b[0mcache\u001b[0m\u001b[1;33m[\u001b[0m\u001b[0mitem\u001b[0m\u001b[1;33m]\u001b[0m \u001b[1;33m=\u001b[0m \u001b[0mres\u001b[0m\u001b[1;33m\u001b[0m\u001b[0m\n",
      "\u001b[1;32mC:\\Anaconda\\envs\\tfdeeplearning\\lib\\site-packages\\pandas\\core\\internals.py\u001b[0m in \u001b[0;36mget\u001b[1;34m(self, item, fastpath)\u001b[0m\n\u001b[0;32m   3588\u001b[0m \u001b[1;33m\u001b[0m\u001b[0m\n\u001b[0;32m   3589\u001b[0m             \u001b[1;32mif\u001b[0m \u001b[1;32mnot\u001b[0m \u001b[0misnull\u001b[0m\u001b[1;33m(\u001b[0m\u001b[0mitem\u001b[0m\u001b[1;33m)\u001b[0m\u001b[1;33m:\u001b[0m\u001b[1;33m\u001b[0m\u001b[0m\n\u001b[1;32m-> 3590\u001b[1;33m                 \u001b[0mloc\u001b[0m \u001b[1;33m=\u001b[0m \u001b[0mself\u001b[0m\u001b[1;33m.\u001b[0m\u001b[0mitems\u001b[0m\u001b[1;33m.\u001b[0m\u001b[0mget_loc\u001b[0m\u001b[1;33m(\u001b[0m\u001b[0mitem\u001b[0m\u001b[1;33m)\u001b[0m\u001b[1;33m\u001b[0m\u001b[0m\n\u001b[0m\u001b[0;32m   3591\u001b[0m             \u001b[1;32melse\u001b[0m\u001b[1;33m:\u001b[0m\u001b[1;33m\u001b[0m\u001b[0m\n\u001b[0;32m   3592\u001b[0m                 \u001b[0mindexer\u001b[0m \u001b[1;33m=\u001b[0m \u001b[0mnp\u001b[0m\u001b[1;33m.\u001b[0m\u001b[0marange\u001b[0m\u001b[1;33m(\u001b[0m\u001b[0mlen\u001b[0m\u001b[1;33m(\u001b[0m\u001b[0mself\u001b[0m\u001b[1;33m.\u001b[0m\u001b[0mitems\u001b[0m\u001b[1;33m)\u001b[0m\u001b[1;33m)\u001b[0m\u001b[1;33m[\u001b[0m\u001b[0misnull\u001b[0m\u001b[1;33m(\u001b[0m\u001b[0mself\u001b[0m\u001b[1;33m.\u001b[0m\u001b[0mitems\u001b[0m\u001b[1;33m)\u001b[0m\u001b[1;33m]\u001b[0m\u001b[1;33m\u001b[0m\u001b[0m\n",
      "\u001b[1;32mC:\\Anaconda\\envs\\tfdeeplearning\\lib\\site-packages\\pandas\\core\\indexes\\base.py\u001b[0m in \u001b[0;36mget_loc\u001b[1;34m(self, key, method, tolerance)\u001b[0m\n\u001b[0;32m   2442\u001b[0m                 \u001b[1;32mreturn\u001b[0m \u001b[0mself\u001b[0m\u001b[1;33m.\u001b[0m\u001b[0m_engine\u001b[0m\u001b[1;33m.\u001b[0m\u001b[0mget_loc\u001b[0m\u001b[1;33m(\u001b[0m\u001b[0mkey\u001b[0m\u001b[1;33m)\u001b[0m\u001b[1;33m\u001b[0m\u001b[0m\n\u001b[0;32m   2443\u001b[0m             \u001b[1;32mexcept\u001b[0m \u001b[0mKeyError\u001b[0m\u001b[1;33m:\u001b[0m\u001b[1;33m\u001b[0m\u001b[0m\n\u001b[1;32m-> 2444\u001b[1;33m                 \u001b[1;32mreturn\u001b[0m \u001b[0mself\u001b[0m\u001b[1;33m.\u001b[0m\u001b[0m_engine\u001b[0m\u001b[1;33m.\u001b[0m\u001b[0mget_loc\u001b[0m\u001b[1;33m(\u001b[0m\u001b[0mself\u001b[0m\u001b[1;33m.\u001b[0m\u001b[0m_maybe_cast_indexer\u001b[0m\u001b[1;33m(\u001b[0m\u001b[0mkey\u001b[0m\u001b[1;33m)\u001b[0m\u001b[1;33m)\u001b[0m\u001b[1;33m\u001b[0m\u001b[0m\n\u001b[0m\u001b[0;32m   2445\u001b[0m \u001b[1;33m\u001b[0m\u001b[0m\n\u001b[0;32m   2446\u001b[0m         \u001b[0mindexer\u001b[0m \u001b[1;33m=\u001b[0m \u001b[0mself\u001b[0m\u001b[1;33m.\u001b[0m\u001b[0mget_indexer\u001b[0m\u001b[1;33m(\u001b[0m\u001b[1;33m[\u001b[0m\u001b[0mkey\u001b[0m\u001b[1;33m]\u001b[0m\u001b[1;33m,\u001b[0m \u001b[0mmethod\u001b[0m\u001b[1;33m=\u001b[0m\u001b[0mmethod\u001b[0m\u001b[1;33m,\u001b[0m \u001b[0mtolerance\u001b[0m\u001b[1;33m=\u001b[0m\u001b[0mtolerance\u001b[0m\u001b[1;33m)\u001b[0m\u001b[1;33m\u001b[0m\u001b[0m\n",
      "\u001b[1;32mpandas\\_libs\\index.pyx\u001b[0m in \u001b[0;36mpandas._libs.index.IndexEngine.get_loc (pandas\\_libs\\index.c:5280)\u001b[1;34m()\u001b[0m\n",
      "\u001b[1;32mpandas\\_libs\\index.pyx\u001b[0m in \u001b[0;36mpandas._libs.index.IndexEngine.get_loc (pandas\\_libs\\index.c:5126)\u001b[1;34m()\u001b[0m\n",
      "\u001b[1;32mpandas\\_libs\\hashtable_class_helper.pxi\u001b[0m in \u001b[0;36mpandas._libs.hashtable.PyObjectHashTable.get_item (pandas\\_libs\\hashtable.c:20523)\u001b[1;34m()\u001b[0m\n",
      "\u001b[1;32mpandas\\_libs\\hashtable_class_helper.pxi\u001b[0m in \u001b[0;36mpandas._libs.hashtable.PyObjectHashTable.get_item (pandas\\_libs\\hashtable.c:20477)\u001b[1;34m()\u001b[0m\n",
      "\u001b[1;31mKeyError\u001b[0m: 'Month_Start'"
     ]
    }
   ],
   "source": [
    "data_copy['Month_Start'] = 0\n",
    "data_copy.loc[data_copy['Journey_Day'] == 1,'Month_Start'] = 1\n",
    "data_copy.loc[data_copy['Journey_Day'] == 3,'Month_Start'] = 1\n",
    "data_copy.loc[data_copy['Journey_Day'] == 6,'Month_Start'] = 1\n",
    "data_copy.loc[data_copy['Journey_Day'] == 9,'Month_Start'] = 1"
   ]
  },
  {
   "cell_type": "code",
   "execution_count": 19,
   "metadata": {
    "collapsed": true
   },
   "outputs": [],
   "source": [
    "data_copy.loc[data_copy['Destination'] == 'New Delhi','Destination'] = 'Delhi'"
   ]
  },
  {
   "cell_type": "code",
   "execution_count": 20,
   "metadata": {
    "collapsed": true
   },
   "outputs": [],
   "source": [
    "data_copy.reset_index(inplace=True)"
   ]
  },
  {
   "cell_type": "code",
   "execution_count": 21,
   "metadata": {
    "collapsed": true
   },
   "outputs": [],
   "source": [
    "data_copy = data_copy[data_copy['Airline'] != 'Trujet']"
   ]
  },
  {
   "cell_type": "code",
   "execution_count": 22,
   "metadata": {
    "collapsed": true
   },
   "outputs": [],
   "source": [
    "data_copy = onehotencode(data_copy,'Airline',\"Airline_\")"
   ]
  },
  {
   "cell_type": "code",
   "execution_count": 23,
   "metadata": {
    "scrolled": false
   },
   "outputs": [
    {
     "data": {
      "text/plain": [
       "Index(['index', 'Airline', 'Date_of_Journey', 'Source', 'Destination', 'Route',\n",
       "       'Dep_Time', 'Arrival_Time', 'Duration', 'Total_Stops',\n",
       "       'Additional_Info', 'Price', 'Airline__Air Asia', 'Airline__Air India',\n",
       "       'Airline__GoAir', 'Airline__IndiGo', 'Airline__Jet Airways',\n",
       "       'Airline__Multiple carriers', 'Airline__SpiceJet', 'Airline__Vistara'],\n",
       "      dtype='object')"
      ]
     },
     "execution_count": 23,
     "metadata": {},
     "output_type": "execute_result"
    }
   ],
   "source": [
    "data_copy.columns"
   ]
  },
  {
   "cell_type": "code",
   "execution_count": 24,
   "metadata": {
    "collapsed": true
   },
   "outputs": [],
   "source": [
    "data_copy = onehotencode(data_copy,'Source',\"Source_\")"
   ]
  },
  {
   "cell_type": "code",
   "execution_count": 25,
   "metadata": {
    "collapsed": true
   },
   "outputs": [],
   "source": [
    "data_copy = onehotencode(data_copy,'Destination',\"Destination_\")"
   ]
  },
  {
   "cell_type": "code",
   "execution_count": 26,
   "metadata": {
    "collapsed": true
   },
   "outputs": [],
   "source": [
    "#handle No Info, No info values before one hot encoding.\n",
    "data_copy.loc[data_copy['Additional_Info'] == 'No info','Additional_Info'] = 'No Info'\n",
    "data_copy.loc[data_copy['Additional_Info'] == '1 Long layover','Additional_Info'] = 'Others'\n",
    "data_copy.loc[data_copy['Additional_Info'] == '1 Short layover','Additional_Info'] = 'Others'\n",
    "data_copy.loc[data_copy['Additional_Info'] == '2 Long layover','Additional_Info'] = 'Others'\n",
    "data_copy.loc[data_copy['Additional_Info'] == 'Business class','Additional_Info'] = 'Others'\n",
    "data_copy.loc[data_copy['Additional_Info'] == 'Change airports','Additional_Info'] = 'Others'\n",
    "\n",
    "\n",
    "data_copy = onehotencode(data_copy,'Additional_Info',\"Additional_Info_\")"
   ]
  },
  {
   "cell_type": "code",
   "execution_count": 27,
   "metadata": {
    "collapsed": true
   },
   "outputs": [],
   "source": [
    "data_copy = encode_total_stops(data_copy)"
   ]
  },
  {
   "cell_type": "code",
   "execution_count": 29,
   "metadata": {
    "collapsed": true
   },
   "outputs": [],
   "source": [
    "data_copy = encode_duration(data_copy)"
   ]
  },
  {
   "cell_type": "code",
   "execution_count": 30,
   "metadata": {
    "collapsed": true
   },
   "outputs": [],
   "source": [
    "data_copy = flight_hours(data_copy)"
   ]
  },
  {
   "cell_type": "code",
   "execution_count": 31,
   "metadata": {
    "collapsed": true
   },
   "outputs": [],
   "source": [
    "data_copy = arrival_hours(data_copy)"
   ]
  },
  {
   "cell_type": "code",
   "execution_count": 32,
   "metadata": {
    "collapsed": true
   },
   "outputs": [],
   "source": [
    "#data_copy = onehotencode(data_copy,'Fly_Hours',\"Fly_Hours_\")"
   ]
  },
  {
   "cell_type": "code",
   "execution_count": 33,
   "metadata": {
    "collapsed": true
   },
   "outputs": [],
   "source": [
    "data_final = data_copy"
   ]
  },
  {
   "cell_type": "code",
   "execution_count": 34,
   "metadata": {
    "collapsed": true
   },
   "outputs": [],
   "source": [
    "data_final.loc[data_final['Encoded_stops'].isnull(),'Encoded_stops'] = 3"
   ]
  },
  {
   "cell_type": "code",
   "execution_count": 35,
   "metadata": {
    "collapsed": true
   },
   "outputs": [],
   "source": [
    "data_final.drop(['Airline','Date_of_Journey','Source','Destination','Route','Dep_Time','Arrival_Time','Duration',\n",
    "                'Total_Stops','Additional_Info'],axis=1,inplace=True)\n",
    "#                'Total_Stops','Additional_Info','Fly_Hours'],axis=1,inplace=True)"
   ]
  },
  {
   "cell_type": "code",
   "execution_count": 36,
   "metadata": {
    "collapsed": true
   },
   "outputs": [],
   "source": [
    "data_final.drop(['index'],axis=1,inplace=True)"
   ]
  },
  {
   "cell_type": "code",
   "execution_count": 37,
   "metadata": {
    "collapsed": true
   },
   "outputs": [],
   "source": [
    "train_Feature = data_copy[[x for x in data_final.columns if (x != 'Price' and x != 'index')]]\n",
    "train_Target = data_copy['Price']"
   ]
  },
  {
   "cell_type": "code",
   "execution_count": 38,
   "metadata": {
    "scrolled": true
   },
   "outputs": [
    {
     "data": {
      "text/plain": [
       "Index(['Airline__Air Asia', 'Airline__Air India', 'Airline__GoAir',\n",
       "       'Airline__IndiGo', 'Airline__Jet Airways', 'Airline__Multiple carriers',\n",
       "       'Airline__SpiceJet', 'Airline__Vistara', 'Source__Banglore',\n",
       "       'Source__Chennai', 'Source__Delhi', 'Source__Kolkata', 'Source__Mumbai',\n",
       "       'Destination__Banglore', 'Destination__Cochin', 'Destination__Delhi',\n",
       "       'Destination__Hyderabad', 'Destination__Kolkata',\n",
       "       'Additional_Info__In-flight meal not included',\n",
       "       'Additional_Info__No Info',\n",
       "       'Additional_Info__No check-in baggage included',\n",
       "       'Additional_Info__Others', 'Encoded_stops', 'Journey_Month',\n",
       "       'Journey_day_of_week', 'Journey_over_weekend', 'Duration_Type',\n",
       "       'Fly_Hours', 'Arrival_Hours'],\n",
       "      dtype='object')"
      ]
     },
     "execution_count": 38,
     "metadata": {},
     "output_type": "execute_result"
    }
   ],
   "source": [
    "train_Feature.columns"
   ]
  },
  {
   "cell_type": "code",
   "execution_count": 39,
   "metadata": {
    "collapsed": true
   },
   "outputs": [],
   "source": [
    "X_train, X_test, y_train, y_test = train_test_split(train_Feature, train_Target, test_size=0.30, random_state=101)"
   ]
  },
  {
   "cell_type": "code",
   "execution_count": 40,
   "metadata": {},
   "outputs": [
    {
     "data": {
      "text/plain": [
       "Series([], dtype: float64)"
      ]
     },
     "execution_count": 40,
     "metadata": {},
     "output_type": "execute_result"
    }
   ],
   "source": [
    "null_columns=X_train.columns[X_train.isnull().any()]\n",
    "X_train[null_columns].isnull().sum()"
   ]
  },
  {
   "cell_type": "code",
   "execution_count": 41,
   "metadata": {
    "scrolled": false
   },
   "outputs": [
    {
     "data": {
      "text/html": [
       "<div>\n",
       "<style>\n",
       "    .dataframe thead tr:only-child th {\n",
       "        text-align: right;\n",
       "    }\n",
       "\n",
       "    .dataframe thead th {\n",
       "        text-align: left;\n",
       "    }\n",
       "\n",
       "    .dataframe tbody tr th {\n",
       "        vertical-align: top;\n",
       "    }\n",
       "</style>\n",
       "<table border=\"1\" class=\"dataframe\">\n",
       "  <thead>\n",
       "    <tr style=\"text-align: right;\">\n",
       "      <th></th>\n",
       "      <th>Airline__Air Asia</th>\n",
       "      <th>Airline__Air India</th>\n",
       "      <th>Airline__GoAir</th>\n",
       "      <th>Airline__IndiGo</th>\n",
       "      <th>Airline__Jet Airways</th>\n",
       "      <th>Airline__Multiple carriers</th>\n",
       "      <th>Airline__SpiceJet</th>\n",
       "      <th>Airline__Vistara</th>\n",
       "      <th>Source__Banglore</th>\n",
       "      <th>Source__Chennai</th>\n",
       "      <th>Source__Delhi</th>\n",
       "      <th>Source__Kolkata</th>\n",
       "      <th>Source__Mumbai</th>\n",
       "      <th>Destination__Banglore</th>\n",
       "      <th>Destination__Cochin</th>\n",
       "      <th>Destination__Delhi</th>\n",
       "      <th>Destination__Hyderabad</th>\n",
       "      <th>Destination__Kolkata</th>\n",
       "      <th>Additional_Info__In-flight meal not included</th>\n",
       "      <th>Additional_Info__No Info</th>\n",
       "      <th>Additional_Info__No check-in baggage included</th>\n",
       "      <th>Additional_Info__Others</th>\n",
       "      <th>Encoded_stops</th>\n",
       "      <th>Journey_Month</th>\n",
       "      <th>Journey_day_of_week</th>\n",
       "      <th>Journey_over_weekend</th>\n",
       "      <th>Duration_Type</th>\n",
       "      <th>Fly_Hours</th>\n",
       "      <th>Arrival_Hours</th>\n",
       "    </tr>\n",
       "  </thead>\n",
       "  <tbody>\n",
       "    <tr>\n",
       "      <th>6949</th>\n",
       "      <td>0</td>\n",
       "      <td>1</td>\n",
       "      <td>0</td>\n",
       "      <td>0</td>\n",
       "      <td>0</td>\n",
       "      <td>0</td>\n",
       "      <td>0</td>\n",
       "      <td>0</td>\n",
       "      <td>0</td>\n",
       "      <td>0</td>\n",
       "      <td>0</td>\n",
       "      <td>0</td>\n",
       "      <td>1</td>\n",
       "      <td>0</td>\n",
       "      <td>0</td>\n",
       "      <td>0</td>\n",
       "      <td>1</td>\n",
       "      <td>0</td>\n",
       "      <td>0</td>\n",
       "      <td>1</td>\n",
       "      <td>0</td>\n",
       "      <td>0</td>\n",
       "      <td>0.0</td>\n",
       "      <td>6</td>\n",
       "      <td>4</td>\n",
       "      <td>0</td>\n",
       "      <td>90</td>\n",
       "      <td>835</td>\n",
       "      <td>925</td>\n",
       "    </tr>\n",
       "    <tr>\n",
       "      <th>8604</th>\n",
       "      <td>1</td>\n",
       "      <td>0</td>\n",
       "      <td>0</td>\n",
       "      <td>0</td>\n",
       "      <td>0</td>\n",
       "      <td>0</td>\n",
       "      <td>0</td>\n",
       "      <td>0</td>\n",
       "      <td>1</td>\n",
       "      <td>0</td>\n",
       "      <td>0</td>\n",
       "      <td>0</td>\n",
       "      <td>0</td>\n",
       "      <td>0</td>\n",
       "      <td>0</td>\n",
       "      <td>1</td>\n",
       "      <td>0</td>\n",
       "      <td>0</td>\n",
       "      <td>0</td>\n",
       "      <td>1</td>\n",
       "      <td>0</td>\n",
       "      <td>0</td>\n",
       "      <td>0.0</td>\n",
       "      <td>6</td>\n",
       "      <td>6</td>\n",
       "      <td>1</td>\n",
       "      <td>170</td>\n",
       "      <td>1435</td>\n",
       "      <td>165</td>\n",
       "    </tr>\n",
       "    <tr>\n",
       "      <th>883</th>\n",
       "      <td>0</td>\n",
       "      <td>0</td>\n",
       "      <td>0</td>\n",
       "      <td>0</td>\n",
       "      <td>0</td>\n",
       "      <td>1</td>\n",
       "      <td>0</td>\n",
       "      <td>0</td>\n",
       "      <td>0</td>\n",
       "      <td>0</td>\n",
       "      <td>1</td>\n",
       "      <td>0</td>\n",
       "      <td>0</td>\n",
       "      <td>0</td>\n",
       "      <td>1</td>\n",
       "      <td>0</td>\n",
       "      <td>0</td>\n",
       "      <td>0</td>\n",
       "      <td>0</td>\n",
       "      <td>1</td>\n",
       "      <td>0</td>\n",
       "      <td>0</td>\n",
       "      <td>0.1</td>\n",
       "      <td>5</td>\n",
       "      <td>3</td>\n",
       "      <td>0</td>\n",
       "      <td>690</td>\n",
       "      <td>450</td>\n",
       "      <td>1140</td>\n",
       "    </tr>\n",
       "    <tr>\n",
       "      <th>4116</th>\n",
       "      <td>0</td>\n",
       "      <td>1</td>\n",
       "      <td>0</td>\n",
       "      <td>0</td>\n",
       "      <td>0</td>\n",
       "      <td>0</td>\n",
       "      <td>0</td>\n",
       "      <td>0</td>\n",
       "      <td>1</td>\n",
       "      <td>0</td>\n",
       "      <td>0</td>\n",
       "      <td>0</td>\n",
       "      <td>0</td>\n",
       "      <td>0</td>\n",
       "      <td>0</td>\n",
       "      <td>1</td>\n",
       "      <td>0</td>\n",
       "      <td>0</td>\n",
       "      <td>0</td>\n",
       "      <td>1</td>\n",
       "      <td>0</td>\n",
       "      <td>0</td>\n",
       "      <td>0.1</td>\n",
       "      <td>3</td>\n",
       "      <td>4</td>\n",
       "      <td>0</td>\n",
       "      <td>920</td>\n",
       "      <td>1320</td>\n",
       "      <td>800</td>\n",
       "    </tr>\n",
       "    <tr>\n",
       "      <th>5606</th>\n",
       "      <td>0</td>\n",
       "      <td>0</td>\n",
       "      <td>0</td>\n",
       "      <td>0</td>\n",
       "      <td>0</td>\n",
       "      <td>1</td>\n",
       "      <td>0</td>\n",
       "      <td>0</td>\n",
       "      <td>0</td>\n",
       "      <td>0</td>\n",
       "      <td>1</td>\n",
       "      <td>0</td>\n",
       "      <td>0</td>\n",
       "      <td>0</td>\n",
       "      <td>1</td>\n",
       "      <td>0</td>\n",
       "      <td>0</td>\n",
       "      <td>0</td>\n",
       "      <td>0</td>\n",
       "      <td>1</td>\n",
       "      <td>0</td>\n",
       "      <td>0</td>\n",
       "      <td>0.1</td>\n",
       "      <td>6</td>\n",
       "      <td>3</td>\n",
       "      <td>0</td>\n",
       "      <td>540</td>\n",
       "      <td>600</td>\n",
       "      <td>1140</td>\n",
       "    </tr>\n",
       "  </tbody>\n",
       "</table>\n",
       "</div>"
      ],
      "text/plain": [
       "      Airline__Air Asia  Airline__Air India  Airline__GoAir  Airline__IndiGo  \\\n",
       "6949                  0                   1               0                0   \n",
       "8604                  1                   0               0                0   \n",
       "883                   0                   0               0                0   \n",
       "4116                  0                   1               0                0   \n",
       "5606                  0                   0               0                0   \n",
       "\n",
       "      Airline__Jet Airways  Airline__Multiple carriers  Airline__SpiceJet  \\\n",
       "6949                     0                           0                  0   \n",
       "8604                     0                           0                  0   \n",
       "883                      0                           1                  0   \n",
       "4116                     0                           0                  0   \n",
       "5606                     0                           1                  0   \n",
       "\n",
       "      Airline__Vistara  Source__Banglore  Source__Chennai  Source__Delhi  \\\n",
       "6949                 0                 0                0              0   \n",
       "8604                 0                 1                0              0   \n",
       "883                  0                 0                0              1   \n",
       "4116                 0                 1                0              0   \n",
       "5606                 0                 0                0              1   \n",
       "\n",
       "      Source__Kolkata  Source__Mumbai  Destination__Banglore  \\\n",
       "6949                0               1                      0   \n",
       "8604                0               0                      0   \n",
       "883                 0               0                      0   \n",
       "4116                0               0                      0   \n",
       "5606                0               0                      0   \n",
       "\n",
       "      Destination__Cochin  Destination__Delhi  Destination__Hyderabad  \\\n",
       "6949                    0                   0                       1   \n",
       "8604                    0                   1                       0   \n",
       "883                     1                   0                       0   \n",
       "4116                    0                   1                       0   \n",
       "5606                    1                   0                       0   \n",
       "\n",
       "      Destination__Kolkata  Additional_Info__In-flight meal not included  \\\n",
       "6949                     0                                             0   \n",
       "8604                     0                                             0   \n",
       "883                      0                                             0   \n",
       "4116                     0                                             0   \n",
       "5606                     0                                             0   \n",
       "\n",
       "      Additional_Info__No Info  Additional_Info__No check-in baggage included  \\\n",
       "6949                         1                                              0   \n",
       "8604                         1                                              0   \n",
       "883                          1                                              0   \n",
       "4116                         1                                              0   \n",
       "5606                         1                                              0   \n",
       "\n",
       "      Additional_Info__Others  Encoded_stops  Journey_Month  \\\n",
       "6949                        0            0.0              6   \n",
       "8604                        0            0.0              6   \n",
       "883                         0            0.1              5   \n",
       "4116                        0            0.1              3   \n",
       "5606                        0            0.1              6   \n",
       "\n",
       "      Journey_day_of_week  Journey_over_weekend  Duration_Type  Fly_Hours  \\\n",
       "6949                    4                     0             90        835   \n",
       "8604                    6                     1            170       1435   \n",
       "883                     3                     0            690        450   \n",
       "4116                    4                     0            920       1320   \n",
       "5606                    3                     0            540        600   \n",
       "\n",
       "      Arrival_Hours  \n",
       "6949            925  \n",
       "8604            165  \n",
       "883            1140  \n",
       "4116            800  \n",
       "5606           1140  "
      ]
     },
     "execution_count": 41,
     "metadata": {},
     "output_type": "execute_result"
    }
   ],
   "source": [
    "X_train.head()"
   ]
  },
  {
   "cell_type": "code",
   "execution_count": 42,
   "metadata": {
    "collapsed": true
   },
   "outputs": [],
   "source": [
    "scaler = StandardScaler()"
   ]
  },
  {
   "cell_type": "code",
   "execution_count": 43,
   "metadata": {
    "collapsed": true
   },
   "outputs": [],
   "source": [
    "X_train = pd.DataFrame(scaler.fit_transform(X_train), columns=train_Feature.columns)"
   ]
  },
  {
   "cell_type": "code",
   "execution_count": 44,
   "metadata": {
    "collapsed": true
   },
   "outputs": [],
   "source": [
    "X_test =  pd.DataFrame(scaler.transform(X_test),columns=train_Feature.columns)"
   ]
  },
  {
   "cell_type": "markdown",
   "metadata": {},
   "source": [
    "# Final Prediction on Test set starts here"
   ]
  },
  {
   "cell_type": "code",
   "execution_count": 45,
   "metadata": {
    "collapsed": true
   },
   "outputs": [],
   "source": [
    "#test_copy.loc[test_copy['Airline'] == 'Jet Airways Business','Airline'] = 'Jet Airways'\n",
    "#test_copy.loc[test_copy['Airline'] == 'Multiple carriers Premium economy','Airline'] = 'Multiple carriers'\n",
    "#test_copy.loc[test_copy['Airline'] == 'Vistara Premium economy','Airline'] = 'Vistara'"
   ]
  },
  {
   "cell_type": "code",
   "execution_count": 46,
   "metadata": {
    "collapsed": true
   },
   "outputs": [],
   "source": [
    "test_copy.loc[test_copy['Destination'] == 'New Delhi','Destination'] = 'Delhi'"
   ]
  },
  {
   "cell_type": "code",
   "execution_count": 47,
   "metadata": {
    "collapsed": true
   },
   "outputs": [],
   "source": [
    "test_copy = onehotencode(test_copy,'Airline',\"Airline_\")"
   ]
  },
  {
   "cell_type": "code",
   "execution_count": 48,
   "metadata": {
    "collapsed": true
   },
   "outputs": [],
   "source": [
    "test_copy = onehotencode(test_copy,'Source',\"Source_\")"
   ]
  },
  {
   "cell_type": "code",
   "execution_count": 49,
   "metadata": {
    "collapsed": true
   },
   "outputs": [],
   "source": [
    "test_copy = onehotencode(test_copy,'Destination',\"Destination_\")"
   ]
  },
  {
   "cell_type": "code",
   "execution_count": 50,
   "metadata": {
    "collapsed": true
   },
   "outputs": [],
   "source": [
    "#handle No Info, No info values before one hot encoding.\n",
    "test_copy.loc[test_copy['Additional_Info'] == 'No info','Additional_Info'] = 'No Info'\n",
    "test_copy.loc[test_copy['Additional_Info'] == '1 Long layover','Additional_Info'] = 'Others'\n",
    "test_copy.loc[test_copy['Additional_Info'] == '1 Short layover','Additional_Info'] = 'Others'\n",
    "test_copy.loc[test_copy['Additional_Info'] == '1 Long layover','Additional_Info'] = 'Others'\n",
    "test_copy.loc[test_copy['Additional_Info'] == 'Business class','Additional_Info'] = 'Others'\n",
    "test_copy.loc[test_copy['Additional_Info'] == 'Change airports','Additional_Info'] = 'Others'\n",
    "\n",
    "test_copy = onehotencode(test_copy,'Additional_Info',\"Additional_Info_\")"
   ]
  },
  {
   "cell_type": "code",
   "execution_count": null,
   "metadata": {
    "collapsed": true
   },
   "outputs": [],
   "source": [
    "test_copy = extract_journey_data(test_copy)"
   ]
  },
  {
   "cell_type": "code",
   "execution_count": null,
   "metadata": {
    "collapsed": true
   },
   "outputs": [],
   "source": [
    "test_copy['Month_Start'] = 0\n",
    "test_copy.loc[test_copy['Journey_Day'] == 1,'Month_Start'] = 1\n",
    "test_copy.loc[test_copy['Journey_Day'] == 3,'Month_Start'] = 1\n",
    "test_copy.loc[test_copy['Journey_Day'] == 6,'Month_Start'] = 1\n",
    "test_copy.loc[test_copy['Journey_Day'] == 9,'Month_Start'] = 1"
   ]
  },
  {
   "cell_type": "code",
   "execution_count": null,
   "metadata": {
    "collapsed": true
   },
   "outputs": [],
   "source": [
    "test_copy['is_event'] = 0\n",
    "test_copy.loc[[test_copy['Month'] == 3 and test_copy['Day'] == 3],'is_event'] = 1\n",
    "test_copy.loc[[test_copy['Month'] == 4 and test_copy['Day'] == 21],'is_event'] = 1\n",
    "test_copy.loc[[test_copy['Month'] == 5 and test_copy['Day'] == 18],'is_event'] = 1"
   ]
  },
  {
   "cell_type": "code",
   "execution_count": 51,
   "metadata": {
    "collapsed": true
   },
   "outputs": [],
   "source": [
    "test_copy = encode_total_stops(test_copy)"
   ]
  },
  {
   "cell_type": "code",
   "execution_count": 53,
   "metadata": {
    "collapsed": true
   },
   "outputs": [],
   "source": [
    "test_copy = encode_duration(test_copy)"
   ]
  },
  {
   "cell_type": "code",
   "execution_count": 54,
   "metadata": {
    "collapsed": true
   },
   "outputs": [],
   "source": [
    "test_copy = flight_hours(test_copy)"
   ]
  },
  {
   "cell_type": "code",
   "execution_count": 55,
   "metadata": {
    "collapsed": true
   },
   "outputs": [],
   "source": [
    "test_copy = arrival_hours(test_copy)"
   ]
  },
  {
   "cell_type": "code",
   "execution_count": 56,
   "metadata": {
    "collapsed": true
   },
   "outputs": [],
   "source": [
    "#test_copy = onehotencode(test_copy,'Fly_Hours',\"Fly_Hours_\")"
   ]
  },
  {
   "cell_type": "code",
   "execution_count": 57,
   "metadata": {
    "collapsed": true
   },
   "outputs": [],
   "source": [
    "test_final = test_copy"
   ]
  },
  {
   "cell_type": "code",
   "execution_count": 58,
   "metadata": {
    "scrolled": false
   },
   "outputs": [
    {
     "data": {
      "text/html": [
       "<div>\n",
       "<style>\n",
       "    .dataframe thead tr:only-child th {\n",
       "        text-align: right;\n",
       "    }\n",
       "\n",
       "    .dataframe thead th {\n",
       "        text-align: left;\n",
       "    }\n",
       "\n",
       "    .dataframe tbody tr th {\n",
       "        vertical-align: top;\n",
       "    }\n",
       "</style>\n",
       "<table border=\"1\" class=\"dataframe\">\n",
       "  <thead>\n",
       "    <tr style=\"text-align: right;\">\n",
       "      <th></th>\n",
       "      <th>Price</th>\n",
       "      <th>Airline__Air Asia</th>\n",
       "      <th>Airline__Air India</th>\n",
       "      <th>Airline__GoAir</th>\n",
       "      <th>Airline__IndiGo</th>\n",
       "      <th>Airline__Jet Airways</th>\n",
       "      <th>Airline__Multiple carriers</th>\n",
       "      <th>Airline__SpiceJet</th>\n",
       "      <th>Airline__Vistara</th>\n",
       "      <th>Source__Banglore</th>\n",
       "      <th>Source__Chennai</th>\n",
       "      <th>Source__Delhi</th>\n",
       "      <th>Source__Kolkata</th>\n",
       "      <th>Source__Mumbai</th>\n",
       "      <th>Destination__Banglore</th>\n",
       "      <th>Destination__Cochin</th>\n",
       "      <th>Destination__Delhi</th>\n",
       "      <th>Destination__Hyderabad</th>\n",
       "      <th>Destination__Kolkata</th>\n",
       "      <th>Additional_Info__In-flight meal not included</th>\n",
       "      <th>Additional_Info__No Info</th>\n",
       "      <th>Additional_Info__No check-in baggage included</th>\n",
       "      <th>Additional_Info__Others</th>\n",
       "      <th>Encoded_stops</th>\n",
       "      <th>Journey_Month</th>\n",
       "      <th>Journey_day_of_week</th>\n",
       "      <th>Journey_over_weekend</th>\n",
       "      <th>Duration_Type</th>\n",
       "      <th>Fly_Hours</th>\n",
       "      <th>Arrival_Hours</th>\n",
       "    </tr>\n",
       "  </thead>\n",
       "  <tbody>\n",
       "    <tr>\n",
       "      <th>0</th>\n",
       "      <td>3897</td>\n",
       "      <td>0</td>\n",
       "      <td>0</td>\n",
       "      <td>0</td>\n",
       "      <td>1</td>\n",
       "      <td>0</td>\n",
       "      <td>0</td>\n",
       "      <td>0</td>\n",
       "      <td>0</td>\n",
       "      <td>1</td>\n",
       "      <td>0</td>\n",
       "      <td>0</td>\n",
       "      <td>0</td>\n",
       "      <td>0</td>\n",
       "      <td>0</td>\n",
       "      <td>0</td>\n",
       "      <td>1</td>\n",
       "      <td>0</td>\n",
       "      <td>0</td>\n",
       "      <td>0</td>\n",
       "      <td>1</td>\n",
       "      <td>0</td>\n",
       "      <td>0</td>\n",
       "      <td>0.0</td>\n",
       "      <td>3</td>\n",
       "      <td>6</td>\n",
       "      <td>1</td>\n",
       "      <td>170</td>\n",
       "      <td>1340</td>\n",
       "      <td>70</td>\n",
       "    </tr>\n",
       "    <tr>\n",
       "      <th>1</th>\n",
       "      <td>7662</td>\n",
       "      <td>0</td>\n",
       "      <td>1</td>\n",
       "      <td>0</td>\n",
       "      <td>0</td>\n",
       "      <td>0</td>\n",
       "      <td>0</td>\n",
       "      <td>0</td>\n",
       "      <td>0</td>\n",
       "      <td>0</td>\n",
       "      <td>0</td>\n",
       "      <td>0</td>\n",
       "      <td>1</td>\n",
       "      <td>0</td>\n",
       "      <td>1</td>\n",
       "      <td>0</td>\n",
       "      <td>0</td>\n",
       "      <td>0</td>\n",
       "      <td>0</td>\n",
       "      <td>0</td>\n",
       "      <td>1</td>\n",
       "      <td>0</td>\n",
       "      <td>0</td>\n",
       "      <td>0.2</td>\n",
       "      <td>5</td>\n",
       "      <td>2</td>\n",
       "      <td>0</td>\n",
       "      <td>445</td>\n",
       "      <td>350</td>\n",
       "      <td>795</td>\n",
       "    </tr>\n",
       "    <tr>\n",
       "      <th>2</th>\n",
       "      <td>13882</td>\n",
       "      <td>0</td>\n",
       "      <td>0</td>\n",
       "      <td>0</td>\n",
       "      <td>0</td>\n",
       "      <td>1</td>\n",
       "      <td>0</td>\n",
       "      <td>0</td>\n",
       "      <td>0</td>\n",
       "      <td>0</td>\n",
       "      <td>0</td>\n",
       "      <td>1</td>\n",
       "      <td>0</td>\n",
       "      <td>0</td>\n",
       "      <td>0</td>\n",
       "      <td>1</td>\n",
       "      <td>0</td>\n",
       "      <td>0</td>\n",
       "      <td>0</td>\n",
       "      <td>0</td>\n",
       "      <td>1</td>\n",
       "      <td>0</td>\n",
       "      <td>0</td>\n",
       "      <td>0.2</td>\n",
       "      <td>6</td>\n",
       "      <td>6</td>\n",
       "      <td>1</td>\n",
       "      <td>1140</td>\n",
       "      <td>565</td>\n",
       "      <td>265</td>\n",
       "    </tr>\n",
       "    <tr>\n",
       "      <th>3</th>\n",
       "      <td>6218</td>\n",
       "      <td>0</td>\n",
       "      <td>0</td>\n",
       "      <td>0</td>\n",
       "      <td>1</td>\n",
       "      <td>0</td>\n",
       "      <td>0</td>\n",
       "      <td>0</td>\n",
       "      <td>0</td>\n",
       "      <td>0</td>\n",
       "      <td>0</td>\n",
       "      <td>0</td>\n",
       "      <td>1</td>\n",
       "      <td>0</td>\n",
       "      <td>1</td>\n",
       "      <td>0</td>\n",
       "      <td>0</td>\n",
       "      <td>0</td>\n",
       "      <td>0</td>\n",
       "      <td>0</td>\n",
       "      <td>1</td>\n",
       "      <td>0</td>\n",
       "      <td>0</td>\n",
       "      <td>0.1</td>\n",
       "      <td>5</td>\n",
       "      <td>6</td>\n",
       "      <td>1</td>\n",
       "      <td>325</td>\n",
       "      <td>1085</td>\n",
       "      <td>1410</td>\n",
       "    </tr>\n",
       "    <tr>\n",
       "      <th>4</th>\n",
       "      <td>13302</td>\n",
       "      <td>0</td>\n",
       "      <td>0</td>\n",
       "      <td>0</td>\n",
       "      <td>1</td>\n",
       "      <td>0</td>\n",
       "      <td>0</td>\n",
       "      <td>0</td>\n",
       "      <td>0</td>\n",
       "      <td>1</td>\n",
       "      <td>0</td>\n",
       "      <td>0</td>\n",
       "      <td>0</td>\n",
       "      <td>0</td>\n",
       "      <td>0</td>\n",
       "      <td>0</td>\n",
       "      <td>1</td>\n",
       "      <td>0</td>\n",
       "      <td>0</td>\n",
       "      <td>0</td>\n",
       "      <td>1</td>\n",
       "      <td>0</td>\n",
       "      <td>0</td>\n",
       "      <td>0.1</td>\n",
       "      <td>3</td>\n",
       "      <td>4</td>\n",
       "      <td>0</td>\n",
       "      <td>285</td>\n",
       "      <td>1010</td>\n",
       "      <td>1295</td>\n",
       "    </tr>\n",
       "  </tbody>\n",
       "</table>\n",
       "</div>"
      ],
      "text/plain": [
       "   Price  Airline__Air Asia  Airline__Air India  Airline__GoAir  \\\n",
       "0   3897                  0                   0               0   \n",
       "1   7662                  0                   1               0   \n",
       "2  13882                  0                   0               0   \n",
       "3   6218                  0                   0               0   \n",
       "4  13302                  0                   0               0   \n",
       "\n",
       "   Airline__IndiGo  Airline__Jet Airways  Airline__Multiple carriers  \\\n",
       "0                1                     0                           0   \n",
       "1                0                     0                           0   \n",
       "2                0                     1                           0   \n",
       "3                1                     0                           0   \n",
       "4                1                     0                           0   \n",
       "\n",
       "   Airline__SpiceJet  Airline__Vistara  Source__Banglore  Source__Chennai  \\\n",
       "0                  0                 0                 1                0   \n",
       "1                  0                 0                 0                0   \n",
       "2                  0                 0                 0                0   \n",
       "3                  0                 0                 0                0   \n",
       "4                  0                 0                 1                0   \n",
       "\n",
       "   Source__Delhi  Source__Kolkata  Source__Mumbai  Destination__Banglore  \\\n",
       "0              0                0               0                      0   \n",
       "1              0                1               0                      1   \n",
       "2              1                0               0                      0   \n",
       "3              0                1               0                      1   \n",
       "4              0                0               0                      0   \n",
       "\n",
       "   Destination__Cochin  Destination__Delhi  Destination__Hyderabad  \\\n",
       "0                    0                   1                       0   \n",
       "1                    0                   0                       0   \n",
       "2                    1                   0                       0   \n",
       "3                    0                   0                       0   \n",
       "4                    0                   1                       0   \n",
       "\n",
       "   Destination__Kolkata  Additional_Info__In-flight meal not included  \\\n",
       "0                     0                                             0   \n",
       "1                     0                                             0   \n",
       "2                     0                                             0   \n",
       "3                     0                                             0   \n",
       "4                     0                                             0   \n",
       "\n",
       "   Additional_Info__No Info  Additional_Info__No check-in baggage included  \\\n",
       "0                         1                                              0   \n",
       "1                         1                                              0   \n",
       "2                         1                                              0   \n",
       "3                         1                                              0   \n",
       "4                         1                                              0   \n",
       "\n",
       "   Additional_Info__Others  Encoded_stops  Journey_Month  Journey_day_of_week  \\\n",
       "0                        0            0.0              3                    6   \n",
       "1                        0            0.2              5                    2   \n",
       "2                        0            0.2              6                    6   \n",
       "3                        0            0.1              5                    6   \n",
       "4                        0            0.1              3                    4   \n",
       "\n",
       "   Journey_over_weekend  Duration_Type  Fly_Hours  Arrival_Hours  \n",
       "0                     1            170       1340             70  \n",
       "1                     0            445        350            795  \n",
       "2                     1           1140        565            265  \n",
       "3                     1            325       1085           1410  \n",
       "4                     0            285       1010           1295  "
      ]
     },
     "execution_count": 58,
     "metadata": {},
     "output_type": "execute_result"
    }
   ],
   "source": [
    "data_copy.head()"
   ]
  },
  {
   "cell_type": "code",
   "execution_count": 59,
   "metadata": {},
   "outputs": [
    {
     "data": {
      "text/plain": [
       "array([ 0. ,  0.2,  0.1,  0.3,  0.4])"
      ]
     },
     "execution_count": 59,
     "metadata": {},
     "output_type": "execute_result"
    }
   ],
   "source": [
    "data_copy['Encoded_stops'].unique()"
   ]
  },
  {
   "cell_type": "code",
   "execution_count": 60,
   "metadata": {
    "collapsed": true
   },
   "outputs": [],
   "source": [
    "test_final.drop(['Airline','Date_of_Journey','Source','Destination','Route','Dep_Time','Arrival_Time','Duration',\n",
    "                'Total_Stops','Additional_Info'],axis=1,inplace=True)\n",
    "#                'Total_Stops','Additional_Info','Fly_Hours'],axis=1,inplace=True)"
   ]
  },
  {
   "cell_type": "code",
   "execution_count": 61,
   "metadata": {
    "collapsed": true
   },
   "outputs": [],
   "source": [
    "test_final =  pd.DataFrame(scaler.transform(test_final),columns=test_final.columns)"
   ]
  },
  {
   "cell_type": "code",
   "execution_count": 62,
   "metadata": {
    "scrolled": false
   },
   "outputs": [
    {
     "data": {
      "text/plain": [
       "Index(['Airline__Air Asia', 'Airline__Air India', 'Airline__GoAir',\n",
       "       'Airline__IndiGo', 'Airline__Jet Airways', 'Airline__Multiple carriers',\n",
       "       'Airline__SpiceJet', 'Airline__Vistara', 'Source__Banglore',\n",
       "       'Source__Chennai', 'Source__Delhi', 'Source__Kolkata', 'Source__Mumbai',\n",
       "       'Destination__Banglore', 'Destination__Cochin', 'Destination__Delhi',\n",
       "       'Destination__Hyderabad', 'Destination__Kolkata',\n",
       "       'Additional_Info__In-flight meal not included',\n",
       "       'Additional_Info__No Info',\n",
       "       'Additional_Info__No check-in baggage included',\n",
       "       'Additional_Info__Others', 'Encoded_stops', 'Journey_Month',\n",
       "       'Journey_day_of_week', 'Journey_over_weekend', 'Duration_Type',\n",
       "       'Fly_Hours', 'Arrival_Hours'],\n",
       "      dtype='object')"
      ]
     },
     "execution_count": 62,
     "metadata": {},
     "output_type": "execute_result"
    }
   ],
   "source": [
    "test_final.columns"
   ]
  },
  {
   "cell_type": "code",
   "execution_count": 63,
   "metadata": {},
   "outputs": [
    {
     "data": {
      "text/plain": [
       "Index(['Airline__Air Asia', 'Airline__Air India', 'Airline__GoAir',\n",
       "       'Airline__IndiGo', 'Airline__Jet Airways', 'Airline__Multiple carriers',\n",
       "       'Airline__SpiceJet', 'Airline__Vistara', 'Source__Banglore',\n",
       "       'Source__Chennai', 'Source__Delhi', 'Source__Kolkata', 'Source__Mumbai',\n",
       "       'Destination__Banglore', 'Destination__Cochin', 'Destination__Delhi',\n",
       "       'Destination__Hyderabad', 'Destination__Kolkata',\n",
       "       'Additional_Info__In-flight meal not included',\n",
       "       'Additional_Info__No Info',\n",
       "       'Additional_Info__No check-in baggage included',\n",
       "       'Additional_Info__Others', 'Encoded_stops', 'Journey_Month',\n",
       "       'Journey_day_of_week', 'Journey_over_weekend', 'Duration_Type',\n",
       "       'Fly_Hours', 'Arrival_Hours'],\n",
       "      dtype='object')"
      ]
     },
     "execution_count": 63,
     "metadata": {},
     "output_type": "execute_result"
    }
   ],
   "source": [
    "train_Feature.columns"
   ]
  },
  {
   "cell_type": "code",
   "execution_count": 64,
   "metadata": {},
   "outputs": [
    {
     "data": {
      "text/plain": [
       "(2671, 29)"
      ]
     },
     "execution_count": 64,
     "metadata": {},
     "output_type": "execute_result"
    }
   ],
   "source": [
    "test_final.shape"
   ]
  },
  {
   "cell_type": "code",
   "execution_count": 65,
   "metadata": {
    "scrolled": true
   },
   "outputs": [
    {
     "data": {
      "text/plain": [
       "(10461, 29)"
      ]
     },
     "execution_count": 65,
     "metadata": {},
     "output_type": "execute_result"
    }
   ],
   "source": [
    "train_Feature.shape"
   ]
  },
  {
   "cell_type": "code",
   "execution_count": 66,
   "metadata": {
    "collapsed": true
   },
   "outputs": [],
   "source": [
    "y_train_log =  y_train.apply(log_transform)"
   ]
  },
  {
   "cell_type": "code",
   "execution_count": 67,
   "metadata": {
    "collapsed": true
   },
   "outputs": [],
   "source": [
    "y_test_log =  y_test.apply(log_transform)"
   ]
  }
 ],
 "metadata": {
  "kernelspec": {
   "display_name": "Python 3",
   "language": "python",
   "name": "python3"
  },
  "language_info": {
   "codemirror_mode": {
    "name": "ipython",
    "version": 3
   },
   "file_extension": ".py",
   "mimetype": "text/x-python",
   "name": "python",
   "nbconvert_exporter": "python",
   "pygments_lexer": "ipython3",
   "version": "3.5.4"
  }
 },
 "nbformat": 4,
 "nbformat_minor": 2
}
