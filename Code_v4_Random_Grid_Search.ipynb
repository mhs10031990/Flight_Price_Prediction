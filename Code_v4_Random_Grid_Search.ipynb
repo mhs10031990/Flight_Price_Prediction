{
 "cells": [
  {
   "cell_type": "code",
   "execution_count": 204,
   "metadata": {
    "collapsed": true
   },
   "outputs": [],
   "source": [
    "import pandas as pd\n",
    "import numpy as np\n",
    "from sklearn.model_selection import train_test_split\n",
    "from sklearn.ensemble import RandomForestRegressor\n",
    "from sklearn.linear_model import LinearRegression\n",
    "from sklearn.metrics import mean_squared_log_error\n",
    "import pandas_profiling as pp\n",
    "from sklearn.linear_model import Lasso, Ridge\n",
    "from sklearn.ensemble import RandomForestRegressor\n",
    "from sklearn.model_selection import RandomizedSearchCV,GridSearchCV\n",
    "import xgboost\n",
    "from sklearn.preprocessing import MinMaxScaler, StandardScaler"
   ]
  },
  {
   "cell_type": "code",
   "execution_count": 205,
   "metadata": {
    "collapsed": true
   },
   "outputs": [],
   "source": [
    "pd.set_option('display.max_columns', 1000)"
   ]
  },
  {
   "cell_type": "code",
   "execution_count": 206,
   "metadata": {
    "collapsed": true
   },
   "outputs": [],
   "source": [
    "def onehotencode(data,col_name,prefix):\n",
    "    return pd.concat([data, pd.get_dummies(data[col_name], prefix=prefix)],axis=1)"
   ]
  },
  {
   "cell_type": "code",
   "execution_count": 207,
   "metadata": {
    "collapsed": true
   },
   "outputs": [],
   "source": [
    "def encode_total_stops(data):\n",
    "    data['Encoded_stops'] = 0\n",
    "    for i in range(0,len(data['Total_Stops'])):\n",
    "        if data.loc[i, 'Total_Stops'] == '1 stop':\n",
    "            data.loc[i,'Encoded_stops'] = 1\n",
    "        elif data.loc[i, 'Total_Stops'] == '2 stops':\n",
    "            data.loc[i,'Encoded_stops'] = 2\n",
    "        elif data.loc[i, 'Total_Stops'] == '3 stops' or data.loc[i, 'Total_Stops'] == '':\n",
    "            data.loc[i,'Encoded_stops'] = 3\n",
    "        elif data.loc[i, 'Total_Stops'] == '4 stops':\n",
    "            data.loc[i,'Encoded_stops'] = 4\n",
    "        elif data.loc[i, 'Total_Stops'] == 'non-stop':\n",
    "            data.loc[i,'Encoded_stops'] = 0\n",
    "\n",
    "    return data"
   ]
  },
  {
   "cell_type": "code",
   "execution_count": 208,
   "metadata": {
    "collapsed": true
   },
   "outputs": [],
   "source": [
    "def extract_journey_data(data):\n",
    "    data['Journey_Day'] = pd.DataFrame(pd.to_datetime(data['Date_of_Journey'], format='%d/%m/%Y').dt.day)\n",
    "    data['Journey_Month'] = pd.DataFrame(pd.to_datetime(data['Date_of_Journey'], format='%d/%m/%Y').dt.month)\n",
    "    data['Journey_day_of_week'] =  pd.DataFrame(((pd.to_datetime(data['Date_of_Journey'], format='%d/%m/%Y').dt.weekday_name)))\n",
    "#   data['Journey_over_weekend'] =  pd.DataFrame(((pd.to_datetime(data['Date_of_Journey'], format='%d/%m/%Y').dt.dayofweek) // 5).astype('int'))\n",
    "    data['Date_Lapse'] = ((pd.to_datetime(data['Date_of_Journey'], format='%d/%m/%Y')) - \n",
    "                                        (pd.to_datetime('01/03/2019', format='%d/%m/%Y')))/np.timedelta64(1,'D')\n",
    "        \n",
    "    return data"
   ]
  },
  {
   "cell_type": "code",
   "execution_count": 209,
   "metadata": {
    "collapsed": true
   },
   "outputs": [],
   "source": [
    "def encode_duration(data):\n",
    "    data['Duration_Type'] = 0\n",
    "    for i in range(0, len(data)):\n",
    "    \n",
    "        split_len = data.loc[i,'Duration'].split(' ')\n",
    "        if len(split_len) == 1:\n",
    "            if str(data.loc[i,'Duration']).find('h') != -1:\n",
    "#                print (\"hours: \",data.loc[i,'Duration'])\n",
    "                hours = int(split_len[0].replace('h',\"\"))\n",
    "                mins = 0\n",
    "            else:\n",
    "                hours = 4 \n",
    "#                print (\"mins: \",data.loc[i,'Duration']\n",
    "                mins = int(split_len[0].replace('m',\"\"))\n",
    "        else:\n",
    "            \n",
    "            hours = int(split_len[0].replace('h',\"\"))\n",
    "            mins  = int(split_len[1].replace('m',\"\"))\n",
    "        \n",
    "        data.loc[i,'Duration_Type'] = (hours*60 + mins)/1440\n",
    "        \n",
    "    return data"
   ]
  },
  {
   "cell_type": "code",
   "execution_count": 210,
   "metadata": {},
   "outputs": [
    {
     "data": {
      "text/plain": [
       "\"\\ndef encode_duration(data):\\n    data_copy['Duration_Type'] = 0\\n    for i in range(0, len(data)):\\n    \\n        try:\\n            val = int(str(data.loc[i,'Duration'].split('h')[0]))\\n        except:\\n            # this is for AirIndia for with flight duration as '5m', changing the duration\\n            #based on same row for AirIndia for same destination at same time with same stop overs.\\n            val = 4\\n            \\n       \\n        if val < 3:\\n            data.loc[i,'Duration_Type'] = 0.0\\n        elif val < 6:\\n            data.loc[i,'Duration_Type'] = 0.1\\n        elif val < 12:\\n            data.loc[i,'Duration_Type'] = 0.2\\n        else:\\n            data.loc[i,'Duration_Type'] = 0.3\\n        \\n    return data\\n\""
      ]
     },
     "execution_count": 210,
     "metadata": {},
     "output_type": "execute_result"
    }
   ],
   "source": [
    "'''\n",
    "def encode_duration(data):\n",
    "    data_copy['Duration_Type'] = 0\n",
    "    for i in range(0, len(data)):\n",
    "    \n",
    "        try:\n",
    "            val = int(str(data.loc[i,'Duration'].split('h')[0]))\n",
    "        except:\n",
    "            # this is for AirIndia for with flight duration as '5m', changing the duration\n",
    "            #based on same row for AirIndia for same destination at same time with same stop overs.\n",
    "            val = 4\n",
    "            \n",
    "       \n",
    "        if val < 3:\n",
    "            data.loc[i,'Duration_Type'] = 0.0\n",
    "        elif val < 6:\n",
    "            data.loc[i,'Duration_Type'] = 0.1\n",
    "        elif val < 12:\n",
    "            data.loc[i,'Duration_Type'] = 0.2\n",
    "        else:\n",
    "            data.loc[i,'Duration_Type'] = 0.3\n",
    "        \n",
    "    return data\n",
    "'''"
   ]
  },
  {
   "cell_type": "code",
   "execution_count": 211,
   "metadata": {
    "scrolled": true
   },
   "outputs": [
    {
     "data": {
      "text/plain": [
       "'\\ndef flight_hours(data):\\n    data[\\'Fly_Hours\\'] = 0\\n    \\n    data_Dep_Time = data[\\'Dep_Time\\'].str.split(\":\",n=1,expand=True).astype(\\'int64\\')\\n    data_Dep_Time.columns = [\\'Hours\\',\\'Mins\\']\\n    for i in range(0,len(data)):\\n        \\n        val = data_Dep_Time.loc[i, \\'Hours\\']\\n        \\n        if val == 0:\\n            data.loc[i,\\'Fly_Hours\\'] = \\'Midnight\\'\\n        elif val >= 1 and val < 4:\\n            data.loc[i,\\'Fly_Hours\\'] = \\'Early_Morning\\'\\n        elif val >= 4 and val < 6:\\n            data.loc[i,\\'Fly_Hours\\'] = \\'Dawn\\'\\n        elif val >= 6 and val < 9:\\n            data.loc[i,\\'Fly_Hours\\'] = \\'Morning\\'\\n        elif val >= 9 and val < 12:\\n            data.loc[i,\\'Fly_Hours\\'] = \\'Mid_Morning\\'\\n        elif val >= 12 and val < 13:\\n            data.loc[i,\\'Fly_Hours\\'] = \\'Noon\\'\\n        elif val >= 13 and val < 16:\\n            data.loc[i,\\'Fly_Hours\\'] = \\'After_Noon\\'\\n        elif val >= 16 and val < 21:\\n            data.loc[i,\\'Fly_Hours\\'] = \\'Evening\\'\\n        elif val >= 21 and val <= 23:\\n            data.loc[i,\\'Fly_Hours\\'] = \\'Night\\'\\n            \\n    return data\\n'"
      ]
     },
     "execution_count": 211,
     "metadata": {},
     "output_type": "execute_result"
    }
   ],
   "source": [
    "'''\n",
    "def flight_hours(data):\n",
    "    data['Fly_Hours'] = 0\n",
    "    \n",
    "    data_Dep_Time = data['Dep_Time'].str.split(\":\",n=1,expand=True).astype('int64')\n",
    "    data_Dep_Time.columns = ['Hours','Mins']\n",
    "    for i in range(0,len(data)):\n",
    "        \n",
    "        val = data_Dep_Time.loc[i, 'Hours']\n",
    "        \n",
    "        if val == 0:\n",
    "            data.loc[i,'Fly_Hours'] = 'Midnight'\n",
    "        elif val >= 1 and val < 4:\n",
    "            data.loc[i,'Fly_Hours'] = 'Early_Morning'\n",
    "        elif val >= 4 and val < 6:\n",
    "            data.loc[i,'Fly_Hours'] = 'Dawn'\n",
    "        elif val >= 6 and val < 9:\n",
    "            data.loc[i,'Fly_Hours'] = 'Morning'\n",
    "        elif val >= 9 and val < 12:\n",
    "            data.loc[i,'Fly_Hours'] = 'Mid_Morning'\n",
    "        elif val >= 12 and val < 13:\n",
    "            data.loc[i,'Fly_Hours'] = 'Noon'\n",
    "        elif val >= 13 and val < 16:\n",
    "            data.loc[i,'Fly_Hours'] = 'After_Noon'\n",
    "        elif val >= 16 and val < 21:\n",
    "            data.loc[i,'Fly_Hours'] = 'Evening'\n",
    "        elif val >= 21 and val <= 23:\n",
    "            data.loc[i,'Fly_Hours'] = 'Night'\n",
    "            \n",
    "    return data\n",
    "'''"
   ]
  },
  {
   "cell_type": "code",
   "execution_count": 212,
   "metadata": {
    "collapsed": true
   },
   "outputs": [],
   "source": [
    "def flight_hours(data):\n",
    "    data['Fly_Hours'] = 0\n",
    "    \n",
    "    data_Dep_Time = data['Dep_Time'].str.split(\":\",n=1,expand=True).astype('int64')\n",
    "    data_Dep_Time.columns = ['Hours','Mins']\n",
    "    for i in range(0,len(data)):\n",
    "        \n",
    "        hr = data_Dep_Time.loc[i, 'Hours']\n",
    "        min = data_Dep_Time.loc[i, 'Mins']\n",
    "        data.loc[i,'Fly_Hours'] = (hr*60 + (min))/1440\n",
    "            \n",
    "    return data"
   ]
  },
  {
   "cell_type": "code",
   "execution_count": 213,
   "metadata": {
    "collapsed": true
   },
   "outputs": [],
   "source": [
    "def arrival_hours(data):\n",
    "    data['Arrival_Hours'] = 0\n",
    "    for i in range(0,len(data)):\n",
    "      \n",
    "        data_Arr_Time = data.loc[i,'Arrival_Time'].split(\" \")[0]\n",
    "        data_Dep_Time = data_Arr_Time.split(\":\")\n",
    "        \n",
    "        hr = int(data_Dep_Time[0])\n",
    "        min = int(data_Dep_Time[1])\n",
    "        data.loc[i,'Arrival_Hours'] = (hr*60 + (min))/1440\n",
    "            \n",
    "    return data"
   ]
  },
  {
   "cell_type": "code",
   "execution_count": 214,
   "metadata": {
    "collapsed": true
   },
   "outputs": [],
   "source": [
    "def log_transform(data):\n",
    "    return np.log10(data)"
   ]
  },
  {
   "cell_type": "markdown",
   "metadata": {},
   "source": [
    "# Data cleaning and Modeling starts here"
   ]
  },
  {
   "cell_type": "code",
   "execution_count": 215,
   "metadata": {
    "collapsed": true
   },
   "outputs": [],
   "source": [
    "data = pd.read_excel('C:\\\\Users\\\\LENOVO\\\\Desktop\\\\Flight_Ticket_Participant_Datasets\\\\Data_Train.xlsx')"
   ]
  },
  {
   "cell_type": "code",
   "execution_count": 216,
   "metadata": {
    "collapsed": true
   },
   "outputs": [],
   "source": [
    "test = pd.read_excel('C:\\\\Users\\\\LENOVO\\\\Desktop\\\\Flight_Ticket_Participant_Datasets\\\\Test_set.xlsx')"
   ]
  },
  {
   "cell_type": "code",
   "execution_count": 217,
   "metadata": {
    "collapsed": true
   },
   "outputs": [],
   "source": [
    "data_copy = data\n",
    "test_copy = test"
   ]
  },
  {
   "cell_type": "code",
   "execution_count": 218,
   "metadata": {},
   "outputs": [
    {
     "data": {
      "text/plain": [
       "(10683, 11)"
      ]
     },
     "execution_count": 218,
     "metadata": {},
     "output_type": "execute_result"
    }
   ],
   "source": [
    "data_copy.shape"
   ]
  },
  {
   "cell_type": "code",
   "execution_count": 219,
   "metadata": {
    "collapsed": true
   },
   "outputs": [],
   "source": [
    "data_copy.drop_duplicates(keep='first', inplace=True)"
   ]
  },
  {
   "cell_type": "code",
   "execution_count": 220,
   "metadata": {},
   "outputs": [
    {
     "data": {
      "text/plain": [
       "(10463, 11)"
      ]
     },
     "execution_count": 220,
     "metadata": {},
     "output_type": "execute_result"
    }
   ],
   "source": [
    "data_copy.shape"
   ]
  },
  {
   "cell_type": "code",
   "execution_count": 221,
   "metadata": {
    "collapsed": true
   },
   "outputs": [],
   "source": [
    "#Drop anamolies.\n",
    "#data_copy = data_copy[data_copy['Price'] > data[\"Price\"].quantile(0.01)]\n",
    "#data_copy = data_copy[data_copy['Price'] < data[\"Price\"].quantile(0.99)]\n",
    "data_copy = data_copy[data_copy['Airline'] != 'Trujet']\n",
    "data_copy = data_copy[data_copy['Additional_Info'] != 'Red-eye flight']"
   ]
  },
  {
   "cell_type": "code",
   "execution_count": 222,
   "metadata": {
    "collapsed": true
   },
   "outputs": [],
   "source": [
    "#data_copy.loc[data_copy['Airline'] == 'Jet Airways Business','Airline'] = 'Jet Airways'\n",
    "#data_copy.loc[data_copy['Airline'] == 'Multiple carriers Premium economy','Airline'] = 'Multiple carriers'\n",
    "#data_copy.loc[data_copy['Airline'] == 'Vistara Premium economy','Airline'] = 'Vistara'"
   ]
  },
  {
   "cell_type": "code",
   "execution_count": 223,
   "metadata": {
    "collapsed": true
   },
   "outputs": [],
   "source": [
    "#data_copy.loc[data_copy['Destination'] == 'New Delhi','Destination'] = 'Delhi'"
   ]
  },
  {
   "cell_type": "code",
   "execution_count": 224,
   "metadata": {
    "collapsed": true
   },
   "outputs": [],
   "source": [
    "data_copy.reset_index(inplace=True)"
   ]
  },
  {
   "cell_type": "code",
   "execution_count": 225,
   "metadata": {
    "collapsed": true
   },
   "outputs": [],
   "source": [
    "data_copy = data_copy[data_copy['Airline'] != 'Trujet']"
   ]
  },
  {
   "cell_type": "code",
   "execution_count": 226,
   "metadata": {
    "collapsed": true
   },
   "outputs": [],
   "source": [
    "data_copy = onehotencode(data_copy,'Airline',\"Airline_\")"
   ]
  },
  {
   "cell_type": "code",
   "execution_count": 227,
   "metadata": {
    "collapsed": true
   },
   "outputs": [],
   "source": [
    "data_copy = onehotencode(data_copy,'Source',\"Source_\")"
   ]
  },
  {
   "cell_type": "code",
   "execution_count": 228,
   "metadata": {
    "collapsed": true
   },
   "outputs": [],
   "source": [
    "data_copy = onehotencode(data_copy,'Destination',\"Destination_\")"
   ]
  },
  {
   "cell_type": "code",
   "execution_count": 229,
   "metadata": {
    "collapsed": true
   },
   "outputs": [],
   "source": [
    "#handle No Info, No info values before one hot encoding.\n",
    "data_copy.loc[data_copy['Additional_Info'] == 'No info','Additional_Info'] = 'No Info'\n",
    "data_copy.loc[data_copy['Additional_Info'] == '1 Long layover','Additional_Info'] = 'Layover'\n",
    "data_copy.loc[data_copy['Additional_Info'] == '1 Short layover','Additional_Info'] = 'Layover'\n",
    "data_copy.loc[data_copy['Additional_Info'] == '2 Long layover','Additional_Info'] = 'Layover'\n",
    "data_copy.loc[data_copy['Additional_Info'] == 'Business class','Additional_Info'] = 'Business_Class'\n",
    "data_copy.loc[data_copy['Additional_Info'] == 'Change airports','Additional_Info'] = 'Airport_Changed'\n",
    "\n",
    "\n",
    "data_copy = onehotencode(data_copy,'Additional_Info',\"Additional_Info_\")"
   ]
  },
  {
   "cell_type": "code",
   "execution_count": 230,
   "metadata": {
    "collapsed": true
   },
   "outputs": [],
   "source": [
    "data_copy = encode_total_stops(data_copy)"
   ]
  },
  {
   "cell_type": "code",
   "execution_count": 231,
   "metadata": {
    "collapsed": true
   },
   "outputs": [],
   "source": [
    "data_copy = extract_journey_data(data_copy)"
   ]
  },
  {
   "cell_type": "code",
   "execution_count": 232,
   "metadata": {
    "collapsed": true
   },
   "outputs": [],
   "source": [
    "data_copy = onehotencode(data_copy,'Journey_day_of_week',\"Dayis_\")"
   ]
  },
  {
   "cell_type": "code",
   "execution_count": 233,
   "metadata": {
    "collapsed": true
   },
   "outputs": [],
   "source": [
    "data_copy['Month_Start'] = 0\n",
    "data_copy.loc[data_copy['Journey_Day'] == 1,'Month_Start'] = 1\n",
    "data_copy.loc[data_copy['Journey_Day'] == 3,'Month_Start'] = 1\n",
    "data_copy.loc[data_copy['Journey_Day'] == 6,'Month_Start'] = 1\n",
    "data_copy.loc[data_copy['Journey_Day'] == 9,'Month_Start'] = 1"
   ]
  },
  {
   "cell_type": "code",
   "execution_count": 234,
   "metadata": {
    "collapsed": true
   },
   "outputs": [],
   "source": [
    "#data_copy['is_event'] = 0\n",
    "#data_copy['is_event'] = np.where((((data_copy['Journey_Month'] == 3) & (data_copy['Journey_Day'] == 24)) |\n",
    "#                                 ((data_copy['Journey_Month'] == 4) & (data_copy['Journey_Day'] == 21)) |\n",
    "#                                 ((data_copy['Journey_Month'] == 5) & (data_copy['Journey_Day'] == 18))),1,0)"
   ]
  },
  {
   "cell_type": "code",
   "execution_count": 235,
   "metadata": {
    "collapsed": true
   },
   "outputs": [],
   "source": [
    "#data_copy['is_event'].value_counts()"
   ]
  },
  {
   "cell_type": "code",
   "execution_count": 236,
   "metadata": {
    "collapsed": true
   },
   "outputs": [],
   "source": [
    "data_copy = encode_duration(data_copy)"
   ]
  },
  {
   "cell_type": "code",
   "execution_count": 237,
   "metadata": {
    "collapsed": true
   },
   "outputs": [],
   "source": [
    "data_copy = flight_hours(data_copy)"
   ]
  },
  {
   "cell_type": "code",
   "execution_count": 238,
   "metadata": {
    "collapsed": true
   },
   "outputs": [],
   "source": [
    "data_copy = arrival_hours(data_copy)"
   ]
  },
  {
   "cell_type": "code",
   "execution_count": 239,
   "metadata": {
    "collapsed": true
   },
   "outputs": [],
   "source": [
    "data_copy = onehotencode(data_copy,'Encoded_stops',\"No_of_stops_\")"
   ]
  },
  {
   "cell_type": "code",
   "execution_count": 240,
   "metadata": {
    "collapsed": true
   },
   "outputs": [],
   "source": [
    "#data_copy = onehotencode(data_copy,'Fly_Hours',\"Fly_Hours_\")"
   ]
  },
  {
   "cell_type": "code",
   "execution_count": 241,
   "metadata": {
    "collapsed": true
   },
   "outputs": [],
   "source": [
    "data_final = data_copy"
   ]
  },
  {
   "cell_type": "code",
   "execution_count": 242,
   "metadata": {
    "collapsed": true
   },
   "outputs": [],
   "source": [
    "#data_final.loc[data_final['Encoded_stops'].isnull(),'Encoded_stops'] = 0.3"
   ]
  },
  {
   "cell_type": "code",
   "execution_count": 243,
   "metadata": {
    "collapsed": true
   },
   "outputs": [],
   "source": [
    "data_final.drop(['Airline','Date_of_Journey','Source','Destination','Route','Dep_Time','Arrival_Time','Duration',\n",
    "                'Total_Stops','Additional_Info','Journey_day_of_week','Encoded_stops'],axis=1,inplace=True)\n",
    "#                'Total_Stops','Additional_Info','Fly_Hours'],axis=1,inplace=True)"
   ]
  },
  {
   "cell_type": "code",
   "execution_count": 244,
   "metadata": {
    "collapsed": true
   },
   "outputs": [],
   "source": [
    "data_final.drop(['index'],axis=1,inplace=True)"
   ]
  },
  {
   "cell_type": "code",
   "execution_count": 245,
   "metadata": {
    "collapsed": true
   },
   "outputs": [],
   "source": [
    "train_Feature = data_copy[[x for x in data_final.columns if (x != 'Price' and x != 'index')]]\n",
    "train_Target = data_copy['Price']"
   ]
  },
  {
   "cell_type": "code",
   "execution_count": 246,
   "metadata": {
    "collapsed": true
   },
   "outputs": [],
   "source": [
    "X_train, X_test, y_train, y_test = train_test_split(train_Feature, train_Target, test_size=0.30, random_state=101)"
   ]
  },
  {
   "cell_type": "code",
   "execution_count": 247,
   "metadata": {},
   "outputs": [
    {
     "data": {
      "text/plain": [
       "Series([], dtype: float64)"
      ]
     },
     "execution_count": 247,
     "metadata": {},
     "output_type": "execute_result"
    }
   ],
   "source": [
    "null_columns=X_train.columns[X_train.isnull().any()]\n",
    "X_train[null_columns].isnull().sum()"
   ]
  },
  {
   "cell_type": "code",
   "execution_count": 248,
   "metadata": {
    "scrolled": true
   },
   "outputs": [
    {
     "data": {
      "text/html": [
       "<div>\n",
       "<style>\n",
       "    .dataframe thead tr:only-child th {\n",
       "        text-align: right;\n",
       "    }\n",
       "\n",
       "    .dataframe thead th {\n",
       "        text-align: left;\n",
       "    }\n",
       "\n",
       "    .dataframe tbody tr th {\n",
       "        vertical-align: top;\n",
       "    }\n",
       "</style>\n",
       "<table border=\"1\" class=\"dataframe\">\n",
       "  <thead>\n",
       "    <tr style=\"text-align: right;\">\n",
       "      <th></th>\n",
       "      <th>Airline__Air Asia</th>\n",
       "      <th>Airline__Air India</th>\n",
       "      <th>Airline__GoAir</th>\n",
       "      <th>Airline__IndiGo</th>\n",
       "      <th>Airline__Jet Airways</th>\n",
       "      <th>Airline__Jet Airways Business</th>\n",
       "      <th>Airline__Multiple carriers</th>\n",
       "      <th>Airline__Multiple carriers Premium economy</th>\n",
       "      <th>Airline__SpiceJet</th>\n",
       "      <th>Airline__Vistara</th>\n",
       "      <th>Airline__Vistara Premium economy</th>\n",
       "      <th>Source__Banglore</th>\n",
       "      <th>Source__Chennai</th>\n",
       "      <th>Source__Delhi</th>\n",
       "      <th>Source__Kolkata</th>\n",
       "      <th>Source__Mumbai</th>\n",
       "      <th>Destination__Banglore</th>\n",
       "      <th>Destination__Cochin</th>\n",
       "      <th>Destination__Delhi</th>\n",
       "      <th>Destination__Hyderabad</th>\n",
       "      <th>Destination__Kolkata</th>\n",
       "      <th>Destination__New Delhi</th>\n",
       "      <th>Additional_Info__Airport_Changed</th>\n",
       "      <th>Additional_Info__Business_Class</th>\n",
       "      <th>Additional_Info__In-flight meal not included</th>\n",
       "      <th>Additional_Info__Layover</th>\n",
       "      <th>Additional_Info__No Info</th>\n",
       "      <th>Additional_Info__No check-in baggage included</th>\n",
       "      <th>Journey_Day</th>\n",
       "      <th>Journey_Month</th>\n",
       "      <th>Date_Lapse</th>\n",
       "      <th>Dayis__Friday</th>\n",
       "      <th>Dayis__Monday</th>\n",
       "      <th>Dayis__Saturday</th>\n",
       "      <th>Dayis__Sunday</th>\n",
       "      <th>Dayis__Thursday</th>\n",
       "      <th>Dayis__Tuesday</th>\n",
       "      <th>Dayis__Wednesday</th>\n",
       "      <th>Month_Start</th>\n",
       "      <th>Duration_Type</th>\n",
       "      <th>Fly_Hours</th>\n",
       "      <th>Arrival_Hours</th>\n",
       "      <th>No_of_stops__0</th>\n",
       "      <th>No_of_stops__1</th>\n",
       "      <th>No_of_stops__2</th>\n",
       "      <th>No_of_stops__3</th>\n",
       "      <th>No_of_stops__4</th>\n",
       "    </tr>\n",
       "  </thead>\n",
       "  <tbody>\n",
       "    <tr>\n",
       "      <th>6949</th>\n",
       "      <td>0</td>\n",
       "      <td>1</td>\n",
       "      <td>0</td>\n",
       "      <td>0</td>\n",
       "      <td>0</td>\n",
       "      <td>0</td>\n",
       "      <td>0</td>\n",
       "      <td>0</td>\n",
       "      <td>0</td>\n",
       "      <td>0</td>\n",
       "      <td>0</td>\n",
       "      <td>0</td>\n",
       "      <td>0</td>\n",
       "      <td>0</td>\n",
       "      <td>0</td>\n",
       "      <td>1</td>\n",
       "      <td>0</td>\n",
       "      <td>0</td>\n",
       "      <td>0</td>\n",
       "      <td>1</td>\n",
       "      <td>0</td>\n",
       "      <td>0</td>\n",
       "      <td>0</td>\n",
       "      <td>0</td>\n",
       "      <td>0</td>\n",
       "      <td>0</td>\n",
       "      <td>1</td>\n",
       "      <td>0</td>\n",
       "      <td>21</td>\n",
       "      <td>6</td>\n",
       "      <td>112.0</td>\n",
       "      <td>1</td>\n",
       "      <td>0</td>\n",
       "      <td>0</td>\n",
       "      <td>0</td>\n",
       "      <td>0</td>\n",
       "      <td>0</td>\n",
       "      <td>0</td>\n",
       "      <td>0</td>\n",
       "      <td>0.062500</td>\n",
       "      <td>0.579861</td>\n",
       "      <td>0.642361</td>\n",
       "      <td>1</td>\n",
       "      <td>0</td>\n",
       "      <td>0</td>\n",
       "      <td>0</td>\n",
       "      <td>0</td>\n",
       "    </tr>\n",
       "    <tr>\n",
       "      <th>8604</th>\n",
       "      <td>1</td>\n",
       "      <td>0</td>\n",
       "      <td>0</td>\n",
       "      <td>0</td>\n",
       "      <td>0</td>\n",
       "      <td>0</td>\n",
       "      <td>0</td>\n",
       "      <td>0</td>\n",
       "      <td>0</td>\n",
       "      <td>0</td>\n",
       "      <td>0</td>\n",
       "      <td>1</td>\n",
       "      <td>0</td>\n",
       "      <td>0</td>\n",
       "      <td>0</td>\n",
       "      <td>0</td>\n",
       "      <td>0</td>\n",
       "      <td>0</td>\n",
       "      <td>1</td>\n",
       "      <td>0</td>\n",
       "      <td>0</td>\n",
       "      <td>0</td>\n",
       "      <td>0</td>\n",
       "      <td>0</td>\n",
       "      <td>0</td>\n",
       "      <td>0</td>\n",
       "      <td>1</td>\n",
       "      <td>0</td>\n",
       "      <td>9</td>\n",
       "      <td>6</td>\n",
       "      <td>100.0</td>\n",
       "      <td>0</td>\n",
       "      <td>0</td>\n",
       "      <td>0</td>\n",
       "      <td>1</td>\n",
       "      <td>0</td>\n",
       "      <td>0</td>\n",
       "      <td>0</td>\n",
       "      <td>1</td>\n",
       "      <td>0.118056</td>\n",
       "      <td>0.996528</td>\n",
       "      <td>0.114583</td>\n",
       "      <td>1</td>\n",
       "      <td>0</td>\n",
       "      <td>0</td>\n",
       "      <td>0</td>\n",
       "      <td>0</td>\n",
       "    </tr>\n",
       "    <tr>\n",
       "      <th>883</th>\n",
       "      <td>0</td>\n",
       "      <td>0</td>\n",
       "      <td>0</td>\n",
       "      <td>0</td>\n",
       "      <td>0</td>\n",
       "      <td>0</td>\n",
       "      <td>1</td>\n",
       "      <td>0</td>\n",
       "      <td>0</td>\n",
       "      <td>0</td>\n",
       "      <td>0</td>\n",
       "      <td>0</td>\n",
       "      <td>0</td>\n",
       "      <td>1</td>\n",
       "      <td>0</td>\n",
       "      <td>0</td>\n",
       "      <td>0</td>\n",
       "      <td>1</td>\n",
       "      <td>0</td>\n",
       "      <td>0</td>\n",
       "      <td>0</td>\n",
       "      <td>0</td>\n",
       "      <td>0</td>\n",
       "      <td>0</td>\n",
       "      <td>0</td>\n",
       "      <td>0</td>\n",
       "      <td>1</td>\n",
       "      <td>0</td>\n",
       "      <td>9</td>\n",
       "      <td>5</td>\n",
       "      <td>69.0</td>\n",
       "      <td>0</td>\n",
       "      <td>0</td>\n",
       "      <td>0</td>\n",
       "      <td>0</td>\n",
       "      <td>1</td>\n",
       "      <td>0</td>\n",
       "      <td>0</td>\n",
       "      <td>1</td>\n",
       "      <td>0.479167</td>\n",
       "      <td>0.312500</td>\n",
       "      <td>0.791667</td>\n",
       "      <td>0</td>\n",
       "      <td>1</td>\n",
       "      <td>0</td>\n",
       "      <td>0</td>\n",
       "      <td>0</td>\n",
       "    </tr>\n",
       "    <tr>\n",
       "      <th>4116</th>\n",
       "      <td>0</td>\n",
       "      <td>1</td>\n",
       "      <td>0</td>\n",
       "      <td>0</td>\n",
       "      <td>0</td>\n",
       "      <td>0</td>\n",
       "      <td>0</td>\n",
       "      <td>0</td>\n",
       "      <td>0</td>\n",
       "      <td>0</td>\n",
       "      <td>0</td>\n",
       "      <td>1</td>\n",
       "      <td>0</td>\n",
       "      <td>0</td>\n",
       "      <td>0</td>\n",
       "      <td>0</td>\n",
       "      <td>0</td>\n",
       "      <td>0</td>\n",
       "      <td>0</td>\n",
       "      <td>0</td>\n",
       "      <td>0</td>\n",
       "      <td>1</td>\n",
       "      <td>0</td>\n",
       "      <td>0</td>\n",
       "      <td>0</td>\n",
       "      <td>0</td>\n",
       "      <td>1</td>\n",
       "      <td>0</td>\n",
       "      <td>1</td>\n",
       "      <td>3</td>\n",
       "      <td>0.0</td>\n",
       "      <td>1</td>\n",
       "      <td>0</td>\n",
       "      <td>0</td>\n",
       "      <td>0</td>\n",
       "      <td>0</td>\n",
       "      <td>0</td>\n",
       "      <td>0</td>\n",
       "      <td>1</td>\n",
       "      <td>0.638889</td>\n",
       "      <td>0.916667</td>\n",
       "      <td>0.555556</td>\n",
       "      <td>0</td>\n",
       "      <td>1</td>\n",
       "      <td>0</td>\n",
       "      <td>0</td>\n",
       "      <td>0</td>\n",
       "    </tr>\n",
       "    <tr>\n",
       "      <th>5606</th>\n",
       "      <td>0</td>\n",
       "      <td>0</td>\n",
       "      <td>0</td>\n",
       "      <td>0</td>\n",
       "      <td>0</td>\n",
       "      <td>0</td>\n",
       "      <td>1</td>\n",
       "      <td>0</td>\n",
       "      <td>0</td>\n",
       "      <td>0</td>\n",
       "      <td>0</td>\n",
       "      <td>0</td>\n",
       "      <td>0</td>\n",
       "      <td>1</td>\n",
       "      <td>0</td>\n",
       "      <td>0</td>\n",
       "      <td>0</td>\n",
       "      <td>1</td>\n",
       "      <td>0</td>\n",
       "      <td>0</td>\n",
       "      <td>0</td>\n",
       "      <td>0</td>\n",
       "      <td>0</td>\n",
       "      <td>0</td>\n",
       "      <td>0</td>\n",
       "      <td>0</td>\n",
       "      <td>1</td>\n",
       "      <td>0</td>\n",
       "      <td>27</td>\n",
       "      <td>6</td>\n",
       "      <td>118.0</td>\n",
       "      <td>0</td>\n",
       "      <td>0</td>\n",
       "      <td>0</td>\n",
       "      <td>0</td>\n",
       "      <td>1</td>\n",
       "      <td>0</td>\n",
       "      <td>0</td>\n",
       "      <td>0</td>\n",
       "      <td>0.375000</td>\n",
       "      <td>0.416667</td>\n",
       "      <td>0.791667</td>\n",
       "      <td>0</td>\n",
       "      <td>1</td>\n",
       "      <td>0</td>\n",
       "      <td>0</td>\n",
       "      <td>0</td>\n",
       "    </tr>\n",
       "  </tbody>\n",
       "</table>\n",
       "</div>"
      ],
      "text/plain": [
       "      Airline__Air Asia  Airline__Air India  Airline__GoAir  Airline__IndiGo  \\\n",
       "6949                  0                   1               0                0   \n",
       "8604                  1                   0               0                0   \n",
       "883                   0                   0               0                0   \n",
       "4116                  0                   1               0                0   \n",
       "5606                  0                   0               0                0   \n",
       "\n",
       "      Airline__Jet Airways  Airline__Jet Airways Business  \\\n",
       "6949                     0                              0   \n",
       "8604                     0                              0   \n",
       "883                      0                              0   \n",
       "4116                     0                              0   \n",
       "5606                     0                              0   \n",
       "\n",
       "      Airline__Multiple carriers  Airline__Multiple carriers Premium economy  \\\n",
       "6949                           0                                           0   \n",
       "8604                           0                                           0   \n",
       "883                            1                                           0   \n",
       "4116                           0                                           0   \n",
       "5606                           1                                           0   \n",
       "\n",
       "      Airline__SpiceJet  Airline__Vistara  Airline__Vistara Premium economy  \\\n",
       "6949                  0                 0                                 0   \n",
       "8604                  0                 0                                 0   \n",
       "883                   0                 0                                 0   \n",
       "4116                  0                 0                                 0   \n",
       "5606                  0                 0                                 0   \n",
       "\n",
       "      Source__Banglore  Source__Chennai  Source__Delhi  Source__Kolkata  \\\n",
       "6949                 0                0              0                0   \n",
       "8604                 1                0              0                0   \n",
       "883                  0                0              1                0   \n",
       "4116                 1                0              0                0   \n",
       "5606                 0                0              1                0   \n",
       "\n",
       "      Source__Mumbai  Destination__Banglore  Destination__Cochin  \\\n",
       "6949               1                      0                    0   \n",
       "8604               0                      0                    0   \n",
       "883                0                      0                    1   \n",
       "4116               0                      0                    0   \n",
       "5606               0                      0                    1   \n",
       "\n",
       "      Destination__Delhi  Destination__Hyderabad  Destination__Kolkata  \\\n",
       "6949                   0                       1                     0   \n",
       "8604                   1                       0                     0   \n",
       "883                    0                       0                     0   \n",
       "4116                   0                       0                     0   \n",
       "5606                   0                       0                     0   \n",
       "\n",
       "      Destination__New Delhi  Additional_Info__Airport_Changed  \\\n",
       "6949                       0                                 0   \n",
       "8604                       0                                 0   \n",
       "883                        0                                 0   \n",
       "4116                       1                                 0   \n",
       "5606                       0                                 0   \n",
       "\n",
       "      Additional_Info__Business_Class  \\\n",
       "6949                                0   \n",
       "8604                                0   \n",
       "883                                 0   \n",
       "4116                                0   \n",
       "5606                                0   \n",
       "\n",
       "      Additional_Info__In-flight meal not included  Additional_Info__Layover  \\\n",
       "6949                                             0                         0   \n",
       "8604                                             0                         0   \n",
       "883                                              0                         0   \n",
       "4116                                             0                         0   \n",
       "5606                                             0                         0   \n",
       "\n",
       "      Additional_Info__No Info  Additional_Info__No check-in baggage included  \\\n",
       "6949                         1                                              0   \n",
       "8604                         1                                              0   \n",
       "883                          1                                              0   \n",
       "4116                         1                                              0   \n",
       "5606                         1                                              0   \n",
       "\n",
       "      Journey_Day  Journey_Month  Date_Lapse  Dayis__Friday  Dayis__Monday  \\\n",
       "6949           21              6       112.0              1              0   \n",
       "8604            9              6       100.0              0              0   \n",
       "883             9              5        69.0              0              0   \n",
       "4116            1              3         0.0              1              0   \n",
       "5606           27              6       118.0              0              0   \n",
       "\n",
       "      Dayis__Saturday  Dayis__Sunday  Dayis__Thursday  Dayis__Tuesday  \\\n",
       "6949                0              0                0               0   \n",
       "8604                0              1                0               0   \n",
       "883                 0              0                1               0   \n",
       "4116                0              0                0               0   \n",
       "5606                0              0                1               0   \n",
       "\n",
       "      Dayis__Wednesday  Month_Start  Duration_Type  Fly_Hours  Arrival_Hours  \\\n",
       "6949                 0            0       0.062500   0.579861       0.642361   \n",
       "8604                 0            1       0.118056   0.996528       0.114583   \n",
       "883                  0            1       0.479167   0.312500       0.791667   \n",
       "4116                 0            1       0.638889   0.916667       0.555556   \n",
       "5606                 0            0       0.375000   0.416667       0.791667   \n",
       "\n",
       "      No_of_stops__0  No_of_stops__1  No_of_stops__2  No_of_stops__3  \\\n",
       "6949               1               0               0               0   \n",
       "8604               1               0               0               0   \n",
       "883                0               1               0               0   \n",
       "4116               0               1               0               0   \n",
       "5606               0               1               0               0   \n",
       "\n",
       "      No_of_stops__4  \n",
       "6949               0  \n",
       "8604               0  \n",
       "883                0  \n",
       "4116               0  \n",
       "5606               0  "
      ]
     },
     "execution_count": 248,
     "metadata": {},
     "output_type": "execute_result"
    }
   ],
   "source": [
    "X_train.head()"
   ]
  },
  {
   "cell_type": "code",
   "execution_count": 249,
   "metadata": {
    "collapsed": true
   },
   "outputs": [],
   "source": [
    "scaler = StandardScaler()"
   ]
  },
  {
   "cell_type": "code",
   "execution_count": 250,
   "metadata": {
    "collapsed": true
   },
   "outputs": [],
   "source": [
    "X_train = pd.DataFrame(scaler.fit_transform(X_train), columns=train_Feature.columns)"
   ]
  },
  {
   "cell_type": "code",
   "execution_count": 251,
   "metadata": {
    "collapsed": true
   },
   "outputs": [],
   "source": [
    "X_test =  pd.DataFrame(scaler.transform(X_test),columns=train_Feature.columns)"
   ]
  },
  {
   "cell_type": "markdown",
   "metadata": {},
   "source": [
    "# Final Prediction on Test set starts here"
   ]
  },
  {
   "cell_type": "code",
   "execution_count": 252,
   "metadata": {
    "collapsed": true
   },
   "outputs": [],
   "source": [
    "#test_copy.loc[test_copy['Airline'] == 'Jet Airways Business','Airline'] = 'Jet Airways'\n",
    "#test_copy.loc[test_copy['Airline'] == 'Multiple carriers Premium economy','Airline'] = 'Multiple carriers'\n",
    "#test_copy.loc[test_copy['Airline'] == 'Vistara Premium economy','Airline'] = 'Vistara'"
   ]
  },
  {
   "cell_type": "code",
   "execution_count": 253,
   "metadata": {
    "collapsed": true
   },
   "outputs": [],
   "source": [
    "#test_copy.loc[test_copy['Destination'] == 'New Delhi','Destination'] = 'Delhi'"
   ]
  },
  {
   "cell_type": "code",
   "execution_count": 254,
   "metadata": {
    "collapsed": true
   },
   "outputs": [],
   "source": [
    "test_copy = onehotencode(test_copy,'Airline',\"Airline_\")"
   ]
  },
  {
   "cell_type": "code",
   "execution_count": 255,
   "metadata": {
    "collapsed": true
   },
   "outputs": [],
   "source": [
    "test_copy = onehotencode(test_copy,'Source',\"Source_\")"
   ]
  },
  {
   "cell_type": "code",
   "execution_count": 256,
   "metadata": {
    "collapsed": true
   },
   "outputs": [],
   "source": [
    "test_copy = onehotencode(test_copy,'Destination',\"Destination_\")"
   ]
  },
  {
   "cell_type": "code",
   "execution_count": 257,
   "metadata": {
    "collapsed": true
   },
   "outputs": [],
   "source": [
    "#handle No Info, No info values before one hot encoding.\n",
    "test_copy.loc[test_copy['Additional_Info'] == 'No info','Additional_Info'] = 'No Info'\n",
    "test_copy.loc[test_copy['Additional_Info'] == '1 Long layover','Additional_Info'] = 'Layover'\n",
    "test_copy.loc[test_copy['Additional_Info'] == '1 Short layover','Additional_Info'] = 'Layover'\n",
    "test_copy.loc[test_copy['Additional_Info'] == '1 Long layover','Additional_Info'] = 'Layover'\n",
    "test_copy.loc[test_copy['Additional_Info'] == 'Business class','Additional_Info'] = 'Business_Class'\n",
    "test_copy.loc[test_copy['Additional_Info'] == 'Change airports','Additional_Info'] = 'Airport_Changed'\n",
    "\n",
    "test_copy = onehotencode(test_copy,'Additional_Info',\"Additional_Info_\")"
   ]
  },
  {
   "cell_type": "code",
   "execution_count": 258,
   "metadata": {
    "collapsed": true
   },
   "outputs": [],
   "source": [
    "test_copy = encode_total_stops(test_copy)"
   ]
  },
  {
   "cell_type": "code",
   "execution_count": 259,
   "metadata": {
    "collapsed": true
   },
   "outputs": [],
   "source": [
    "test_copy = extract_journey_data(test_copy)"
   ]
  },
  {
   "cell_type": "code",
   "execution_count": 260,
   "metadata": {
    "collapsed": true
   },
   "outputs": [],
   "source": [
    "test_copy['Month_Start'] = 0\n",
    "test_copy.loc[test_copy['Journey_Day'] == 1,'Month_Start'] = 1\n",
    "test_copy.loc[test_copy['Journey_Day'] == 3,'Month_Start'] = 1\n",
    "test_copy.loc[test_copy['Journey_Day'] == 6,'Month_Start'] = 1\n",
    "test_copy.loc[test_copy['Journey_Day'] == 9,'Month_Start'] = 1"
   ]
  },
  {
   "cell_type": "code",
   "execution_count": 261,
   "metadata": {
    "collapsed": true
   },
   "outputs": [],
   "source": [
    "#test_copy['is_event'] = 0\n",
    "#test_copy['is_event'] = np.where((((test_copy['Journey_Month'] == 3) & (test_copy['Journey_Day'] == 24)) |\n",
    "#                                 ((test_copy['Journey_Month'] == 4) & (test_copy['Journey_Day'] == 21)) |\n",
    "#                                 ((test_copy['Journey_Month'] == 5) & (test_copy['Journey_Day'] == 18))),1,0)"
   ]
  },
  {
   "cell_type": "code",
   "execution_count": 262,
   "metadata": {
    "collapsed": true
   },
   "outputs": [],
   "source": [
    "test_copy = encode_duration(test_copy)"
   ]
  },
  {
   "cell_type": "code",
   "execution_count": 263,
   "metadata": {
    "collapsed": true
   },
   "outputs": [],
   "source": [
    "test_copy = flight_hours(test_copy)"
   ]
  },
  {
   "cell_type": "code",
   "execution_count": 264,
   "metadata": {
    "collapsed": true
   },
   "outputs": [],
   "source": [
    "test_copy = arrival_hours(test_copy)"
   ]
  },
  {
   "cell_type": "code",
   "execution_count": 265,
   "metadata": {
    "collapsed": true
   },
   "outputs": [],
   "source": [
    "test_copy = onehotencode(test_copy,'Journey_day_of_week',\"Dayis_\")"
   ]
  },
  {
   "cell_type": "code",
   "execution_count": 266,
   "metadata": {
    "collapsed": true
   },
   "outputs": [],
   "source": [
    "test_copy = onehotencode(test_copy,'Encoded_stops',\"No_of_stops_\")"
   ]
  },
  {
   "cell_type": "code",
   "execution_count": 267,
   "metadata": {
    "collapsed": true
   },
   "outputs": [],
   "source": [
    "#test_copy = onehotencode(test_copy,'Fly_Hours',\"Fly_Hours_\")"
   ]
  },
  {
   "cell_type": "code",
   "execution_count": 268,
   "metadata": {
    "collapsed": true
   },
   "outputs": [],
   "source": [
    "test_final = test_copy"
   ]
  },
  {
   "cell_type": "code",
   "execution_count": 269,
   "metadata": {},
   "outputs": [
    {
     "data": {
      "text/plain": [
       "(10461, 48)"
      ]
     },
     "execution_count": 269,
     "metadata": {},
     "output_type": "execute_result"
    }
   ],
   "source": [
    "data_copy.shape"
   ]
  },
  {
   "cell_type": "code",
   "execution_count": 270,
   "metadata": {},
   "outputs": [
    {
     "data": {
      "text/plain": [
       "['Price']"
      ]
     },
     "execution_count": 270,
     "metadata": {},
     "output_type": "execute_result"
    }
   ],
   "source": [
    "[X for X in data_copy.columns if X not in test_final.columns]"
   ]
  },
  {
   "cell_type": "code",
   "execution_count": 271,
   "metadata": {
    "scrolled": false
   },
   "outputs": [
    {
     "data": {
      "text/html": [
       "<div>\n",
       "<style>\n",
       "    .dataframe thead tr:only-child th {\n",
       "        text-align: right;\n",
       "    }\n",
       "\n",
       "    .dataframe thead th {\n",
       "        text-align: left;\n",
       "    }\n",
       "\n",
       "    .dataframe tbody tr th {\n",
       "        vertical-align: top;\n",
       "    }\n",
       "</style>\n",
       "<table border=\"1\" class=\"dataframe\">\n",
       "  <thead>\n",
       "    <tr style=\"text-align: right;\">\n",
       "      <th></th>\n",
       "      <th>Price</th>\n",
       "      <th>Airline__Air Asia</th>\n",
       "      <th>Airline__Air India</th>\n",
       "      <th>Airline__GoAir</th>\n",
       "      <th>Airline__IndiGo</th>\n",
       "      <th>Airline__Jet Airways</th>\n",
       "      <th>Airline__Jet Airways Business</th>\n",
       "      <th>Airline__Multiple carriers</th>\n",
       "      <th>Airline__Multiple carriers Premium economy</th>\n",
       "      <th>Airline__SpiceJet</th>\n",
       "      <th>Airline__Vistara</th>\n",
       "      <th>Airline__Vistara Premium economy</th>\n",
       "      <th>Source__Banglore</th>\n",
       "      <th>Source__Chennai</th>\n",
       "      <th>Source__Delhi</th>\n",
       "      <th>Source__Kolkata</th>\n",
       "      <th>Source__Mumbai</th>\n",
       "      <th>Destination__Banglore</th>\n",
       "      <th>Destination__Cochin</th>\n",
       "      <th>Destination__Delhi</th>\n",
       "      <th>Destination__Hyderabad</th>\n",
       "      <th>Destination__Kolkata</th>\n",
       "      <th>Destination__New Delhi</th>\n",
       "      <th>Additional_Info__Airport_Changed</th>\n",
       "      <th>Additional_Info__Business_Class</th>\n",
       "      <th>Additional_Info__In-flight meal not included</th>\n",
       "      <th>Additional_Info__Layover</th>\n",
       "      <th>Additional_Info__No Info</th>\n",
       "      <th>Additional_Info__No check-in baggage included</th>\n",
       "      <th>Journey_Day</th>\n",
       "      <th>Journey_Month</th>\n",
       "      <th>Date_Lapse</th>\n",
       "      <th>Dayis__Friday</th>\n",
       "      <th>Dayis__Monday</th>\n",
       "      <th>Dayis__Saturday</th>\n",
       "      <th>Dayis__Sunday</th>\n",
       "      <th>Dayis__Thursday</th>\n",
       "      <th>Dayis__Tuesday</th>\n",
       "      <th>Dayis__Wednesday</th>\n",
       "      <th>Month_Start</th>\n",
       "      <th>Duration_Type</th>\n",
       "      <th>Fly_Hours</th>\n",
       "      <th>Arrival_Hours</th>\n",
       "      <th>No_of_stops__0</th>\n",
       "      <th>No_of_stops__1</th>\n",
       "      <th>No_of_stops__2</th>\n",
       "      <th>No_of_stops__3</th>\n",
       "      <th>No_of_stops__4</th>\n",
       "    </tr>\n",
       "  </thead>\n",
       "  <tbody>\n",
       "    <tr>\n",
       "      <th>0</th>\n",
       "      <td>3897</td>\n",
       "      <td>0</td>\n",
       "      <td>0</td>\n",
       "      <td>0</td>\n",
       "      <td>1</td>\n",
       "      <td>0</td>\n",
       "      <td>0</td>\n",
       "      <td>0</td>\n",
       "      <td>0</td>\n",
       "      <td>0</td>\n",
       "      <td>0</td>\n",
       "      <td>0</td>\n",
       "      <td>1</td>\n",
       "      <td>0</td>\n",
       "      <td>0</td>\n",
       "      <td>0</td>\n",
       "      <td>0</td>\n",
       "      <td>0</td>\n",
       "      <td>0</td>\n",
       "      <td>0</td>\n",
       "      <td>0</td>\n",
       "      <td>0</td>\n",
       "      <td>1</td>\n",
       "      <td>0</td>\n",
       "      <td>0</td>\n",
       "      <td>0</td>\n",
       "      <td>0</td>\n",
       "      <td>1</td>\n",
       "      <td>0</td>\n",
       "      <td>24</td>\n",
       "      <td>3</td>\n",
       "      <td>23.0</td>\n",
       "      <td>0</td>\n",
       "      <td>0</td>\n",
       "      <td>0</td>\n",
       "      <td>1</td>\n",
       "      <td>0</td>\n",
       "      <td>0</td>\n",
       "      <td>0</td>\n",
       "      <td>0</td>\n",
       "      <td>0.118056</td>\n",
       "      <td>0.930556</td>\n",
       "      <td>0.048611</td>\n",
       "      <td>1</td>\n",
       "      <td>0</td>\n",
       "      <td>0</td>\n",
       "      <td>0</td>\n",
       "      <td>0</td>\n",
       "    </tr>\n",
       "    <tr>\n",
       "      <th>1</th>\n",
       "      <td>7662</td>\n",
       "      <td>0</td>\n",
       "      <td>1</td>\n",
       "      <td>0</td>\n",
       "      <td>0</td>\n",
       "      <td>0</td>\n",
       "      <td>0</td>\n",
       "      <td>0</td>\n",
       "      <td>0</td>\n",
       "      <td>0</td>\n",
       "      <td>0</td>\n",
       "      <td>0</td>\n",
       "      <td>0</td>\n",
       "      <td>0</td>\n",
       "      <td>0</td>\n",
       "      <td>1</td>\n",
       "      <td>0</td>\n",
       "      <td>1</td>\n",
       "      <td>0</td>\n",
       "      <td>0</td>\n",
       "      <td>0</td>\n",
       "      <td>0</td>\n",
       "      <td>0</td>\n",
       "      <td>0</td>\n",
       "      <td>0</td>\n",
       "      <td>0</td>\n",
       "      <td>0</td>\n",
       "      <td>1</td>\n",
       "      <td>0</td>\n",
       "      <td>1</td>\n",
       "      <td>5</td>\n",
       "      <td>61.0</td>\n",
       "      <td>0</td>\n",
       "      <td>0</td>\n",
       "      <td>0</td>\n",
       "      <td>0</td>\n",
       "      <td>0</td>\n",
       "      <td>0</td>\n",
       "      <td>1</td>\n",
       "      <td>1</td>\n",
       "      <td>0.309028</td>\n",
       "      <td>0.243056</td>\n",
       "      <td>0.552083</td>\n",
       "      <td>0</td>\n",
       "      <td>0</td>\n",
       "      <td>1</td>\n",
       "      <td>0</td>\n",
       "      <td>0</td>\n",
       "    </tr>\n",
       "    <tr>\n",
       "      <th>2</th>\n",
       "      <td>13882</td>\n",
       "      <td>0</td>\n",
       "      <td>0</td>\n",
       "      <td>0</td>\n",
       "      <td>0</td>\n",
       "      <td>1</td>\n",
       "      <td>0</td>\n",
       "      <td>0</td>\n",
       "      <td>0</td>\n",
       "      <td>0</td>\n",
       "      <td>0</td>\n",
       "      <td>0</td>\n",
       "      <td>0</td>\n",
       "      <td>0</td>\n",
       "      <td>1</td>\n",
       "      <td>0</td>\n",
       "      <td>0</td>\n",
       "      <td>0</td>\n",
       "      <td>1</td>\n",
       "      <td>0</td>\n",
       "      <td>0</td>\n",
       "      <td>0</td>\n",
       "      <td>0</td>\n",
       "      <td>0</td>\n",
       "      <td>0</td>\n",
       "      <td>0</td>\n",
       "      <td>0</td>\n",
       "      <td>1</td>\n",
       "      <td>0</td>\n",
       "      <td>9</td>\n",
       "      <td>6</td>\n",
       "      <td>100.0</td>\n",
       "      <td>0</td>\n",
       "      <td>0</td>\n",
       "      <td>0</td>\n",
       "      <td>1</td>\n",
       "      <td>0</td>\n",
       "      <td>0</td>\n",
       "      <td>0</td>\n",
       "      <td>1</td>\n",
       "      <td>0.791667</td>\n",
       "      <td>0.392361</td>\n",
       "      <td>0.184028</td>\n",
       "      <td>0</td>\n",
       "      <td>0</td>\n",
       "      <td>1</td>\n",
       "      <td>0</td>\n",
       "      <td>0</td>\n",
       "    </tr>\n",
       "    <tr>\n",
       "      <th>3</th>\n",
       "      <td>6218</td>\n",
       "      <td>0</td>\n",
       "      <td>0</td>\n",
       "      <td>0</td>\n",
       "      <td>1</td>\n",
       "      <td>0</td>\n",
       "      <td>0</td>\n",
       "      <td>0</td>\n",
       "      <td>0</td>\n",
       "      <td>0</td>\n",
       "      <td>0</td>\n",
       "      <td>0</td>\n",
       "      <td>0</td>\n",
       "      <td>0</td>\n",
       "      <td>0</td>\n",
       "      <td>1</td>\n",
       "      <td>0</td>\n",
       "      <td>1</td>\n",
       "      <td>0</td>\n",
       "      <td>0</td>\n",
       "      <td>0</td>\n",
       "      <td>0</td>\n",
       "      <td>0</td>\n",
       "      <td>0</td>\n",
       "      <td>0</td>\n",
       "      <td>0</td>\n",
       "      <td>0</td>\n",
       "      <td>1</td>\n",
       "      <td>0</td>\n",
       "      <td>12</td>\n",
       "      <td>5</td>\n",
       "      <td>72.0</td>\n",
       "      <td>0</td>\n",
       "      <td>0</td>\n",
       "      <td>0</td>\n",
       "      <td>1</td>\n",
       "      <td>0</td>\n",
       "      <td>0</td>\n",
       "      <td>0</td>\n",
       "      <td>0</td>\n",
       "      <td>0.225694</td>\n",
       "      <td>0.753472</td>\n",
       "      <td>0.979167</td>\n",
       "      <td>0</td>\n",
       "      <td>1</td>\n",
       "      <td>0</td>\n",
       "      <td>0</td>\n",
       "      <td>0</td>\n",
       "    </tr>\n",
       "    <tr>\n",
       "      <th>4</th>\n",
       "      <td>13302</td>\n",
       "      <td>0</td>\n",
       "      <td>0</td>\n",
       "      <td>0</td>\n",
       "      <td>1</td>\n",
       "      <td>0</td>\n",
       "      <td>0</td>\n",
       "      <td>0</td>\n",
       "      <td>0</td>\n",
       "      <td>0</td>\n",
       "      <td>0</td>\n",
       "      <td>0</td>\n",
       "      <td>1</td>\n",
       "      <td>0</td>\n",
       "      <td>0</td>\n",
       "      <td>0</td>\n",
       "      <td>0</td>\n",
       "      <td>0</td>\n",
       "      <td>0</td>\n",
       "      <td>0</td>\n",
       "      <td>0</td>\n",
       "      <td>0</td>\n",
       "      <td>1</td>\n",
       "      <td>0</td>\n",
       "      <td>0</td>\n",
       "      <td>0</td>\n",
       "      <td>0</td>\n",
       "      <td>1</td>\n",
       "      <td>0</td>\n",
       "      <td>1</td>\n",
       "      <td>3</td>\n",
       "      <td>0.0</td>\n",
       "      <td>1</td>\n",
       "      <td>0</td>\n",
       "      <td>0</td>\n",
       "      <td>0</td>\n",
       "      <td>0</td>\n",
       "      <td>0</td>\n",
       "      <td>0</td>\n",
       "      <td>1</td>\n",
       "      <td>0.197917</td>\n",
       "      <td>0.701389</td>\n",
       "      <td>0.899306</td>\n",
       "      <td>0</td>\n",
       "      <td>1</td>\n",
       "      <td>0</td>\n",
       "      <td>0</td>\n",
       "      <td>0</td>\n",
       "    </tr>\n",
       "  </tbody>\n",
       "</table>\n",
       "</div>"
      ],
      "text/plain": [
       "   Price  Airline__Air Asia  Airline__Air India  Airline__GoAir  \\\n",
       "0   3897                  0                   0               0   \n",
       "1   7662                  0                   1               0   \n",
       "2  13882                  0                   0               0   \n",
       "3   6218                  0                   0               0   \n",
       "4  13302                  0                   0               0   \n",
       "\n",
       "   Airline__IndiGo  Airline__Jet Airways  Airline__Jet Airways Business  \\\n",
       "0                1                     0                              0   \n",
       "1                0                     0                              0   \n",
       "2                0                     1                              0   \n",
       "3                1                     0                              0   \n",
       "4                1                     0                              0   \n",
       "\n",
       "   Airline__Multiple carriers  Airline__Multiple carriers Premium economy  \\\n",
       "0                           0                                           0   \n",
       "1                           0                                           0   \n",
       "2                           0                                           0   \n",
       "3                           0                                           0   \n",
       "4                           0                                           0   \n",
       "\n",
       "   Airline__SpiceJet  Airline__Vistara  Airline__Vistara Premium economy  \\\n",
       "0                  0                 0                                 0   \n",
       "1                  0                 0                                 0   \n",
       "2                  0                 0                                 0   \n",
       "3                  0                 0                                 0   \n",
       "4                  0                 0                                 0   \n",
       "\n",
       "   Source__Banglore  Source__Chennai  Source__Delhi  Source__Kolkata  \\\n",
       "0                 1                0              0                0   \n",
       "1                 0                0              0                1   \n",
       "2                 0                0              1                0   \n",
       "3                 0                0              0                1   \n",
       "4                 1                0              0                0   \n",
       "\n",
       "   Source__Mumbai  Destination__Banglore  Destination__Cochin  \\\n",
       "0               0                      0                    0   \n",
       "1               0                      1                    0   \n",
       "2               0                      0                    1   \n",
       "3               0                      1                    0   \n",
       "4               0                      0                    0   \n",
       "\n",
       "   Destination__Delhi  Destination__Hyderabad  Destination__Kolkata  \\\n",
       "0                   0                       0                     0   \n",
       "1                   0                       0                     0   \n",
       "2                   0                       0                     0   \n",
       "3                   0                       0                     0   \n",
       "4                   0                       0                     0   \n",
       "\n",
       "   Destination__New Delhi  Additional_Info__Airport_Changed  \\\n",
       "0                       1                                 0   \n",
       "1                       0                                 0   \n",
       "2                       0                                 0   \n",
       "3                       0                                 0   \n",
       "4                       1                                 0   \n",
       "\n",
       "   Additional_Info__Business_Class  \\\n",
       "0                                0   \n",
       "1                                0   \n",
       "2                                0   \n",
       "3                                0   \n",
       "4                                0   \n",
       "\n",
       "   Additional_Info__In-flight meal not included  Additional_Info__Layover  \\\n",
       "0                                             0                         0   \n",
       "1                                             0                         0   \n",
       "2                                             0                         0   \n",
       "3                                             0                         0   \n",
       "4                                             0                         0   \n",
       "\n",
       "   Additional_Info__No Info  Additional_Info__No check-in baggage included  \\\n",
       "0                         1                                              0   \n",
       "1                         1                                              0   \n",
       "2                         1                                              0   \n",
       "3                         1                                              0   \n",
       "4                         1                                              0   \n",
       "\n",
       "   Journey_Day  Journey_Month  Date_Lapse  Dayis__Friday  Dayis__Monday  \\\n",
       "0           24              3        23.0              0              0   \n",
       "1            1              5        61.0              0              0   \n",
       "2            9              6       100.0              0              0   \n",
       "3           12              5        72.0              0              0   \n",
       "4            1              3         0.0              1              0   \n",
       "\n",
       "   Dayis__Saturday  Dayis__Sunday  Dayis__Thursday  Dayis__Tuesday  \\\n",
       "0                0              1                0               0   \n",
       "1                0              0                0               0   \n",
       "2                0              1                0               0   \n",
       "3                0              1                0               0   \n",
       "4                0              0                0               0   \n",
       "\n",
       "   Dayis__Wednesday  Month_Start  Duration_Type  Fly_Hours  Arrival_Hours  \\\n",
       "0                 0            0       0.118056   0.930556       0.048611   \n",
       "1                 1            1       0.309028   0.243056       0.552083   \n",
       "2                 0            1       0.791667   0.392361       0.184028   \n",
       "3                 0            0       0.225694   0.753472       0.979167   \n",
       "4                 0            1       0.197917   0.701389       0.899306   \n",
       "\n",
       "   No_of_stops__0  No_of_stops__1  No_of_stops__2  No_of_stops__3  \\\n",
       "0               1               0               0               0   \n",
       "1               0               0               1               0   \n",
       "2               0               0               1               0   \n",
       "3               0               1               0               0   \n",
       "4               0               1               0               0   \n",
       "\n",
       "   No_of_stops__4  \n",
       "0               0  \n",
       "1               0  \n",
       "2               0  \n",
       "3               0  \n",
       "4               0  "
      ]
     },
     "execution_count": 271,
     "metadata": {},
     "output_type": "execute_result"
    }
   ],
   "source": [
    "data_copy.head()"
   ]
  },
  {
   "cell_type": "code",
   "execution_count": 272,
   "metadata": {
    "collapsed": true
   },
   "outputs": [],
   "source": [
    "test_final.drop(['Airline','Date_of_Journey','Source','Destination','Route','Dep_Time','Arrival_Time','Duration',\n",
    "                'Total_Stops','Additional_Info','Journey_day_of_week','Encoded_stops'],axis=1,inplace=True)\n",
    "#                'Total_Stops','Additional_Info','Fly_Hours'],axis=1,inplace=True)"
   ]
  },
  {
   "cell_type": "code",
   "execution_count": 273,
   "metadata": {
    "collapsed": true
   },
   "outputs": [],
   "source": [
    "test_final =  pd.DataFrame(scaler.transform(test_final),columns=test_final.columns)"
   ]
  },
  {
   "cell_type": "code",
   "execution_count": 274,
   "metadata": {
    "scrolled": true
   },
   "outputs": [
    {
     "data": {
      "text/plain": [
       "Index(['Airline__Air Asia', 'Airline__Air India', 'Airline__GoAir',\n",
       "       'Airline__IndiGo', 'Airline__Jet Airways',\n",
       "       'Airline__Jet Airways Business', 'Airline__Multiple carriers',\n",
       "       'Airline__Multiple carriers Premium economy', 'Airline__SpiceJet',\n",
       "       'Airline__Vistara', 'Airline__Vistara Premium economy',\n",
       "       'Source__Banglore', 'Source__Chennai', 'Source__Delhi',\n",
       "       'Source__Kolkata', 'Source__Mumbai', 'Destination__Banglore',\n",
       "       'Destination__Cochin', 'Destination__Delhi', 'Destination__Hyderabad',\n",
       "       'Destination__Kolkata', 'Destination__New Delhi',\n",
       "       'Additional_Info__Airport_Changed', 'Additional_Info__Business_Class',\n",
       "       'Additional_Info__In-flight meal not included',\n",
       "       'Additional_Info__Layover', 'Additional_Info__No Info',\n",
       "       'Additional_Info__No check-in baggage included', 'Journey_Day',\n",
       "       'Journey_Month', 'Date_Lapse', 'Month_Start', 'Duration_Type',\n",
       "       'Fly_Hours', 'Arrival_Hours', 'Dayis__Friday', 'Dayis__Monday',\n",
       "       'Dayis__Saturday', 'Dayis__Sunday', 'Dayis__Thursday', 'Dayis__Tuesday',\n",
       "       'Dayis__Wednesday', 'No_of_stops__0', 'No_of_stops__1',\n",
       "       'No_of_stops__2', 'No_of_stops__3', 'No_of_stops__4'],\n",
       "      dtype='object')"
      ]
     },
     "execution_count": 274,
     "metadata": {},
     "output_type": "execute_result"
    }
   ],
   "source": [
    "test_final.columns"
   ]
  },
  {
   "cell_type": "code",
   "execution_count": 275,
   "metadata": {},
   "outputs": [
    {
     "data": {
      "text/plain": [
       "Index(['Airline__Air Asia', 'Airline__Air India', 'Airline__GoAir',\n",
       "       'Airline__IndiGo', 'Airline__Jet Airways',\n",
       "       'Airline__Jet Airways Business', 'Airline__Multiple carriers',\n",
       "       'Airline__Multiple carriers Premium economy', 'Airline__SpiceJet',\n",
       "       'Airline__Vistara', 'Airline__Vistara Premium economy',\n",
       "       'Source__Banglore', 'Source__Chennai', 'Source__Delhi',\n",
       "       'Source__Kolkata', 'Source__Mumbai', 'Destination__Banglore',\n",
       "       'Destination__Cochin', 'Destination__Delhi', 'Destination__Hyderabad',\n",
       "       'Destination__Kolkata', 'Destination__New Delhi',\n",
       "       'Additional_Info__Airport_Changed', 'Additional_Info__Business_Class',\n",
       "       'Additional_Info__In-flight meal not included',\n",
       "       'Additional_Info__Layover', 'Additional_Info__No Info',\n",
       "       'Additional_Info__No check-in baggage included', 'Journey_Day',\n",
       "       'Journey_Month', 'Date_Lapse', 'Dayis__Friday', 'Dayis__Monday',\n",
       "       'Dayis__Saturday', 'Dayis__Sunday', 'Dayis__Thursday', 'Dayis__Tuesday',\n",
       "       'Dayis__Wednesday', 'Month_Start', 'Duration_Type', 'Fly_Hours',\n",
       "       'Arrival_Hours', 'No_of_stops__0', 'No_of_stops__1', 'No_of_stops__2',\n",
       "       'No_of_stops__3', 'No_of_stops__4'],\n",
       "      dtype='object')"
      ]
     },
     "execution_count": 275,
     "metadata": {},
     "output_type": "execute_result"
    }
   ],
   "source": [
    "train_Feature.columns"
   ]
  },
  {
   "cell_type": "code",
   "execution_count": 276,
   "metadata": {},
   "outputs": [
    {
     "data": {
      "text/plain": [
       "(2671, 47)"
      ]
     },
     "execution_count": 276,
     "metadata": {},
     "output_type": "execute_result"
    }
   ],
   "source": [
    "test_final.shape"
   ]
  },
  {
   "cell_type": "code",
   "execution_count": 277,
   "metadata": {
    "scrolled": true
   },
   "outputs": [
    {
     "data": {
      "text/plain": [
       "(10461, 47)"
      ]
     },
     "execution_count": 277,
     "metadata": {},
     "output_type": "execute_result"
    }
   ],
   "source": [
    "train_Feature.shape"
   ]
  },
  {
   "cell_type": "code",
   "execution_count": 278,
   "metadata": {
    "collapsed": true
   },
   "outputs": [],
   "source": [
    "y_train_log =  y_train.apply(log_transform)"
   ]
  },
  {
   "cell_type": "code",
   "execution_count": 279,
   "metadata": {
    "collapsed": true
   },
   "outputs": [],
   "source": [
    "y_test_log =  y_test.apply(log_transform)"
   ]
  },
  {
   "cell_type": "markdown",
   "metadata": {},
   "source": [
    "## RandomSearch"
   ]
  },
  {
   "cell_type": "code",
   "execution_count": 280,
   "metadata": {
    "collapsed": true,
    "scrolled": true
   },
   "outputs": [],
   "source": [
    "# Number of trees in random forest\n",
    "n_estimators = [int(x) for x in np.linspace(start = 200, stop = 1000, num = 5)]\n",
    "# Number of features to consider at every split\n",
    "max_features = ['auto', 'sqrt']\n",
    "# Maximum number of levels in tree\n",
    "max_depth = [int(x) for x in np.linspace(10, 50, num = 5)]\n",
    "max_depth.append(None)\n",
    "# Minimum number of samples required to split a node\n",
    "min_samples_split = [2, 5, 10]\n",
    "# Minimum number of samples required at each leaf node\n",
    "min_samples_leaf = [1, 2, 4]\n",
    "# Method of selecting samples for training each tree\n",
    "bootstrap = [True, False]"
   ]
  },
  {
   "cell_type": "code",
   "execution_count": 281,
   "metadata": {
    "collapsed": true
   },
   "outputs": [],
   "source": [
    "# Create the random grid\n",
    "random_grid = {'n_estimators': n_estimators,\n",
    "               'max_features': max_features,\n",
    "               'max_depth': max_depth,\n",
    "               'min_samples_split': min_samples_split,\n",
    "               'min_samples_leaf': min_samples_leaf,\n",
    "               'bootstrap': bootstrap}"
   ]
  },
  {
   "cell_type": "code",
   "execution_count": 282,
   "metadata": {
    "collapsed": true
   },
   "outputs": [],
   "source": [
    "rf = RandomForestRegressor()"
   ]
  },
  {
   "cell_type": "code",
   "execution_count": 283,
   "metadata": {
    "collapsed": true
   },
   "outputs": [],
   "source": [
    "rf_random = RandomizedSearchCV(estimator = rf, param_distributions = random_grid, \n",
    "                               n_iter = 100, cv = 3, verbose=2, random_state=42, n_jobs = -1)"
   ]
  },
  {
   "cell_type": "code",
   "execution_count": 284,
   "metadata": {
    "scrolled": true
   },
   "outputs": [
    {
     "name": "stdout",
     "output_type": "stream",
     "text": [
      "Fitting 3 folds for each of 100 candidates, totalling 300 fits\n"
     ]
    },
    {
     "name": "stderr",
     "output_type": "stream",
     "text": [
      "[Parallel(n_jobs=-1)]: Done  37 tasks      | elapsed:  6.3min\n",
      "[Parallel(n_jobs=-1)]: Done 158 tasks      | elapsed: 22.4min\n",
      "[Parallel(n_jobs=-1)]: Done 300 out of 300 | elapsed: 43.7min finished\n"
     ]
    },
    {
     "data": {
      "text/plain": [
       "RandomizedSearchCV(cv=3, error_score='raise',\n",
       "          estimator=RandomForestRegressor(bootstrap=True, criterion='mse', max_depth=None,\n",
       "           max_features='auto', max_leaf_nodes=None,\n",
       "           min_impurity_decrease=0.0, min_impurity_split=None,\n",
       "           min_samples_leaf=1, min_samples_split=2,\n",
       "           min_weight_fraction_leaf=0.0, n_estimators=10, n_jobs=1,\n",
       "           oob_score=False, random_state=None, verbose=0, warm_start=False),\n",
       "          fit_params=None, iid=True, n_iter=100, n_jobs=-1,\n",
       "          param_distributions={'min_samples_leaf': [1, 2, 4], 'max_depth': [10, 20, 30, 40, 50, None], 'n_estimators': [200, 400, 600, 800, 1000], 'bootstrap': [True, False], 'max_features': ['auto', 'sqrt'], 'min_samples_split': [2, 5, 10]},\n",
       "          pre_dispatch='2*n_jobs', random_state=42, refit=True,\n",
       "          return_train_score=True, scoring=None, verbose=2)"
      ]
     },
     "execution_count": 284,
     "metadata": {},
     "output_type": "execute_result"
    }
   ],
   "source": [
    "rf_random.fit(X_train, y_train_log)"
   ]
  },
  {
   "cell_type": "code",
   "execution_count": 285,
   "metadata": {
    "scrolled": false
   },
   "outputs": [
    {
     "data": {
      "text/plain": [
       "{'bootstrap': True,\n",
       " 'max_depth': None,\n",
       " 'max_features': 'auto',\n",
       " 'min_samples_leaf': 1,\n",
       " 'min_samples_split': 2,\n",
       " 'n_estimators': 800}"
      ]
     },
     "execution_count": 285,
     "metadata": {},
     "output_type": "execute_result"
    }
   ],
   "source": [
    "rf_random.best_params_"
   ]
  },
  {
   "cell_type": "code",
   "execution_count": 286,
   "metadata": {},
   "outputs": [
    {
     "data": {
      "text/plain": [
       "0.12686510836665554"
      ]
     },
     "execution_count": 286,
     "metadata": {},
     "output_type": "execute_result"
    }
   ],
   "source": [
    "np.sqrt(mean_squared_log_error(y_test,((10**rf_random.predict(X_test)))))"
   ]
  },
  {
   "cell_type": "code",
   "execution_count": 287,
   "metadata": {},
   "outputs": [
    {
     "data": {
      "text/plain": [
       "0.05320737206746657"
      ]
     },
     "execution_count": 287,
     "metadata": {},
     "output_type": "execute_result"
    }
   ],
   "source": [
    "np.sqrt(mean_squared_log_error(y_train,10**rf_random.predict(X_train)))"
   ]
  },
  {
   "cell_type": "code",
   "execution_count": 288,
   "metadata": {
    "collapsed": true
   },
   "outputs": [],
   "source": [
    "test_pred = 10**rf_random.predict(test_final)"
   ]
  },
  {
   "cell_type": "code",
   "execution_count": 289,
   "metadata": {
    "collapsed": true
   },
   "outputs": [],
   "source": [
    "test_pred = pd.DataFrame(test_pred,columns=['Price'])"
   ]
  },
  {
   "cell_type": "code",
   "execution_count": 290,
   "metadata": {
    "collapsed": true
   },
   "outputs": [],
   "source": [
    "test_pred.to_excel(\"C:/Users/LENOVO/Desktop/RF_Random_v2.xlsx\",index=False)"
   ]
  },
  {
   "cell_type": "code",
   "execution_count": 291,
   "metadata": {
    "scrolled": true
   },
   "outputs": [
    {
     "data": {
      "text/html": [
       "<div>\n",
       "<style>\n",
       "    .dataframe thead tr:only-child th {\n",
       "        text-align: right;\n",
       "    }\n",
       "\n",
       "    .dataframe thead th {\n",
       "        text-align: left;\n",
       "    }\n",
       "\n",
       "    .dataframe tbody tr th {\n",
       "        vertical-align: top;\n",
       "    }\n",
       "</style>\n",
       "<table border=\"1\" class=\"dataframe\">\n",
       "  <thead>\n",
       "    <tr style=\"text-align: right;\">\n",
       "      <th></th>\n",
       "      <th>Airline__Air Asia</th>\n",
       "      <th>Airline__Air India</th>\n",
       "      <th>Airline__GoAir</th>\n",
       "      <th>Airline__IndiGo</th>\n",
       "      <th>Airline__Jet Airways</th>\n",
       "      <th>Airline__Jet Airways Business</th>\n",
       "      <th>Airline__Multiple carriers</th>\n",
       "      <th>Airline__Multiple carriers Premium economy</th>\n",
       "      <th>Airline__SpiceJet</th>\n",
       "      <th>Airline__Vistara</th>\n",
       "      <th>Airline__Vistara Premium economy</th>\n",
       "      <th>Source__Banglore</th>\n",
       "      <th>Source__Chennai</th>\n",
       "      <th>Source__Delhi</th>\n",
       "      <th>Source__Kolkata</th>\n",
       "      <th>Source__Mumbai</th>\n",
       "      <th>Destination__Banglore</th>\n",
       "      <th>Destination__Cochin</th>\n",
       "      <th>Destination__Delhi</th>\n",
       "      <th>Destination__Hyderabad</th>\n",
       "      <th>Destination__Kolkata</th>\n",
       "      <th>Destination__New Delhi</th>\n",
       "      <th>Additional_Info__Airport_Changed</th>\n",
       "      <th>Additional_Info__Business_Class</th>\n",
       "      <th>Additional_Info__In-flight meal not included</th>\n",
       "      <th>Additional_Info__Layover</th>\n",
       "      <th>Additional_Info__No Info</th>\n",
       "      <th>Additional_Info__No check-in baggage included</th>\n",
       "      <th>Journey_Day</th>\n",
       "      <th>Journey_Month</th>\n",
       "      <th>Date_Lapse</th>\n",
       "      <th>Month_Start</th>\n",
       "      <th>Duration_Type</th>\n",
       "      <th>Fly_Hours</th>\n",
       "      <th>Arrival_Hours</th>\n",
       "      <th>Dayis__Friday</th>\n",
       "      <th>Dayis__Monday</th>\n",
       "      <th>Dayis__Saturday</th>\n",
       "      <th>Dayis__Sunday</th>\n",
       "      <th>Dayis__Thursday</th>\n",
       "      <th>Dayis__Tuesday</th>\n",
       "      <th>Dayis__Wednesday</th>\n",
       "      <th>No_of_stops__0</th>\n",
       "      <th>No_of_stops__1</th>\n",
       "      <th>No_of_stops__2</th>\n",
       "      <th>No_of_stops__3</th>\n",
       "      <th>No_of_stops__4</th>\n",
       "    </tr>\n",
       "  </thead>\n",
       "  <tbody>\n",
       "    <tr>\n",
       "      <th>0</th>\n",
       "      <td>0</td>\n",
       "      <td>0</td>\n",
       "      <td>0</td>\n",
       "      <td>0</td>\n",
       "      <td>1</td>\n",
       "      <td>0</td>\n",
       "      <td>0</td>\n",
       "      <td>0</td>\n",
       "      <td>0</td>\n",
       "      <td>0</td>\n",
       "      <td>0</td>\n",
       "      <td>0</td>\n",
       "      <td>0</td>\n",
       "      <td>1</td>\n",
       "      <td>0</td>\n",
       "      <td>0</td>\n",
       "      <td>0</td>\n",
       "      <td>1</td>\n",
       "      <td>0</td>\n",
       "      <td>0</td>\n",
       "      <td>0</td>\n",
       "      <td>0</td>\n",
       "      <td>0</td>\n",
       "      <td>0</td>\n",
       "      <td>0</td>\n",
       "      <td>0</td>\n",
       "      <td>1</td>\n",
       "      <td>0</td>\n",
       "      <td>6</td>\n",
       "      <td>6</td>\n",
       "      <td>97.0</td>\n",
       "      <td>1</td>\n",
       "      <td>0.454861</td>\n",
       "      <td>0.729167</td>\n",
       "      <td>0.184028</td>\n",
       "      <td>0</td>\n",
       "      <td>0</td>\n",
       "      <td>0</td>\n",
       "      <td>0</td>\n",
       "      <td>1</td>\n",
       "      <td>0</td>\n",
       "      <td>0</td>\n",
       "      <td>0</td>\n",
       "      <td>1</td>\n",
       "      <td>0</td>\n",
       "      <td>0</td>\n",
       "      <td>0</td>\n",
       "    </tr>\n",
       "    <tr>\n",
       "      <th>1</th>\n",
       "      <td>0</td>\n",
       "      <td>0</td>\n",
       "      <td>0</td>\n",
       "      <td>1</td>\n",
       "      <td>0</td>\n",
       "      <td>0</td>\n",
       "      <td>0</td>\n",
       "      <td>0</td>\n",
       "      <td>0</td>\n",
       "      <td>0</td>\n",
       "      <td>0</td>\n",
       "      <td>0</td>\n",
       "      <td>0</td>\n",
       "      <td>0</td>\n",
       "      <td>1</td>\n",
       "      <td>0</td>\n",
       "      <td>1</td>\n",
       "      <td>0</td>\n",
       "      <td>0</td>\n",
       "      <td>0</td>\n",
       "      <td>0</td>\n",
       "      <td>0</td>\n",
       "      <td>0</td>\n",
       "      <td>0</td>\n",
       "      <td>0</td>\n",
       "      <td>0</td>\n",
       "      <td>1</td>\n",
       "      <td>0</td>\n",
       "      <td>12</td>\n",
       "      <td>5</td>\n",
       "      <td>72.0</td>\n",
       "      <td>0</td>\n",
       "      <td>0.166667</td>\n",
       "      <td>0.263889</td>\n",
       "      <td>0.430556</td>\n",
       "      <td>0</td>\n",
       "      <td>0</td>\n",
       "      <td>0</td>\n",
       "      <td>1</td>\n",
       "      <td>0</td>\n",
       "      <td>0</td>\n",
       "      <td>0</td>\n",
       "      <td>0</td>\n",
       "      <td>1</td>\n",
       "      <td>0</td>\n",
       "      <td>0</td>\n",
       "      <td>0</td>\n",
       "    </tr>\n",
       "    <tr>\n",
       "      <th>2</th>\n",
       "      <td>0</td>\n",
       "      <td>0</td>\n",
       "      <td>0</td>\n",
       "      <td>0</td>\n",
       "      <td>1</td>\n",
       "      <td>0</td>\n",
       "      <td>0</td>\n",
       "      <td>0</td>\n",
       "      <td>0</td>\n",
       "      <td>0</td>\n",
       "      <td>0</td>\n",
       "      <td>0</td>\n",
       "      <td>0</td>\n",
       "      <td>1</td>\n",
       "      <td>0</td>\n",
       "      <td>0</td>\n",
       "      <td>0</td>\n",
       "      <td>1</td>\n",
       "      <td>0</td>\n",
       "      <td>0</td>\n",
       "      <td>0</td>\n",
       "      <td>0</td>\n",
       "      <td>0</td>\n",
       "      <td>0</td>\n",
       "      <td>1</td>\n",
       "      <td>0</td>\n",
       "      <td>0</td>\n",
       "      <td>0</td>\n",
       "      <td>21</td>\n",
       "      <td>5</td>\n",
       "      <td>81.0</td>\n",
       "      <td>0</td>\n",
       "      <td>0.989583</td>\n",
       "      <td>0.802083</td>\n",
       "      <td>0.791667</td>\n",
       "      <td>0</td>\n",
       "      <td>0</td>\n",
       "      <td>0</td>\n",
       "      <td>0</td>\n",
       "      <td>0</td>\n",
       "      <td>1</td>\n",
       "      <td>0</td>\n",
       "      <td>0</td>\n",
       "      <td>1</td>\n",
       "      <td>0</td>\n",
       "      <td>0</td>\n",
       "      <td>0</td>\n",
       "    </tr>\n",
       "    <tr>\n",
       "      <th>3</th>\n",
       "      <td>0</td>\n",
       "      <td>0</td>\n",
       "      <td>0</td>\n",
       "      <td>0</td>\n",
       "      <td>0</td>\n",
       "      <td>0</td>\n",
       "      <td>1</td>\n",
       "      <td>0</td>\n",
       "      <td>0</td>\n",
       "      <td>0</td>\n",
       "      <td>0</td>\n",
       "      <td>0</td>\n",
       "      <td>0</td>\n",
       "      <td>1</td>\n",
       "      <td>0</td>\n",
       "      <td>0</td>\n",
       "      <td>0</td>\n",
       "      <td>1</td>\n",
       "      <td>0</td>\n",
       "      <td>0</td>\n",
       "      <td>0</td>\n",
       "      <td>0</td>\n",
       "      <td>0</td>\n",
       "      <td>0</td>\n",
       "      <td>0</td>\n",
       "      <td>0</td>\n",
       "      <td>1</td>\n",
       "      <td>0</td>\n",
       "      <td>21</td>\n",
       "      <td>5</td>\n",
       "      <td>81.0</td>\n",
       "      <td>0</td>\n",
       "      <td>0.541667</td>\n",
       "      <td>0.333333</td>\n",
       "      <td>0.875000</td>\n",
       "      <td>0</td>\n",
       "      <td>0</td>\n",
       "      <td>0</td>\n",
       "      <td>0</td>\n",
       "      <td>0</td>\n",
       "      <td>1</td>\n",
       "      <td>0</td>\n",
       "      <td>0</td>\n",
       "      <td>1</td>\n",
       "      <td>0</td>\n",
       "      <td>0</td>\n",
       "      <td>0</td>\n",
       "    </tr>\n",
       "    <tr>\n",
       "      <th>4</th>\n",
       "      <td>1</td>\n",
       "      <td>0</td>\n",
       "      <td>0</td>\n",
       "      <td>0</td>\n",
       "      <td>0</td>\n",
       "      <td>0</td>\n",
       "      <td>0</td>\n",
       "      <td>0</td>\n",
       "      <td>0</td>\n",
       "      <td>0</td>\n",
       "      <td>0</td>\n",
       "      <td>1</td>\n",
       "      <td>0</td>\n",
       "      <td>0</td>\n",
       "      <td>0</td>\n",
       "      <td>0</td>\n",
       "      <td>0</td>\n",
       "      <td>0</td>\n",
       "      <td>1</td>\n",
       "      <td>0</td>\n",
       "      <td>0</td>\n",
       "      <td>0</td>\n",
       "      <td>0</td>\n",
       "      <td>0</td>\n",
       "      <td>0</td>\n",
       "      <td>0</td>\n",
       "      <td>1</td>\n",
       "      <td>0</td>\n",
       "      <td>24</td>\n",
       "      <td>6</td>\n",
       "      <td>115.0</td>\n",
       "      <td>0</td>\n",
       "      <td>0.118056</td>\n",
       "      <td>0.996528</td>\n",
       "      <td>0.114583</td>\n",
       "      <td>0</td>\n",
       "      <td>1</td>\n",
       "      <td>0</td>\n",
       "      <td>0</td>\n",
       "      <td>0</td>\n",
       "      <td>0</td>\n",
       "      <td>0</td>\n",
       "      <td>1</td>\n",
       "      <td>0</td>\n",
       "      <td>0</td>\n",
       "      <td>0</td>\n",
       "      <td>0</td>\n",
       "    </tr>\n",
       "  </tbody>\n",
       "</table>\n",
       "</div>"
      ],
      "text/plain": [
       "   Airline__Air Asia  Airline__Air India  Airline__GoAir  Airline__IndiGo  \\\n",
       "0                  0                   0               0                0   \n",
       "1                  0                   0               0                1   \n",
       "2                  0                   0               0                0   \n",
       "3                  0                   0               0                0   \n",
       "4                  1                   0               0                0   \n",
       "\n",
       "   Airline__Jet Airways  Airline__Jet Airways Business  \\\n",
       "0                     1                              0   \n",
       "1                     0                              0   \n",
       "2                     1                              0   \n",
       "3                     0                              0   \n",
       "4                     0                              0   \n",
       "\n",
       "   Airline__Multiple carriers  Airline__Multiple carriers Premium economy  \\\n",
       "0                           0                                           0   \n",
       "1                           0                                           0   \n",
       "2                           0                                           0   \n",
       "3                           1                                           0   \n",
       "4                           0                                           0   \n",
       "\n",
       "   Airline__SpiceJet  Airline__Vistara  Airline__Vistara Premium economy  \\\n",
       "0                  0                 0                                 0   \n",
       "1                  0                 0                                 0   \n",
       "2                  0                 0                                 0   \n",
       "3                  0                 0                                 0   \n",
       "4                  0                 0                                 0   \n",
       "\n",
       "   Source__Banglore  Source__Chennai  Source__Delhi  Source__Kolkata  \\\n",
       "0                 0                0              1                0   \n",
       "1                 0                0              0                1   \n",
       "2                 0                0              1                0   \n",
       "3                 0                0              1                0   \n",
       "4                 1                0              0                0   \n",
       "\n",
       "   Source__Mumbai  Destination__Banglore  Destination__Cochin  \\\n",
       "0               0                      0                    1   \n",
       "1               0                      1                    0   \n",
       "2               0                      0                    1   \n",
       "3               0                      0                    1   \n",
       "4               0                      0                    0   \n",
       "\n",
       "   Destination__Delhi  Destination__Hyderabad  Destination__Kolkata  \\\n",
       "0                   0                       0                     0   \n",
       "1                   0                       0                     0   \n",
       "2                   0                       0                     0   \n",
       "3                   0                       0                     0   \n",
       "4                   1                       0                     0   \n",
       "\n",
       "   Destination__New Delhi  Additional_Info__Airport_Changed  \\\n",
       "0                       0                                 0   \n",
       "1                       0                                 0   \n",
       "2                       0                                 0   \n",
       "3                       0                                 0   \n",
       "4                       0                                 0   \n",
       "\n",
       "   Additional_Info__Business_Class  \\\n",
       "0                                0   \n",
       "1                                0   \n",
       "2                                0   \n",
       "3                                0   \n",
       "4                                0   \n",
       "\n",
       "   Additional_Info__In-flight meal not included  Additional_Info__Layover  \\\n",
       "0                                             0                         0   \n",
       "1                                             0                         0   \n",
       "2                                             1                         0   \n",
       "3                                             0                         0   \n",
       "4                                             0                         0   \n",
       "\n",
       "   Additional_Info__No Info  Additional_Info__No check-in baggage included  \\\n",
       "0                         1                                              0   \n",
       "1                         1                                              0   \n",
       "2                         0                                              0   \n",
       "3                         1                                              0   \n",
       "4                         1                                              0   \n",
       "\n",
       "   Journey_Day  Journey_Month  Date_Lapse  Month_Start  Duration_Type  \\\n",
       "0            6              6        97.0            1       0.454861   \n",
       "1           12              5        72.0            0       0.166667   \n",
       "2           21              5        81.0            0       0.989583   \n",
       "3           21              5        81.0            0       0.541667   \n",
       "4           24              6       115.0            0       0.118056   \n",
       "\n",
       "   Fly_Hours  Arrival_Hours  Dayis__Friday  Dayis__Monday  Dayis__Saturday  \\\n",
       "0   0.729167       0.184028              0              0                0   \n",
       "1   0.263889       0.430556              0              0                0   \n",
       "2   0.802083       0.791667              0              0                0   \n",
       "3   0.333333       0.875000              0              0                0   \n",
       "4   0.996528       0.114583              0              1                0   \n",
       "\n",
       "   Dayis__Sunday  Dayis__Thursday  Dayis__Tuesday  Dayis__Wednesday  \\\n",
       "0              0                1               0                 0   \n",
       "1              1                0               0                 0   \n",
       "2              0                0               1                 0   \n",
       "3              0                0               1                 0   \n",
       "4              0                0               0                 0   \n",
       "\n",
       "   No_of_stops__0  No_of_stops__1  No_of_stops__2  No_of_stops__3  \\\n",
       "0               0               1               0               0   \n",
       "1               0               1               0               0   \n",
       "2               0               1               0               0   \n",
       "3               0               1               0               0   \n",
       "4               1               0               0               0   \n",
       "\n",
       "   No_of_stops__4  \n",
       "0               0  \n",
       "1               0  \n",
       "2               0  \n",
       "3               0  \n",
       "4               0  "
      ]
     },
     "execution_count": 291,
     "metadata": {},
     "output_type": "execute_result"
    }
   ],
   "source": [
    "test_copy.head()"
   ]
  },
  {
   "cell_type": "markdown",
   "metadata": {},
   "source": [
    "## Grid Search"
   ]
  },
  {
   "cell_type": "code",
   "execution_count": 292,
   "metadata": {
    "collapsed": true
   },
   "outputs": [],
   "source": [
    "param_grid = {\n",
    "    'bootstrap': [True],\n",
    "    'max_depth': [60,70,80,90,100],\n",
    "    'max_features': [2,3],\n",
    "    'min_samples_leaf': [5,6],\n",
    "    'min_samples_split': [10,12],\n",
    "    'n_estimators': [600,800,1000,1200,1400]\n",
    "}"
   ]
  },
  {
   "cell_type": "code",
   "execution_count": 293,
   "metadata": {
    "collapsed": true
   },
   "outputs": [],
   "source": [
    "rf = RandomForestRegressor()"
   ]
  },
  {
   "cell_type": "code",
   "execution_count": null,
   "metadata": {
    "collapsed": true
   },
   "outputs": [],
   "source": [
    "grid_search = GridSearchCV(estimator = rf, param_grid = param_grid, \n",
    "                          cv = 3, n_jobs = -1, verbose = 2)"
   ]
  },
  {
   "cell_type": "code",
   "execution_count": null,
   "metadata": {
    "scrolled": true
   },
   "outputs": [
    {
     "name": "stdout",
     "output_type": "stream",
     "text": [
      "Fitting 3 folds for each of 200 candidates, totalling 600 fits\n"
     ]
    },
    {
     "name": "stderr",
     "output_type": "stream",
     "text": [
      "[Parallel(n_jobs=-1)]: Done  37 tasks      | elapsed:  2.5min\n",
      "[Parallel(n_jobs=-1)]: Done 158 tasks      | elapsed: 10.6min\n",
      "[Parallel(n_jobs=-1)]: Done 361 tasks      | elapsed: 23.5min\n"
     ]
    }
   ],
   "source": [
    "grid_search.fit(X_train, y_train_log)"
   ]
  },
  {
   "cell_type": "code",
   "execution_count": null,
   "metadata": {
    "collapsed": true,
    "scrolled": true
   },
   "outputs": [],
   "source": [
    "grid_search.best_params_"
   ]
  },
  {
   "cell_type": "code",
   "execution_count": null,
   "metadata": {
    "collapsed": true
   },
   "outputs": [],
   "source": [
    "y_pred_test = grid_search.predict(X_test)"
   ]
  },
  {
   "cell_type": "code",
   "execution_count": null,
   "metadata": {
    "collapsed": true
   },
   "outputs": [],
   "source": [
    "y_pred_train = grid_search.predict(X_train)"
   ]
  },
  {
   "cell_type": "code",
   "execution_count": null,
   "metadata": {
    "collapsed": true
   },
   "outputs": [],
   "source": [
    "np.sqrt(mean_squared_log_error(y_test,10**grid_search.predict(X_test)))"
   ]
  },
  {
   "cell_type": "code",
   "execution_count": null,
   "metadata": {
    "collapsed": true
   },
   "outputs": [],
   "source": [
    "np.sqrt(mean_squared_log_error(y_train,10**grid_search.predict(X_train)))"
   ]
  },
  {
   "cell_type": "code",
   "execution_count": null,
   "metadata": {
    "collapsed": true
   },
   "outputs": [],
   "source": [
    "test_pred = 10**grid_search.predict(test_final)"
   ]
  },
  {
   "cell_type": "code",
   "execution_count": null,
   "metadata": {
    "collapsed": true
   },
   "outputs": [],
   "source": [
    "test_pred = pd.DataFrame(test_pred,columns=['Price'])"
   ]
  },
  {
   "cell_type": "code",
   "execution_count": null,
   "metadata": {
    "collapsed": true
   },
   "outputs": [],
   "source": [
    "test_pred.to_excel(\"C:/Users/LENOVO/Desktop/RF_Grid_v1.xlsx\",index=False)"
   ]
  },
  {
   "cell_type": "code",
   "execution_count": null,
   "metadata": {
    "collapsed": true
   },
   "outputs": [],
   "source": [
    "for i in zip(X_train.columns,grid_search.best_estimator_.feature_importances_):\n",
    "    print (i)"
   ]
  }
 ],
 "metadata": {
  "kernelspec": {
   "display_name": "Python 3",
   "language": "python",
   "name": "python3"
  },
  "language_info": {
   "codemirror_mode": {
    "name": "ipython",
    "version": 3
   },
   "file_extension": ".py",
   "mimetype": "text/x-python",
   "name": "python",
   "nbconvert_exporter": "python",
   "pygments_lexer": "ipython3",
   "version": "3.5.4"
  }
 },
 "nbformat": 4,
 "nbformat_minor": 2
}
