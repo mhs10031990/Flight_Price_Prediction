{
 "cells": [
  {
   "cell_type": "code",
   "execution_count": 207,
   "metadata": {
    "collapsed": true
   },
   "outputs": [],
   "source": [
    "import pandas as pd\n",
    "import numpy as np\n",
    "from sklearn.model_selection import train_test_split\n",
    "from sklearn.ensemble import RandomForestRegressor\n",
    "from sklearn.linear_model import LinearRegression\n",
    "from sklearn.metrics import mean_squared_log_error\n",
    "import pandas_profiling as pp\n",
    "from sklearn.linear_model import Lasso, Ridge\n",
    "from sklearn.ensemble import RandomForestRegressor\n",
    "from sklearn.model_selection import RandomizedSearchCV,GridSearchCV\n",
    "import xgboost\n",
    "from sklearn.preprocessing import MinMaxScaler, StandardScaler"
   ]
  },
  {
   "cell_type": "code",
   "execution_count": 208,
   "metadata": {
    "collapsed": true
   },
   "outputs": [],
   "source": [
    "pd.set_option('display.max_columns', 1000)"
   ]
  },
  {
   "cell_type": "code",
   "execution_count": 209,
   "metadata": {
    "collapsed": true
   },
   "outputs": [],
   "source": [
    "def onehotencode(data,col_name,prefix):\n",
    "    return pd.concat([data, pd.get_dummies(data[col_name], prefix=prefix)],axis=1)"
   ]
  },
  {
   "cell_type": "code",
   "execution_count": 210,
   "metadata": {
    "collapsed": true
   },
   "outputs": [],
   "source": [
    "def encode_total_stops(data):\n",
    "    data['Encoded_stops'] = 0\n",
    "    for i in range(0,len(data['Total_Stops'])):\n",
    "        if data.loc[i, 'Total_Stops'] == '1 stop':\n",
    "            data.loc[i,'Encoded_stops'] = 1\n",
    "        elif data.loc[i, 'Total_Stops'] == '2 stops':\n",
    "            data.loc[i,'Encoded_stops'] = 2\n",
    "        elif data.loc[i, 'Total_Stops'] == '3 stops' or data.loc[i, 'Total_Stops'] == '':\n",
    "            data.loc[i,'Encoded_stops'] = 3\n",
    "        elif data.loc[i, 'Total_Stops'] == '4 stops':\n",
    "            data.loc[i,'Encoded_stops'] = 4\n",
    "        elif data.loc[i, 'Total_Stops'] == 'non-stop':\n",
    "            data.loc[i,'Encoded_stops'] = 0\n",
    "\n",
    "    return data"
   ]
  },
  {
   "cell_type": "code",
   "execution_count": 211,
   "metadata": {
    "collapsed": true
   },
   "outputs": [],
   "source": [
    "def extract_journey_data(data):\n",
    "    data['Journey_Day'] = pd.DataFrame(pd.to_datetime(data['Date_of_Journey'], format='%d/%m/%Y').dt.day)\n",
    "    data['Journey_Month'] = pd.DataFrame(pd.to_datetime(data['Date_of_Journey'], format='%d/%m/%Y').dt.month)\n",
    "    data['Journey_day_of_week'] =  pd.DataFrame(((pd.to_datetime(data['Date_of_Journey'], format='%d/%m/%Y').dt.dayofweek)).astype('int'))\n",
    "    data['Journey_over_weekend'] =  pd.DataFrame(((pd.to_datetime(data['Date_of_Journey'], format='%d/%m/%Y').dt.dayofweek) // 5).astype('int'))\n",
    "\n",
    "    \n",
    "    return data"
   ]
  },
  {
   "cell_type": "code",
   "execution_count": 212,
   "metadata": {
    "collapsed": true
   },
   "outputs": [],
   "source": [
    "def encode_duration(data):\n",
    "    data['Duration_Type'] = 0\n",
    "    for i in range(0, len(data)):\n",
    "    \n",
    "        split_len = data.loc[i,'Duration'].split(' ')\n",
    "        if len(split_len) == 1:\n",
    "            if str(data.loc[i,'Duration']).find('h') != -1:\n",
    "#                print (\"hours: \",data.loc[i,'Duration'])\n",
    "                hours = int(split_len[0].replace('h',\"\"))\n",
    "                mins = 0\n",
    "            else:\n",
    "                hours = 4 \n",
    "#                print (\"mins: \",data.loc[i,'Duration']\n",
    "                mins = int(split_len[0].replace('m',\"\"))\n",
    "        else:\n",
    "            \n",
    "            hours = int(split_len[0].replace('h',\"\"))\n",
    "            mins  = int(split_len[1].replace('m',\"\"))\n",
    "        \n",
    "        data.loc[i,'Duration_Type'] = (hours*60 + mins)\n",
    "        \n",
    "    return data"
   ]
  },
  {
   "cell_type": "code",
   "execution_count": 213,
   "metadata": {},
   "outputs": [
    {
     "data": {
      "text/plain": [
       "\"\\ndef encode_duration(data):\\n    data_copy['Duration_Type'] = 0\\n    for i in range(0, len(data)):\\n    \\n        try:\\n            val = int(str(data.loc[i,'Duration'].split('h')[0]))\\n        except:\\n            # this is for AirIndia for with flight duration as '5m', changing the duration\\n            #based on same row for AirIndia for same destination at same time with same stop overs.\\n            val = 4\\n            \\n       \\n        if val < 3:\\n            data.loc[i,'Duration_Type'] = 0.0\\n        elif val < 6:\\n            data.loc[i,'Duration_Type'] = 0.1\\n        elif val < 12:\\n            data.loc[i,'Duration_Type'] = 0.2\\n        else:\\n            data.loc[i,'Duration_Type'] = 0.3\\n        \\n    return data\\n\""
      ]
     },
     "execution_count": 213,
     "metadata": {},
     "output_type": "execute_result"
    }
   ],
   "source": [
    "'''\n",
    "def encode_duration(data):\n",
    "    data_copy['Duration_Type'] = 0\n",
    "    for i in range(0, len(data)):\n",
    "    \n",
    "        try:\n",
    "            val = int(str(data.loc[i,'Duration'].split('h')[0]))\n",
    "        except:\n",
    "            # this is for AirIndia for with flight duration as '5m', changing the duration\n",
    "            #based on same row for AirIndia for same destination at same time with same stop overs.\n",
    "            val = 4\n",
    "            \n",
    "       \n",
    "        if val < 3:\n",
    "            data.loc[i,'Duration_Type'] = 0.0\n",
    "        elif val < 6:\n",
    "            data.loc[i,'Duration_Type'] = 0.1\n",
    "        elif val < 12:\n",
    "            data.loc[i,'Duration_Type'] = 0.2\n",
    "        else:\n",
    "            data.loc[i,'Duration_Type'] = 0.3\n",
    "        \n",
    "    return data\n",
    "'''"
   ]
  },
  {
   "cell_type": "code",
   "execution_count": 214,
   "metadata": {
    "scrolled": true
   },
   "outputs": [
    {
     "data": {
      "text/plain": [
       "'\\ndef flight_hours(data):\\n    data[\\'Fly_Hours\\'] = 0\\n    \\n    data_Dep_Time = data[\\'Dep_Time\\'].str.split(\":\",n=1,expand=True).astype(\\'int64\\')\\n    data_Dep_Time.columns = [\\'Hours\\',\\'Mins\\']\\n    for i in range(0,len(data)):\\n        \\n        val = data_Dep_Time.loc[i, \\'Hours\\']\\n        \\n        if val == 0:\\n            data.loc[i,\\'Fly_Hours\\'] = \\'Midnight\\'\\n        elif val >= 1 and val < 4:\\n            data.loc[i,\\'Fly_Hours\\'] = \\'Early_Morning\\'\\n        elif val >= 4 and val < 6:\\n            data.loc[i,\\'Fly_Hours\\'] = \\'Dawn\\'\\n        elif val >= 6 and val < 9:\\n            data.loc[i,\\'Fly_Hours\\'] = \\'Morning\\'\\n        elif val >= 9 and val < 12:\\n            data.loc[i,\\'Fly_Hours\\'] = \\'Mid_Morning\\'\\n        elif val >= 12 and val < 13:\\n            data.loc[i,\\'Fly_Hours\\'] = \\'Noon\\'\\n        elif val >= 13 and val < 16:\\n            data.loc[i,\\'Fly_Hours\\'] = \\'After_Noon\\'\\n        elif val >= 16 and val < 21:\\n            data.loc[i,\\'Fly_Hours\\'] = \\'Evening\\'\\n        elif val >= 21 and val <= 23:\\n            data.loc[i,\\'Fly_Hours\\'] = \\'Night\\'\\n            \\n    return data\\n'"
      ]
     },
     "execution_count": 214,
     "metadata": {},
     "output_type": "execute_result"
    }
   ],
   "source": [
    "'''\n",
    "def flight_hours(data):\n",
    "    data['Fly_Hours'] = 0\n",
    "    \n",
    "    data_Dep_Time = data['Dep_Time'].str.split(\":\",n=1,expand=True).astype('int64')\n",
    "    data_Dep_Time.columns = ['Hours','Mins']\n",
    "    for i in range(0,len(data)):\n",
    "        \n",
    "        val = data_Dep_Time.loc[i, 'Hours']\n",
    "        \n",
    "        if val == 0:\n",
    "            data.loc[i,'Fly_Hours'] = 'Midnight'\n",
    "        elif val >= 1 and val < 4:\n",
    "            data.loc[i,'Fly_Hours'] = 'Early_Morning'\n",
    "        elif val >= 4 and val < 6:\n",
    "            data.loc[i,'Fly_Hours'] = 'Dawn'\n",
    "        elif val >= 6 and val < 9:\n",
    "            data.loc[i,'Fly_Hours'] = 'Morning'\n",
    "        elif val >= 9 and val < 12:\n",
    "            data.loc[i,'Fly_Hours'] = 'Mid_Morning'\n",
    "        elif val >= 12 and val < 13:\n",
    "            data.loc[i,'Fly_Hours'] = 'Noon'\n",
    "        elif val >= 13 and val < 16:\n",
    "            data.loc[i,'Fly_Hours'] = 'After_Noon'\n",
    "        elif val >= 16 and val < 21:\n",
    "            data.loc[i,'Fly_Hours'] = 'Evening'\n",
    "        elif val >= 21 and val <= 23:\n",
    "            data.loc[i,'Fly_Hours'] = 'Night'\n",
    "            \n",
    "    return data\n",
    "'''"
   ]
  },
  {
   "cell_type": "code",
   "execution_count": 215,
   "metadata": {
    "collapsed": true
   },
   "outputs": [],
   "source": [
    "def flight_hours(data):\n",
    "    data['Fly_Hours'] = 0\n",
    "    \n",
    "    data_Dep_Time = data['Dep_Time'].str.split(\":\",n=1,expand=True).astype('int64')\n",
    "    data_Dep_Time.columns = ['Hours','Mins']\n",
    "    for i in range(0,len(data)):\n",
    "        \n",
    "        hr = data_Dep_Time.loc[i, 'Hours']\n",
    "        min = data_Dep_Time.loc[i, 'Mins']\n",
    "        data.loc[i,'Fly_Hours'] = (hr*60 + (min))\n",
    "            \n",
    "    return data"
   ]
  },
  {
   "cell_type": "code",
   "execution_count": 216,
   "metadata": {
    "collapsed": true
   },
   "outputs": [],
   "source": [
    "def arrival_hours(data):\n",
    "    data['Arrival_Hours'] = 0\n",
    "    for i in range(0,len(data)):\n",
    "      \n",
    "        data_Arr_Time = data.loc[i,'Arrival_Time'].split(\" \")[0]\n",
    "        data_Dep_Time = data_Arr_Time.split(\":\")\n",
    "        \n",
    "        hr = int(data_Dep_Time[0])\n",
    "        min = int(data_Dep_Time[1])\n",
    "        data.loc[i,'Arrival_Hours'] = (hr*60 + (min))\n",
    "            \n",
    "    return data"
   ]
  },
  {
   "cell_type": "code",
   "execution_count": 217,
   "metadata": {
    "collapsed": true
   },
   "outputs": [],
   "source": [
    "def log_transform(data):\n",
    "    return np.log10(data)"
   ]
  },
  {
   "cell_type": "markdown",
   "metadata": {},
   "source": [
    "# Data cleaning and Modeling starts here"
   ]
  },
  {
   "cell_type": "code",
   "execution_count": 218,
   "metadata": {
    "collapsed": true
   },
   "outputs": [],
   "source": [
    "data = pd.read_excel('C:\\\\Users\\\\LENOVO\\\\Desktop\\\\Flight_Ticket_Participant_Datasets\\\\Data_Train.xlsx')"
   ]
  },
  {
   "cell_type": "code",
   "execution_count": 219,
   "metadata": {
    "collapsed": true
   },
   "outputs": [],
   "source": [
    "test = pd.read_excel('C:\\\\Users\\\\LENOVO\\\\Desktop\\\\Flight_Ticket_Participant_Datasets\\\\Test_set.xlsx')"
   ]
  },
  {
   "cell_type": "code",
   "execution_count": 220,
   "metadata": {
    "collapsed": true
   },
   "outputs": [],
   "source": [
    "data_copy = data\n",
    "test_copy = test"
   ]
  },
  {
   "cell_type": "code",
   "execution_count": 221,
   "metadata": {},
   "outputs": [
    {
     "data": {
      "text/plain": [
       "(10683, 11)"
      ]
     },
     "execution_count": 221,
     "metadata": {},
     "output_type": "execute_result"
    }
   ],
   "source": [
    "data_copy.shape"
   ]
  },
  {
   "cell_type": "code",
   "execution_count": 222,
   "metadata": {
    "collapsed": true
   },
   "outputs": [],
   "source": [
    "data_copy.drop_duplicates(keep='first', inplace=True)"
   ]
  },
  {
   "cell_type": "code",
   "execution_count": 223,
   "metadata": {},
   "outputs": [
    {
     "data": {
      "text/plain": [
       "(10463, 11)"
      ]
     },
     "execution_count": 223,
     "metadata": {},
     "output_type": "execute_result"
    }
   ],
   "source": [
    "data_copy.shape"
   ]
  },
  {
   "cell_type": "code",
   "execution_count": 224,
   "metadata": {
    "collapsed": true
   },
   "outputs": [],
   "source": [
    "#Drop anamolies.\n",
    "data_copy = data_copy[data_copy['Price'] > data[\"Price\"].quantile(0.01)]\n",
    "#data_copy = data_copy[data_copy['Price'] < data[\"Price\"].quantile(0.99)]\n",
    "data_copy = data_copy[data_copy['Airline'] != 'Trujet']\n",
    "data_copy = data_copy[data_copy['Additional_Info'] != 'Red-eye flight']"
   ]
  },
  {
   "cell_type": "code",
   "execution_count": 225,
   "metadata": {
    "collapsed": true
   },
   "outputs": [],
   "source": [
    "#data_copy.loc[data_copy['Airline'] == 'Jet Airways Business','Airline'] = 'Jet Airways'\n",
    "#data_copy.loc[data_copy['Airline'] == 'Multiple carriers Premium economy','Airline'] = 'Multiple carriers'\n",
    "#data_copy.loc[data_copy['Airline'] == 'Vistara Premium economy','Airline'] = 'Vistara'"
   ]
  },
  {
   "cell_type": "code",
   "execution_count": 226,
   "metadata": {
    "collapsed": true
   },
   "outputs": [],
   "source": [
    "#data_copy.loc[data_copy['Destination'] == 'New Delhi','Destination'] = 'Delhi'"
   ]
  },
  {
   "cell_type": "code",
   "execution_count": 227,
   "metadata": {
    "collapsed": true
   },
   "outputs": [],
   "source": [
    "data_copy.reset_index(inplace=True)"
   ]
  },
  {
   "cell_type": "code",
   "execution_count": 228,
   "metadata": {
    "collapsed": true
   },
   "outputs": [],
   "source": [
    "data_copy = data_copy[data_copy['Airline'] != 'Trujet']"
   ]
  },
  {
   "cell_type": "code",
   "execution_count": 229,
   "metadata": {
    "collapsed": true
   },
   "outputs": [],
   "source": [
    "data_copy = onehotencode(data_copy,'Airline',\"Airline_\")"
   ]
  },
  {
   "cell_type": "code",
   "execution_count": 230,
   "metadata": {
    "scrolled": false
   },
   "outputs": [
    {
     "data": {
      "text/plain": [
       "Index(['index', 'Airline', 'Date_of_Journey', 'Source', 'Destination', 'Route',\n",
       "       'Dep_Time', 'Arrival_Time', 'Duration', 'Total_Stops',\n",
       "       'Additional_Info', 'Price', 'Airline__Air Asia', 'Airline__Air India',\n",
       "       'Airline__GoAir', 'Airline__IndiGo', 'Airline__Jet Airways',\n",
       "       'Airline__Jet Airways Business', 'Airline__Multiple carriers',\n",
       "       'Airline__Multiple carriers Premium economy', 'Airline__SpiceJet',\n",
       "       'Airline__Vistara', 'Airline__Vistara Premium economy'],\n",
       "      dtype='object')"
      ]
     },
     "execution_count": 230,
     "metadata": {},
     "output_type": "execute_result"
    }
   ],
   "source": [
    "data_copy.columns"
   ]
  },
  {
   "cell_type": "code",
   "execution_count": 231,
   "metadata": {
    "collapsed": true
   },
   "outputs": [],
   "source": [
    "data_copy = onehotencode(data_copy,'Source',\"Source_\")"
   ]
  },
  {
   "cell_type": "code",
   "execution_count": 232,
   "metadata": {
    "collapsed": true
   },
   "outputs": [],
   "source": [
    "data_copy = onehotencode(data_copy,'Destination',\"Destination_\")"
   ]
  },
  {
   "cell_type": "code",
   "execution_count": 233,
   "metadata": {
    "collapsed": true
   },
   "outputs": [],
   "source": [
    "#handle No Info, No info values before one hot encoding.\n",
    "data_copy.loc[data_copy['Additional_Info'] == 'No info','Additional_Info'] = 'No Info'\n",
    "data_copy.loc[data_copy['Additional_Info'] == '1 Long layover','Additional_Info'] = 'Others'\n",
    "data_copy.loc[data_copy['Additional_Info'] == '1 Short layover','Additional_Info'] = 'Others'\n",
    "data_copy.loc[data_copy['Additional_Info'] == '2 Long layover','Additional_Info'] = 'Others'\n",
    "data_copy.loc[data_copy['Additional_Info'] == 'Business class','Additional_Info'] = 'Others'\n",
    "data_copy.loc[data_copy['Additional_Info'] == 'Change airports','Additional_Info'] = 'Others'\n",
    "\n",
    "\n",
    "data_copy = onehotencode(data_copy,'Additional_Info',\"Additional_Info_\")"
   ]
  },
  {
   "cell_type": "code",
   "execution_count": 234,
   "metadata": {
    "collapsed": true
   },
   "outputs": [],
   "source": [
    "data_copy = encode_total_stops(data_copy)"
   ]
  },
  {
   "cell_type": "code",
   "execution_count": 235,
   "metadata": {
    "collapsed": true
   },
   "outputs": [],
   "source": [
    "data_copy = extract_journey_data(data_copy)"
   ]
  },
  {
   "cell_type": "code",
   "execution_count": 236,
   "metadata": {
    "collapsed": true
   },
   "outputs": [],
   "source": [
    "#data_copy['Month_Start'] = 0\n",
    "#data_copy.loc[data_copy['Journey_Day'] == 1,'Month_Start'] = 1\n",
    "#data_copy.loc[data_copy['Journey_Day'] == 3,'Month_Start'] = 1\n",
    "#data_copy.loc[data_copy['Journey_Day'] == 6,'Month_Start'] = 1\n",
    "#data_copy.loc[data_copy['Journey_Day'] == 9,'Month_Start'] = 1"
   ]
  },
  {
   "cell_type": "code",
   "execution_count": 237,
   "metadata": {
    "collapsed": true
   },
   "outputs": [],
   "source": [
    "#data_copy['is_event'] = 0\n",
    "#data_copy['is_event'] = np.where((((data_copy['Journey_Month'] == 3) & (data_copy['Journey_Day'] == 24)) |\n",
    "#                                 ((data_copy['Journey_Month'] == 4) & (data_copy['Journey_Day'] == 21)) |\n",
    "#                                 ((data_copy['Journey_Month'] == 5) & (data_copy['Journey_Day'] == 18))),1,0)"
   ]
  },
  {
   "cell_type": "code",
   "execution_count": 238,
   "metadata": {},
   "outputs": [],
   "source": [
    "#data_copy['is_event'].value_counts()"
   ]
  },
  {
   "cell_type": "code",
   "execution_count": 239,
   "metadata": {
    "collapsed": true
   },
   "outputs": [],
   "source": [
    "data_copy = encode_duration(data_copy)"
   ]
  },
  {
   "cell_type": "code",
   "execution_count": 240,
   "metadata": {
    "collapsed": true
   },
   "outputs": [],
   "source": [
    "data_copy = flight_hours(data_copy)"
   ]
  },
  {
   "cell_type": "code",
   "execution_count": 241,
   "metadata": {
    "collapsed": true
   },
   "outputs": [],
   "source": [
    "data_copy = arrival_hours(data_copy)"
   ]
  },
  {
   "cell_type": "code",
   "execution_count": 242,
   "metadata": {
    "collapsed": true
   },
   "outputs": [],
   "source": [
    "#data_copy = onehotencode(data_copy,'Fly_Hours',\"Fly_Hours_\")"
   ]
  },
  {
   "cell_type": "code",
   "execution_count": 243,
   "metadata": {
    "collapsed": true
   },
   "outputs": [],
   "source": [
    "data_final = data_copy"
   ]
  },
  {
   "cell_type": "code",
   "execution_count": 244,
   "metadata": {
    "collapsed": true
   },
   "outputs": [],
   "source": [
    "data_final.loc[data_final['Encoded_stops'].isnull(),'Encoded_stops'] = 0.3"
   ]
  },
  {
   "cell_type": "code",
   "execution_count": 245,
   "metadata": {
    "collapsed": true
   },
   "outputs": [],
   "source": [
    "data_final.drop(['Airline','Date_of_Journey','Source','Destination','Route','Dep_Time','Arrival_Time','Duration',\n",
    "                'Total_Stops','Additional_Info'],axis=1,inplace=True)\n",
    "#                'Total_Stops','Additional_Info','Fly_Hours'],axis=1,inplace=True)"
   ]
  },
  {
   "cell_type": "code",
   "execution_count": 246,
   "metadata": {
    "collapsed": true
   },
   "outputs": [],
   "source": [
    "data_final.drop(['index'],axis=1,inplace=True)"
   ]
  },
  {
   "cell_type": "code",
   "execution_count": 247,
   "metadata": {
    "collapsed": true
   },
   "outputs": [],
   "source": [
    "train_Feature = data_copy[[x for x in data_final.columns if (x != 'Price' and x != 'index')]]\n",
    "train_Target = data_copy['Price']"
   ]
  },
  {
   "cell_type": "code",
   "execution_count": 248,
   "metadata": {
    "scrolled": true
   },
   "outputs": [
    {
     "data": {
      "text/plain": [
       "Index(['Airline__Air Asia', 'Airline__Air India', 'Airline__GoAir',\n",
       "       'Airline__IndiGo', 'Airline__Jet Airways',\n",
       "       'Airline__Jet Airways Business', 'Airline__Multiple carriers',\n",
       "       'Airline__Multiple carriers Premium economy', 'Airline__SpiceJet',\n",
       "       'Airline__Vistara', 'Airline__Vistara Premium economy',\n",
       "       'Source__Banglore', 'Source__Chennai', 'Source__Delhi',\n",
       "       'Source__Kolkata', 'Source__Mumbai', 'Destination__Banglore',\n",
       "       'Destination__Cochin', 'Destination__Delhi', 'Destination__Hyderabad',\n",
       "       'Destination__Kolkata', 'Destination__New Delhi',\n",
       "       'Additional_Info__In-flight meal not included',\n",
       "       'Additional_Info__No Info',\n",
       "       'Additional_Info__No check-in baggage included',\n",
       "       'Additional_Info__Others', 'Encoded_stops', 'Journey_Day',\n",
       "       'Journey_Month', 'Journey_day_of_week', 'Journey_over_weekend',\n",
       "       'Duration_Type', 'Fly_Hours', 'Arrival_Hours'],\n",
       "      dtype='object')"
      ]
     },
     "execution_count": 248,
     "metadata": {},
     "output_type": "execute_result"
    }
   ],
   "source": [
    "train_Feature.columns"
   ]
  },
  {
   "cell_type": "code",
   "execution_count": 249,
   "metadata": {
    "collapsed": true
   },
   "outputs": [],
   "source": [
    "X_train, X_test, y_train, y_test = train_test_split(train_Feature, train_Target, test_size=0.30, random_state=101)"
   ]
  },
  {
   "cell_type": "code",
   "execution_count": 250,
   "metadata": {},
   "outputs": [
    {
     "data": {
      "text/plain": [
       "Series([], dtype: float64)"
      ]
     },
     "execution_count": 250,
     "metadata": {},
     "output_type": "execute_result"
    }
   ],
   "source": [
    "null_columns=X_train.columns[X_train.isnull().any()]\n",
    "X_train[null_columns].isnull().sum()"
   ]
  },
  {
   "cell_type": "code",
   "execution_count": 251,
   "metadata": {
    "scrolled": true
   },
   "outputs": [
    {
     "data": {
      "text/html": [
       "<div>\n",
       "<style>\n",
       "    .dataframe thead tr:only-child th {\n",
       "        text-align: right;\n",
       "    }\n",
       "\n",
       "    .dataframe thead th {\n",
       "        text-align: left;\n",
       "    }\n",
       "\n",
       "    .dataframe tbody tr th {\n",
       "        vertical-align: top;\n",
       "    }\n",
       "</style>\n",
       "<table border=\"1\" class=\"dataframe\">\n",
       "  <thead>\n",
       "    <tr style=\"text-align: right;\">\n",
       "      <th></th>\n",
       "      <th>Airline__Air Asia</th>\n",
       "      <th>Airline__Air India</th>\n",
       "      <th>Airline__GoAir</th>\n",
       "      <th>Airline__IndiGo</th>\n",
       "      <th>Airline__Jet Airways</th>\n",
       "      <th>Airline__Jet Airways Business</th>\n",
       "      <th>Airline__Multiple carriers</th>\n",
       "      <th>Airline__Multiple carriers Premium economy</th>\n",
       "      <th>Airline__SpiceJet</th>\n",
       "      <th>Airline__Vistara</th>\n",
       "      <th>Airline__Vistara Premium economy</th>\n",
       "      <th>Source__Banglore</th>\n",
       "      <th>Source__Chennai</th>\n",
       "      <th>Source__Delhi</th>\n",
       "      <th>Source__Kolkata</th>\n",
       "      <th>Source__Mumbai</th>\n",
       "      <th>Destination__Banglore</th>\n",
       "      <th>Destination__Cochin</th>\n",
       "      <th>Destination__Delhi</th>\n",
       "      <th>Destination__Hyderabad</th>\n",
       "      <th>Destination__Kolkata</th>\n",
       "      <th>Destination__New Delhi</th>\n",
       "      <th>Additional_Info__In-flight meal not included</th>\n",
       "      <th>Additional_Info__No Info</th>\n",
       "      <th>Additional_Info__No check-in baggage included</th>\n",
       "      <th>Additional_Info__Others</th>\n",
       "      <th>Encoded_stops</th>\n",
       "      <th>Journey_Day</th>\n",
       "      <th>Journey_Month</th>\n",
       "      <th>Journey_day_of_week</th>\n",
       "      <th>Journey_over_weekend</th>\n",
       "      <th>Duration_Type</th>\n",
       "      <th>Fly_Hours</th>\n",
       "      <th>Arrival_Hours</th>\n",
       "    </tr>\n",
       "  </thead>\n",
       "  <tbody>\n",
       "    <tr>\n",
       "      <th>3471</th>\n",
       "      <td>0</td>\n",
       "      <td>0</td>\n",
       "      <td>1</td>\n",
       "      <td>0</td>\n",
       "      <td>0</td>\n",
       "      <td>0</td>\n",
       "      <td>0</td>\n",
       "      <td>0</td>\n",
       "      <td>0</td>\n",
       "      <td>0</td>\n",
       "      <td>0</td>\n",
       "      <td>0</td>\n",
       "      <td>0</td>\n",
       "      <td>1</td>\n",
       "      <td>0</td>\n",
       "      <td>0</td>\n",
       "      <td>0</td>\n",
       "      <td>1</td>\n",
       "      <td>0</td>\n",
       "      <td>0</td>\n",
       "      <td>0</td>\n",
       "      <td>0</td>\n",
       "      <td>0</td>\n",
       "      <td>1</td>\n",
       "      <td>0</td>\n",
       "      <td>0</td>\n",
       "      <td>1.0</td>\n",
       "      <td>3</td>\n",
       "      <td>6</td>\n",
       "      <td>0</td>\n",
       "      <td>0</td>\n",
       "      <td>540</td>\n",
       "      <td>635</td>\n",
       "      <td>1175</td>\n",
       "    </tr>\n",
       "    <tr>\n",
       "      <th>2866</th>\n",
       "      <td>0</td>\n",
       "      <td>1</td>\n",
       "      <td>0</td>\n",
       "      <td>0</td>\n",
       "      <td>0</td>\n",
       "      <td>0</td>\n",
       "      <td>0</td>\n",
       "      <td>0</td>\n",
       "      <td>0</td>\n",
       "      <td>0</td>\n",
       "      <td>0</td>\n",
       "      <td>0</td>\n",
       "      <td>0</td>\n",
       "      <td>1</td>\n",
       "      <td>0</td>\n",
       "      <td>0</td>\n",
       "      <td>0</td>\n",
       "      <td>1</td>\n",
       "      <td>0</td>\n",
       "      <td>0</td>\n",
       "      <td>0</td>\n",
       "      <td>0</td>\n",
       "      <td>0</td>\n",
       "      <td>1</td>\n",
       "      <td>0</td>\n",
       "      <td>0</td>\n",
       "      <td>2.0</td>\n",
       "      <td>27</td>\n",
       "      <td>6</td>\n",
       "      <td>3</td>\n",
       "      <td>0</td>\n",
       "      <td>1490</td>\n",
       "      <td>410</td>\n",
       "      <td>460</td>\n",
       "    </tr>\n",
       "    <tr>\n",
       "      <th>3795</th>\n",
       "      <td>0</td>\n",
       "      <td>0</td>\n",
       "      <td>0</td>\n",
       "      <td>0</td>\n",
       "      <td>0</td>\n",
       "      <td>0</td>\n",
       "      <td>0</td>\n",
       "      <td>0</td>\n",
       "      <td>0</td>\n",
       "      <td>1</td>\n",
       "      <td>0</td>\n",
       "      <td>0</td>\n",
       "      <td>0</td>\n",
       "      <td>0</td>\n",
       "      <td>1</td>\n",
       "      <td>0</td>\n",
       "      <td>1</td>\n",
       "      <td>0</td>\n",
       "      <td>0</td>\n",
       "      <td>0</td>\n",
       "      <td>0</td>\n",
       "      <td>0</td>\n",
       "      <td>0</td>\n",
       "      <td>1</td>\n",
       "      <td>0</td>\n",
       "      <td>0</td>\n",
       "      <td>1.0</td>\n",
       "      <td>1</td>\n",
       "      <td>4</td>\n",
       "      <td>0</td>\n",
       "      <td>0</td>\n",
       "      <td>865</td>\n",
       "      <td>1220</td>\n",
       "      <td>645</td>\n",
       "    </tr>\n",
       "    <tr>\n",
       "      <th>10089</th>\n",
       "      <td>0</td>\n",
       "      <td>0</td>\n",
       "      <td>0</td>\n",
       "      <td>0</td>\n",
       "      <td>0</td>\n",
       "      <td>0</td>\n",
       "      <td>0</td>\n",
       "      <td>0</td>\n",
       "      <td>1</td>\n",
       "      <td>0</td>\n",
       "      <td>0</td>\n",
       "      <td>1</td>\n",
       "      <td>0</td>\n",
       "      <td>0</td>\n",
       "      <td>0</td>\n",
       "      <td>0</td>\n",
       "      <td>0</td>\n",
       "      <td>0</td>\n",
       "      <td>0</td>\n",
       "      <td>0</td>\n",
       "      <td>0</td>\n",
       "      <td>1</td>\n",
       "      <td>0</td>\n",
       "      <td>1</td>\n",
       "      <td>0</td>\n",
       "      <td>0</td>\n",
       "      <td>0.0</td>\n",
       "      <td>24</td>\n",
       "      <td>3</td>\n",
       "      <td>6</td>\n",
       "      <td>1</td>\n",
       "      <td>175</td>\n",
       "      <td>575</td>\n",
       "      <td>750</td>\n",
       "    </tr>\n",
       "    <tr>\n",
       "      <th>6912</th>\n",
       "      <td>0</td>\n",
       "      <td>0</td>\n",
       "      <td>0</td>\n",
       "      <td>0</td>\n",
       "      <td>1</td>\n",
       "      <td>0</td>\n",
       "      <td>0</td>\n",
       "      <td>0</td>\n",
       "      <td>0</td>\n",
       "      <td>0</td>\n",
       "      <td>0</td>\n",
       "      <td>0</td>\n",
       "      <td>0</td>\n",
       "      <td>0</td>\n",
       "      <td>1</td>\n",
       "      <td>0</td>\n",
       "      <td>1</td>\n",
       "      <td>0</td>\n",
       "      <td>0</td>\n",
       "      <td>0</td>\n",
       "      <td>0</td>\n",
       "      <td>0</td>\n",
       "      <td>1</td>\n",
       "      <td>0</td>\n",
       "      <td>0</td>\n",
       "      <td>0</td>\n",
       "      <td>1.0</td>\n",
       "      <td>9</td>\n",
       "      <td>5</td>\n",
       "      <td>3</td>\n",
       "      <td>0</td>\n",
       "      <td>330</td>\n",
       "      <td>390</td>\n",
       "      <td>720</td>\n",
       "    </tr>\n",
       "  </tbody>\n",
       "</table>\n",
       "</div>"
      ],
      "text/plain": [
       "       Airline__Air Asia  Airline__Air India  Airline__GoAir  Airline__IndiGo  \\\n",
       "3471                   0                   0               1                0   \n",
       "2866                   0                   1               0                0   \n",
       "3795                   0                   0               0                0   \n",
       "10089                  0                   0               0                0   \n",
       "6912                   0                   0               0                0   \n",
       "\n",
       "       Airline__Jet Airways  Airline__Jet Airways Business  \\\n",
       "3471                      0                              0   \n",
       "2866                      0                              0   \n",
       "3795                      0                              0   \n",
       "10089                     0                              0   \n",
       "6912                      1                              0   \n",
       "\n",
       "       Airline__Multiple carriers  Airline__Multiple carriers Premium economy  \\\n",
       "3471                            0                                           0   \n",
       "2866                            0                                           0   \n",
       "3795                            0                                           0   \n",
       "10089                           0                                           0   \n",
       "6912                            0                                           0   \n",
       "\n",
       "       Airline__SpiceJet  Airline__Vistara  Airline__Vistara Premium economy  \\\n",
       "3471                   0                 0                                 0   \n",
       "2866                   0                 0                                 0   \n",
       "3795                   0                 1                                 0   \n",
       "10089                  1                 0                                 0   \n",
       "6912                   0                 0                                 0   \n",
       "\n",
       "       Source__Banglore  Source__Chennai  Source__Delhi  Source__Kolkata  \\\n",
       "3471                  0                0              1                0   \n",
       "2866                  0                0              1                0   \n",
       "3795                  0                0              0                1   \n",
       "10089                 1                0              0                0   \n",
       "6912                  0                0              0                1   \n",
       "\n",
       "       Source__Mumbai  Destination__Banglore  Destination__Cochin  \\\n",
       "3471                0                      0                    1   \n",
       "2866                0                      0                    1   \n",
       "3795                0                      1                    0   \n",
       "10089               0                      0                    0   \n",
       "6912                0                      1                    0   \n",
       "\n",
       "       Destination__Delhi  Destination__Hyderabad  Destination__Kolkata  \\\n",
       "3471                    0                       0                     0   \n",
       "2866                    0                       0                     0   \n",
       "3795                    0                       0                     0   \n",
       "10089                   0                       0                     0   \n",
       "6912                    0                       0                     0   \n",
       "\n",
       "       Destination__New Delhi  Additional_Info__In-flight meal not included  \\\n",
       "3471                        0                                             0   \n",
       "2866                        0                                             0   \n",
       "3795                        0                                             0   \n",
       "10089                       1                                             0   \n",
       "6912                        0                                             1   \n",
       "\n",
       "       Additional_Info__No Info  \\\n",
       "3471                          1   \n",
       "2866                          1   \n",
       "3795                          1   \n",
       "10089                         1   \n",
       "6912                          0   \n",
       "\n",
       "       Additional_Info__No check-in baggage included  Additional_Info__Others  \\\n",
       "3471                                               0                        0   \n",
       "2866                                               0                        0   \n",
       "3795                                               0                        0   \n",
       "10089                                              0                        0   \n",
       "6912                                               0                        0   \n",
       "\n",
       "       Encoded_stops  Journey_Day  Journey_Month  Journey_day_of_week  \\\n",
       "3471             1.0            3              6                    0   \n",
       "2866             2.0           27              6                    3   \n",
       "3795             1.0            1              4                    0   \n",
       "10089            0.0           24              3                    6   \n",
       "6912             1.0            9              5                    3   \n",
       "\n",
       "       Journey_over_weekend  Duration_Type  Fly_Hours  Arrival_Hours  \n",
       "3471                      0            540        635           1175  \n",
       "2866                      0           1490        410            460  \n",
       "3795                      0            865       1220            645  \n",
       "10089                     1            175        575            750  \n",
       "6912                      0            330        390            720  "
      ]
     },
     "execution_count": 251,
     "metadata": {},
     "output_type": "execute_result"
    }
   ],
   "source": [
    "X_train.head()"
   ]
  },
  {
   "cell_type": "code",
   "execution_count": 252,
   "metadata": {
    "collapsed": true
   },
   "outputs": [],
   "source": [
    "scaler = StandardScaler()"
   ]
  },
  {
   "cell_type": "code",
   "execution_count": 253,
   "metadata": {
    "collapsed": true
   },
   "outputs": [],
   "source": [
    "X_train = pd.DataFrame(scaler.fit_transform(X_train), columns=train_Feature.columns)"
   ]
  },
  {
   "cell_type": "code",
   "execution_count": 254,
   "metadata": {
    "collapsed": true
   },
   "outputs": [],
   "source": [
    "X_test =  pd.DataFrame(scaler.transform(X_test),columns=train_Feature.columns)"
   ]
  },
  {
   "cell_type": "markdown",
   "metadata": {},
   "source": [
    "# Final Prediction on Test set starts here"
   ]
  },
  {
   "cell_type": "code",
   "execution_count": 255,
   "metadata": {
    "collapsed": true
   },
   "outputs": [],
   "source": [
    "#test_copy.loc[test_copy['Airline'] == 'Jet Airways Business','Airline'] = 'Jet Airways'\n",
    "#test_copy.loc[test_copy['Airline'] == 'Multiple carriers Premium economy','Airline'] = 'Multiple carriers'\n",
    "#test_copy.loc[test_copy['Airline'] == 'Vistara Premium economy','Airline'] = 'Vistara'"
   ]
  },
  {
   "cell_type": "code",
   "execution_count": 256,
   "metadata": {
    "collapsed": true
   },
   "outputs": [],
   "source": [
    "#test_copy.loc[test_copy['Destination'] == 'New Delhi','Destination'] = 'Delhi'"
   ]
  },
  {
   "cell_type": "code",
   "execution_count": 257,
   "metadata": {
    "collapsed": true
   },
   "outputs": [],
   "source": [
    "test_copy = onehotencode(test_copy,'Airline',\"Airline_\")"
   ]
  },
  {
   "cell_type": "code",
   "execution_count": 258,
   "metadata": {
    "collapsed": true
   },
   "outputs": [],
   "source": [
    "test_copy = onehotencode(test_copy,'Source',\"Source_\")"
   ]
  },
  {
   "cell_type": "code",
   "execution_count": 259,
   "metadata": {
    "collapsed": true
   },
   "outputs": [],
   "source": [
    "test_copy = onehotencode(test_copy,'Destination',\"Destination_\")"
   ]
  },
  {
   "cell_type": "code",
   "execution_count": 260,
   "metadata": {
    "collapsed": true
   },
   "outputs": [],
   "source": [
    "#handle No Info, No info values before one hot encoding.\n",
    "test_copy.loc[test_copy['Additional_Info'] == 'No info','Additional_Info'] = 'No Info'\n",
    "test_copy.loc[test_copy['Additional_Info'] == '1 Long layover','Additional_Info'] = 'Others'\n",
    "test_copy.loc[test_copy['Additional_Info'] == '1 Short layover','Additional_Info'] = 'Others'\n",
    "test_copy.loc[test_copy['Additional_Info'] == '1 Long layover','Additional_Info'] = 'Others'\n",
    "test_copy.loc[test_copy['Additional_Info'] == 'Business class','Additional_Info'] = 'Others'\n",
    "test_copy.loc[test_copy['Additional_Info'] == 'Change airports','Additional_Info'] = 'Others'\n",
    "\n",
    "test_copy = onehotencode(test_copy,'Additional_Info',\"Additional_Info_\")"
   ]
  },
  {
   "cell_type": "code",
   "execution_count": 261,
   "metadata": {
    "collapsed": true
   },
   "outputs": [],
   "source": [
    "test_copy = encode_total_stops(test_copy)"
   ]
  },
  {
   "cell_type": "code",
   "execution_count": 262,
   "metadata": {
    "collapsed": true
   },
   "outputs": [],
   "source": [
    "test_copy = extract_journey_data(test_copy)"
   ]
  },
  {
   "cell_type": "code",
   "execution_count": 263,
   "metadata": {
    "collapsed": true
   },
   "outputs": [],
   "source": [
    "#test_copy['Month_Start'] = 0\n",
    "#test_copy.loc[test_copy['Journey_Day'] == 1,'Month_Start'] = 1\n",
    "#test_copy.loc[test_copy['Journey_Day'] == 3,'Month_Start'] = 1\n",
    "#test_copy.loc[test_copy['Journey_Day'] == 6,'Month_Start'] = 1\n",
    "#test_copy.loc[test_copy['Journey_Day'] == 9,'Month_Start'] = 1"
   ]
  },
  {
   "cell_type": "code",
   "execution_count": 264,
   "metadata": {
    "collapsed": true
   },
   "outputs": [],
   "source": [
    "#test_copy['is_event'] = 0\n",
    "#test_copy['is_event'] = np.where((((test_copy['Journey_Month'] == 3) & (test_copy['Journey_Day'] == 24)) |\n",
    "#                                 ((test_copy['Journey_Month'] == 4) & (test_copy['Journey_Day'] == 21)) |\n",
    "#                                 ((test_copy['Journey_Month'] == 5) & (test_copy['Journey_Day'] == 18))),1,0)"
   ]
  },
  {
   "cell_type": "code",
   "execution_count": 265,
   "metadata": {
    "collapsed": true
   },
   "outputs": [],
   "source": [
    "test_copy = encode_duration(test_copy)"
   ]
  },
  {
   "cell_type": "code",
   "execution_count": 266,
   "metadata": {
    "collapsed": true
   },
   "outputs": [],
   "source": [
    "test_copy = flight_hours(test_copy)"
   ]
  },
  {
   "cell_type": "code",
   "execution_count": 267,
   "metadata": {
    "collapsed": true
   },
   "outputs": [],
   "source": [
    "test_copy = arrival_hours(test_copy)"
   ]
  },
  {
   "cell_type": "code",
   "execution_count": 268,
   "metadata": {
    "collapsed": true
   },
   "outputs": [],
   "source": [
    "#test_copy = onehotencode(test_copy,'Fly_Hours',\"Fly_Hours_\")"
   ]
  },
  {
   "cell_type": "code",
   "execution_count": 269,
   "metadata": {
    "collapsed": true
   },
   "outputs": [],
   "source": [
    "test_final = test_copy"
   ]
  },
  {
   "cell_type": "code",
   "execution_count": 270,
   "metadata": {},
   "outputs": [
    {
     "data": {
      "text/plain": [
       "(10322, 35)"
      ]
     },
     "execution_count": 270,
     "metadata": {},
     "output_type": "execute_result"
    }
   ],
   "source": [
    "data_copy.shape"
   ]
  },
  {
   "cell_type": "code",
   "execution_count": 271,
   "metadata": {},
   "outputs": [
    {
     "data": {
      "text/plain": [
       "['Price']"
      ]
     },
     "execution_count": 271,
     "metadata": {},
     "output_type": "execute_result"
    }
   ],
   "source": [
    "[X for X in data_copy.columns if X not in test_final.columns]"
   ]
  },
  {
   "cell_type": "code",
   "execution_count": 272,
   "metadata": {
    "scrolled": false
   },
   "outputs": [
    {
     "data": {
      "text/html": [
       "<div>\n",
       "<style>\n",
       "    .dataframe thead tr:only-child th {\n",
       "        text-align: right;\n",
       "    }\n",
       "\n",
       "    .dataframe thead th {\n",
       "        text-align: left;\n",
       "    }\n",
       "\n",
       "    .dataframe tbody tr th {\n",
       "        vertical-align: top;\n",
       "    }\n",
       "</style>\n",
       "<table border=\"1\" class=\"dataframe\">\n",
       "  <thead>\n",
       "    <tr style=\"text-align: right;\">\n",
       "      <th></th>\n",
       "      <th>Price</th>\n",
       "      <th>Airline__Air Asia</th>\n",
       "      <th>Airline__Air India</th>\n",
       "      <th>Airline__GoAir</th>\n",
       "      <th>Airline__IndiGo</th>\n",
       "      <th>Airline__Jet Airways</th>\n",
       "      <th>Airline__Jet Airways Business</th>\n",
       "      <th>Airline__Multiple carriers</th>\n",
       "      <th>Airline__Multiple carriers Premium economy</th>\n",
       "      <th>Airline__SpiceJet</th>\n",
       "      <th>Airline__Vistara</th>\n",
       "      <th>Airline__Vistara Premium economy</th>\n",
       "      <th>Source__Banglore</th>\n",
       "      <th>Source__Chennai</th>\n",
       "      <th>Source__Delhi</th>\n",
       "      <th>Source__Kolkata</th>\n",
       "      <th>Source__Mumbai</th>\n",
       "      <th>Destination__Banglore</th>\n",
       "      <th>Destination__Cochin</th>\n",
       "      <th>Destination__Delhi</th>\n",
       "      <th>Destination__Hyderabad</th>\n",
       "      <th>Destination__Kolkata</th>\n",
       "      <th>Destination__New Delhi</th>\n",
       "      <th>Additional_Info__In-flight meal not included</th>\n",
       "      <th>Additional_Info__No Info</th>\n",
       "      <th>Additional_Info__No check-in baggage included</th>\n",
       "      <th>Additional_Info__Others</th>\n",
       "      <th>Encoded_stops</th>\n",
       "      <th>Journey_Day</th>\n",
       "      <th>Journey_Month</th>\n",
       "      <th>Journey_day_of_week</th>\n",
       "      <th>Journey_over_weekend</th>\n",
       "      <th>Duration_Type</th>\n",
       "      <th>Fly_Hours</th>\n",
       "      <th>Arrival_Hours</th>\n",
       "    </tr>\n",
       "  </thead>\n",
       "  <tbody>\n",
       "    <tr>\n",
       "      <th>0</th>\n",
       "      <td>3897</td>\n",
       "      <td>0</td>\n",
       "      <td>0</td>\n",
       "      <td>0</td>\n",
       "      <td>1</td>\n",
       "      <td>0</td>\n",
       "      <td>0</td>\n",
       "      <td>0</td>\n",
       "      <td>0</td>\n",
       "      <td>0</td>\n",
       "      <td>0</td>\n",
       "      <td>0</td>\n",
       "      <td>1</td>\n",
       "      <td>0</td>\n",
       "      <td>0</td>\n",
       "      <td>0</td>\n",
       "      <td>0</td>\n",
       "      <td>0</td>\n",
       "      <td>0</td>\n",
       "      <td>0</td>\n",
       "      <td>0</td>\n",
       "      <td>0</td>\n",
       "      <td>1</td>\n",
       "      <td>0</td>\n",
       "      <td>1</td>\n",
       "      <td>0</td>\n",
       "      <td>0</td>\n",
       "      <td>0.0</td>\n",
       "      <td>24</td>\n",
       "      <td>3</td>\n",
       "      <td>6</td>\n",
       "      <td>1</td>\n",
       "      <td>170</td>\n",
       "      <td>1340</td>\n",
       "      <td>70</td>\n",
       "    </tr>\n",
       "    <tr>\n",
       "      <th>1</th>\n",
       "      <td>7662</td>\n",
       "      <td>0</td>\n",
       "      <td>1</td>\n",
       "      <td>0</td>\n",
       "      <td>0</td>\n",
       "      <td>0</td>\n",
       "      <td>0</td>\n",
       "      <td>0</td>\n",
       "      <td>0</td>\n",
       "      <td>0</td>\n",
       "      <td>0</td>\n",
       "      <td>0</td>\n",
       "      <td>0</td>\n",
       "      <td>0</td>\n",
       "      <td>0</td>\n",
       "      <td>1</td>\n",
       "      <td>0</td>\n",
       "      <td>1</td>\n",
       "      <td>0</td>\n",
       "      <td>0</td>\n",
       "      <td>0</td>\n",
       "      <td>0</td>\n",
       "      <td>0</td>\n",
       "      <td>0</td>\n",
       "      <td>1</td>\n",
       "      <td>0</td>\n",
       "      <td>0</td>\n",
       "      <td>2.0</td>\n",
       "      <td>1</td>\n",
       "      <td>5</td>\n",
       "      <td>2</td>\n",
       "      <td>0</td>\n",
       "      <td>445</td>\n",
       "      <td>350</td>\n",
       "      <td>795</td>\n",
       "    </tr>\n",
       "    <tr>\n",
       "      <th>2</th>\n",
       "      <td>13882</td>\n",
       "      <td>0</td>\n",
       "      <td>0</td>\n",
       "      <td>0</td>\n",
       "      <td>0</td>\n",
       "      <td>1</td>\n",
       "      <td>0</td>\n",
       "      <td>0</td>\n",
       "      <td>0</td>\n",
       "      <td>0</td>\n",
       "      <td>0</td>\n",
       "      <td>0</td>\n",
       "      <td>0</td>\n",
       "      <td>0</td>\n",
       "      <td>1</td>\n",
       "      <td>0</td>\n",
       "      <td>0</td>\n",
       "      <td>0</td>\n",
       "      <td>1</td>\n",
       "      <td>0</td>\n",
       "      <td>0</td>\n",
       "      <td>0</td>\n",
       "      <td>0</td>\n",
       "      <td>0</td>\n",
       "      <td>1</td>\n",
       "      <td>0</td>\n",
       "      <td>0</td>\n",
       "      <td>2.0</td>\n",
       "      <td>9</td>\n",
       "      <td>6</td>\n",
       "      <td>6</td>\n",
       "      <td>1</td>\n",
       "      <td>1140</td>\n",
       "      <td>565</td>\n",
       "      <td>265</td>\n",
       "    </tr>\n",
       "    <tr>\n",
       "      <th>3</th>\n",
       "      <td>6218</td>\n",
       "      <td>0</td>\n",
       "      <td>0</td>\n",
       "      <td>0</td>\n",
       "      <td>1</td>\n",
       "      <td>0</td>\n",
       "      <td>0</td>\n",
       "      <td>0</td>\n",
       "      <td>0</td>\n",
       "      <td>0</td>\n",
       "      <td>0</td>\n",
       "      <td>0</td>\n",
       "      <td>0</td>\n",
       "      <td>0</td>\n",
       "      <td>0</td>\n",
       "      <td>1</td>\n",
       "      <td>0</td>\n",
       "      <td>1</td>\n",
       "      <td>0</td>\n",
       "      <td>0</td>\n",
       "      <td>0</td>\n",
       "      <td>0</td>\n",
       "      <td>0</td>\n",
       "      <td>0</td>\n",
       "      <td>1</td>\n",
       "      <td>0</td>\n",
       "      <td>0</td>\n",
       "      <td>1.0</td>\n",
       "      <td>12</td>\n",
       "      <td>5</td>\n",
       "      <td>6</td>\n",
       "      <td>1</td>\n",
       "      <td>325</td>\n",
       "      <td>1085</td>\n",
       "      <td>1410</td>\n",
       "    </tr>\n",
       "    <tr>\n",
       "      <th>4</th>\n",
       "      <td>13302</td>\n",
       "      <td>0</td>\n",
       "      <td>0</td>\n",
       "      <td>0</td>\n",
       "      <td>1</td>\n",
       "      <td>0</td>\n",
       "      <td>0</td>\n",
       "      <td>0</td>\n",
       "      <td>0</td>\n",
       "      <td>0</td>\n",
       "      <td>0</td>\n",
       "      <td>0</td>\n",
       "      <td>1</td>\n",
       "      <td>0</td>\n",
       "      <td>0</td>\n",
       "      <td>0</td>\n",
       "      <td>0</td>\n",
       "      <td>0</td>\n",
       "      <td>0</td>\n",
       "      <td>0</td>\n",
       "      <td>0</td>\n",
       "      <td>0</td>\n",
       "      <td>1</td>\n",
       "      <td>0</td>\n",
       "      <td>1</td>\n",
       "      <td>0</td>\n",
       "      <td>0</td>\n",
       "      <td>1.0</td>\n",
       "      <td>1</td>\n",
       "      <td>3</td>\n",
       "      <td>4</td>\n",
       "      <td>0</td>\n",
       "      <td>285</td>\n",
       "      <td>1010</td>\n",
       "      <td>1295</td>\n",
       "    </tr>\n",
       "  </tbody>\n",
       "</table>\n",
       "</div>"
      ],
      "text/plain": [
       "   Price  Airline__Air Asia  Airline__Air India  Airline__GoAir  \\\n",
       "0   3897                  0                   0               0   \n",
       "1   7662                  0                   1               0   \n",
       "2  13882                  0                   0               0   \n",
       "3   6218                  0                   0               0   \n",
       "4  13302                  0                   0               0   \n",
       "\n",
       "   Airline__IndiGo  Airline__Jet Airways  Airline__Jet Airways Business  \\\n",
       "0                1                     0                              0   \n",
       "1                0                     0                              0   \n",
       "2                0                     1                              0   \n",
       "3                1                     0                              0   \n",
       "4                1                     0                              0   \n",
       "\n",
       "   Airline__Multiple carriers  Airline__Multiple carriers Premium economy  \\\n",
       "0                           0                                           0   \n",
       "1                           0                                           0   \n",
       "2                           0                                           0   \n",
       "3                           0                                           0   \n",
       "4                           0                                           0   \n",
       "\n",
       "   Airline__SpiceJet  Airline__Vistara  Airline__Vistara Premium economy  \\\n",
       "0                  0                 0                                 0   \n",
       "1                  0                 0                                 0   \n",
       "2                  0                 0                                 0   \n",
       "3                  0                 0                                 0   \n",
       "4                  0                 0                                 0   \n",
       "\n",
       "   Source__Banglore  Source__Chennai  Source__Delhi  Source__Kolkata  \\\n",
       "0                 1                0              0                0   \n",
       "1                 0                0              0                1   \n",
       "2                 0                0              1                0   \n",
       "3                 0                0              0                1   \n",
       "4                 1                0              0                0   \n",
       "\n",
       "   Source__Mumbai  Destination__Banglore  Destination__Cochin  \\\n",
       "0               0                      0                    0   \n",
       "1               0                      1                    0   \n",
       "2               0                      0                    1   \n",
       "3               0                      1                    0   \n",
       "4               0                      0                    0   \n",
       "\n",
       "   Destination__Delhi  Destination__Hyderabad  Destination__Kolkata  \\\n",
       "0                   0                       0                     0   \n",
       "1                   0                       0                     0   \n",
       "2                   0                       0                     0   \n",
       "3                   0                       0                     0   \n",
       "4                   0                       0                     0   \n",
       "\n",
       "   Destination__New Delhi  Additional_Info__In-flight meal not included  \\\n",
       "0                       1                                             0   \n",
       "1                       0                                             0   \n",
       "2                       0                                             0   \n",
       "3                       0                                             0   \n",
       "4                       1                                             0   \n",
       "\n",
       "   Additional_Info__No Info  Additional_Info__No check-in baggage included  \\\n",
       "0                         1                                              0   \n",
       "1                         1                                              0   \n",
       "2                         1                                              0   \n",
       "3                         1                                              0   \n",
       "4                         1                                              0   \n",
       "\n",
       "   Additional_Info__Others  Encoded_stops  Journey_Day  Journey_Month  \\\n",
       "0                        0            0.0           24              3   \n",
       "1                        0            2.0            1              5   \n",
       "2                        0            2.0            9              6   \n",
       "3                        0            1.0           12              5   \n",
       "4                        0            1.0            1              3   \n",
       "\n",
       "   Journey_day_of_week  Journey_over_weekend  Duration_Type  Fly_Hours  \\\n",
       "0                    6                     1            170       1340   \n",
       "1                    2                     0            445        350   \n",
       "2                    6                     1           1140        565   \n",
       "3                    6                     1            325       1085   \n",
       "4                    4                     0            285       1010   \n",
       "\n",
       "   Arrival_Hours  \n",
       "0             70  \n",
       "1            795  \n",
       "2            265  \n",
       "3           1410  \n",
       "4           1295  "
      ]
     },
     "execution_count": 272,
     "metadata": {},
     "output_type": "execute_result"
    }
   ],
   "source": [
    "data_copy.head()"
   ]
  },
  {
   "cell_type": "code",
   "execution_count": 273,
   "metadata": {},
   "outputs": [
    {
     "data": {
      "text/plain": [
       "array([ 0.,  2.,  1.,  3.,  4.])"
      ]
     },
     "execution_count": 273,
     "metadata": {},
     "output_type": "execute_result"
    }
   ],
   "source": [
    "data_copy['Encoded_stops'].unique()"
   ]
  },
  {
   "cell_type": "code",
   "execution_count": 274,
   "metadata": {
    "collapsed": true
   },
   "outputs": [],
   "source": [
    "test_final.drop(['Airline','Date_of_Journey','Source','Destination','Route','Dep_Time','Arrival_Time','Duration',\n",
    "                'Total_Stops','Additional_Info'],axis=1,inplace=True)\n",
    "#                'Total_Stops','Additional_Info','Fly_Hours'],axis=1,inplace=True)"
   ]
  },
  {
   "cell_type": "code",
   "execution_count": 275,
   "metadata": {
    "collapsed": true
   },
   "outputs": [],
   "source": [
    "test_final =  pd.DataFrame(scaler.transform(test_final),columns=test_final.columns)"
   ]
  },
  {
   "cell_type": "code",
   "execution_count": 276,
   "metadata": {
    "scrolled": false
   },
   "outputs": [
    {
     "data": {
      "text/plain": [
       "Index(['Airline__Air Asia', 'Airline__Air India', 'Airline__GoAir',\n",
       "       'Airline__IndiGo', 'Airline__Jet Airways',\n",
       "       'Airline__Jet Airways Business', 'Airline__Multiple carriers',\n",
       "       'Airline__Multiple carriers Premium economy', 'Airline__SpiceJet',\n",
       "       'Airline__Vistara', 'Airline__Vistara Premium economy',\n",
       "       'Source__Banglore', 'Source__Chennai', 'Source__Delhi',\n",
       "       'Source__Kolkata', 'Source__Mumbai', 'Destination__Banglore',\n",
       "       'Destination__Cochin', 'Destination__Delhi', 'Destination__Hyderabad',\n",
       "       'Destination__Kolkata', 'Destination__New Delhi',\n",
       "       'Additional_Info__In-flight meal not included',\n",
       "       'Additional_Info__No Info',\n",
       "       'Additional_Info__No check-in baggage included',\n",
       "       'Additional_Info__Others', 'Encoded_stops', 'Journey_Day',\n",
       "       'Journey_Month', 'Journey_day_of_week', 'Journey_over_weekend',\n",
       "       'Duration_Type', 'Fly_Hours', 'Arrival_Hours'],\n",
       "      dtype='object')"
      ]
     },
     "execution_count": 276,
     "metadata": {},
     "output_type": "execute_result"
    }
   ],
   "source": [
    "test_final.columns"
   ]
  },
  {
   "cell_type": "code",
   "execution_count": 277,
   "metadata": {},
   "outputs": [
    {
     "data": {
      "text/plain": [
       "Index(['Airline__Air Asia', 'Airline__Air India', 'Airline__GoAir',\n",
       "       'Airline__IndiGo', 'Airline__Jet Airways',\n",
       "       'Airline__Jet Airways Business', 'Airline__Multiple carriers',\n",
       "       'Airline__Multiple carriers Premium economy', 'Airline__SpiceJet',\n",
       "       'Airline__Vistara', 'Airline__Vistara Premium economy',\n",
       "       'Source__Banglore', 'Source__Chennai', 'Source__Delhi',\n",
       "       'Source__Kolkata', 'Source__Mumbai', 'Destination__Banglore',\n",
       "       'Destination__Cochin', 'Destination__Delhi', 'Destination__Hyderabad',\n",
       "       'Destination__Kolkata', 'Destination__New Delhi',\n",
       "       'Additional_Info__In-flight meal not included',\n",
       "       'Additional_Info__No Info',\n",
       "       'Additional_Info__No check-in baggage included',\n",
       "       'Additional_Info__Others', 'Encoded_stops', 'Journey_Day',\n",
       "       'Journey_Month', 'Journey_day_of_week', 'Journey_over_weekend',\n",
       "       'Duration_Type', 'Fly_Hours', 'Arrival_Hours'],\n",
       "      dtype='object')"
      ]
     },
     "execution_count": 277,
     "metadata": {},
     "output_type": "execute_result"
    }
   ],
   "source": [
    "train_Feature.columns"
   ]
  },
  {
   "cell_type": "code",
   "execution_count": 278,
   "metadata": {},
   "outputs": [
    {
     "data": {
      "text/plain": [
       "(2671, 34)"
      ]
     },
     "execution_count": 278,
     "metadata": {},
     "output_type": "execute_result"
    }
   ],
   "source": [
    "test_final.shape"
   ]
  },
  {
   "cell_type": "code",
   "execution_count": 279,
   "metadata": {
    "scrolled": true
   },
   "outputs": [
    {
     "data": {
      "text/plain": [
       "(10322, 34)"
      ]
     },
     "execution_count": 279,
     "metadata": {},
     "output_type": "execute_result"
    }
   ],
   "source": [
    "train_Feature.shape"
   ]
  },
  {
   "cell_type": "code",
   "execution_count": 280,
   "metadata": {
    "collapsed": true
   },
   "outputs": [],
   "source": [
    "y_train_log =  y_train.apply(log_transform)"
   ]
  },
  {
   "cell_type": "code",
   "execution_count": 281,
   "metadata": {
    "collapsed": true
   },
   "outputs": [],
   "source": [
    "y_test_log =  y_test.apply(log_transform)"
   ]
  },
  {
   "cell_type": "markdown",
   "metadata": {},
   "source": [
    "## RandomSearch"
   ]
  },
  {
   "cell_type": "code",
   "execution_count": 282,
   "metadata": {
    "collapsed": true,
    "scrolled": true
   },
   "outputs": [],
   "source": [
    "# Number of trees in random forest\n",
    "n_estimators = [int(x) for x in np.linspace(start = 200, stop = 2000, num = 10)]\n",
    "# Number of features to consider at every split\n",
    "max_features = ['auto', 'sqrt']\n",
    "# Maximum number of levels in tree\n",
    "max_depth = [int(x) for x in np.linspace(10, 110, num = 11)]\n",
    "max_depth.append(None)\n",
    "# Minimum number of samples required to split a node\n",
    "min_samples_split = [2, 5, 10]\n",
    "# Minimum number of samples required at each leaf node\n",
    "min_samples_leaf = [1, 2, 4]\n",
    "# Method of selecting samples for training each tree\n",
    "bootstrap = [True, False]"
   ]
  },
  {
   "cell_type": "code",
   "execution_count": 283,
   "metadata": {
    "collapsed": true
   },
   "outputs": [],
   "source": [
    "# Create the random grid\n",
    "random_grid = {'n_estimators': n_estimators,\n",
    "               'max_features': max_features,\n",
    "               'max_depth': max_depth,\n",
    "               'min_samples_split': min_samples_split,\n",
    "               'min_samples_leaf': min_samples_leaf,\n",
    "               'bootstrap': bootstrap}"
   ]
  },
  {
   "cell_type": "code",
   "execution_count": 284,
   "metadata": {
    "collapsed": true
   },
   "outputs": [],
   "source": [
    "rf = RandomForestRegressor()"
   ]
  },
  {
   "cell_type": "code",
   "execution_count": 285,
   "metadata": {
    "collapsed": true
   },
   "outputs": [],
   "source": [
    "rf_random = RandomizedSearchCV(estimator = rf, param_distributions = random_grid, \n",
    "                               n_iter = 100, cv = 3, verbose=2, random_state=42, n_jobs = -1)"
   ]
  },
  {
   "cell_type": "code",
   "execution_count": 286,
   "metadata": {
    "scrolled": false
   },
   "outputs": [
    {
     "name": "stdout",
     "output_type": "stream",
     "text": [
      "Fitting 3 folds for each of 100 candidates, totalling 300 fits\n"
     ]
    },
    {
     "name": "stderr",
     "output_type": "stream",
     "text": [
      "[Parallel(n_jobs=-1)]: Done  37 tasks      | elapsed:  6.8min\n",
      "[Parallel(n_jobs=-1)]: Done 158 tasks      | elapsed: 30.8min\n",
      "[Parallel(n_jobs=-1)]: Done 300 out of 300 | elapsed: 59.7min finished\n"
     ]
    },
    {
     "data": {
      "text/plain": [
       "RandomizedSearchCV(cv=3, error_score='raise',\n",
       "          estimator=RandomForestRegressor(bootstrap=True, criterion='mse', max_depth=None,\n",
       "           max_features='auto', max_leaf_nodes=None,\n",
       "           min_impurity_decrease=0.0, min_impurity_split=None,\n",
       "           min_samples_leaf=1, min_samples_split=2,\n",
       "           min_weight_fraction_leaf=0.0, n_estimators=10, n_jobs=1,\n",
       "           oob_score=False, random_state=None, verbose=0, warm_start=False),\n",
       "          fit_params=None, iid=True, n_iter=100, n_jobs=-1,\n",
       "          param_distributions={'max_depth': [10, 20, 30, 40, 50, 60, 70, 80, 90, 100, 110, None], 'max_features': ['auto', 'sqrt'], 'min_samples_leaf': [1, 2, 4], 'min_samples_split': [2, 5, 10], 'bootstrap': [True, False], 'n_estimators': [200, 400, 600, 800, 1000, 1200, 1400, 1600, 1800, 2000]},\n",
       "          pre_dispatch='2*n_jobs', random_state=42, refit=True,\n",
       "          return_train_score=True, scoring=None, verbose=2)"
      ]
     },
     "execution_count": 286,
     "metadata": {},
     "output_type": "execute_result"
    }
   ],
   "source": [
    "rf_random.fit(X_train, y_train_log)"
   ]
  },
  {
   "cell_type": "code",
   "execution_count": 287,
   "metadata": {
    "scrolled": true
   },
   "outputs": [
    {
     "data": {
      "text/plain": [
       "{'bootstrap': True,\n",
       " 'max_depth': 100,\n",
       " 'max_features': 'auto',\n",
       " 'min_samples_leaf': 1,\n",
       " 'min_samples_split': 2,\n",
       " 'n_estimators': 1400}"
      ]
     },
     "execution_count": 287,
     "metadata": {},
     "output_type": "execute_result"
    }
   ],
   "source": [
    "rf_random.best_params_"
   ]
  },
  {
   "cell_type": "code",
   "execution_count": 288,
   "metadata": {},
   "outputs": [
    {
     "data": {
      "text/plain": [
       "0.13510411409456594"
      ]
     },
     "execution_count": 288,
     "metadata": {},
     "output_type": "execute_result"
    }
   ],
   "source": [
    "np.sqrt(mean_squared_log_error(y_test,((10**rf_random.predict(X_test)))))"
   ]
  },
  {
   "cell_type": "code",
   "execution_count": 289,
   "metadata": {},
   "outputs": [
    {
     "data": {
      "text/plain": [
       "0.054291120614910794"
      ]
     },
     "execution_count": 289,
     "metadata": {},
     "output_type": "execute_result"
    }
   ],
   "source": [
    "np.sqrt(mean_squared_log_error(y_train,10**rf_random.predict(X_train)))"
   ]
  },
  {
   "cell_type": "code",
   "execution_count": 290,
   "metadata": {
    "collapsed": true
   },
   "outputs": [],
   "source": [
    "test_pred = 10**rf_random.predict(test_final)"
   ]
  },
  {
   "cell_type": "code",
   "execution_count": 291,
   "metadata": {
    "collapsed": true
   },
   "outputs": [],
   "source": [
    "test_pred = pd.DataFrame(test_pred,columns=['Price'])"
   ]
  },
  {
   "cell_type": "code",
   "execution_count": 292,
   "metadata": {
    "collapsed": true
   },
   "outputs": [],
   "source": [
    "test_pred.to_excel(\"C:/Users/LENOVO/Desktop/RF_Random_v1.xlsx\",index=False)"
   ]
  },
  {
   "cell_type": "code",
   "execution_count": 293,
   "metadata": {
    "scrolled": false
   },
   "outputs": [
    {
     "data": {
      "text/html": [
       "<div>\n",
       "<style>\n",
       "    .dataframe thead tr:only-child th {\n",
       "        text-align: right;\n",
       "    }\n",
       "\n",
       "    .dataframe thead th {\n",
       "        text-align: left;\n",
       "    }\n",
       "\n",
       "    .dataframe tbody tr th {\n",
       "        vertical-align: top;\n",
       "    }\n",
       "</style>\n",
       "<table border=\"1\" class=\"dataframe\">\n",
       "  <thead>\n",
       "    <tr style=\"text-align: right;\">\n",
       "      <th></th>\n",
       "      <th>Airline__Air Asia</th>\n",
       "      <th>Airline__Air India</th>\n",
       "      <th>Airline__GoAir</th>\n",
       "      <th>Airline__IndiGo</th>\n",
       "      <th>Airline__Jet Airways</th>\n",
       "      <th>Airline__Jet Airways Business</th>\n",
       "      <th>Airline__Multiple carriers</th>\n",
       "      <th>Airline__Multiple carriers Premium economy</th>\n",
       "      <th>Airline__SpiceJet</th>\n",
       "      <th>Airline__Vistara</th>\n",
       "      <th>Airline__Vistara Premium economy</th>\n",
       "      <th>Source__Banglore</th>\n",
       "      <th>Source__Chennai</th>\n",
       "      <th>Source__Delhi</th>\n",
       "      <th>Source__Kolkata</th>\n",
       "      <th>Source__Mumbai</th>\n",
       "      <th>Destination__Banglore</th>\n",
       "      <th>Destination__Cochin</th>\n",
       "      <th>Destination__Delhi</th>\n",
       "      <th>Destination__Hyderabad</th>\n",
       "      <th>Destination__Kolkata</th>\n",
       "      <th>Destination__New Delhi</th>\n",
       "      <th>Additional_Info__In-flight meal not included</th>\n",
       "      <th>Additional_Info__No Info</th>\n",
       "      <th>Additional_Info__No check-in baggage included</th>\n",
       "      <th>Additional_Info__Others</th>\n",
       "      <th>Encoded_stops</th>\n",
       "      <th>Journey_Day</th>\n",
       "      <th>Journey_Month</th>\n",
       "      <th>Journey_day_of_week</th>\n",
       "      <th>Journey_over_weekend</th>\n",
       "      <th>Duration_Type</th>\n",
       "      <th>Fly_Hours</th>\n",
       "      <th>Arrival_Hours</th>\n",
       "    </tr>\n",
       "  </thead>\n",
       "  <tbody>\n",
       "    <tr>\n",
       "      <th>0</th>\n",
       "      <td>0</td>\n",
       "      <td>0</td>\n",
       "      <td>0</td>\n",
       "      <td>0</td>\n",
       "      <td>1</td>\n",
       "      <td>0</td>\n",
       "      <td>0</td>\n",
       "      <td>0</td>\n",
       "      <td>0</td>\n",
       "      <td>0</td>\n",
       "      <td>0</td>\n",
       "      <td>0</td>\n",
       "      <td>0</td>\n",
       "      <td>1</td>\n",
       "      <td>0</td>\n",
       "      <td>0</td>\n",
       "      <td>0</td>\n",
       "      <td>1</td>\n",
       "      <td>0</td>\n",
       "      <td>0</td>\n",
       "      <td>0</td>\n",
       "      <td>0</td>\n",
       "      <td>0</td>\n",
       "      <td>1</td>\n",
       "      <td>0</td>\n",
       "      <td>0</td>\n",
       "      <td>1</td>\n",
       "      <td>6</td>\n",
       "      <td>6</td>\n",
       "      <td>3</td>\n",
       "      <td>0</td>\n",
       "      <td>655</td>\n",
       "      <td>1050</td>\n",
       "      <td>265</td>\n",
       "    </tr>\n",
       "    <tr>\n",
       "      <th>1</th>\n",
       "      <td>0</td>\n",
       "      <td>0</td>\n",
       "      <td>0</td>\n",
       "      <td>1</td>\n",
       "      <td>0</td>\n",
       "      <td>0</td>\n",
       "      <td>0</td>\n",
       "      <td>0</td>\n",
       "      <td>0</td>\n",
       "      <td>0</td>\n",
       "      <td>0</td>\n",
       "      <td>0</td>\n",
       "      <td>0</td>\n",
       "      <td>0</td>\n",
       "      <td>1</td>\n",
       "      <td>0</td>\n",
       "      <td>1</td>\n",
       "      <td>0</td>\n",
       "      <td>0</td>\n",
       "      <td>0</td>\n",
       "      <td>0</td>\n",
       "      <td>0</td>\n",
       "      <td>0</td>\n",
       "      <td>1</td>\n",
       "      <td>0</td>\n",
       "      <td>0</td>\n",
       "      <td>1</td>\n",
       "      <td>12</td>\n",
       "      <td>5</td>\n",
       "      <td>6</td>\n",
       "      <td>1</td>\n",
       "      <td>240</td>\n",
       "      <td>380</td>\n",
       "      <td>620</td>\n",
       "    </tr>\n",
       "    <tr>\n",
       "      <th>2</th>\n",
       "      <td>0</td>\n",
       "      <td>0</td>\n",
       "      <td>0</td>\n",
       "      <td>0</td>\n",
       "      <td>1</td>\n",
       "      <td>0</td>\n",
       "      <td>0</td>\n",
       "      <td>0</td>\n",
       "      <td>0</td>\n",
       "      <td>0</td>\n",
       "      <td>0</td>\n",
       "      <td>0</td>\n",
       "      <td>0</td>\n",
       "      <td>1</td>\n",
       "      <td>0</td>\n",
       "      <td>0</td>\n",
       "      <td>0</td>\n",
       "      <td>1</td>\n",
       "      <td>0</td>\n",
       "      <td>0</td>\n",
       "      <td>0</td>\n",
       "      <td>0</td>\n",
       "      <td>1</td>\n",
       "      <td>0</td>\n",
       "      <td>0</td>\n",
       "      <td>0</td>\n",
       "      <td>1</td>\n",
       "      <td>21</td>\n",
       "      <td>5</td>\n",
       "      <td>1</td>\n",
       "      <td>0</td>\n",
       "      <td>1425</td>\n",
       "      <td>1155</td>\n",
       "      <td>1140</td>\n",
       "    </tr>\n",
       "    <tr>\n",
       "      <th>3</th>\n",
       "      <td>0</td>\n",
       "      <td>0</td>\n",
       "      <td>0</td>\n",
       "      <td>0</td>\n",
       "      <td>0</td>\n",
       "      <td>0</td>\n",
       "      <td>1</td>\n",
       "      <td>0</td>\n",
       "      <td>0</td>\n",
       "      <td>0</td>\n",
       "      <td>0</td>\n",
       "      <td>0</td>\n",
       "      <td>0</td>\n",
       "      <td>1</td>\n",
       "      <td>0</td>\n",
       "      <td>0</td>\n",
       "      <td>0</td>\n",
       "      <td>1</td>\n",
       "      <td>0</td>\n",
       "      <td>0</td>\n",
       "      <td>0</td>\n",
       "      <td>0</td>\n",
       "      <td>0</td>\n",
       "      <td>1</td>\n",
       "      <td>0</td>\n",
       "      <td>0</td>\n",
       "      <td>1</td>\n",
       "      <td>21</td>\n",
       "      <td>5</td>\n",
       "      <td>1</td>\n",
       "      <td>0</td>\n",
       "      <td>780</td>\n",
       "      <td>480</td>\n",
       "      <td>1260</td>\n",
       "    </tr>\n",
       "    <tr>\n",
       "      <th>4</th>\n",
       "      <td>1</td>\n",
       "      <td>0</td>\n",
       "      <td>0</td>\n",
       "      <td>0</td>\n",
       "      <td>0</td>\n",
       "      <td>0</td>\n",
       "      <td>0</td>\n",
       "      <td>0</td>\n",
       "      <td>0</td>\n",
       "      <td>0</td>\n",
       "      <td>0</td>\n",
       "      <td>1</td>\n",
       "      <td>0</td>\n",
       "      <td>0</td>\n",
       "      <td>0</td>\n",
       "      <td>0</td>\n",
       "      <td>0</td>\n",
       "      <td>0</td>\n",
       "      <td>1</td>\n",
       "      <td>0</td>\n",
       "      <td>0</td>\n",
       "      <td>0</td>\n",
       "      <td>0</td>\n",
       "      <td>1</td>\n",
       "      <td>0</td>\n",
       "      <td>0</td>\n",
       "      <td>0</td>\n",
       "      <td>24</td>\n",
       "      <td>6</td>\n",
       "      <td>0</td>\n",
       "      <td>0</td>\n",
       "      <td>170</td>\n",
       "      <td>1435</td>\n",
       "      <td>165</td>\n",
       "    </tr>\n",
       "  </tbody>\n",
       "</table>\n",
       "</div>"
      ],
      "text/plain": [
       "   Airline__Air Asia  Airline__Air India  Airline__GoAir  Airline__IndiGo  \\\n",
       "0                  0                   0               0                0   \n",
       "1                  0                   0               0                1   \n",
       "2                  0                   0               0                0   \n",
       "3                  0                   0               0                0   \n",
       "4                  1                   0               0                0   \n",
       "\n",
       "   Airline__Jet Airways  Airline__Jet Airways Business  \\\n",
       "0                     1                              0   \n",
       "1                     0                              0   \n",
       "2                     1                              0   \n",
       "3                     0                              0   \n",
       "4                     0                              0   \n",
       "\n",
       "   Airline__Multiple carriers  Airline__Multiple carriers Premium economy  \\\n",
       "0                           0                                           0   \n",
       "1                           0                                           0   \n",
       "2                           0                                           0   \n",
       "3                           1                                           0   \n",
       "4                           0                                           0   \n",
       "\n",
       "   Airline__SpiceJet  Airline__Vistara  Airline__Vistara Premium economy  \\\n",
       "0                  0                 0                                 0   \n",
       "1                  0                 0                                 0   \n",
       "2                  0                 0                                 0   \n",
       "3                  0                 0                                 0   \n",
       "4                  0                 0                                 0   \n",
       "\n",
       "   Source__Banglore  Source__Chennai  Source__Delhi  Source__Kolkata  \\\n",
       "0                 0                0              1                0   \n",
       "1                 0                0              0                1   \n",
       "2                 0                0              1                0   \n",
       "3                 0                0              1                0   \n",
       "4                 1                0              0                0   \n",
       "\n",
       "   Source__Mumbai  Destination__Banglore  Destination__Cochin  \\\n",
       "0               0                      0                    1   \n",
       "1               0                      1                    0   \n",
       "2               0                      0                    1   \n",
       "3               0                      0                    1   \n",
       "4               0                      0                    0   \n",
       "\n",
       "   Destination__Delhi  Destination__Hyderabad  Destination__Kolkata  \\\n",
       "0                   0                       0                     0   \n",
       "1                   0                       0                     0   \n",
       "2                   0                       0                     0   \n",
       "3                   0                       0                     0   \n",
       "4                   1                       0                     0   \n",
       "\n",
       "   Destination__New Delhi  Additional_Info__In-flight meal not included  \\\n",
       "0                       0                                             0   \n",
       "1                       0                                             0   \n",
       "2                       0                                             1   \n",
       "3                       0                                             0   \n",
       "4                       0                                             0   \n",
       "\n",
       "   Additional_Info__No Info  Additional_Info__No check-in baggage included  \\\n",
       "0                         1                                              0   \n",
       "1                         1                                              0   \n",
       "2                         0                                              0   \n",
       "3                         1                                              0   \n",
       "4                         1                                              0   \n",
       "\n",
       "   Additional_Info__Others  Encoded_stops  Journey_Day  Journey_Month  \\\n",
       "0                        0              1            6              6   \n",
       "1                        0              1           12              5   \n",
       "2                        0              1           21              5   \n",
       "3                        0              1           21              5   \n",
       "4                        0              0           24              6   \n",
       "\n",
       "   Journey_day_of_week  Journey_over_weekend  Duration_Type  Fly_Hours  \\\n",
       "0                    3                     0            655       1050   \n",
       "1                    6                     1            240        380   \n",
       "2                    1                     0           1425       1155   \n",
       "3                    1                     0            780        480   \n",
       "4                    0                     0            170       1435   \n",
       "\n",
       "   Arrival_Hours  \n",
       "0            265  \n",
       "1            620  \n",
       "2           1140  \n",
       "3           1260  \n",
       "4            165  "
      ]
     },
     "execution_count": 293,
     "metadata": {},
     "output_type": "execute_result"
    }
   ],
   "source": [
    "test_copy.head()"
   ]
  },
  {
   "cell_type": "markdown",
   "metadata": {},
   "source": [
    "## Grid Search"
   ]
  },
  {
   "cell_type": "code",
   "execution_count": 88,
   "metadata": {
    "collapsed": true
   },
   "outputs": [],
   "source": [
    "param_grid = {\n",
    "    'bootstrap': [True],\n",
    "    'max_depth': [10,20,30,40,50],\n",
    "    'max_features': [2,3],\n",
    "    'min_samples_leaf': [3,4,5],\n",
    "    'min_samples_split': [8,10,12],\n",
    "    'n_estimators': [100,200,400,600,800]\n",
    "}"
   ]
  },
  {
   "cell_type": "code",
   "execution_count": 89,
   "metadata": {
    "collapsed": true
   },
   "outputs": [],
   "source": [
    "rf = RandomForestRegressor()"
   ]
  },
  {
   "cell_type": "code",
   "execution_count": 90,
   "metadata": {
    "collapsed": true
   },
   "outputs": [],
   "source": [
    "grid_search = GridSearchCV(estimator = rf, param_grid = param_grid, \n",
    "                          cv = 3, n_jobs = -1, verbose = 2)"
   ]
  },
  {
   "cell_type": "code",
   "execution_count": 91,
   "metadata": {
    "scrolled": true
   },
   "outputs": [
    {
     "name": "stdout",
     "output_type": "stream",
     "text": [
      "Fitting 3 folds for each of 450 candidates, totalling 1350 fits\n"
     ]
    },
    {
     "name": "stderr",
     "output_type": "stream",
     "text": [
      "[Parallel(n_jobs=-1)]: Done  37 tasks      | elapsed:   43.1s\n",
      "[Parallel(n_jobs=-1)]: Done 158 tasks      | elapsed:  3.1min\n",
      "[Parallel(n_jobs=-1)]: Done 361 tasks      | elapsed:  7.6min\n",
      "[Parallel(n_jobs=-1)]: Done 644 tasks      | elapsed: 14.1min\n",
      "[Parallel(n_jobs=-1)]: Done 1009 tasks      | elapsed: 23.1min\n",
      "[Parallel(n_jobs=-1)]: Done 1350 out of 1350 | elapsed: 31.5min finished\n"
     ]
    },
    {
     "data": {
      "text/plain": [
       "GridSearchCV(cv=3, error_score='raise',\n",
       "       estimator=RandomForestRegressor(bootstrap=True, criterion='mse', max_depth=None,\n",
       "           max_features='auto', max_leaf_nodes=None,\n",
       "           min_impurity_decrease=0.0, min_impurity_split=None,\n",
       "           min_samples_leaf=1, min_samples_split=2,\n",
       "           min_weight_fraction_leaf=0.0, n_estimators=10, n_jobs=1,\n",
       "           oob_score=False, random_state=None, verbose=0, warm_start=False),\n",
       "       fit_params=None, iid=True, n_jobs=-1,\n",
       "       param_grid={'min_samples_leaf': [3, 4, 5], 'min_samples_split': [8, 10, 12], 'max_depth': [10, 20, 30, 40, 50], 'bootstrap': [True], 'max_features': [2, 3], 'n_estimators': [100, 200, 400, 600, 800]},\n",
       "       pre_dispatch='2*n_jobs', refit=True, return_train_score=True,\n",
       "       scoring=None, verbose=2)"
      ]
     },
     "execution_count": 91,
     "metadata": {},
     "output_type": "execute_result"
    }
   ],
   "source": [
    "grid_search.fit(X_train, y_train_log)"
   ]
  },
  {
   "cell_type": "code",
   "execution_count": 92,
   "metadata": {
    "scrolled": true
   },
   "outputs": [
    {
     "data": {
      "text/plain": [
       "{'bootstrap': True,\n",
       " 'max_depth': 50,\n",
       " 'max_features': 3,\n",
       " 'min_samples_leaf': 3,\n",
       " 'min_samples_split': 8,\n",
       " 'n_estimators': 800}"
      ]
     },
     "execution_count": 92,
     "metadata": {},
     "output_type": "execute_result"
    }
   ],
   "source": [
    "grid_search.best_params_"
   ]
  },
  {
   "cell_type": "code",
   "execution_count": 93,
   "metadata": {
    "collapsed": true
   },
   "outputs": [],
   "source": [
    "y_pred_test = grid_search.predict(X_test)"
   ]
  },
  {
   "cell_type": "code",
   "execution_count": 94,
   "metadata": {
    "collapsed": true
   },
   "outputs": [],
   "source": [
    "y_pred_train = grid_search.predict(X_train)"
   ]
  },
  {
   "cell_type": "code",
   "execution_count": 95,
   "metadata": {},
   "outputs": [
    {
     "data": {
      "text/plain": [
       "0.20892480594059046"
      ]
     },
     "execution_count": 95,
     "metadata": {},
     "output_type": "execute_result"
    }
   ],
   "source": [
    "np.sqrt(mean_squared_log_error(y_test,10**grid_search.predict(X_test)))"
   ]
  },
  {
   "cell_type": "code",
   "execution_count": 96,
   "metadata": {},
   "outputs": [
    {
     "data": {
      "text/plain": [
       "0.18887319734227012"
      ]
     },
     "execution_count": 96,
     "metadata": {},
     "output_type": "execute_result"
    }
   ],
   "source": [
    "np.sqrt(mean_squared_log_error(y_train,10**grid_search.predict(X_train)))"
   ]
  },
  {
   "cell_type": "code",
   "execution_count": 97,
   "metadata": {
    "collapsed": true
   },
   "outputs": [],
   "source": [
    "test_pred = 10**grid_search.predict(test_final)"
   ]
  },
  {
   "cell_type": "code",
   "execution_count": 259,
   "metadata": {
    "collapsed": true
   },
   "outputs": [],
   "source": [
    "test_pred = pd.DataFrame(test_pred,columns=['Price'])"
   ]
  },
  {
   "cell_type": "code",
   "execution_count": 260,
   "metadata": {
    "collapsed": true
   },
   "outputs": [],
   "source": [
    "test_pred.to_excel(\"C:/Users/LENOVO/Desktop/RF_Grid_v1.xlsx\",index=False)"
   ]
  }
 ],
 "metadata": {
  "kernelspec": {
   "display_name": "Python 3",
   "language": "python",
   "name": "python3"
  },
  "language_info": {
   "codemirror_mode": {
    "name": "ipython",
    "version": 3
   },
   "file_extension": ".py",
   "mimetype": "text/x-python",
   "name": "python",
   "nbconvert_exporter": "python",
   "pygments_lexer": "ipython3",
   "version": "3.5.4"
  }
 },
 "nbformat": 4,
 "nbformat_minor": 2
}
