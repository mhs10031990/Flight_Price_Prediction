{
 "cells": [
  {
   "cell_type": "code",
   "execution_count": 1,
   "metadata": {
    "collapsed": true
   },
   "outputs": [],
   "source": [
    "import pandas as pd\n",
    "import numpy as np\n",
    "from sklearn.model_selection import train_test_split\n",
    "from sklearn.ensemble import RandomForestRegressor\n",
    "from sklearn.linear_model import LinearRegression\n",
    "from sklearn.metrics import mean_squared_log_error\n",
    "import pandas_profiling as pp\n",
    "from sklearn.linear_model import Lasso, Ridge\n",
    "from sklearn.ensemble import RandomForestRegressor\n",
    "from sklearn.model_selection import RandomizedSearchCV,GridSearchCV\n",
    "import xgboost\n",
    "from sklearn.preprocessing import MinMaxScaler, StandardScaler"
   ]
  },
  {
   "cell_type": "code",
   "execution_count": 2,
   "metadata": {
    "collapsed": true
   },
   "outputs": [],
   "source": [
    "pd.set_option('display.max_columns', 1000)"
   ]
  },
  {
   "cell_type": "code",
   "execution_count": 3,
   "metadata": {
    "collapsed": true
   },
   "outputs": [],
   "source": [
    "def onehotencode(data,col_name,prefix):\n",
    "    return pd.concat([data, pd.get_dummies(data[col_name], prefix=prefix)],axis=1)"
   ]
  },
  {
   "cell_type": "code",
   "execution_count": 4,
   "metadata": {
    "collapsed": true
   },
   "outputs": [],
   "source": [
    "def encode_total_stops(data):\n",
    "    data['Encoded_stops'] = 0\n",
    "    for i in range(0,len(data['Total_Stops'])):\n",
    "        if data.loc[i, 'Total_Stops'] == '1 stop':\n",
    "            data.loc[i,'Encoded_stops'] = 1\n",
    "        elif data.loc[i, 'Total_Stops'] == '2 stops':\n",
    "            data.loc[i,'Encoded_stops'] = 2\n",
    "        elif data.loc[i, 'Total_Stops'] == '3 stops' or data.loc[i, 'Total_Stops'] == '':\n",
    "            data.loc[i,'Encoded_stops'] = 3\n",
    "        elif data.loc[i, 'Total_Stops'] == '4 stops':\n",
    "            data.loc[i,'Encoded_stops'] = 4\n",
    "        elif data.loc[i, 'Total_Stops'] == 'non-stop':\n",
    "            data.loc[i,'Encoded_stops'] = 0\n",
    "\n",
    "    return data"
   ]
  },
  {
   "cell_type": "code",
   "execution_count": 5,
   "metadata": {
    "collapsed": true
   },
   "outputs": [],
   "source": [
    "def extract_journey_data(data):\n",
    "    data['Journey_Day'] = pd.DataFrame(pd.to_datetime(data['Date_of_Journey'], format='%d/%m/%Y').dt.day)\n",
    "    data['Journey_Month'] = pd.DataFrame(pd.to_datetime(data['Date_of_Journey'], format='%d/%m/%Y').dt.month)\n",
    "    data['Journey_day_of_week'] =  pd.DataFrame(((pd.to_datetime(data['Date_of_Journey'], format='%d/%m/%Y').dt.weekday_name)))\n",
    "    data['Journey_over_weekend'] =  pd.DataFrame(((pd.to_datetime(data['Date_of_Journey'], format='%d/%m/%Y').dt.dayofweek) // 5).astype('int'))\n",
    "    data['Date_Lapse'] = ((pd.to_datetime(data['Date_of_Journey'], format='%d/%m/%Y')) - \n",
    "                                        (pd.to_datetime('01/03/2019', format='%d/%m/%Y')))/np.timedelta64(1,'D')\n",
    "#    data['is_friday'] = 0\n",
    "#    data.loc[data['Journey_day_of_week'] == 4, 'is_friday'] = 1\n",
    "        \n",
    "    return data"
   ]
  },
  {
   "cell_type": "code",
   "execution_count": 6,
   "metadata": {
    "collapsed": true
   },
   "outputs": [],
   "source": [
    "def encode_duration(data):\n",
    "    data['Duration_Type'] = 0\n",
    "    for i in range(0, len(data)):\n",
    "    \n",
    "        split_len = data.loc[i,'Duration'].split(' ')\n",
    "        if len(split_len) == 1:\n",
    "            if str(data.loc[i,'Duration']).find('h') != -1:\n",
    "#                print (\"hours: \",data.loc[i,'Duration'])\n",
    "                hours = int(split_len[0].replace('h',\"\"))\n",
    "                mins = 0\n",
    "            else:\n",
    "                hours = 4 \n",
    "#                print (\"mins: \",data.loc[i,'Duration']\n",
    "                mins = int(split_len[0].replace('m',\"\"))\n",
    "        else:\n",
    "            \n",
    "            hours = int(split_len[0].replace('h',\"\"))\n",
    "            mins  = int(split_len[1].replace('m',\"\"))\n",
    "        \n",
    "        data.loc[i,'Duration_Type'] = (hours*60 + mins)/1440\n",
    "        \n",
    "    return data"
   ]
  },
  {
   "cell_type": "code",
   "execution_count": 7,
   "metadata": {},
   "outputs": [
    {
     "data": {
      "text/plain": [
       "\"\\ndef encode_duration(data):\\n    data_copy['Duration_Type'] = 0\\n    for i in range(0, len(data)):\\n    \\n        try:\\n            val = int(str(data.loc[i,'Duration'].split('h')[0]))\\n        except:\\n            # this is for AirIndia for with flight duration as '5m', changing the duration\\n            #based on same row for AirIndia for same destination at same time with same stop overs.\\n            val = 4\\n            \\n       \\n        if val < 3:\\n            data.loc[i,'Duration_Type'] = 0.0\\n        elif val < 6:\\n            data.loc[i,'Duration_Type'] = 0.1\\n        elif val < 12:\\n            data.loc[i,'Duration_Type'] = 0.2\\n        else:\\n            data.loc[i,'Duration_Type'] = 0.3\\n        \\n    return data\\n\""
      ]
     },
     "execution_count": 7,
     "metadata": {},
     "output_type": "execute_result"
    }
   ],
   "source": [
    "'''\n",
    "def encode_duration(data):\n",
    "    data_copy['Duration_Type'] = 0\n",
    "    for i in range(0, len(data)):\n",
    "    \n",
    "        try:\n",
    "            val = int(str(data.loc[i,'Duration'].split('h')[0]))\n",
    "        except:\n",
    "            # this is for AirIndia for with flight duration as '5m', changing the duration\n",
    "            #based on same row for AirIndia for same destination at same time with same stop overs.\n",
    "            val = 4\n",
    "            \n",
    "       \n",
    "        if val < 3:\n",
    "            data.loc[i,'Duration_Type'] = 0.0\n",
    "        elif val < 6:\n",
    "            data.loc[i,'Duration_Type'] = 0.1\n",
    "        elif val < 12:\n",
    "            data.loc[i,'Duration_Type'] = 0.2\n",
    "        else:\n",
    "            data.loc[i,'Duration_Type'] = 0.3\n",
    "        \n",
    "    return data\n",
    "'''"
   ]
  },
  {
   "cell_type": "code",
   "execution_count": 8,
   "metadata": {
    "scrolled": true
   },
   "outputs": [
    {
     "data": {
      "text/plain": [
       "'\\ndef flight_hours(data):\\n    data[\\'Fly_Hours\\'] = 0\\n    \\n    data_Dep_Time = data[\\'Dep_Time\\'].str.split(\":\",n=1,expand=True).astype(\\'int64\\')\\n    data_Dep_Time.columns = [\\'Hours\\',\\'Mins\\']\\n    for i in range(0,len(data)):\\n        \\n        val = data_Dep_Time.loc[i, \\'Hours\\']\\n        \\n        if val == 0:\\n            data.loc[i,\\'Fly_Hours\\'] = \\'Midnight\\'\\n        elif val >= 1 and val < 4:\\n            data.loc[i,\\'Fly_Hours\\'] = \\'Early_Morning\\'\\n        elif val >= 4 and val < 6:\\n            data.loc[i,\\'Fly_Hours\\'] = \\'Dawn\\'\\n        elif val >= 6 and val < 9:\\n            data.loc[i,\\'Fly_Hours\\'] = \\'Morning\\'\\n        elif val >= 9 and val < 12:\\n            data.loc[i,\\'Fly_Hours\\'] = \\'Mid_Morning\\'\\n        elif val >= 12 and val < 13:\\n            data.loc[i,\\'Fly_Hours\\'] = \\'Noon\\'\\n        elif val >= 13 and val < 16:\\n            data.loc[i,\\'Fly_Hours\\'] = \\'After_Noon\\'\\n        elif val >= 16 and val < 21:\\n            data.loc[i,\\'Fly_Hours\\'] = \\'Evening\\'\\n        elif val >= 21 and val <= 23:\\n            data.loc[i,\\'Fly_Hours\\'] = \\'Night\\'\\n            \\n    return data\\n'"
      ]
     },
     "execution_count": 8,
     "metadata": {},
     "output_type": "execute_result"
    }
   ],
   "source": [
    "'''\n",
    "def flight_hours(data):\n",
    "    data['Fly_Hours'] = 0\n",
    "    \n",
    "    data_Dep_Time = data['Dep_Time'].str.split(\":\",n=1,expand=True).astype('int64')\n",
    "    data_Dep_Time.columns = ['Hours','Mins']\n",
    "    for i in range(0,len(data)):\n",
    "        \n",
    "        val = data_Dep_Time.loc[i, 'Hours']\n",
    "        \n",
    "        if val == 0:\n",
    "            data.loc[i,'Fly_Hours'] = 'Midnight'\n",
    "        elif val >= 1 and val < 4:\n",
    "            data.loc[i,'Fly_Hours'] = 'Early_Morning'\n",
    "        elif val >= 4 and val < 6:\n",
    "            data.loc[i,'Fly_Hours'] = 'Dawn'\n",
    "        elif val >= 6 and val < 9:\n",
    "            data.loc[i,'Fly_Hours'] = 'Morning'\n",
    "        elif val >= 9 and val < 12:\n",
    "            data.loc[i,'Fly_Hours'] = 'Mid_Morning'\n",
    "        elif val >= 12 and val < 13:\n",
    "            data.loc[i,'Fly_Hours'] = 'Noon'\n",
    "        elif val >= 13 and val < 16:\n",
    "            data.loc[i,'Fly_Hours'] = 'After_Noon'\n",
    "        elif val >= 16 and val < 21:\n",
    "            data.loc[i,'Fly_Hours'] = 'Evening'\n",
    "        elif val >= 21 and val <= 23:\n",
    "            data.loc[i,'Fly_Hours'] = 'Night'\n",
    "            \n",
    "    return data\n",
    "'''"
   ]
  },
  {
   "cell_type": "code",
   "execution_count": 9,
   "metadata": {
    "collapsed": true
   },
   "outputs": [],
   "source": [
    "def flight_hours(data):\n",
    "    data['Fly_Hours'] = 0\n",
    "    \n",
    "    data_Dep_Time = data['Dep_Time'].str.split(\":\",n=1,expand=True).astype('int64')\n",
    "    data_Dep_Time.columns = ['Hours','Mins']\n",
    "    for i in range(0,len(data)):\n",
    "        \n",
    "        hr = data_Dep_Time.loc[i, 'Hours']\n",
    "        min = data_Dep_Time.loc[i, 'Mins']\n",
    "        data.loc[i,'Fly_Hours'] = (hr*60 + (min))/1440\n",
    "            \n",
    "    return data"
   ]
  },
  {
   "cell_type": "code",
   "execution_count": 10,
   "metadata": {
    "collapsed": true
   },
   "outputs": [],
   "source": [
    "def arrival_hours(data):\n",
    "    data['Arrival_Hours'] = 0\n",
    "    for i in range(0,len(data)):\n",
    "      \n",
    "        data_Arr_Time = data.loc[i,'Arrival_Time'].split(\" \")[0]\n",
    "        data_Dep_Time = data_Arr_Time.split(\":\")\n",
    "        \n",
    "        hr = int(data_Dep_Time[0])\n",
    "        min = int(data_Dep_Time[1])\n",
    "        data.loc[i,'Arrival_Hours'] = (hr*60 + (min))/1440\n",
    "            \n",
    "    return data"
   ]
  },
  {
   "cell_type": "code",
   "execution_count": 11,
   "metadata": {
    "collapsed": true
   },
   "outputs": [],
   "source": [
    "def log_transform(data):\n",
    "    return np.log10(data)"
   ]
  },
  {
   "cell_type": "markdown",
   "metadata": {},
   "source": [
    "# Data cleaning and Modeling starts here"
   ]
  },
  {
   "cell_type": "code",
   "execution_count": 12,
   "metadata": {
    "collapsed": true
   },
   "outputs": [],
   "source": [
    "data = pd.read_excel('C:\\\\Users\\\\LENOVO\\\\Desktop\\\\Flight_Ticket_Participant_Datasets\\\\Data_Train.xlsx')"
   ]
  },
  {
   "cell_type": "code",
   "execution_count": 13,
   "metadata": {
    "collapsed": true
   },
   "outputs": [],
   "source": [
    "test = pd.read_excel('C:\\\\Users\\\\LENOVO\\\\Desktop\\\\Flight_Ticket_Participant_Datasets\\\\Test_set.xlsx')"
   ]
  },
  {
   "cell_type": "code",
   "execution_count": 14,
   "metadata": {
    "collapsed": true
   },
   "outputs": [],
   "source": [
    "data_copy = data\n",
    "test_copy = test"
   ]
  },
  {
   "cell_type": "code",
   "execution_count": 15,
   "metadata": {},
   "outputs": [
    {
     "data": {
      "text/plain": [
       "(10683, 11)"
      ]
     },
     "execution_count": 15,
     "metadata": {},
     "output_type": "execute_result"
    }
   ],
   "source": [
    "data_copy.shape"
   ]
  },
  {
   "cell_type": "code",
   "execution_count": 16,
   "metadata": {
    "collapsed": true
   },
   "outputs": [],
   "source": [
    "#data_copy.drop_duplicates(keep='first', inplace=True)"
   ]
  },
  {
   "cell_type": "code",
   "execution_count": 17,
   "metadata": {},
   "outputs": [
    {
     "data": {
      "text/plain": [
       "(10683, 11)"
      ]
     },
     "execution_count": 17,
     "metadata": {},
     "output_type": "execute_result"
    }
   ],
   "source": [
    "data_copy.shape"
   ]
  },
  {
   "cell_type": "code",
   "execution_count": 18,
   "metadata": {
    "collapsed": true
   },
   "outputs": [],
   "source": [
    "#Drop anamolies.\n",
    "#data_copy = data_copy[data_copy['Price'] > data[\"Price\"].quantile(0.01)]\n",
    "#data_copy = data_copy[data_copy['Price'] < data[\"Price\"].quantile(0.99)]\n",
    "data_copy = data_copy[data_copy['Airline'] != 'Trujet']\n",
    "data_copy = data_copy[data_copy['Additional_Info'] != 'Red-eye flight']"
   ]
  },
  {
   "cell_type": "code",
   "execution_count": 19,
   "metadata": {
    "collapsed": true
   },
   "outputs": [],
   "source": [
    "#data_copy.loc[data_copy['Airline'] == 'Jet Airways Business','Airline'] = 'Jet Airways'\n",
    "#data_copy.loc[data_copy['Airline'] == 'Multiple carriers Premium economy','Airline'] = 'Multiple carriers'\n",
    "#data_copy.loc[data_copy['Airline'] == 'Vistara Premium economy','Airline'] = 'Vistara'"
   ]
  },
  {
   "cell_type": "code",
   "execution_count": 20,
   "metadata": {
    "collapsed": true
   },
   "outputs": [],
   "source": [
    "#data_copy.loc[data_copy['Destination'] == 'New Delhi','Destination'] = 'Delhi'"
   ]
  },
  {
   "cell_type": "code",
   "execution_count": 21,
   "metadata": {
    "collapsed": true
   },
   "outputs": [],
   "source": [
    "data_copy.reset_index(inplace=True)"
   ]
  },
  {
   "cell_type": "code",
   "execution_count": 22,
   "metadata": {
    "collapsed": true
   },
   "outputs": [],
   "source": [
    "data_copy = data_copy[data_copy['Airline'] != 'Trujet']"
   ]
  },
  {
   "cell_type": "code",
   "execution_count": 23,
   "metadata": {
    "collapsed": true
   },
   "outputs": [],
   "source": [
    "data_copy = onehotencode(data_copy,'Airline',\"Airline_\")"
   ]
  },
  {
   "cell_type": "code",
   "execution_count": 24,
   "metadata": {
    "scrolled": false
   },
   "outputs": [
    {
     "data": {
      "text/plain": [
       "Index(['index', 'Airline', 'Date_of_Journey', 'Source', 'Destination', 'Route',\n",
       "       'Dep_Time', 'Arrival_Time', 'Duration', 'Total_Stops',\n",
       "       'Additional_Info', 'Price', 'Airline__Air Asia', 'Airline__Air India',\n",
       "       'Airline__GoAir', 'Airline__IndiGo', 'Airline__Jet Airways',\n",
       "       'Airline__Jet Airways Business', 'Airline__Multiple carriers',\n",
       "       'Airline__Multiple carriers Premium economy', 'Airline__SpiceJet',\n",
       "       'Airline__Vistara', 'Airline__Vistara Premium economy'],\n",
       "      dtype='object')"
      ]
     },
     "execution_count": 24,
     "metadata": {},
     "output_type": "execute_result"
    }
   ],
   "source": [
    "data_copy.columns"
   ]
  },
  {
   "cell_type": "code",
   "execution_count": 25,
   "metadata": {
    "collapsed": true
   },
   "outputs": [],
   "source": [
    "data_copy = onehotencode(data_copy,'Source',\"Source_\")"
   ]
  },
  {
   "cell_type": "code",
   "execution_count": 26,
   "metadata": {
    "collapsed": true
   },
   "outputs": [],
   "source": [
    "data_copy = onehotencode(data_copy,'Destination',\"Destination_\")"
   ]
  },
  {
   "cell_type": "code",
   "execution_count": 27,
   "metadata": {
    "collapsed": true
   },
   "outputs": [],
   "source": [
    "#handle No Info, No info values before one hot encoding.\n",
    "data_copy.loc[data_copy['Additional_Info'] == 'No info','Additional_Info'] = 'No Info'\n",
    "data_copy.loc[data_copy['Additional_Info'] == '1 Long layover','Additional_Info'] = 'Layover'\n",
    "data_copy.loc[data_copy['Additional_Info'] == '1 Short layover','Additional_Info'] = 'Layover'\n",
    "data_copy.loc[data_copy['Additional_Info'] == '2 Long layover','Additional_Info'] = 'Layover'\n",
    "data_copy.loc[data_copy['Additional_Info'] == 'Business class','Additional_Info'] = 'Business_Class'\n",
    "data_copy.loc[data_copy['Additional_Info'] == 'Change airports','Additional_Info'] = 'Airport_Changed'\n",
    "\n",
    "\n",
    "data_copy = onehotencode(data_copy,'Additional_Info',\"Additional_Info_\")"
   ]
  },
  {
   "cell_type": "code",
   "execution_count": 28,
   "metadata": {
    "collapsed": true
   },
   "outputs": [],
   "source": [
    "data_copy = encode_total_stops(data_copy)"
   ]
  },
  {
   "cell_type": "code",
   "execution_count": 29,
   "metadata": {
    "collapsed": true
   },
   "outputs": [],
   "source": [
    "data_copy = extract_journey_data(data_copy)"
   ]
  },
  {
   "cell_type": "code",
   "execution_count": 30,
   "metadata": {
    "collapsed": true
   },
   "outputs": [],
   "source": [
    "data_copy = onehotencode(data_copy,'Journey_day_of_week',\"Dayis_\")"
   ]
  },
  {
   "cell_type": "code",
   "execution_count": 31,
   "metadata": {
    "collapsed": true
   },
   "outputs": [],
   "source": [
    "#data_copy['Month_Start'] = 0\n",
    "#data_copy.loc[data_copy['Journey_Day'] == 1,'Month_Start'] = 1\n",
    "#data_copy.loc[data_copy['Journey_Day'] == 3,'Month_Start'] = 1\n",
    "#data_copy.loc[data_copy['Journey_Day'] == 6,'Month_Start'] = 1\n",
    "#data_copy.loc[data_copy['Journey_Day'] == 9,'Month_Start'] = 1"
   ]
  },
  {
   "cell_type": "code",
   "execution_count": 32,
   "metadata": {
    "collapsed": true
   },
   "outputs": [],
   "source": [
    "#data_copy['is_event'] = 0\n",
    "#data_copy['is_event'] = np.where((((data_copy['Journey_Month'] == 3) & (data_copy['Journey_Day'] == 24)) |\n",
    "#                                 ((data_copy['Journey_Month'] == 4) & (data_copy['Journey_Day'] == 21)) |\n",
    "#                                 ((data_copy['Journey_Month'] == 5) & (data_copy['Journey_Day'] == 18))),1,0)"
   ]
  },
  {
   "cell_type": "code",
   "execution_count": 33,
   "metadata": {
    "collapsed": true
   },
   "outputs": [],
   "source": [
    "#data_copy['is_event'].value_counts()"
   ]
  },
  {
   "cell_type": "code",
   "execution_count": 34,
   "metadata": {
    "collapsed": true
   },
   "outputs": [],
   "source": [
    "data_copy = encode_duration(data_copy)"
   ]
  },
  {
   "cell_type": "code",
   "execution_count": 35,
   "metadata": {
    "collapsed": true
   },
   "outputs": [],
   "source": [
    "data_copy = flight_hours(data_copy)"
   ]
  },
  {
   "cell_type": "code",
   "execution_count": 36,
   "metadata": {
    "collapsed": true
   },
   "outputs": [],
   "source": [
    "data_copy = arrival_hours(data_copy)"
   ]
  },
  {
   "cell_type": "code",
   "execution_count": 37,
   "metadata": {
    "collapsed": true
   },
   "outputs": [],
   "source": [
    "data_copy = onehotencode(data_copy,'Encoded_stops',\"No_of_stops_\")"
   ]
  },
  {
   "cell_type": "code",
   "execution_count": 38,
   "metadata": {
    "collapsed": true
   },
   "outputs": [],
   "source": [
    "#data_copy = onehotencode(data_copy,'Fly_Hours',\"Fly_Hours_\")"
   ]
  },
  {
   "cell_type": "code",
   "execution_count": 39,
   "metadata": {
    "collapsed": true
   },
   "outputs": [],
   "source": [
    "data_final = data_copy"
   ]
  },
  {
   "cell_type": "code",
   "execution_count": 40,
   "metadata": {
    "collapsed": true
   },
   "outputs": [],
   "source": [
    "#data_final.loc[data_final['Encoded_stops'].isnull(),'Encoded_stops'] = 0.3"
   ]
  },
  {
   "cell_type": "code",
   "execution_count": 41,
   "metadata": {
    "collapsed": true
   },
   "outputs": [],
   "source": [
    "data_final.drop(['Airline','Date_of_Journey','Source','Destination','Route','Dep_Time','Arrival_Time','Duration',\n",
    "                'Total_Stops','Additional_Info','Journey_day_of_week','Encoded_stops'],axis=1,inplace=True)\n",
    "#                'Total_Stops','Additional_Info','Fly_Hours'],axis=1,inplace=True)"
   ]
  },
  {
   "cell_type": "code",
   "execution_count": 42,
   "metadata": {
    "collapsed": true
   },
   "outputs": [],
   "source": [
    "data_final.drop(['index'],axis=1,inplace=True)"
   ]
  },
  {
   "cell_type": "code",
   "execution_count": 43,
   "metadata": {
    "collapsed": true
   },
   "outputs": [],
   "source": [
    "train_Feature = data_copy[[x for x in data_final.columns if (x != 'Price' and x != 'index')]]\n",
    "train_Target = data_copy['Price']"
   ]
  },
  {
   "cell_type": "code",
   "execution_count": 44,
   "metadata": {
    "scrolled": true
   },
   "outputs": [
    {
     "data": {
      "text/plain": [
       "Index(['Airline__Air Asia', 'Airline__Air India', 'Airline__GoAir',\n",
       "       'Airline__IndiGo', 'Airline__Jet Airways',\n",
       "       'Airline__Jet Airways Business', 'Airline__Multiple carriers',\n",
       "       'Airline__Multiple carriers Premium economy', 'Airline__SpiceJet',\n",
       "       'Airline__Vistara', 'Airline__Vistara Premium economy',\n",
       "       'Source__Banglore', 'Source__Chennai', 'Source__Delhi',\n",
       "       'Source__Kolkata', 'Source__Mumbai', 'Destination__Banglore',\n",
       "       'Destination__Cochin', 'Destination__Delhi', 'Destination__Hyderabad',\n",
       "       'Destination__Kolkata', 'Destination__New Delhi',\n",
       "       'Additional_Info__Airport_Changed', 'Additional_Info__Business_Class',\n",
       "       'Additional_Info__In-flight meal not included',\n",
       "       'Additional_Info__Layover', 'Additional_Info__No Info',\n",
       "       'Additional_Info__No check-in baggage included', 'Journey_Day',\n",
       "       'Journey_Month', 'Journey_over_weekend', 'Date_Lapse', 'Dayis__Friday',\n",
       "       'Dayis__Monday', 'Dayis__Saturday', 'Dayis__Sunday', 'Dayis__Thursday',\n",
       "       'Dayis__Tuesday', 'Dayis__Wednesday', 'Duration_Type', 'Fly_Hours',\n",
       "       'Arrival_Hours', 'No_of_stops__0', 'No_of_stops__1', 'No_of_stops__2',\n",
       "       'No_of_stops__3', 'No_of_stops__4'],\n",
       "      dtype='object')"
      ]
     },
     "execution_count": 44,
     "metadata": {},
     "output_type": "execute_result"
    }
   ],
   "source": [
    "train_Feature.columns"
   ]
  },
  {
   "cell_type": "code",
   "execution_count": 45,
   "metadata": {
    "collapsed": true
   },
   "outputs": [],
   "source": [
    "X_train, X_test, y_train, y_test = train_test_split(train_Feature, train_Target, test_size=0.30, random_state=101)"
   ]
  },
  {
   "cell_type": "code",
   "execution_count": 46,
   "metadata": {},
   "outputs": [
    {
     "data": {
      "text/plain": [
       "Series([], dtype: float64)"
      ]
     },
     "execution_count": 46,
     "metadata": {},
     "output_type": "execute_result"
    }
   ],
   "source": [
    "null_columns=X_train.columns[X_train.isnull().any()]\n",
    "X_train[null_columns].isnull().sum()"
   ]
  },
  {
   "cell_type": "code",
   "execution_count": 47,
   "metadata": {
    "scrolled": true
   },
   "outputs": [
    {
     "data": {
      "text/html": [
       "<div>\n",
       "<style>\n",
       "    .dataframe thead tr:only-child th {\n",
       "        text-align: right;\n",
       "    }\n",
       "\n",
       "    .dataframe thead th {\n",
       "        text-align: left;\n",
       "    }\n",
       "\n",
       "    .dataframe tbody tr th {\n",
       "        vertical-align: top;\n",
       "    }\n",
       "</style>\n",
       "<table border=\"1\" class=\"dataframe\">\n",
       "  <thead>\n",
       "    <tr style=\"text-align: right;\">\n",
       "      <th></th>\n",
       "      <th>Airline__Air Asia</th>\n",
       "      <th>Airline__Air India</th>\n",
       "      <th>Airline__GoAir</th>\n",
       "      <th>Airline__IndiGo</th>\n",
       "      <th>Airline__Jet Airways</th>\n",
       "      <th>Airline__Jet Airways Business</th>\n",
       "      <th>Airline__Multiple carriers</th>\n",
       "      <th>Airline__Multiple carriers Premium economy</th>\n",
       "      <th>Airline__SpiceJet</th>\n",
       "      <th>Airline__Vistara</th>\n",
       "      <th>Airline__Vistara Premium economy</th>\n",
       "      <th>Source__Banglore</th>\n",
       "      <th>Source__Chennai</th>\n",
       "      <th>Source__Delhi</th>\n",
       "      <th>Source__Kolkata</th>\n",
       "      <th>Source__Mumbai</th>\n",
       "      <th>Destination__Banglore</th>\n",
       "      <th>Destination__Cochin</th>\n",
       "      <th>Destination__Delhi</th>\n",
       "      <th>Destination__Hyderabad</th>\n",
       "      <th>Destination__Kolkata</th>\n",
       "      <th>Destination__New Delhi</th>\n",
       "      <th>Additional_Info__Airport_Changed</th>\n",
       "      <th>Additional_Info__Business_Class</th>\n",
       "      <th>Additional_Info__In-flight meal not included</th>\n",
       "      <th>Additional_Info__Layover</th>\n",
       "      <th>Additional_Info__No Info</th>\n",
       "      <th>Additional_Info__No check-in baggage included</th>\n",
       "      <th>Journey_Day</th>\n",
       "      <th>Journey_Month</th>\n",
       "      <th>Journey_over_weekend</th>\n",
       "      <th>Date_Lapse</th>\n",
       "      <th>Dayis__Friday</th>\n",
       "      <th>Dayis__Monday</th>\n",
       "      <th>Dayis__Saturday</th>\n",
       "      <th>Dayis__Sunday</th>\n",
       "      <th>Dayis__Thursday</th>\n",
       "      <th>Dayis__Tuesday</th>\n",
       "      <th>Dayis__Wednesday</th>\n",
       "      <th>Duration_Type</th>\n",
       "      <th>Fly_Hours</th>\n",
       "      <th>Arrival_Hours</th>\n",
       "      <th>No_of_stops__0</th>\n",
       "      <th>No_of_stops__1</th>\n",
       "      <th>No_of_stops__2</th>\n",
       "      <th>No_of_stops__3</th>\n",
       "      <th>No_of_stops__4</th>\n",
       "    </tr>\n",
       "  </thead>\n",
       "  <tbody>\n",
       "    <tr>\n",
       "      <th>9541</th>\n",
       "      <td>0</td>\n",
       "      <td>0</td>\n",
       "      <td>0</td>\n",
       "      <td>0</td>\n",
       "      <td>0</td>\n",
       "      <td>0</td>\n",
       "      <td>0</td>\n",
       "      <td>0</td>\n",
       "      <td>0</td>\n",
       "      <td>1</td>\n",
       "      <td>0</td>\n",
       "      <td>0</td>\n",
       "      <td>0</td>\n",
       "      <td>1</td>\n",
       "      <td>0</td>\n",
       "      <td>0</td>\n",
       "      <td>0</td>\n",
       "      <td>1</td>\n",
       "      <td>0</td>\n",
       "      <td>0</td>\n",
       "      <td>0</td>\n",
       "      <td>0</td>\n",
       "      <td>0</td>\n",
       "      <td>0</td>\n",
       "      <td>0</td>\n",
       "      <td>0</td>\n",
       "      <td>1</td>\n",
       "      <td>0</td>\n",
       "      <td>27</td>\n",
       "      <td>4</td>\n",
       "      <td>1</td>\n",
       "      <td>57.0</td>\n",
       "      <td>0</td>\n",
       "      <td>0</td>\n",
       "      <td>1</td>\n",
       "      <td>0</td>\n",
       "      <td>0</td>\n",
       "      <td>0</td>\n",
       "      <td>0</td>\n",
       "      <td>0.131944</td>\n",
       "      <td>0.611111</td>\n",
       "      <td>0.743056</td>\n",
       "      <td>1</td>\n",
       "      <td>0</td>\n",
       "      <td>0</td>\n",
       "      <td>0</td>\n",
       "      <td>0</td>\n",
       "    </tr>\n",
       "    <tr>\n",
       "      <th>3798</th>\n",
       "      <td>0</td>\n",
       "      <td>1</td>\n",
       "      <td>0</td>\n",
       "      <td>0</td>\n",
       "      <td>0</td>\n",
       "      <td>0</td>\n",
       "      <td>0</td>\n",
       "      <td>0</td>\n",
       "      <td>0</td>\n",
       "      <td>0</td>\n",
       "      <td>0</td>\n",
       "      <td>0</td>\n",
       "      <td>0</td>\n",
       "      <td>1</td>\n",
       "      <td>0</td>\n",
       "      <td>0</td>\n",
       "      <td>0</td>\n",
       "      <td>1</td>\n",
       "      <td>0</td>\n",
       "      <td>0</td>\n",
       "      <td>0</td>\n",
       "      <td>0</td>\n",
       "      <td>0</td>\n",
       "      <td>0</td>\n",
       "      <td>0</td>\n",
       "      <td>0</td>\n",
       "      <td>1</td>\n",
       "      <td>0</td>\n",
       "      <td>21</td>\n",
       "      <td>3</td>\n",
       "      <td>0</td>\n",
       "      <td>20.0</td>\n",
       "      <td>0</td>\n",
       "      <td>0</td>\n",
       "      <td>0</td>\n",
       "      <td>0</td>\n",
       "      <td>1</td>\n",
       "      <td>0</td>\n",
       "      <td>0</td>\n",
       "      <td>1.083333</td>\n",
       "      <td>0.718750</td>\n",
       "      <td>0.802083</td>\n",
       "      <td>0</td>\n",
       "      <td>0</td>\n",
       "      <td>1</td>\n",
       "      <td>0</td>\n",
       "      <td>0</td>\n",
       "    </tr>\n",
       "    <tr>\n",
       "      <th>7863</th>\n",
       "      <td>0</td>\n",
       "      <td>0</td>\n",
       "      <td>0</td>\n",
       "      <td>0</td>\n",
       "      <td>1</td>\n",
       "      <td>0</td>\n",
       "      <td>0</td>\n",
       "      <td>0</td>\n",
       "      <td>0</td>\n",
       "      <td>0</td>\n",
       "      <td>0</td>\n",
       "      <td>1</td>\n",
       "      <td>0</td>\n",
       "      <td>0</td>\n",
       "      <td>0</td>\n",
       "      <td>0</td>\n",
       "      <td>0</td>\n",
       "      <td>0</td>\n",
       "      <td>1</td>\n",
       "      <td>0</td>\n",
       "      <td>0</td>\n",
       "      <td>0</td>\n",
       "      <td>0</td>\n",
       "      <td>0</td>\n",
       "      <td>1</td>\n",
       "      <td>0</td>\n",
       "      <td>0</td>\n",
       "      <td>0</td>\n",
       "      <td>27</td>\n",
       "      <td>6</td>\n",
       "      <td>0</td>\n",
       "      <td>118.0</td>\n",
       "      <td>0</td>\n",
       "      <td>0</td>\n",
       "      <td>0</td>\n",
       "      <td>0</td>\n",
       "      <td>1</td>\n",
       "      <td>0</td>\n",
       "      <td>0</td>\n",
       "      <td>0.121528</td>\n",
       "      <td>0.465278</td>\n",
       "      <td>0.586806</td>\n",
       "      <td>1</td>\n",
       "      <td>0</td>\n",
       "      <td>0</td>\n",
       "      <td>0</td>\n",
       "      <td>0</td>\n",
       "    </tr>\n",
       "    <tr>\n",
       "      <th>3750</th>\n",
       "      <td>1</td>\n",
       "      <td>0</td>\n",
       "      <td>0</td>\n",
       "      <td>0</td>\n",
       "      <td>0</td>\n",
       "      <td>0</td>\n",
       "      <td>0</td>\n",
       "      <td>0</td>\n",
       "      <td>0</td>\n",
       "      <td>0</td>\n",
       "      <td>0</td>\n",
       "      <td>0</td>\n",
       "      <td>0</td>\n",
       "      <td>0</td>\n",
       "      <td>1</td>\n",
       "      <td>0</td>\n",
       "      <td>1</td>\n",
       "      <td>0</td>\n",
       "      <td>0</td>\n",
       "      <td>0</td>\n",
       "      <td>0</td>\n",
       "      <td>0</td>\n",
       "      <td>0</td>\n",
       "      <td>0</td>\n",
       "      <td>0</td>\n",
       "      <td>0</td>\n",
       "      <td>1</td>\n",
       "      <td>0</td>\n",
       "      <td>15</td>\n",
       "      <td>6</td>\n",
       "      <td>1</td>\n",
       "      <td>106.0</td>\n",
       "      <td>0</td>\n",
       "      <td>0</td>\n",
       "      <td>1</td>\n",
       "      <td>0</td>\n",
       "      <td>0</td>\n",
       "      <td>0</td>\n",
       "      <td>0</td>\n",
       "      <td>0.104167</td>\n",
       "      <td>0.829861</td>\n",
       "      <td>0.934028</td>\n",
       "      <td>1</td>\n",
       "      <td>0</td>\n",
       "      <td>0</td>\n",
       "      <td>0</td>\n",
       "      <td>0</td>\n",
       "    </tr>\n",
       "    <tr>\n",
       "      <th>6726</th>\n",
       "      <td>0</td>\n",
       "      <td>0</td>\n",
       "      <td>0</td>\n",
       "      <td>1</td>\n",
       "      <td>0</td>\n",
       "      <td>0</td>\n",
       "      <td>0</td>\n",
       "      <td>0</td>\n",
       "      <td>0</td>\n",
       "      <td>0</td>\n",
       "      <td>0</td>\n",
       "      <td>0</td>\n",
       "      <td>0</td>\n",
       "      <td>0</td>\n",
       "      <td>0</td>\n",
       "      <td>1</td>\n",
       "      <td>0</td>\n",
       "      <td>0</td>\n",
       "      <td>0</td>\n",
       "      <td>1</td>\n",
       "      <td>0</td>\n",
       "      <td>0</td>\n",
       "      <td>0</td>\n",
       "      <td>0</td>\n",
       "      <td>0</td>\n",
       "      <td>0</td>\n",
       "      <td>1</td>\n",
       "      <td>0</td>\n",
       "      <td>1</td>\n",
       "      <td>5</td>\n",
       "      <td>0</td>\n",
       "      <td>61.0</td>\n",
       "      <td>0</td>\n",
       "      <td>0</td>\n",
       "      <td>0</td>\n",
       "      <td>0</td>\n",
       "      <td>0</td>\n",
       "      <td>0</td>\n",
       "      <td>1</td>\n",
       "      <td>0.062500</td>\n",
       "      <td>0.381944</td>\n",
       "      <td>0.444444</td>\n",
       "      <td>1</td>\n",
       "      <td>0</td>\n",
       "      <td>0</td>\n",
       "      <td>0</td>\n",
       "      <td>0</td>\n",
       "    </tr>\n",
       "  </tbody>\n",
       "</table>\n",
       "</div>"
      ],
      "text/plain": [
       "      Airline__Air Asia  Airline__Air India  Airline__GoAir  Airline__IndiGo  \\\n",
       "9541                  0                   0               0                0   \n",
       "3798                  0                   1               0                0   \n",
       "7863                  0                   0               0                0   \n",
       "3750                  1                   0               0                0   \n",
       "6726                  0                   0               0                1   \n",
       "\n",
       "      Airline__Jet Airways  Airline__Jet Airways Business  \\\n",
       "9541                     0                              0   \n",
       "3798                     0                              0   \n",
       "7863                     1                              0   \n",
       "3750                     0                              0   \n",
       "6726                     0                              0   \n",
       "\n",
       "      Airline__Multiple carriers  Airline__Multiple carriers Premium economy  \\\n",
       "9541                           0                                           0   \n",
       "3798                           0                                           0   \n",
       "7863                           0                                           0   \n",
       "3750                           0                                           0   \n",
       "6726                           0                                           0   \n",
       "\n",
       "      Airline__SpiceJet  Airline__Vistara  Airline__Vistara Premium economy  \\\n",
       "9541                  0                 1                                 0   \n",
       "3798                  0                 0                                 0   \n",
       "7863                  0                 0                                 0   \n",
       "3750                  0                 0                                 0   \n",
       "6726                  0                 0                                 0   \n",
       "\n",
       "      Source__Banglore  Source__Chennai  Source__Delhi  Source__Kolkata  \\\n",
       "9541                 0                0              1                0   \n",
       "3798                 0                0              1                0   \n",
       "7863                 1                0              0                0   \n",
       "3750                 0                0              0                1   \n",
       "6726                 0                0              0                0   \n",
       "\n",
       "      Source__Mumbai  Destination__Banglore  Destination__Cochin  \\\n",
       "9541               0                      0                    1   \n",
       "3798               0                      0                    1   \n",
       "7863               0                      0                    0   \n",
       "3750               0                      1                    0   \n",
       "6726               1                      0                    0   \n",
       "\n",
       "      Destination__Delhi  Destination__Hyderabad  Destination__Kolkata  \\\n",
       "9541                   0                       0                     0   \n",
       "3798                   0                       0                     0   \n",
       "7863                   1                       0                     0   \n",
       "3750                   0                       0                     0   \n",
       "6726                   0                       1                     0   \n",
       "\n",
       "      Destination__New Delhi  Additional_Info__Airport_Changed  \\\n",
       "9541                       0                                 0   \n",
       "3798                       0                                 0   \n",
       "7863                       0                                 0   \n",
       "3750                       0                                 0   \n",
       "6726                       0                                 0   \n",
       "\n",
       "      Additional_Info__Business_Class  \\\n",
       "9541                                0   \n",
       "3798                                0   \n",
       "7863                                0   \n",
       "3750                                0   \n",
       "6726                                0   \n",
       "\n",
       "      Additional_Info__In-flight meal not included  Additional_Info__Layover  \\\n",
       "9541                                             0                         0   \n",
       "3798                                             0                         0   \n",
       "7863                                             1                         0   \n",
       "3750                                             0                         0   \n",
       "6726                                             0                         0   \n",
       "\n",
       "      Additional_Info__No Info  Additional_Info__No check-in baggage included  \\\n",
       "9541                         1                                              0   \n",
       "3798                         1                                              0   \n",
       "7863                         0                                              0   \n",
       "3750                         1                                              0   \n",
       "6726                         1                                              0   \n",
       "\n",
       "      Journey_Day  Journey_Month  Journey_over_weekend  Date_Lapse  \\\n",
       "9541           27              4                     1        57.0   \n",
       "3798           21              3                     0        20.0   \n",
       "7863           27              6                     0       118.0   \n",
       "3750           15              6                     1       106.0   \n",
       "6726            1              5                     0        61.0   \n",
       "\n",
       "      Dayis__Friday  Dayis__Monday  Dayis__Saturday  Dayis__Sunday  \\\n",
       "9541              0              0                1              0   \n",
       "3798              0              0                0              0   \n",
       "7863              0              0                0              0   \n",
       "3750              0              0                1              0   \n",
       "6726              0              0                0              0   \n",
       "\n",
       "      Dayis__Thursday  Dayis__Tuesday  Dayis__Wednesday  Duration_Type  \\\n",
       "9541                0               0                 0       0.131944   \n",
       "3798                1               0                 0       1.083333   \n",
       "7863                1               0                 0       0.121528   \n",
       "3750                0               0                 0       0.104167   \n",
       "6726                0               0                 1       0.062500   \n",
       "\n",
       "      Fly_Hours  Arrival_Hours  No_of_stops__0  No_of_stops__1  \\\n",
       "9541   0.611111       0.743056               1               0   \n",
       "3798   0.718750       0.802083               0               0   \n",
       "7863   0.465278       0.586806               1               0   \n",
       "3750   0.829861       0.934028               1               0   \n",
       "6726   0.381944       0.444444               1               0   \n",
       "\n",
       "      No_of_stops__2  No_of_stops__3  No_of_stops__4  \n",
       "9541               0               0               0  \n",
       "3798               1               0               0  \n",
       "7863               0               0               0  \n",
       "3750               0               0               0  \n",
       "6726               0               0               0  "
      ]
     },
     "execution_count": 47,
     "metadata": {},
     "output_type": "execute_result"
    }
   ],
   "source": [
    "X_train.head()"
   ]
  },
  {
   "cell_type": "code",
   "execution_count": 48,
   "metadata": {
    "collapsed": true
   },
   "outputs": [],
   "source": [
    "scaler = StandardScaler()"
   ]
  },
  {
   "cell_type": "code",
   "execution_count": 49,
   "metadata": {
    "collapsed": true
   },
   "outputs": [],
   "source": [
    "X_train = pd.DataFrame(scaler.fit_transform(X_train), columns=train_Feature.columns)"
   ]
  },
  {
   "cell_type": "code",
   "execution_count": 50,
   "metadata": {
    "collapsed": true
   },
   "outputs": [],
   "source": [
    "X_test =  pd.DataFrame(scaler.transform(X_test),columns=train_Feature.columns)"
   ]
  },
  {
   "cell_type": "markdown",
   "metadata": {},
   "source": [
    "# Final Prediction on Test set starts here"
   ]
  },
  {
   "cell_type": "code",
   "execution_count": 51,
   "metadata": {
    "collapsed": true
   },
   "outputs": [],
   "source": [
    "#test_copy.loc[test_copy['Airline'] == 'Jet Airways Business','Airline'] = 'Jet Airways'\n",
    "#test_copy.loc[test_copy['Airline'] == 'Multiple carriers Premium economy','Airline'] = 'Multiple carriers'\n",
    "#test_copy.loc[test_copy['Airline'] == 'Vistara Premium economy','Airline'] = 'Vistara'"
   ]
  },
  {
   "cell_type": "code",
   "execution_count": 52,
   "metadata": {
    "collapsed": true
   },
   "outputs": [],
   "source": [
    "#test_copy.loc[test_copy['Destination'] == 'New Delhi','Destination'] = 'Delhi'"
   ]
  },
  {
   "cell_type": "code",
   "execution_count": 53,
   "metadata": {
    "collapsed": true
   },
   "outputs": [],
   "source": [
    "test_copy = onehotencode(test_copy,'Airline',\"Airline_\")"
   ]
  },
  {
   "cell_type": "code",
   "execution_count": 54,
   "metadata": {
    "collapsed": true
   },
   "outputs": [],
   "source": [
    "test_copy = onehotencode(test_copy,'Source',\"Source_\")"
   ]
  },
  {
   "cell_type": "code",
   "execution_count": 55,
   "metadata": {
    "collapsed": true
   },
   "outputs": [],
   "source": [
    "test_copy = onehotencode(test_copy,'Destination',\"Destination_\")"
   ]
  },
  {
   "cell_type": "code",
   "execution_count": 56,
   "metadata": {
    "collapsed": true
   },
   "outputs": [],
   "source": [
    "#handle No Info, No info values before one hot encoding.\n",
    "test_copy.loc[test_copy['Additional_Info'] == 'No info','Additional_Info'] = 'No Info'\n",
    "test_copy.loc[test_copy['Additional_Info'] == '1 Long layover','Additional_Info'] = 'Layover'\n",
    "test_copy.loc[test_copy['Additional_Info'] == '1 Short layover','Additional_Info'] = 'Layover'\n",
    "test_copy.loc[test_copy['Additional_Info'] == '1 Long layover','Additional_Info'] = 'Layover'\n",
    "test_copy.loc[test_copy['Additional_Info'] == 'Business class','Additional_Info'] = 'Business_Class'\n",
    "test_copy.loc[test_copy['Additional_Info'] == 'Change airports','Additional_Info'] = 'Airport_Changed'\n",
    "\n",
    "test_copy = onehotencode(test_copy,'Additional_Info',\"Additional_Info_\")"
   ]
  },
  {
   "cell_type": "code",
   "execution_count": 57,
   "metadata": {
    "collapsed": true
   },
   "outputs": [],
   "source": [
    "test_copy = encode_total_stops(test_copy)"
   ]
  },
  {
   "cell_type": "code",
   "execution_count": 58,
   "metadata": {
    "collapsed": true
   },
   "outputs": [],
   "source": [
    "test_copy = extract_journey_data(test_copy)"
   ]
  },
  {
   "cell_type": "code",
   "execution_count": 59,
   "metadata": {
    "collapsed": true
   },
   "outputs": [],
   "source": [
    "#test_copy['Month_Start'] = 0\n",
    "#test_copy.loc[test_copy['Journey_Day'] == 1,'Month_Start'] = 1\n",
    "#test_copy.loc[test_copy['Journey_Day'] == 3,'Month_Start'] = 1\n",
    "#test_copy.loc[test_copy['Journey_Day'] == 6,'Month_Start'] = 1\n",
    "#test_copy.loc[test_copy['Journey_Day'] == 9,'Month_Start'] = 1"
   ]
  },
  {
   "cell_type": "code",
   "execution_count": 60,
   "metadata": {
    "collapsed": true
   },
   "outputs": [],
   "source": [
    "#test_copy['is_event'] = 0\n",
    "#test_copy['is_event'] = np.where((((test_copy['Journey_Month'] == 3) & (test_copy['Journey_Day'] == 24)) |\n",
    "#                                 ((test_copy['Journey_Month'] == 4) & (test_copy['Journey_Day'] == 21)) |\n",
    "#                                 ((test_copy['Journey_Month'] == 5) & (test_copy['Journey_Day'] == 18))),1,0)"
   ]
  },
  {
   "cell_type": "code",
   "execution_count": 61,
   "metadata": {
    "collapsed": true
   },
   "outputs": [],
   "source": [
    "test_copy = encode_duration(test_copy)"
   ]
  },
  {
   "cell_type": "code",
   "execution_count": 62,
   "metadata": {
    "collapsed": true
   },
   "outputs": [],
   "source": [
    "test_copy = flight_hours(test_copy)"
   ]
  },
  {
   "cell_type": "code",
   "execution_count": 63,
   "metadata": {
    "collapsed": true
   },
   "outputs": [],
   "source": [
    "test_copy = arrival_hours(test_copy)"
   ]
  },
  {
   "cell_type": "code",
   "execution_count": 64,
   "metadata": {
    "collapsed": true
   },
   "outputs": [],
   "source": [
    "test_copy = onehotencode(test_copy,'Journey_day_of_week',\"Dayis_\")"
   ]
  },
  {
   "cell_type": "code",
   "execution_count": 65,
   "metadata": {
    "collapsed": true
   },
   "outputs": [],
   "source": [
    "test_copy = onehotencode(test_copy,'Encoded_stops',\"No_of_stops_\")"
   ]
  },
  {
   "cell_type": "code",
   "execution_count": 66,
   "metadata": {
    "collapsed": true
   },
   "outputs": [],
   "source": [
    "#test_copy = onehotencode(test_copy,'Fly_Hours',\"Fly_Hours_\")"
   ]
  },
  {
   "cell_type": "code",
   "execution_count": 67,
   "metadata": {
    "collapsed": true
   },
   "outputs": [],
   "source": [
    "test_final = test_copy"
   ]
  },
  {
   "cell_type": "code",
   "execution_count": 68,
   "metadata": {},
   "outputs": [
    {
     "data": {
      "text/plain": [
       "(10681, 48)"
      ]
     },
     "execution_count": 68,
     "metadata": {},
     "output_type": "execute_result"
    }
   ],
   "source": [
    "data_copy.shape"
   ]
  },
  {
   "cell_type": "code",
   "execution_count": 69,
   "metadata": {},
   "outputs": [
    {
     "data": {
      "text/plain": [
       "['Price']"
      ]
     },
     "execution_count": 69,
     "metadata": {},
     "output_type": "execute_result"
    }
   ],
   "source": [
    "[X for X in data_copy.columns if X not in test_final.columns]"
   ]
  },
  {
   "cell_type": "code",
   "execution_count": 70,
   "metadata": {
    "scrolled": false
   },
   "outputs": [
    {
     "data": {
      "text/html": [
       "<div>\n",
       "<style>\n",
       "    .dataframe thead tr:only-child th {\n",
       "        text-align: right;\n",
       "    }\n",
       "\n",
       "    .dataframe thead th {\n",
       "        text-align: left;\n",
       "    }\n",
       "\n",
       "    .dataframe tbody tr th {\n",
       "        vertical-align: top;\n",
       "    }\n",
       "</style>\n",
       "<table border=\"1\" class=\"dataframe\">\n",
       "  <thead>\n",
       "    <tr style=\"text-align: right;\">\n",
       "      <th></th>\n",
       "      <th>Price</th>\n",
       "      <th>Airline__Air Asia</th>\n",
       "      <th>Airline__Air India</th>\n",
       "      <th>Airline__GoAir</th>\n",
       "      <th>Airline__IndiGo</th>\n",
       "      <th>Airline__Jet Airways</th>\n",
       "      <th>Airline__Jet Airways Business</th>\n",
       "      <th>Airline__Multiple carriers</th>\n",
       "      <th>Airline__Multiple carriers Premium economy</th>\n",
       "      <th>Airline__SpiceJet</th>\n",
       "      <th>Airline__Vistara</th>\n",
       "      <th>Airline__Vistara Premium economy</th>\n",
       "      <th>Source__Banglore</th>\n",
       "      <th>Source__Chennai</th>\n",
       "      <th>Source__Delhi</th>\n",
       "      <th>Source__Kolkata</th>\n",
       "      <th>Source__Mumbai</th>\n",
       "      <th>Destination__Banglore</th>\n",
       "      <th>Destination__Cochin</th>\n",
       "      <th>Destination__Delhi</th>\n",
       "      <th>Destination__Hyderabad</th>\n",
       "      <th>Destination__Kolkata</th>\n",
       "      <th>Destination__New Delhi</th>\n",
       "      <th>Additional_Info__Airport_Changed</th>\n",
       "      <th>Additional_Info__Business_Class</th>\n",
       "      <th>Additional_Info__In-flight meal not included</th>\n",
       "      <th>Additional_Info__Layover</th>\n",
       "      <th>Additional_Info__No Info</th>\n",
       "      <th>Additional_Info__No check-in baggage included</th>\n",
       "      <th>Journey_Day</th>\n",
       "      <th>Journey_Month</th>\n",
       "      <th>Journey_over_weekend</th>\n",
       "      <th>Date_Lapse</th>\n",
       "      <th>Dayis__Friday</th>\n",
       "      <th>Dayis__Monday</th>\n",
       "      <th>Dayis__Saturday</th>\n",
       "      <th>Dayis__Sunday</th>\n",
       "      <th>Dayis__Thursday</th>\n",
       "      <th>Dayis__Tuesday</th>\n",
       "      <th>Dayis__Wednesday</th>\n",
       "      <th>Duration_Type</th>\n",
       "      <th>Fly_Hours</th>\n",
       "      <th>Arrival_Hours</th>\n",
       "      <th>No_of_stops__0</th>\n",
       "      <th>No_of_stops__1</th>\n",
       "      <th>No_of_stops__2</th>\n",
       "      <th>No_of_stops__3</th>\n",
       "      <th>No_of_stops__4</th>\n",
       "    </tr>\n",
       "  </thead>\n",
       "  <tbody>\n",
       "    <tr>\n",
       "      <th>0</th>\n",
       "      <td>3897</td>\n",
       "      <td>0</td>\n",
       "      <td>0</td>\n",
       "      <td>0</td>\n",
       "      <td>1</td>\n",
       "      <td>0</td>\n",
       "      <td>0</td>\n",
       "      <td>0</td>\n",
       "      <td>0</td>\n",
       "      <td>0</td>\n",
       "      <td>0</td>\n",
       "      <td>0</td>\n",
       "      <td>1</td>\n",
       "      <td>0</td>\n",
       "      <td>0</td>\n",
       "      <td>0</td>\n",
       "      <td>0</td>\n",
       "      <td>0</td>\n",
       "      <td>0</td>\n",
       "      <td>0</td>\n",
       "      <td>0</td>\n",
       "      <td>0</td>\n",
       "      <td>1</td>\n",
       "      <td>0</td>\n",
       "      <td>0</td>\n",
       "      <td>0</td>\n",
       "      <td>0</td>\n",
       "      <td>1</td>\n",
       "      <td>0</td>\n",
       "      <td>24</td>\n",
       "      <td>3</td>\n",
       "      <td>1</td>\n",
       "      <td>23.0</td>\n",
       "      <td>0</td>\n",
       "      <td>0</td>\n",
       "      <td>0</td>\n",
       "      <td>1</td>\n",
       "      <td>0</td>\n",
       "      <td>0</td>\n",
       "      <td>0</td>\n",
       "      <td>0.118056</td>\n",
       "      <td>0.930556</td>\n",
       "      <td>0.048611</td>\n",
       "      <td>1</td>\n",
       "      <td>0</td>\n",
       "      <td>0</td>\n",
       "      <td>0</td>\n",
       "      <td>0</td>\n",
       "    </tr>\n",
       "    <tr>\n",
       "      <th>1</th>\n",
       "      <td>7662</td>\n",
       "      <td>0</td>\n",
       "      <td>1</td>\n",
       "      <td>0</td>\n",
       "      <td>0</td>\n",
       "      <td>0</td>\n",
       "      <td>0</td>\n",
       "      <td>0</td>\n",
       "      <td>0</td>\n",
       "      <td>0</td>\n",
       "      <td>0</td>\n",
       "      <td>0</td>\n",
       "      <td>0</td>\n",
       "      <td>0</td>\n",
       "      <td>0</td>\n",
       "      <td>1</td>\n",
       "      <td>0</td>\n",
       "      <td>1</td>\n",
       "      <td>0</td>\n",
       "      <td>0</td>\n",
       "      <td>0</td>\n",
       "      <td>0</td>\n",
       "      <td>0</td>\n",
       "      <td>0</td>\n",
       "      <td>0</td>\n",
       "      <td>0</td>\n",
       "      <td>0</td>\n",
       "      <td>1</td>\n",
       "      <td>0</td>\n",
       "      <td>1</td>\n",
       "      <td>5</td>\n",
       "      <td>0</td>\n",
       "      <td>61.0</td>\n",
       "      <td>0</td>\n",
       "      <td>0</td>\n",
       "      <td>0</td>\n",
       "      <td>0</td>\n",
       "      <td>0</td>\n",
       "      <td>0</td>\n",
       "      <td>1</td>\n",
       "      <td>0.309028</td>\n",
       "      <td>0.243056</td>\n",
       "      <td>0.552083</td>\n",
       "      <td>0</td>\n",
       "      <td>0</td>\n",
       "      <td>1</td>\n",
       "      <td>0</td>\n",
       "      <td>0</td>\n",
       "    </tr>\n",
       "    <tr>\n",
       "      <th>2</th>\n",
       "      <td>13882</td>\n",
       "      <td>0</td>\n",
       "      <td>0</td>\n",
       "      <td>0</td>\n",
       "      <td>0</td>\n",
       "      <td>1</td>\n",
       "      <td>0</td>\n",
       "      <td>0</td>\n",
       "      <td>0</td>\n",
       "      <td>0</td>\n",
       "      <td>0</td>\n",
       "      <td>0</td>\n",
       "      <td>0</td>\n",
       "      <td>0</td>\n",
       "      <td>1</td>\n",
       "      <td>0</td>\n",
       "      <td>0</td>\n",
       "      <td>0</td>\n",
       "      <td>1</td>\n",
       "      <td>0</td>\n",
       "      <td>0</td>\n",
       "      <td>0</td>\n",
       "      <td>0</td>\n",
       "      <td>0</td>\n",
       "      <td>0</td>\n",
       "      <td>0</td>\n",
       "      <td>0</td>\n",
       "      <td>1</td>\n",
       "      <td>0</td>\n",
       "      <td>9</td>\n",
       "      <td>6</td>\n",
       "      <td>1</td>\n",
       "      <td>100.0</td>\n",
       "      <td>0</td>\n",
       "      <td>0</td>\n",
       "      <td>0</td>\n",
       "      <td>1</td>\n",
       "      <td>0</td>\n",
       "      <td>0</td>\n",
       "      <td>0</td>\n",
       "      <td>0.791667</td>\n",
       "      <td>0.392361</td>\n",
       "      <td>0.184028</td>\n",
       "      <td>0</td>\n",
       "      <td>0</td>\n",
       "      <td>1</td>\n",
       "      <td>0</td>\n",
       "      <td>0</td>\n",
       "    </tr>\n",
       "    <tr>\n",
       "      <th>3</th>\n",
       "      <td>6218</td>\n",
       "      <td>0</td>\n",
       "      <td>0</td>\n",
       "      <td>0</td>\n",
       "      <td>1</td>\n",
       "      <td>0</td>\n",
       "      <td>0</td>\n",
       "      <td>0</td>\n",
       "      <td>0</td>\n",
       "      <td>0</td>\n",
       "      <td>0</td>\n",
       "      <td>0</td>\n",
       "      <td>0</td>\n",
       "      <td>0</td>\n",
       "      <td>0</td>\n",
       "      <td>1</td>\n",
       "      <td>0</td>\n",
       "      <td>1</td>\n",
       "      <td>0</td>\n",
       "      <td>0</td>\n",
       "      <td>0</td>\n",
       "      <td>0</td>\n",
       "      <td>0</td>\n",
       "      <td>0</td>\n",
       "      <td>0</td>\n",
       "      <td>0</td>\n",
       "      <td>0</td>\n",
       "      <td>1</td>\n",
       "      <td>0</td>\n",
       "      <td>12</td>\n",
       "      <td>5</td>\n",
       "      <td>1</td>\n",
       "      <td>72.0</td>\n",
       "      <td>0</td>\n",
       "      <td>0</td>\n",
       "      <td>0</td>\n",
       "      <td>1</td>\n",
       "      <td>0</td>\n",
       "      <td>0</td>\n",
       "      <td>0</td>\n",
       "      <td>0.225694</td>\n",
       "      <td>0.753472</td>\n",
       "      <td>0.979167</td>\n",
       "      <td>0</td>\n",
       "      <td>1</td>\n",
       "      <td>0</td>\n",
       "      <td>0</td>\n",
       "      <td>0</td>\n",
       "    </tr>\n",
       "    <tr>\n",
       "      <th>4</th>\n",
       "      <td>13302</td>\n",
       "      <td>0</td>\n",
       "      <td>0</td>\n",
       "      <td>0</td>\n",
       "      <td>1</td>\n",
       "      <td>0</td>\n",
       "      <td>0</td>\n",
       "      <td>0</td>\n",
       "      <td>0</td>\n",
       "      <td>0</td>\n",
       "      <td>0</td>\n",
       "      <td>0</td>\n",
       "      <td>1</td>\n",
       "      <td>0</td>\n",
       "      <td>0</td>\n",
       "      <td>0</td>\n",
       "      <td>0</td>\n",
       "      <td>0</td>\n",
       "      <td>0</td>\n",
       "      <td>0</td>\n",
       "      <td>0</td>\n",
       "      <td>0</td>\n",
       "      <td>1</td>\n",
       "      <td>0</td>\n",
       "      <td>0</td>\n",
       "      <td>0</td>\n",
       "      <td>0</td>\n",
       "      <td>1</td>\n",
       "      <td>0</td>\n",
       "      <td>1</td>\n",
       "      <td>3</td>\n",
       "      <td>0</td>\n",
       "      <td>0.0</td>\n",
       "      <td>1</td>\n",
       "      <td>0</td>\n",
       "      <td>0</td>\n",
       "      <td>0</td>\n",
       "      <td>0</td>\n",
       "      <td>0</td>\n",
       "      <td>0</td>\n",
       "      <td>0.197917</td>\n",
       "      <td>0.701389</td>\n",
       "      <td>0.899306</td>\n",
       "      <td>0</td>\n",
       "      <td>1</td>\n",
       "      <td>0</td>\n",
       "      <td>0</td>\n",
       "      <td>0</td>\n",
       "    </tr>\n",
       "  </tbody>\n",
       "</table>\n",
       "</div>"
      ],
      "text/plain": [
       "   Price  Airline__Air Asia  Airline__Air India  Airline__GoAir  \\\n",
       "0   3897                  0                   0               0   \n",
       "1   7662                  0                   1               0   \n",
       "2  13882                  0                   0               0   \n",
       "3   6218                  0                   0               0   \n",
       "4  13302                  0                   0               0   \n",
       "\n",
       "   Airline__IndiGo  Airline__Jet Airways  Airline__Jet Airways Business  \\\n",
       "0                1                     0                              0   \n",
       "1                0                     0                              0   \n",
       "2                0                     1                              0   \n",
       "3                1                     0                              0   \n",
       "4                1                     0                              0   \n",
       "\n",
       "   Airline__Multiple carriers  Airline__Multiple carriers Premium economy  \\\n",
       "0                           0                                           0   \n",
       "1                           0                                           0   \n",
       "2                           0                                           0   \n",
       "3                           0                                           0   \n",
       "4                           0                                           0   \n",
       "\n",
       "   Airline__SpiceJet  Airline__Vistara  Airline__Vistara Premium economy  \\\n",
       "0                  0                 0                                 0   \n",
       "1                  0                 0                                 0   \n",
       "2                  0                 0                                 0   \n",
       "3                  0                 0                                 0   \n",
       "4                  0                 0                                 0   \n",
       "\n",
       "   Source__Banglore  Source__Chennai  Source__Delhi  Source__Kolkata  \\\n",
       "0                 1                0              0                0   \n",
       "1                 0                0              0                1   \n",
       "2                 0                0              1                0   \n",
       "3                 0                0              0                1   \n",
       "4                 1                0              0                0   \n",
       "\n",
       "   Source__Mumbai  Destination__Banglore  Destination__Cochin  \\\n",
       "0               0                      0                    0   \n",
       "1               0                      1                    0   \n",
       "2               0                      0                    1   \n",
       "3               0                      1                    0   \n",
       "4               0                      0                    0   \n",
       "\n",
       "   Destination__Delhi  Destination__Hyderabad  Destination__Kolkata  \\\n",
       "0                   0                       0                     0   \n",
       "1                   0                       0                     0   \n",
       "2                   0                       0                     0   \n",
       "3                   0                       0                     0   \n",
       "4                   0                       0                     0   \n",
       "\n",
       "   Destination__New Delhi  Additional_Info__Airport_Changed  \\\n",
       "0                       1                                 0   \n",
       "1                       0                                 0   \n",
       "2                       0                                 0   \n",
       "3                       0                                 0   \n",
       "4                       1                                 0   \n",
       "\n",
       "   Additional_Info__Business_Class  \\\n",
       "0                                0   \n",
       "1                                0   \n",
       "2                                0   \n",
       "3                                0   \n",
       "4                                0   \n",
       "\n",
       "   Additional_Info__In-flight meal not included  Additional_Info__Layover  \\\n",
       "0                                             0                         0   \n",
       "1                                             0                         0   \n",
       "2                                             0                         0   \n",
       "3                                             0                         0   \n",
       "4                                             0                         0   \n",
       "\n",
       "   Additional_Info__No Info  Additional_Info__No check-in baggage included  \\\n",
       "0                         1                                              0   \n",
       "1                         1                                              0   \n",
       "2                         1                                              0   \n",
       "3                         1                                              0   \n",
       "4                         1                                              0   \n",
       "\n",
       "   Journey_Day  Journey_Month  Journey_over_weekend  Date_Lapse  \\\n",
       "0           24              3                     1        23.0   \n",
       "1            1              5                     0        61.0   \n",
       "2            9              6                     1       100.0   \n",
       "3           12              5                     1        72.0   \n",
       "4            1              3                     0         0.0   \n",
       "\n",
       "   Dayis__Friday  Dayis__Monday  Dayis__Saturday  Dayis__Sunday  \\\n",
       "0              0              0                0              1   \n",
       "1              0              0                0              0   \n",
       "2              0              0                0              1   \n",
       "3              0              0                0              1   \n",
       "4              1              0                0              0   \n",
       "\n",
       "   Dayis__Thursday  Dayis__Tuesday  Dayis__Wednesday  Duration_Type  \\\n",
       "0                0               0                 0       0.118056   \n",
       "1                0               0                 1       0.309028   \n",
       "2                0               0                 0       0.791667   \n",
       "3                0               0                 0       0.225694   \n",
       "4                0               0                 0       0.197917   \n",
       "\n",
       "   Fly_Hours  Arrival_Hours  No_of_stops__0  No_of_stops__1  No_of_stops__2  \\\n",
       "0   0.930556       0.048611               1               0               0   \n",
       "1   0.243056       0.552083               0               0               1   \n",
       "2   0.392361       0.184028               0               0               1   \n",
       "3   0.753472       0.979167               0               1               0   \n",
       "4   0.701389       0.899306               0               1               0   \n",
       "\n",
       "   No_of_stops__3  No_of_stops__4  \n",
       "0               0               0  \n",
       "1               0               0  \n",
       "2               0               0  \n",
       "3               0               0  \n",
       "4               0               0  "
      ]
     },
     "execution_count": 70,
     "metadata": {},
     "output_type": "execute_result"
    }
   ],
   "source": [
    "data_copy.head()"
   ]
  },
  {
   "cell_type": "code",
   "execution_count": 71,
   "metadata": {
    "collapsed": true
   },
   "outputs": [],
   "source": [
    "test_final.drop(['Airline','Date_of_Journey','Source','Destination','Route','Dep_Time','Arrival_Time','Duration',\n",
    "                'Total_Stops','Additional_Info','Journey_day_of_week','Encoded_stops'],axis=1,inplace=True)\n",
    "#                'Total_Stops','Additional_Info','Fly_Hours'],axis=1,inplace=True)"
   ]
  },
  {
   "cell_type": "code",
   "execution_count": 72,
   "metadata": {
    "collapsed": true
   },
   "outputs": [],
   "source": [
    "test_final =  pd.DataFrame(scaler.transform(test_final),columns=test_final.columns)"
   ]
  },
  {
   "cell_type": "code",
   "execution_count": 73,
   "metadata": {
    "scrolled": true
   },
   "outputs": [
    {
     "data": {
      "text/plain": [
       "Index(['Airline__Air Asia', 'Airline__Air India', 'Airline__GoAir',\n",
       "       'Airline__IndiGo', 'Airline__Jet Airways',\n",
       "       'Airline__Jet Airways Business', 'Airline__Multiple carriers',\n",
       "       'Airline__Multiple carriers Premium economy', 'Airline__SpiceJet',\n",
       "       'Airline__Vistara', 'Airline__Vistara Premium economy',\n",
       "       'Source__Banglore', 'Source__Chennai', 'Source__Delhi',\n",
       "       'Source__Kolkata', 'Source__Mumbai', 'Destination__Banglore',\n",
       "       'Destination__Cochin', 'Destination__Delhi', 'Destination__Hyderabad',\n",
       "       'Destination__Kolkata', 'Destination__New Delhi',\n",
       "       'Additional_Info__Airport_Changed', 'Additional_Info__Business_Class',\n",
       "       'Additional_Info__In-flight meal not included',\n",
       "       'Additional_Info__Layover', 'Additional_Info__No Info',\n",
       "       'Additional_Info__No check-in baggage included', 'Journey_Day',\n",
       "       'Journey_Month', 'Journey_over_weekend', 'Date_Lapse', 'Duration_Type',\n",
       "       'Fly_Hours', 'Arrival_Hours', 'Dayis__Friday', 'Dayis__Monday',\n",
       "       'Dayis__Saturday', 'Dayis__Sunday', 'Dayis__Thursday', 'Dayis__Tuesday',\n",
       "       'Dayis__Wednesday', 'No_of_stops__0', 'No_of_stops__1',\n",
       "       'No_of_stops__2', 'No_of_stops__3', 'No_of_stops__4'],\n",
       "      dtype='object')"
      ]
     },
     "execution_count": 73,
     "metadata": {},
     "output_type": "execute_result"
    }
   ],
   "source": [
    "test_final.columns"
   ]
  },
  {
   "cell_type": "code",
   "execution_count": 74,
   "metadata": {},
   "outputs": [
    {
     "data": {
      "text/plain": [
       "Index(['Airline__Air Asia', 'Airline__Air India', 'Airline__GoAir',\n",
       "       'Airline__IndiGo', 'Airline__Jet Airways',\n",
       "       'Airline__Jet Airways Business', 'Airline__Multiple carriers',\n",
       "       'Airline__Multiple carriers Premium economy', 'Airline__SpiceJet',\n",
       "       'Airline__Vistara', 'Airline__Vistara Premium economy',\n",
       "       'Source__Banglore', 'Source__Chennai', 'Source__Delhi',\n",
       "       'Source__Kolkata', 'Source__Mumbai', 'Destination__Banglore',\n",
       "       'Destination__Cochin', 'Destination__Delhi', 'Destination__Hyderabad',\n",
       "       'Destination__Kolkata', 'Destination__New Delhi',\n",
       "       'Additional_Info__Airport_Changed', 'Additional_Info__Business_Class',\n",
       "       'Additional_Info__In-flight meal not included',\n",
       "       'Additional_Info__Layover', 'Additional_Info__No Info',\n",
       "       'Additional_Info__No check-in baggage included', 'Journey_Day',\n",
       "       'Journey_Month', 'Journey_over_weekend', 'Date_Lapse', 'Dayis__Friday',\n",
       "       'Dayis__Monday', 'Dayis__Saturday', 'Dayis__Sunday', 'Dayis__Thursday',\n",
       "       'Dayis__Tuesday', 'Dayis__Wednesday', 'Duration_Type', 'Fly_Hours',\n",
       "       'Arrival_Hours', 'No_of_stops__0', 'No_of_stops__1', 'No_of_stops__2',\n",
       "       'No_of_stops__3', 'No_of_stops__4'],\n",
       "      dtype='object')"
      ]
     },
     "execution_count": 74,
     "metadata": {},
     "output_type": "execute_result"
    }
   ],
   "source": [
    "train_Feature.columns"
   ]
  },
  {
   "cell_type": "code",
   "execution_count": 75,
   "metadata": {},
   "outputs": [
    {
     "data": {
      "text/plain": [
       "(2671, 47)"
      ]
     },
     "execution_count": 75,
     "metadata": {},
     "output_type": "execute_result"
    }
   ],
   "source": [
    "test_final.shape"
   ]
  },
  {
   "cell_type": "code",
   "execution_count": 76,
   "metadata": {
    "scrolled": true
   },
   "outputs": [
    {
     "data": {
      "text/plain": [
       "(10681, 47)"
      ]
     },
     "execution_count": 76,
     "metadata": {},
     "output_type": "execute_result"
    }
   ],
   "source": [
    "train_Feature.shape"
   ]
  },
  {
   "cell_type": "code",
   "execution_count": 77,
   "metadata": {
    "collapsed": true
   },
   "outputs": [],
   "source": [
    "y_train_log =  y_train.apply(log_transform)"
   ]
  },
  {
   "cell_type": "code",
   "execution_count": 78,
   "metadata": {
    "collapsed": true
   },
   "outputs": [],
   "source": [
    "y_test_log =  y_test.apply(log_transform)"
   ]
  },
  {
   "cell_type": "markdown",
   "metadata": {},
   "source": [
    "## RandomSearch"
   ]
  },
  {
   "cell_type": "code",
   "execution_count": 79,
   "metadata": {
    "collapsed": true,
    "scrolled": true
   },
   "outputs": [],
   "source": [
    "# Number of trees in random forest\n",
    "n_estimators = [int(x) for x in np.linspace(start = 200, stop = 2000, num = 10)]\n",
    "# Number of features to consider at every split\n",
    "max_features = ['auto', 'sqrt']\n",
    "# Maximum number of levels in tree\n",
    "max_depth = [int(x) for x in np.linspace(10, 110, num = 11)]\n",
    "max_depth.append(None)\n",
    "# Minimum number of samples required to split a node\n",
    "min_samples_split = [2, 5, 10]\n",
    "# Minimum number of samples required at each leaf node\n",
    "min_samples_leaf = [1, 2, 4]\n",
    "# Method of selecting samples for training each tree\n",
    "bootstrap = [True, False]"
   ]
  },
  {
   "cell_type": "code",
   "execution_count": 80,
   "metadata": {
    "collapsed": true
   },
   "outputs": [],
   "source": [
    "# Create the random grid\n",
    "random_grid = {'n_estimators': n_estimators,\n",
    "               'max_features': max_features,\n",
    "               'max_depth': max_depth,\n",
    "               'min_samples_split': min_samples_split,\n",
    "               'min_samples_leaf': min_samples_leaf,\n",
    "               'bootstrap': bootstrap}"
   ]
  },
  {
   "cell_type": "code",
   "execution_count": 81,
   "metadata": {
    "collapsed": true
   },
   "outputs": [],
   "source": [
    "rf = RandomForestRegressor()"
   ]
  },
  {
   "cell_type": "code",
   "execution_count": null,
   "metadata": {
    "collapsed": true
   },
   "outputs": [],
   "source": [
    "rf_random = RandomizedSearchCV(estimator = rf, param_distributions = random_grid, \n",
    "                               n_iter = 100, cv = 3, verbose=2, random_state=42, n_jobs = -1)"
   ]
  },
  {
   "cell_type": "code",
   "execution_count": null,
   "metadata": {
    "scrolled": false
   },
   "outputs": [
    {
     "name": "stdout",
     "output_type": "stream",
     "text": [
      "Fitting 3 folds for each of 100 candidates, totalling 300 fits\n"
     ]
    }
   ],
   "source": [
    "rf_random.fit(X_train, y_train_log)"
   ]
  },
  {
   "cell_type": "code",
   "execution_count": null,
   "metadata": {
    "scrolled": true
   },
   "outputs": [],
   "source": [
    "rf_random.best_params_"
   ]
  },
  {
   "cell_type": "code",
   "execution_count": null,
   "metadata": {},
   "outputs": [],
   "source": [
    "np.sqrt(mean_squared_log_error(y_test,((10**rf_random.predict(X_test)))))"
   ]
  },
  {
   "cell_type": "code",
   "execution_count": null,
   "metadata": {},
   "outputs": [],
   "source": [
    "np.sqrt(mean_squared_log_error(y_train,10**rf_random.predict(X_train)))"
   ]
  },
  {
   "cell_type": "code",
   "execution_count": null,
   "metadata": {
    "collapsed": true
   },
   "outputs": [],
   "source": [
    "test_pred = 10**rf_random.predict(test_final)"
   ]
  },
  {
   "cell_type": "code",
   "execution_count": null,
   "metadata": {
    "collapsed": true
   },
   "outputs": [],
   "source": [
    "test_pred = pd.DataFrame(test_pred,columns=['Price'])"
   ]
  },
  {
   "cell_type": "code",
   "execution_count": null,
   "metadata": {
    "collapsed": true
   },
   "outputs": [],
   "source": [
    "test_pred.to_excel(\"C:/Users/LENOVO/Desktop/RF_Random_v2.xlsx\",index=False)"
   ]
  },
  {
   "cell_type": "code",
   "execution_count": null,
   "metadata": {
    "scrolled": false
   },
   "outputs": [],
   "source": [
    "test_copy.head()"
   ]
  },
  {
   "cell_type": "markdown",
   "metadata": {},
   "source": [
    "## Grid Search"
   ]
  },
  {
   "cell_type": "code",
   "execution_count": null,
   "metadata": {
    "collapsed": true
   },
   "outputs": [],
   "source": [
    "param_grid = {\n",
    "    'bootstrap': [True],\n",
    "    'max_depth': [60,70,80,90,100],\n",
    "    'max_features': [2,3],\n",
    "    'min_samples_leaf': [5,6],\n",
    "    'min_samples_split': [10,12],\n",
    "    'n_estimators': [600,800,1000,1200,1400]\n",
    "}"
   ]
  },
  {
   "cell_type": "code",
   "execution_count": null,
   "metadata": {
    "collapsed": true
   },
   "outputs": [],
   "source": [
    "rf = RandomForestRegressor()"
   ]
  },
  {
   "cell_type": "code",
   "execution_count": null,
   "metadata": {
    "collapsed": true
   },
   "outputs": [],
   "source": [
    "grid_search = GridSearchCV(estimator = rf, param_grid = param_grid, \n",
    "                          cv = 3, n_jobs = -1, verbose = 2)"
   ]
  },
  {
   "cell_type": "code",
   "execution_count": null,
   "metadata": {
    "scrolled": false
   },
   "outputs": [],
   "source": [
    "grid_search.fit(X_train, y_train_log)"
   ]
  },
  {
   "cell_type": "code",
   "execution_count": null,
   "metadata": {
    "collapsed": true,
    "scrolled": true
   },
   "outputs": [],
   "source": [
    "grid_search.best_params_"
   ]
  },
  {
   "cell_type": "code",
   "execution_count": null,
   "metadata": {
    "collapsed": true
   },
   "outputs": [],
   "source": [
    "y_pred_test = grid_search.predict(X_test)"
   ]
  },
  {
   "cell_type": "code",
   "execution_count": null,
   "metadata": {
    "collapsed": true
   },
   "outputs": [],
   "source": [
    "y_pred_train = grid_search.predict(X_train)"
   ]
  },
  {
   "cell_type": "code",
   "execution_count": null,
   "metadata": {
    "collapsed": true
   },
   "outputs": [],
   "source": [
    "np.sqrt(mean_squared_log_error(y_test,10**grid_search.predict(X_test)))"
   ]
  },
  {
   "cell_type": "code",
   "execution_count": null,
   "metadata": {
    "collapsed": true
   },
   "outputs": [],
   "source": [
    "np.sqrt(mean_squared_log_error(y_train,10**grid_search.predict(X_train)))"
   ]
  },
  {
   "cell_type": "code",
   "execution_count": null,
   "metadata": {
    "collapsed": true
   },
   "outputs": [],
   "source": [
    "test_pred = 10**grid_search.predict(test_final)"
   ]
  },
  {
   "cell_type": "code",
   "execution_count": null,
   "metadata": {
    "collapsed": true
   },
   "outputs": [],
   "source": [
    "test_pred = pd.DataFrame(test_pred,columns=['Price'])"
   ]
  },
  {
   "cell_type": "code",
   "execution_count": null,
   "metadata": {
    "collapsed": true
   },
   "outputs": [],
   "source": [
    "test_pred.to_excel(\"C:/Users/LENOVO/Desktop/RF_Grid_v1.xlsx\",index=False)"
   ]
  }
 ],
 "metadata": {
  "kernelspec": {
   "display_name": "Python 3",
   "language": "python",
   "name": "python3"
  },
  "language_info": {
   "codemirror_mode": {
    "name": "ipython",
    "version": 3
   },
   "file_extension": ".py",
   "mimetype": "text/x-python",
   "name": "python",
   "nbconvert_exporter": "python",
   "pygments_lexer": "ipython3",
   "version": "3.5.4"
  }
 },
 "nbformat": 4,
 "nbformat_minor": 2
}
