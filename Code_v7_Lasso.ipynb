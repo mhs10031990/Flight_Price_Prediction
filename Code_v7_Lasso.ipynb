{
 "cells": [
  {
   "cell_type": "code",
   "execution_count": 1694,
   "metadata": {
    "collapsed": true
   },
   "outputs": [],
   "source": [
    "import pandas as pd\n",
    "import numpy as np\n",
    "from sklearn.model_selection import train_test_split\n",
    "from sklearn.ensemble import RandomForestRegressor\n",
    "from sklearn.linear_model import LinearRegression\n",
    "from sklearn.metrics import mean_squared_log_error\n",
    "import pandas_profiling as pp\n",
    "from sklearn.linear_model import Lasso, Ridge\n",
    "from sklearn.ensemble import RandomForestRegressor\n",
    "from sklearn.model_selection import RandomizedSearchCV,GridSearchCV\n",
    "import xgboost\n",
    "from sklearn.preprocessing import MinMaxScaler, StandardScaler"
   ]
  },
  {
   "cell_type": "code",
   "execution_count": 1695,
   "metadata": {
    "collapsed": true
   },
   "outputs": [],
   "source": [
    "pd.set_option('display.max_columns', 1000)"
   ]
  },
  {
   "cell_type": "code",
   "execution_count": 1696,
   "metadata": {
    "collapsed": true
   },
   "outputs": [],
   "source": [
    "def onehotencode(data,col_name,prefix):\n",
    "    return pd.concat([data, pd.get_dummies(data[col_name], prefix=prefix)],axis=1)"
   ]
  },
  {
   "cell_type": "code",
   "execution_count": 1697,
   "metadata": {
    "collapsed": true
   },
   "outputs": [],
   "source": [
    "def encode_total_stops(data):\n",
    "    data['Encoded_stops'] = 0\n",
    "    for i in range(0,len(data['Total_Stops'])):\n",
    "        if data.loc[i, 'Total_Stops'] == '1 stop':\n",
    "            data.loc[i,'Encoded_stops'] = 1\n",
    "        elif data.loc[i, 'Total_Stops'] == '2 stops':\n",
    "            data.loc[i,'Encoded_stops'] = 2\n",
    "        elif data.loc[i, 'Total_Stops'] == '3 stops' or data.loc[i, 'Total_Stops'] == '':\n",
    "            data.loc[i,'Encoded_stops'] = 3\n",
    "        elif data.loc[i, 'Total_Stops'] == '4 stops':\n",
    "            data.loc[i,'Encoded_stops'] = 4\n",
    "        elif data.loc[i, 'Total_Stops'] == 'non-stop':\n",
    "            data.loc[i,'Encoded_stops'] = 0\n",
    "\n",
    "    return data"
   ]
  },
  {
   "cell_type": "code",
   "execution_count": 1698,
   "metadata": {
    "collapsed": true
   },
   "outputs": [],
   "source": [
    "def extract_journey_data(data):\n",
    "    data['Journey_Day'] = pd.DataFrame(pd.to_datetime(data['Date_of_Journey'], format='%d/%m/%Y').dt.day)\n",
    "    data['Journey_Month'] = pd.DataFrame(pd.to_datetime(data['Date_of_Journey'], format='%d/%m/%Y').dt.month)\n",
    "    data['Journey_day_of_week'] =  pd.DataFrame(((pd.to_datetime(data['Date_of_Journey'], format='%d/%m/%Y').dt.weekday_name)))\n",
    "    data['Journey_over_weekend'] =  pd.DataFrame(((pd.to_datetime(data['Date_of_Journey'], format='%d/%m/%Y').dt.dayofweek) // 5).astype('int'))\n",
    "    data['Date_Lapse'] = ((pd.to_datetime(data['Date_of_Journey'], format='%d/%m/%Y')) - \n",
    "                                        (pd.to_datetime('01/03/2019', format='%d/%m/%Y')))/np.timedelta64(1,'D')\n",
    "    data['Date_Lapse'] = data['Date_Lapse']/np.max(data['Date_Lapse'])\n",
    "#    data['is_friday'] = 0\n",
    "#    data.loc[data['Journey_day_of_week'] == 4, 'is_friday'] = 1\n",
    "        \n",
    "    return data"
   ]
  },
  {
   "cell_type": "code",
   "execution_count": 1699,
   "metadata": {
    "collapsed": true
   },
   "outputs": [],
   "source": [
    "def encode_duration(data):\n",
    "    data['Duration_Type'] = 0\n",
    "    for i in range(0, len(data)):\n",
    "    \n",
    "        split_len = data.loc[i,'Duration'].split(' ')\n",
    "        if len(split_len) == 1:\n",
    "            if str(data.loc[i,'Duration']).find('h') != -1:\n",
    "#                print (\"hours: \",data.loc[i,'Duration'])\n",
    "                hours = int(split_len[0].replace('h',\"\"))\n",
    "                mins = 0\n",
    "            else:\n",
    "                hours = 4 \n",
    "#                print (\"mins: \",data.loc[i,'Duration']\n",
    "                mins = int(split_len[0].replace('m',\"\"))\n",
    "        else:\n",
    "            \n",
    "            hours = int(split_len[0].replace('h',\"\"))\n",
    "            mins  = int(split_len[1].replace('m',\"\"))\n",
    "        \n",
    "        data.loc[i,'Duration_Type'] = (hours*60 + mins)/1440\n",
    "        \n",
    "    return data"
   ]
  },
  {
   "cell_type": "code",
   "execution_count": 1700,
   "metadata": {
    "collapsed": true
   },
   "outputs": [],
   "source": [
    "def flight_hours(data):\n",
    "    data['Fly_Hours'] = 0\n",
    "    \n",
    "    data_Dep_Time = data['Dep_Time'].str.split(\":\",n=1,expand=True).astype('int64')\n",
    "    data_Dep_Time.columns = ['Hours','Mins']\n",
    "    for i in range(0,len(data)):\n",
    "        \n",
    "        hr = data_Dep_Time.loc[i, 'Hours']\n",
    "        min = data_Dep_Time.loc[i, 'Mins']\n",
    "        data.loc[i,'Fly_Hours'] = (hr*60 + (min))/1440\n",
    "            \n",
    "    return data"
   ]
  },
  {
   "cell_type": "code",
   "execution_count": 1701,
   "metadata": {},
   "outputs": [],
   "source": [
    "def arrival_hours(data):\n",
    "    data['Arrival_Hours'] = 0\n",
    "    for i in range(0,len(data)):\n",
    "      \n",
    "        data_Arr_Time = data.loc[i,'Arrival_Time'].split(\" \")[0]\n",
    "        data_Dep_Time = data_Arr_Time.split(\":\")\n",
    "        \n",
    "        hr = int(data_Dep_Time[0])\n",
    "        min = int(data_Dep_Time[1])\n",
    "        data.loc[i,'Arrival_Hours'] = (hr*60 + (min))/1440\n",
    "            \n",
    "    return data"
   ]
  },
  {
   "cell_type": "code",
   "execution_count": 1702,
   "metadata": {
    "collapsed": true
   },
   "outputs": [],
   "source": [
    "def log_transform(data):\n",
    "    return np.log10(data)"
   ]
  },
  {
   "cell_type": "markdown",
   "metadata": {},
   "source": [
    "# Data cleaning and Modeling starts here"
   ]
  },
  {
   "cell_type": "code",
   "execution_count": 1703,
   "metadata": {
    "collapsed": true
   },
   "outputs": [],
   "source": [
    "data = pd.read_excel('C:\\\\Users\\\\LENOVO\\\\Desktop\\\\Flight_Ticket_Participant_Datasets\\\\Data_Train.xlsx')"
   ]
  },
  {
   "cell_type": "code",
   "execution_count": 1704,
   "metadata": {
    "collapsed": true
   },
   "outputs": [],
   "source": [
    "test = pd.read_excel('C:\\\\Users\\\\LENOVO\\\\Desktop\\\\Flight_Ticket_Participant_Datasets\\\\Test_set.xlsx')"
   ]
  },
  {
   "cell_type": "code",
   "execution_count": 1705,
   "metadata": {
    "collapsed": true
   },
   "outputs": [],
   "source": [
    "data_copy = data\n",
    "test_copy = test"
   ]
  },
  {
   "cell_type": "code",
   "execution_count": 1706,
   "metadata": {},
   "outputs": [
    {
     "data": {
      "text/plain": [
       "(10683, 11)"
      ]
     },
     "execution_count": 1706,
     "metadata": {},
     "output_type": "execute_result"
    }
   ],
   "source": [
    "data_copy.shape"
   ]
  },
  {
   "cell_type": "code",
   "execution_count": 1707,
   "metadata": {
    "collapsed": true
   },
   "outputs": [],
   "source": [
    "#data_copy.drop_duplicates(keep='first', inplace=True)"
   ]
  },
  {
   "cell_type": "code",
   "execution_count": 1708,
   "metadata": {},
   "outputs": [
    {
     "data": {
      "text/plain": [
       "(10683, 11)"
      ]
     },
     "execution_count": 1708,
     "metadata": {},
     "output_type": "execute_result"
    }
   ],
   "source": [
    "data_copy.shape"
   ]
  },
  {
   "cell_type": "code",
   "execution_count": 1709,
   "metadata": {
    "collapsed": true
   },
   "outputs": [],
   "source": [
    "#Drop anamolies.\n",
    "#data_copy = data_copy[data_copy['Price'] > data[\"Price\"].quantile(0.01)]\n",
    "#data_copy = data_copy[data_copy['Price'] < data[\"Price\"].quantile(0.99)]\n",
    "data_copy = data_copy[data_copy['Airline'] != 'Trujet']\n",
    "data_copy = data_copy[data_copy['Additional_Info'] != 'Red-eye flight']"
   ]
  },
  {
   "cell_type": "code",
   "execution_count": 1710,
   "metadata": {
    "collapsed": true
   },
   "outputs": [],
   "source": [
    "#data_copy.loc[data_copy['Airline'] == 'Jet Airways Business','Airline'] = 'Jet Airways'\n",
    "#data_copy.loc[data_copy['Airline'] == 'Multiple carriers Premium economy','Airline'] = 'Multiple carriers'\n",
    "#data_copy.loc[data_copy['Airline'] == 'Vistara Premium economy','Airline'] = 'Vistara'"
   ]
  },
  {
   "cell_type": "code",
   "execution_count": 1711,
   "metadata": {
    "collapsed": true
   },
   "outputs": [],
   "source": [
    "#data_copy.loc[data_copy['Destination'] == 'New Delhi','Destination'] = 'Delhi'"
   ]
  },
  {
   "cell_type": "code",
   "execution_count": 1712,
   "metadata": {
    "collapsed": true
   },
   "outputs": [],
   "source": [
    "data_copy.reset_index(inplace=True)"
   ]
  },
  {
   "cell_type": "code",
   "execution_count": 1713,
   "metadata": {
    "collapsed": true
   },
   "outputs": [],
   "source": [
    "data_copy = onehotencode(data_copy,'Airline',\"Airline_\")"
   ]
  },
  {
   "cell_type": "code",
   "execution_count": 1714,
   "metadata": {
    "collapsed": true
   },
   "outputs": [],
   "source": [
    "data_copy = onehotencode(data_copy,'Source',\"Source_\")"
   ]
  },
  {
   "cell_type": "code",
   "execution_count": 1715,
   "metadata": {
    "collapsed": true
   },
   "outputs": [],
   "source": [
    "data_copy = onehotencode(data_copy,'Destination',\"Destination_\")"
   ]
  },
  {
   "cell_type": "code",
   "execution_count": 1716,
   "metadata": {
    "collapsed": true
   },
   "outputs": [],
   "source": [
    "#handle No Info, No info values before one hot encoding.\n",
    "data_copy.loc[data_copy['Additional_Info'] == 'No info','Additional_Info'] = 'No Info'\n",
    "data_copy.loc[data_copy['Additional_Info'] == '1 Long layover','Additional_Info'] = 'Layover'\n",
    "data_copy.loc[data_copy['Additional_Info'] == '1 Short layover','Additional_Info'] = 'Layover'\n",
    "data_copy.loc[data_copy['Additional_Info'] == '2 Long layover','Additional_Info'] = 'Layover'\n",
    "data_copy.loc[data_copy['Additional_Info'] == 'Business class','Additional_Info'] = 'Business_Class'\n",
    "data_copy.loc[data_copy['Additional_Info'] == 'Change airports','Additional_Info'] = 'Airport_Changed'\n",
    "\n",
    "\n",
    "data_copy = onehotencode(data_copy,'Additional_Info',\"Additional_Info_\")"
   ]
  },
  {
   "cell_type": "code",
   "execution_count": 1717,
   "metadata": {
    "collapsed": true
   },
   "outputs": [],
   "source": [
    "data_copy = encode_total_stops(data_copy)"
   ]
  },
  {
   "cell_type": "code",
   "execution_count": 1718,
   "metadata": {
    "collapsed": true
   },
   "outputs": [],
   "source": [
    "data_copy = extract_journey_data(data_copy)"
   ]
  },
  {
   "cell_type": "code",
   "execution_count": 1719,
   "metadata": {
    "collapsed": true
   },
   "outputs": [],
   "source": [
    "data_copy = onehotencode(data_copy,'Journey_day_of_week',\"Dayis_\")"
   ]
  },
  {
   "cell_type": "code",
   "execution_count": 1720,
   "metadata": {
    "collapsed": true
   },
   "outputs": [],
   "source": [
    "data_copy['Month_Start'] = 0\n",
    "data_copy.loc[data_copy['Journey_Day'] == 1,'Month_Start'] = 1\n",
    "data_copy.loc[data_copy['Journey_Day'] == 3,'Month_Start'] = 1\n",
    "data_copy.loc[data_copy['Journey_Day'] == 6,'Month_Start'] = 1\n",
    "data_copy.loc[data_copy['Journey_Day'] == 9,'Month_Start'] = 1"
   ]
  },
  {
   "cell_type": "code",
   "execution_count": 1721,
   "metadata": {
    "collapsed": true
   },
   "outputs": [],
   "source": [
    "data_copy = encode_duration(data_copy)"
   ]
  },
  {
   "cell_type": "code",
   "execution_count": 1722,
   "metadata": {
    "collapsed": true
   },
   "outputs": [],
   "source": [
    "data_copy = flight_hours(data_copy)"
   ]
  },
  {
   "cell_type": "code",
   "execution_count": 1723,
   "metadata": {
    "collapsed": true
   },
   "outputs": [],
   "source": [
    "data_copy = arrival_hours(data_copy)"
   ]
  },
  {
   "cell_type": "code",
   "execution_count": 1724,
   "metadata": {
    "collapsed": true
   },
   "outputs": [],
   "source": [
    "data_copy = onehotencode(data_copy,'Journey_Month',\"Month_\")"
   ]
  },
  {
   "cell_type": "code",
   "execution_count": 1725,
   "metadata": {
    "collapsed": true
   },
   "outputs": [],
   "source": [
    "data_final = data_copy"
   ]
  },
  {
   "cell_type": "code",
   "execution_count": 1726,
   "metadata": {
    "scrolled": false
   },
   "outputs": [
    {
     "data": {
      "text/html": [
       "<div>\n",
       "<style>\n",
       "    .dataframe thead tr:only-child th {\n",
       "        text-align: right;\n",
       "    }\n",
       "\n",
       "    .dataframe thead th {\n",
       "        text-align: left;\n",
       "    }\n",
       "\n",
       "    .dataframe tbody tr th {\n",
       "        vertical-align: top;\n",
       "    }\n",
       "</style>\n",
       "<table border=\"1\" class=\"dataframe\">\n",
       "  <thead>\n",
       "    <tr style=\"text-align: right;\">\n",
       "      <th></th>\n",
       "      <th>index</th>\n",
       "      <th>Airline</th>\n",
       "      <th>Date_of_Journey</th>\n",
       "      <th>Source</th>\n",
       "      <th>Destination</th>\n",
       "      <th>Route</th>\n",
       "      <th>Dep_Time</th>\n",
       "      <th>Arrival_Time</th>\n",
       "      <th>Duration</th>\n",
       "      <th>Total_Stops</th>\n",
       "      <th>Additional_Info</th>\n",
       "      <th>Price</th>\n",
       "      <th>Airline__Air Asia</th>\n",
       "      <th>Airline__Air India</th>\n",
       "      <th>Airline__GoAir</th>\n",
       "      <th>Airline__IndiGo</th>\n",
       "      <th>Airline__Jet Airways</th>\n",
       "      <th>Airline__Jet Airways Business</th>\n",
       "      <th>Airline__Multiple carriers</th>\n",
       "      <th>Airline__Multiple carriers Premium economy</th>\n",
       "      <th>Airline__SpiceJet</th>\n",
       "      <th>Airline__Vistara</th>\n",
       "      <th>Airline__Vistara Premium economy</th>\n",
       "      <th>Source__Banglore</th>\n",
       "      <th>Source__Chennai</th>\n",
       "      <th>Source__Delhi</th>\n",
       "      <th>Source__Kolkata</th>\n",
       "      <th>Source__Mumbai</th>\n",
       "      <th>Destination__Banglore</th>\n",
       "      <th>Destination__Cochin</th>\n",
       "      <th>Destination__Delhi</th>\n",
       "      <th>Destination__Hyderabad</th>\n",
       "      <th>Destination__Kolkata</th>\n",
       "      <th>Destination__New Delhi</th>\n",
       "      <th>Additional_Info__Airport_Changed</th>\n",
       "      <th>Additional_Info__Business_Class</th>\n",
       "      <th>Additional_Info__In-flight meal not included</th>\n",
       "      <th>Additional_Info__Layover</th>\n",
       "      <th>Additional_Info__No Info</th>\n",
       "      <th>Additional_Info__No check-in baggage included</th>\n",
       "      <th>Encoded_stops</th>\n",
       "      <th>Journey_Day</th>\n",
       "      <th>Journey_Month</th>\n",
       "      <th>Journey_day_of_week</th>\n",
       "      <th>Journey_over_weekend</th>\n",
       "      <th>Date_Lapse</th>\n",
       "      <th>Dayis__Friday</th>\n",
       "      <th>Dayis__Monday</th>\n",
       "      <th>Dayis__Saturday</th>\n",
       "      <th>Dayis__Sunday</th>\n",
       "      <th>Dayis__Thursday</th>\n",
       "      <th>Dayis__Tuesday</th>\n",
       "      <th>Dayis__Wednesday</th>\n",
       "      <th>Month_Start</th>\n",
       "      <th>Duration_Type</th>\n",
       "      <th>Fly_Hours</th>\n",
       "      <th>Arrival_Hours</th>\n",
       "      <th>Month__3</th>\n",
       "      <th>Month__4</th>\n",
       "      <th>Month__5</th>\n",
       "      <th>Month__6</th>\n",
       "    </tr>\n",
       "  </thead>\n",
       "  <tbody>\n",
       "    <tr>\n",
       "      <th>0</th>\n",
       "      <td>0</td>\n",
       "      <td>IndiGo</td>\n",
       "      <td>24/03/2019</td>\n",
       "      <td>Banglore</td>\n",
       "      <td>New Delhi</td>\n",
       "      <td>BLR → DEL</td>\n",
       "      <td>22:20</td>\n",
       "      <td>01:10 22 Mar</td>\n",
       "      <td>2h 50m</td>\n",
       "      <td>non-stop</td>\n",
       "      <td>No Info</td>\n",
       "      <td>3897</td>\n",
       "      <td>0</td>\n",
       "      <td>0</td>\n",
       "      <td>0</td>\n",
       "      <td>1</td>\n",
       "      <td>0</td>\n",
       "      <td>0</td>\n",
       "      <td>0</td>\n",
       "      <td>0</td>\n",
       "      <td>0</td>\n",
       "      <td>0</td>\n",
       "      <td>0</td>\n",
       "      <td>1</td>\n",
       "      <td>0</td>\n",
       "      <td>0</td>\n",
       "      <td>0</td>\n",
       "      <td>0</td>\n",
       "      <td>0</td>\n",
       "      <td>0</td>\n",
       "      <td>0</td>\n",
       "      <td>0</td>\n",
       "      <td>0</td>\n",
       "      <td>1</td>\n",
       "      <td>0</td>\n",
       "      <td>0</td>\n",
       "      <td>0</td>\n",
       "      <td>0</td>\n",
       "      <td>1</td>\n",
       "      <td>0</td>\n",
       "      <td>0</td>\n",
       "      <td>24</td>\n",
       "      <td>3</td>\n",
       "      <td>Sunday</td>\n",
       "      <td>1</td>\n",
       "      <td>0.194915</td>\n",
       "      <td>0</td>\n",
       "      <td>0</td>\n",
       "      <td>0</td>\n",
       "      <td>1</td>\n",
       "      <td>0</td>\n",
       "      <td>0</td>\n",
       "      <td>0</td>\n",
       "      <td>0</td>\n",
       "      <td>0.118056</td>\n",
       "      <td>0.930556</td>\n",
       "      <td>0.048611</td>\n",
       "      <td>1</td>\n",
       "      <td>0</td>\n",
       "      <td>0</td>\n",
       "      <td>0</td>\n",
       "    </tr>\n",
       "    <tr>\n",
       "      <th>1</th>\n",
       "      <td>1</td>\n",
       "      <td>Air India</td>\n",
       "      <td>1/05/2019</td>\n",
       "      <td>Kolkata</td>\n",
       "      <td>Banglore</td>\n",
       "      <td>CCU → IXR → BBI → BLR</td>\n",
       "      <td>05:50</td>\n",
       "      <td>13:15</td>\n",
       "      <td>7h 25m</td>\n",
       "      <td>2 stops</td>\n",
       "      <td>No Info</td>\n",
       "      <td>7662</td>\n",
       "      <td>0</td>\n",
       "      <td>1</td>\n",
       "      <td>0</td>\n",
       "      <td>0</td>\n",
       "      <td>0</td>\n",
       "      <td>0</td>\n",
       "      <td>0</td>\n",
       "      <td>0</td>\n",
       "      <td>0</td>\n",
       "      <td>0</td>\n",
       "      <td>0</td>\n",
       "      <td>0</td>\n",
       "      <td>0</td>\n",
       "      <td>0</td>\n",
       "      <td>1</td>\n",
       "      <td>0</td>\n",
       "      <td>1</td>\n",
       "      <td>0</td>\n",
       "      <td>0</td>\n",
       "      <td>0</td>\n",
       "      <td>0</td>\n",
       "      <td>0</td>\n",
       "      <td>0</td>\n",
       "      <td>0</td>\n",
       "      <td>0</td>\n",
       "      <td>0</td>\n",
       "      <td>1</td>\n",
       "      <td>0</td>\n",
       "      <td>2</td>\n",
       "      <td>1</td>\n",
       "      <td>5</td>\n",
       "      <td>Wednesday</td>\n",
       "      <td>0</td>\n",
       "      <td>0.516949</td>\n",
       "      <td>0</td>\n",
       "      <td>0</td>\n",
       "      <td>0</td>\n",
       "      <td>0</td>\n",
       "      <td>0</td>\n",
       "      <td>0</td>\n",
       "      <td>1</td>\n",
       "      <td>1</td>\n",
       "      <td>0.309028</td>\n",
       "      <td>0.243056</td>\n",
       "      <td>0.552083</td>\n",
       "      <td>0</td>\n",
       "      <td>0</td>\n",
       "      <td>1</td>\n",
       "      <td>0</td>\n",
       "    </tr>\n",
       "  </tbody>\n",
       "</table>\n",
       "</div>"
      ],
      "text/plain": [
       "   index    Airline Date_of_Journey    Source Destination  \\\n",
       "0      0     IndiGo      24/03/2019  Banglore   New Delhi   \n",
       "1      1  Air India       1/05/2019   Kolkata    Banglore   \n",
       "\n",
       "                   Route Dep_Time  Arrival_Time Duration Total_Stops  \\\n",
       "0              BLR → DEL    22:20  01:10 22 Mar   2h 50m    non-stop   \n",
       "1  CCU → IXR → BBI → BLR    05:50         13:15   7h 25m     2 stops   \n",
       "\n",
       "  Additional_Info  Price  Airline__Air Asia  Airline__Air India  \\\n",
       "0         No Info   3897                  0                   0   \n",
       "1         No Info   7662                  0                   1   \n",
       "\n",
       "   Airline__GoAir  Airline__IndiGo  Airline__Jet Airways  \\\n",
       "0               0                1                     0   \n",
       "1               0                0                     0   \n",
       "\n",
       "   Airline__Jet Airways Business  Airline__Multiple carriers  \\\n",
       "0                              0                           0   \n",
       "1                              0                           0   \n",
       "\n",
       "   Airline__Multiple carriers Premium economy  Airline__SpiceJet  \\\n",
       "0                                           0                  0   \n",
       "1                                           0                  0   \n",
       "\n",
       "   Airline__Vistara  Airline__Vistara Premium economy  Source__Banglore  \\\n",
       "0                 0                                 0                 1   \n",
       "1                 0                                 0                 0   \n",
       "\n",
       "   Source__Chennai  Source__Delhi  Source__Kolkata  Source__Mumbai  \\\n",
       "0                0              0                0               0   \n",
       "1                0              0                1               0   \n",
       "\n",
       "   Destination__Banglore  Destination__Cochin  Destination__Delhi  \\\n",
       "0                      0                    0                   0   \n",
       "1                      1                    0                   0   \n",
       "\n",
       "   Destination__Hyderabad  Destination__Kolkata  Destination__New Delhi  \\\n",
       "0                       0                     0                       1   \n",
       "1                       0                     0                       0   \n",
       "\n",
       "   Additional_Info__Airport_Changed  Additional_Info__Business_Class  \\\n",
       "0                                 0                                0   \n",
       "1                                 0                                0   \n",
       "\n",
       "   Additional_Info__In-flight meal not included  Additional_Info__Layover  \\\n",
       "0                                             0                         0   \n",
       "1                                             0                         0   \n",
       "\n",
       "   Additional_Info__No Info  Additional_Info__No check-in baggage included  \\\n",
       "0                         1                                              0   \n",
       "1                         1                                              0   \n",
       "\n",
       "   Encoded_stops  Journey_Day  Journey_Month Journey_day_of_week  \\\n",
       "0              0           24              3              Sunday   \n",
       "1              2            1              5           Wednesday   \n",
       "\n",
       "   Journey_over_weekend  Date_Lapse  Dayis__Friday  Dayis__Monday  \\\n",
       "0                     1    0.194915              0              0   \n",
       "1                     0    0.516949              0              0   \n",
       "\n",
       "   Dayis__Saturday  Dayis__Sunday  Dayis__Thursday  Dayis__Tuesday  \\\n",
       "0                0              1                0               0   \n",
       "1                0              0                0               0   \n",
       "\n",
       "   Dayis__Wednesday  Month_Start  Duration_Type  Fly_Hours  Arrival_Hours  \\\n",
       "0                 0            0       0.118056   0.930556       0.048611   \n",
       "1                 1            1       0.309028   0.243056       0.552083   \n",
       "\n",
       "   Month__3  Month__4  Month__5  Month__6  \n",
       "0         1         0         0         0  \n",
       "1         0         0         1         0  "
      ]
     },
     "execution_count": 1726,
     "metadata": {},
     "output_type": "execute_result"
    }
   ],
   "source": [
    "data_copy.head(2)"
   ]
  },
  {
   "cell_type": "code",
   "execution_count": 1727,
   "metadata": {},
   "outputs": [],
   "source": [
    "data_final.drop(['Airline','Date_of_Journey','Source','Destination','Route','Dep_Time','Arrival_Time','Duration',\n",
    "                'Total_Stops','Additional_Info','Journey_day_of_week','Journey_Month'],axis=1,inplace=True)"
   ]
  },
  {
   "cell_type": "code",
   "execution_count": 1728,
   "metadata": {
    "collapsed": true
   },
   "outputs": [],
   "source": [
    "data_final.drop(['index'],axis=1,inplace=True)"
   ]
  },
  {
   "cell_type": "code",
   "execution_count": 1729,
   "metadata": {
    "collapsed": true
   },
   "outputs": [],
   "source": [
    "train_Feature = data_copy[[x for x in data_final.columns if (x != 'Price' and x != 'index')]]\n",
    "train_Target = data_copy['Price']"
   ]
  },
  {
   "cell_type": "code",
   "execution_count": 1730,
   "metadata": {
    "collapsed": true
   },
   "outputs": [],
   "source": [
    "X_train, X_test, y_train, y_test = train_test_split(train_Feature, train_Target, test_size=0.30, random_state=101)"
   ]
  },
  {
   "cell_type": "code",
   "execution_count": 1731,
   "metadata": {},
   "outputs": [
    {
     "data": {
      "text/plain": [
       "Series([], dtype: float64)"
      ]
     },
     "execution_count": 1731,
     "metadata": {},
     "output_type": "execute_result"
    }
   ],
   "source": [
    "null_columns=X_train.columns[X_train.isnull().any()]\n",
    "X_train[null_columns].isnull().sum()"
   ]
  },
  {
   "cell_type": "code",
   "execution_count": 1732,
   "metadata": {
    "scrolled": false
   },
   "outputs": [
    {
     "data": {
      "text/html": [
       "<div>\n",
       "<style>\n",
       "    .dataframe thead tr:only-child th {\n",
       "        text-align: right;\n",
       "    }\n",
       "\n",
       "    .dataframe thead th {\n",
       "        text-align: left;\n",
       "    }\n",
       "\n",
       "    .dataframe tbody tr th {\n",
       "        vertical-align: top;\n",
       "    }\n",
       "</style>\n",
       "<table border=\"1\" class=\"dataframe\">\n",
       "  <thead>\n",
       "    <tr style=\"text-align: right;\">\n",
       "      <th></th>\n",
       "      <th>Airline__Air Asia</th>\n",
       "      <th>Airline__Air India</th>\n",
       "      <th>Airline__GoAir</th>\n",
       "      <th>Airline__IndiGo</th>\n",
       "      <th>Airline__Jet Airways</th>\n",
       "      <th>Airline__Jet Airways Business</th>\n",
       "      <th>Airline__Multiple carriers</th>\n",
       "      <th>Airline__Multiple carriers Premium economy</th>\n",
       "      <th>Airline__SpiceJet</th>\n",
       "      <th>Airline__Vistara</th>\n",
       "      <th>Airline__Vistara Premium economy</th>\n",
       "      <th>Source__Banglore</th>\n",
       "      <th>Source__Chennai</th>\n",
       "      <th>Source__Delhi</th>\n",
       "      <th>Source__Kolkata</th>\n",
       "      <th>Source__Mumbai</th>\n",
       "      <th>Destination__Banglore</th>\n",
       "      <th>Destination__Cochin</th>\n",
       "      <th>Destination__Delhi</th>\n",
       "      <th>Destination__Hyderabad</th>\n",
       "      <th>Destination__Kolkata</th>\n",
       "      <th>Destination__New Delhi</th>\n",
       "      <th>Additional_Info__Airport_Changed</th>\n",
       "      <th>Additional_Info__Business_Class</th>\n",
       "      <th>Additional_Info__In-flight meal not included</th>\n",
       "      <th>Additional_Info__Layover</th>\n",
       "      <th>Additional_Info__No Info</th>\n",
       "      <th>Additional_Info__No check-in baggage included</th>\n",
       "      <th>Encoded_stops</th>\n",
       "      <th>Journey_Day</th>\n",
       "      <th>Journey_over_weekend</th>\n",
       "      <th>Date_Lapse</th>\n",
       "      <th>Dayis__Friday</th>\n",
       "      <th>Dayis__Monday</th>\n",
       "      <th>Dayis__Saturday</th>\n",
       "      <th>Dayis__Sunday</th>\n",
       "      <th>Dayis__Thursday</th>\n",
       "      <th>Dayis__Tuesday</th>\n",
       "      <th>Dayis__Wednesday</th>\n",
       "      <th>Month_Start</th>\n",
       "      <th>Duration_Type</th>\n",
       "      <th>Fly_Hours</th>\n",
       "      <th>Arrival_Hours</th>\n",
       "      <th>Month__3</th>\n",
       "      <th>Month__4</th>\n",
       "      <th>Month__5</th>\n",
       "      <th>Month__6</th>\n",
       "    </tr>\n",
       "  </thead>\n",
       "  <tbody>\n",
       "    <tr>\n",
       "      <th>9541</th>\n",
       "      <td>0</td>\n",
       "      <td>0</td>\n",
       "      <td>0</td>\n",
       "      <td>0</td>\n",
       "      <td>0</td>\n",
       "      <td>0</td>\n",
       "      <td>0</td>\n",
       "      <td>0</td>\n",
       "      <td>0</td>\n",
       "      <td>1</td>\n",
       "      <td>0</td>\n",
       "      <td>0</td>\n",
       "      <td>0</td>\n",
       "      <td>1</td>\n",
       "      <td>0</td>\n",
       "      <td>0</td>\n",
       "      <td>0</td>\n",
       "      <td>1</td>\n",
       "      <td>0</td>\n",
       "      <td>0</td>\n",
       "      <td>0</td>\n",
       "      <td>0</td>\n",
       "      <td>0</td>\n",
       "      <td>0</td>\n",
       "      <td>0</td>\n",
       "      <td>0</td>\n",
       "      <td>1</td>\n",
       "      <td>0</td>\n",
       "      <td>0</td>\n",
       "      <td>27</td>\n",
       "      <td>1</td>\n",
       "      <td>0.483051</td>\n",
       "      <td>0</td>\n",
       "      <td>0</td>\n",
       "      <td>1</td>\n",
       "      <td>0</td>\n",
       "      <td>0</td>\n",
       "      <td>0</td>\n",
       "      <td>0</td>\n",
       "      <td>0</td>\n",
       "      <td>0.131944</td>\n",
       "      <td>0.611111</td>\n",
       "      <td>0.743056</td>\n",
       "      <td>0</td>\n",
       "      <td>1</td>\n",
       "      <td>0</td>\n",
       "      <td>0</td>\n",
       "    </tr>\n",
       "    <tr>\n",
       "      <th>3798</th>\n",
       "      <td>0</td>\n",
       "      <td>1</td>\n",
       "      <td>0</td>\n",
       "      <td>0</td>\n",
       "      <td>0</td>\n",
       "      <td>0</td>\n",
       "      <td>0</td>\n",
       "      <td>0</td>\n",
       "      <td>0</td>\n",
       "      <td>0</td>\n",
       "      <td>0</td>\n",
       "      <td>0</td>\n",
       "      <td>0</td>\n",
       "      <td>1</td>\n",
       "      <td>0</td>\n",
       "      <td>0</td>\n",
       "      <td>0</td>\n",
       "      <td>1</td>\n",
       "      <td>0</td>\n",
       "      <td>0</td>\n",
       "      <td>0</td>\n",
       "      <td>0</td>\n",
       "      <td>0</td>\n",
       "      <td>0</td>\n",
       "      <td>0</td>\n",
       "      <td>0</td>\n",
       "      <td>1</td>\n",
       "      <td>0</td>\n",
       "      <td>2</td>\n",
       "      <td>21</td>\n",
       "      <td>0</td>\n",
       "      <td>0.169492</td>\n",
       "      <td>0</td>\n",
       "      <td>0</td>\n",
       "      <td>0</td>\n",
       "      <td>0</td>\n",
       "      <td>1</td>\n",
       "      <td>0</td>\n",
       "      <td>0</td>\n",
       "      <td>0</td>\n",
       "      <td>1.083333</td>\n",
       "      <td>0.718750</td>\n",
       "      <td>0.802083</td>\n",
       "      <td>1</td>\n",
       "      <td>0</td>\n",
       "      <td>0</td>\n",
       "      <td>0</td>\n",
       "    </tr>\n",
       "    <tr>\n",
       "      <th>7863</th>\n",
       "      <td>0</td>\n",
       "      <td>0</td>\n",
       "      <td>0</td>\n",
       "      <td>0</td>\n",
       "      <td>1</td>\n",
       "      <td>0</td>\n",
       "      <td>0</td>\n",
       "      <td>0</td>\n",
       "      <td>0</td>\n",
       "      <td>0</td>\n",
       "      <td>0</td>\n",
       "      <td>1</td>\n",
       "      <td>0</td>\n",
       "      <td>0</td>\n",
       "      <td>0</td>\n",
       "      <td>0</td>\n",
       "      <td>0</td>\n",
       "      <td>0</td>\n",
       "      <td>1</td>\n",
       "      <td>0</td>\n",
       "      <td>0</td>\n",
       "      <td>0</td>\n",
       "      <td>0</td>\n",
       "      <td>0</td>\n",
       "      <td>1</td>\n",
       "      <td>0</td>\n",
       "      <td>0</td>\n",
       "      <td>0</td>\n",
       "      <td>0</td>\n",
       "      <td>27</td>\n",
       "      <td>0</td>\n",
       "      <td>1.000000</td>\n",
       "      <td>0</td>\n",
       "      <td>0</td>\n",
       "      <td>0</td>\n",
       "      <td>0</td>\n",
       "      <td>1</td>\n",
       "      <td>0</td>\n",
       "      <td>0</td>\n",
       "      <td>0</td>\n",
       "      <td>0.121528</td>\n",
       "      <td>0.465278</td>\n",
       "      <td>0.586806</td>\n",
       "      <td>0</td>\n",
       "      <td>0</td>\n",
       "      <td>0</td>\n",
       "      <td>1</td>\n",
       "    </tr>\n",
       "    <tr>\n",
       "      <th>3750</th>\n",
       "      <td>1</td>\n",
       "      <td>0</td>\n",
       "      <td>0</td>\n",
       "      <td>0</td>\n",
       "      <td>0</td>\n",
       "      <td>0</td>\n",
       "      <td>0</td>\n",
       "      <td>0</td>\n",
       "      <td>0</td>\n",
       "      <td>0</td>\n",
       "      <td>0</td>\n",
       "      <td>0</td>\n",
       "      <td>0</td>\n",
       "      <td>0</td>\n",
       "      <td>1</td>\n",
       "      <td>0</td>\n",
       "      <td>1</td>\n",
       "      <td>0</td>\n",
       "      <td>0</td>\n",
       "      <td>0</td>\n",
       "      <td>0</td>\n",
       "      <td>0</td>\n",
       "      <td>0</td>\n",
       "      <td>0</td>\n",
       "      <td>0</td>\n",
       "      <td>0</td>\n",
       "      <td>1</td>\n",
       "      <td>0</td>\n",
       "      <td>0</td>\n",
       "      <td>15</td>\n",
       "      <td>1</td>\n",
       "      <td>0.898305</td>\n",
       "      <td>0</td>\n",
       "      <td>0</td>\n",
       "      <td>1</td>\n",
       "      <td>0</td>\n",
       "      <td>0</td>\n",
       "      <td>0</td>\n",
       "      <td>0</td>\n",
       "      <td>0</td>\n",
       "      <td>0.104167</td>\n",
       "      <td>0.829861</td>\n",
       "      <td>0.934028</td>\n",
       "      <td>0</td>\n",
       "      <td>0</td>\n",
       "      <td>0</td>\n",
       "      <td>1</td>\n",
       "    </tr>\n",
       "    <tr>\n",
       "      <th>6726</th>\n",
       "      <td>0</td>\n",
       "      <td>0</td>\n",
       "      <td>0</td>\n",
       "      <td>1</td>\n",
       "      <td>0</td>\n",
       "      <td>0</td>\n",
       "      <td>0</td>\n",
       "      <td>0</td>\n",
       "      <td>0</td>\n",
       "      <td>0</td>\n",
       "      <td>0</td>\n",
       "      <td>0</td>\n",
       "      <td>0</td>\n",
       "      <td>0</td>\n",
       "      <td>0</td>\n",
       "      <td>1</td>\n",
       "      <td>0</td>\n",
       "      <td>0</td>\n",
       "      <td>0</td>\n",
       "      <td>1</td>\n",
       "      <td>0</td>\n",
       "      <td>0</td>\n",
       "      <td>0</td>\n",
       "      <td>0</td>\n",
       "      <td>0</td>\n",
       "      <td>0</td>\n",
       "      <td>1</td>\n",
       "      <td>0</td>\n",
       "      <td>0</td>\n",
       "      <td>1</td>\n",
       "      <td>0</td>\n",
       "      <td>0.516949</td>\n",
       "      <td>0</td>\n",
       "      <td>0</td>\n",
       "      <td>0</td>\n",
       "      <td>0</td>\n",
       "      <td>0</td>\n",
       "      <td>0</td>\n",
       "      <td>1</td>\n",
       "      <td>1</td>\n",
       "      <td>0.062500</td>\n",
       "      <td>0.381944</td>\n",
       "      <td>0.444444</td>\n",
       "      <td>0</td>\n",
       "      <td>0</td>\n",
       "      <td>1</td>\n",
       "      <td>0</td>\n",
       "    </tr>\n",
       "  </tbody>\n",
       "</table>\n",
       "</div>"
      ],
      "text/plain": [
       "      Airline__Air Asia  Airline__Air India  Airline__GoAir  Airline__IndiGo  \\\n",
       "9541                  0                   0               0                0   \n",
       "3798                  0                   1               0                0   \n",
       "7863                  0                   0               0                0   \n",
       "3750                  1                   0               0                0   \n",
       "6726                  0                   0               0                1   \n",
       "\n",
       "      Airline__Jet Airways  Airline__Jet Airways Business  \\\n",
       "9541                     0                              0   \n",
       "3798                     0                              0   \n",
       "7863                     1                              0   \n",
       "3750                     0                              0   \n",
       "6726                     0                              0   \n",
       "\n",
       "      Airline__Multiple carriers  Airline__Multiple carriers Premium economy  \\\n",
       "9541                           0                                           0   \n",
       "3798                           0                                           0   \n",
       "7863                           0                                           0   \n",
       "3750                           0                                           0   \n",
       "6726                           0                                           0   \n",
       "\n",
       "      Airline__SpiceJet  Airline__Vistara  Airline__Vistara Premium economy  \\\n",
       "9541                  0                 1                                 0   \n",
       "3798                  0                 0                                 0   \n",
       "7863                  0                 0                                 0   \n",
       "3750                  0                 0                                 0   \n",
       "6726                  0                 0                                 0   \n",
       "\n",
       "      Source__Banglore  Source__Chennai  Source__Delhi  Source__Kolkata  \\\n",
       "9541                 0                0              1                0   \n",
       "3798                 0                0              1                0   \n",
       "7863                 1                0              0                0   \n",
       "3750                 0                0              0                1   \n",
       "6726                 0                0              0                0   \n",
       "\n",
       "      Source__Mumbai  Destination__Banglore  Destination__Cochin  \\\n",
       "9541               0                      0                    1   \n",
       "3798               0                      0                    1   \n",
       "7863               0                      0                    0   \n",
       "3750               0                      1                    0   \n",
       "6726               1                      0                    0   \n",
       "\n",
       "      Destination__Delhi  Destination__Hyderabad  Destination__Kolkata  \\\n",
       "9541                   0                       0                     0   \n",
       "3798                   0                       0                     0   \n",
       "7863                   1                       0                     0   \n",
       "3750                   0                       0                     0   \n",
       "6726                   0                       1                     0   \n",
       "\n",
       "      Destination__New Delhi  Additional_Info__Airport_Changed  \\\n",
       "9541                       0                                 0   \n",
       "3798                       0                                 0   \n",
       "7863                       0                                 0   \n",
       "3750                       0                                 0   \n",
       "6726                       0                                 0   \n",
       "\n",
       "      Additional_Info__Business_Class  \\\n",
       "9541                                0   \n",
       "3798                                0   \n",
       "7863                                0   \n",
       "3750                                0   \n",
       "6726                                0   \n",
       "\n",
       "      Additional_Info__In-flight meal not included  Additional_Info__Layover  \\\n",
       "9541                                             0                         0   \n",
       "3798                                             0                         0   \n",
       "7863                                             1                         0   \n",
       "3750                                             0                         0   \n",
       "6726                                             0                         0   \n",
       "\n",
       "      Additional_Info__No Info  Additional_Info__No check-in baggage included  \\\n",
       "9541                         1                                              0   \n",
       "3798                         1                                              0   \n",
       "7863                         0                                              0   \n",
       "3750                         1                                              0   \n",
       "6726                         1                                              0   \n",
       "\n",
       "      Encoded_stops  Journey_Day  Journey_over_weekend  Date_Lapse  \\\n",
       "9541              0           27                     1    0.483051   \n",
       "3798              2           21                     0    0.169492   \n",
       "7863              0           27                     0    1.000000   \n",
       "3750              0           15                     1    0.898305   \n",
       "6726              0            1                     0    0.516949   \n",
       "\n",
       "      Dayis__Friday  Dayis__Monday  Dayis__Saturday  Dayis__Sunday  \\\n",
       "9541              0              0                1              0   \n",
       "3798              0              0                0              0   \n",
       "7863              0              0                0              0   \n",
       "3750              0              0                1              0   \n",
       "6726              0              0                0              0   \n",
       "\n",
       "      Dayis__Thursday  Dayis__Tuesday  Dayis__Wednesday  Month_Start  \\\n",
       "9541                0               0                 0            0   \n",
       "3798                1               0                 0            0   \n",
       "7863                1               0                 0            0   \n",
       "3750                0               0                 0            0   \n",
       "6726                0               0                 1            1   \n",
       "\n",
       "      Duration_Type  Fly_Hours  Arrival_Hours  Month__3  Month__4  Month__5  \\\n",
       "9541       0.131944   0.611111       0.743056         0         1         0   \n",
       "3798       1.083333   0.718750       0.802083         1         0         0   \n",
       "7863       0.121528   0.465278       0.586806         0         0         0   \n",
       "3750       0.104167   0.829861       0.934028         0         0         0   \n",
       "6726       0.062500   0.381944       0.444444         0         0         1   \n",
       "\n",
       "      Month__6  \n",
       "9541         0  \n",
       "3798         0  \n",
       "7863         1  \n",
       "3750         1  \n",
       "6726         0  "
      ]
     },
     "execution_count": 1732,
     "metadata": {},
     "output_type": "execute_result"
    }
   ],
   "source": [
    "X_train.head()"
   ]
  },
  {
   "cell_type": "code",
   "execution_count": 1733,
   "metadata": {
    "collapsed": true
   },
   "outputs": [],
   "source": [
    "scaler = StandardScaler()"
   ]
  },
  {
   "cell_type": "code",
   "execution_count": 1734,
   "metadata": {},
   "outputs": [],
   "source": [
    "X_train = pd.DataFrame(scaler.fit_transform(X_train), columns=train_Feature.columns)"
   ]
  },
  {
   "cell_type": "code",
   "execution_count": 1735,
   "metadata": {
    "collapsed": true
   },
   "outputs": [],
   "source": [
    "X_test =  pd.DataFrame(scaler.transform(X_test),columns=train_Feature.columns)"
   ]
  },
  {
   "cell_type": "markdown",
   "metadata": {},
   "source": [
    "# Final Prediction on Test set starts here"
   ]
  },
  {
   "cell_type": "code",
   "execution_count": 1736,
   "metadata": {
    "collapsed": true
   },
   "outputs": [],
   "source": [
    "#test_copy.loc[test_copy['Airline'] == 'Jet Airways Business','Airline'] = 'Jet Airways'\n",
    "#test_copy.loc[test_copy['Airline'] == 'Multiple carriers Premium economy','Airline'] = 'Multiple carriers'\n",
    "#test_copy.loc[test_copy['Airline'] == 'Vistara Premium economy','Airline'] = 'Vistara'"
   ]
  },
  {
   "cell_type": "code",
   "execution_count": 1737,
   "metadata": {
    "collapsed": true
   },
   "outputs": [],
   "source": [
    "test_copy = onehotencode(test_copy,'Airline',\"Airline_\")"
   ]
  },
  {
   "cell_type": "code",
   "execution_count": 1738,
   "metadata": {
    "collapsed": true
   },
   "outputs": [],
   "source": [
    "test_copy = onehotencode(test_copy,'Source',\"Source_\")"
   ]
  },
  {
   "cell_type": "code",
   "execution_count": 1739,
   "metadata": {
    "collapsed": true
   },
   "outputs": [],
   "source": [
    "test_copy = onehotencode(test_copy,'Destination',\"Destination_\")"
   ]
  },
  {
   "cell_type": "code",
   "execution_count": 1740,
   "metadata": {
    "collapsed": true
   },
   "outputs": [],
   "source": [
    "#handle No Info, No info values before one hot encoding.\n",
    "test_copy.loc[test_copy['Additional_Info'] == 'No info','Additional_Info'] = 'No Info'\n",
    "test_copy.loc[test_copy['Additional_Info'] == '1 Long layover','Additional_Info'] = 'Layover'\n",
    "test_copy.loc[test_copy['Additional_Info'] == '1 Short layover','Additional_Info'] = 'Layover'\n",
    "test_copy.loc[test_copy['Additional_Info'] == '1 Long layover','Additional_Info'] = 'Layover'\n",
    "test_copy.loc[test_copy['Additional_Info'] == 'Business class','Additional_Info'] = 'Business_Class'\n",
    "test_copy.loc[test_copy['Additional_Info'] == 'Change airports','Additional_Info'] = 'Airport_Changed'\n",
    "\n",
    "test_copy = onehotencode(test_copy,'Additional_Info',\"Additional_Info_\")"
   ]
  },
  {
   "cell_type": "code",
   "execution_count": 1741,
   "metadata": {
    "collapsed": true
   },
   "outputs": [],
   "source": [
    "test_copy = encode_total_stops(test_copy)"
   ]
  },
  {
   "cell_type": "code",
   "execution_count": 1742,
   "metadata": {
    "collapsed": true
   },
   "outputs": [],
   "source": [
    "test_copy = extract_journey_data(test_copy)"
   ]
  },
  {
   "cell_type": "code",
   "execution_count": 1743,
   "metadata": {
    "collapsed": true
   },
   "outputs": [],
   "source": [
    "test_copy['Month_Start'] = 0\n",
    "test_copy.loc[test_copy['Journey_Day'] == 1,'Month_Start'] = 1\n",
    "test_copy.loc[test_copy['Journey_Day'] == 3,'Month_Start'] = 1\n",
    "test_copy.loc[test_copy['Journey_Day'] == 6,'Month_Start'] = 1\n",
    "test_copy.loc[test_copy['Journey_Day'] == 9,'Month_Start'] = 1"
   ]
  },
  {
   "cell_type": "code",
   "execution_count": 1744,
   "metadata": {
    "collapsed": true
   },
   "outputs": [],
   "source": [
    "test_copy = encode_duration(test_copy)"
   ]
  },
  {
   "cell_type": "code",
   "execution_count": 1745,
   "metadata": {
    "collapsed": true
   },
   "outputs": [],
   "source": [
    "test_copy = flight_hours(test_copy)"
   ]
  },
  {
   "cell_type": "code",
   "execution_count": 1746,
   "metadata": {
    "collapsed": true
   },
   "outputs": [],
   "source": [
    "test_copy = arrival_hours(test_copy)"
   ]
  },
  {
   "cell_type": "code",
   "execution_count": 1747,
   "metadata": {
    "collapsed": true
   },
   "outputs": [],
   "source": [
    "test_copy = onehotencode(test_copy,'Journey_day_of_week',\"Dayis_\")"
   ]
  },
  {
   "cell_type": "code",
   "execution_count": 1748,
   "metadata": {
    "collapsed": true
   },
   "outputs": [],
   "source": [
    "test_copy = onehotencode(test_copy,'Journey_Month',\"Month_\")"
   ]
  },
  {
   "cell_type": "code",
   "execution_count": 1749,
   "metadata": {
    "collapsed": true
   },
   "outputs": [],
   "source": [
    "test_final = test_copy"
   ]
  },
  {
   "cell_type": "code",
   "execution_count": 1750,
   "metadata": {},
   "outputs": [
    {
     "data": {
      "text/plain": [
       "(2671, 59)"
      ]
     },
     "execution_count": 1750,
     "metadata": {},
     "output_type": "execute_result"
    }
   ],
   "source": [
    "test_copy.shape"
   ]
  },
  {
   "cell_type": "code",
   "execution_count": 1751,
   "metadata": {},
   "outputs": [
    {
     "data": {
      "text/plain": [
       "['Price']"
      ]
     },
     "execution_count": 1751,
     "metadata": {},
     "output_type": "execute_result"
    }
   ],
   "source": [
    "[X for X in data_copy.columns if X not in test_final.columns]"
   ]
  },
  {
   "cell_type": "code",
   "execution_count": 1752,
   "metadata": {
    "scrolled": true
   },
   "outputs": [
    {
     "data": {
      "text/html": [
       "<div>\n",
       "<style>\n",
       "    .dataframe thead tr:only-child th {\n",
       "        text-align: right;\n",
       "    }\n",
       "\n",
       "    .dataframe thead th {\n",
       "        text-align: left;\n",
       "    }\n",
       "\n",
       "    .dataframe tbody tr th {\n",
       "        vertical-align: top;\n",
       "    }\n",
       "</style>\n",
       "<table border=\"1\" class=\"dataframe\">\n",
       "  <thead>\n",
       "    <tr style=\"text-align: right;\">\n",
       "      <th></th>\n",
       "      <th>Price</th>\n",
       "      <th>Airline__Air Asia</th>\n",
       "      <th>Airline__Air India</th>\n",
       "      <th>Airline__GoAir</th>\n",
       "      <th>Airline__IndiGo</th>\n",
       "      <th>Airline__Jet Airways</th>\n",
       "      <th>Airline__Jet Airways Business</th>\n",
       "      <th>Airline__Multiple carriers</th>\n",
       "      <th>Airline__Multiple carriers Premium economy</th>\n",
       "      <th>Airline__SpiceJet</th>\n",
       "      <th>Airline__Vistara</th>\n",
       "      <th>Airline__Vistara Premium economy</th>\n",
       "      <th>Source__Banglore</th>\n",
       "      <th>Source__Chennai</th>\n",
       "      <th>Source__Delhi</th>\n",
       "      <th>Source__Kolkata</th>\n",
       "      <th>Source__Mumbai</th>\n",
       "      <th>Destination__Banglore</th>\n",
       "      <th>Destination__Cochin</th>\n",
       "      <th>Destination__Delhi</th>\n",
       "      <th>Destination__Hyderabad</th>\n",
       "      <th>Destination__Kolkata</th>\n",
       "      <th>Destination__New Delhi</th>\n",
       "      <th>Additional_Info__Airport_Changed</th>\n",
       "      <th>Additional_Info__Business_Class</th>\n",
       "      <th>Additional_Info__In-flight meal not included</th>\n",
       "      <th>Additional_Info__Layover</th>\n",
       "      <th>Additional_Info__No Info</th>\n",
       "      <th>Additional_Info__No check-in baggage included</th>\n",
       "      <th>Encoded_stops</th>\n",
       "      <th>Journey_Day</th>\n",
       "      <th>Journey_over_weekend</th>\n",
       "      <th>Date_Lapse</th>\n",
       "      <th>Dayis__Friday</th>\n",
       "      <th>Dayis__Monday</th>\n",
       "      <th>Dayis__Saturday</th>\n",
       "      <th>Dayis__Sunday</th>\n",
       "      <th>Dayis__Thursday</th>\n",
       "      <th>Dayis__Tuesday</th>\n",
       "      <th>Dayis__Wednesday</th>\n",
       "      <th>Month_Start</th>\n",
       "      <th>Duration_Type</th>\n",
       "      <th>Fly_Hours</th>\n",
       "      <th>Arrival_Hours</th>\n",
       "      <th>Month__3</th>\n",
       "      <th>Month__4</th>\n",
       "      <th>Month__5</th>\n",
       "      <th>Month__6</th>\n",
       "    </tr>\n",
       "  </thead>\n",
       "  <tbody>\n",
       "    <tr>\n",
       "      <th>0</th>\n",
       "      <td>3897</td>\n",
       "      <td>0</td>\n",
       "      <td>0</td>\n",
       "      <td>0</td>\n",
       "      <td>1</td>\n",
       "      <td>0</td>\n",
       "      <td>0</td>\n",
       "      <td>0</td>\n",
       "      <td>0</td>\n",
       "      <td>0</td>\n",
       "      <td>0</td>\n",
       "      <td>0</td>\n",
       "      <td>1</td>\n",
       "      <td>0</td>\n",
       "      <td>0</td>\n",
       "      <td>0</td>\n",
       "      <td>0</td>\n",
       "      <td>0</td>\n",
       "      <td>0</td>\n",
       "      <td>0</td>\n",
       "      <td>0</td>\n",
       "      <td>0</td>\n",
       "      <td>1</td>\n",
       "      <td>0</td>\n",
       "      <td>0</td>\n",
       "      <td>0</td>\n",
       "      <td>0</td>\n",
       "      <td>1</td>\n",
       "      <td>0</td>\n",
       "      <td>0</td>\n",
       "      <td>24</td>\n",
       "      <td>1</td>\n",
       "      <td>0.194915</td>\n",
       "      <td>0</td>\n",
       "      <td>0</td>\n",
       "      <td>0</td>\n",
       "      <td>1</td>\n",
       "      <td>0</td>\n",
       "      <td>0</td>\n",
       "      <td>0</td>\n",
       "      <td>0</td>\n",
       "      <td>0.118056</td>\n",
       "      <td>0.930556</td>\n",
       "      <td>0.048611</td>\n",
       "      <td>1</td>\n",
       "      <td>0</td>\n",
       "      <td>0</td>\n",
       "      <td>0</td>\n",
       "    </tr>\n",
       "    <tr>\n",
       "      <th>1</th>\n",
       "      <td>7662</td>\n",
       "      <td>0</td>\n",
       "      <td>1</td>\n",
       "      <td>0</td>\n",
       "      <td>0</td>\n",
       "      <td>0</td>\n",
       "      <td>0</td>\n",
       "      <td>0</td>\n",
       "      <td>0</td>\n",
       "      <td>0</td>\n",
       "      <td>0</td>\n",
       "      <td>0</td>\n",
       "      <td>0</td>\n",
       "      <td>0</td>\n",
       "      <td>0</td>\n",
       "      <td>1</td>\n",
       "      <td>0</td>\n",
       "      <td>1</td>\n",
       "      <td>0</td>\n",
       "      <td>0</td>\n",
       "      <td>0</td>\n",
       "      <td>0</td>\n",
       "      <td>0</td>\n",
       "      <td>0</td>\n",
       "      <td>0</td>\n",
       "      <td>0</td>\n",
       "      <td>0</td>\n",
       "      <td>1</td>\n",
       "      <td>0</td>\n",
       "      <td>2</td>\n",
       "      <td>1</td>\n",
       "      <td>0</td>\n",
       "      <td>0.516949</td>\n",
       "      <td>0</td>\n",
       "      <td>0</td>\n",
       "      <td>0</td>\n",
       "      <td>0</td>\n",
       "      <td>0</td>\n",
       "      <td>0</td>\n",
       "      <td>1</td>\n",
       "      <td>1</td>\n",
       "      <td>0.309028</td>\n",
       "      <td>0.243056</td>\n",
       "      <td>0.552083</td>\n",
       "      <td>0</td>\n",
       "      <td>0</td>\n",
       "      <td>1</td>\n",
       "      <td>0</td>\n",
       "    </tr>\n",
       "    <tr>\n",
       "      <th>2</th>\n",
       "      <td>13882</td>\n",
       "      <td>0</td>\n",
       "      <td>0</td>\n",
       "      <td>0</td>\n",
       "      <td>0</td>\n",
       "      <td>1</td>\n",
       "      <td>0</td>\n",
       "      <td>0</td>\n",
       "      <td>0</td>\n",
       "      <td>0</td>\n",
       "      <td>0</td>\n",
       "      <td>0</td>\n",
       "      <td>0</td>\n",
       "      <td>0</td>\n",
       "      <td>1</td>\n",
       "      <td>0</td>\n",
       "      <td>0</td>\n",
       "      <td>0</td>\n",
       "      <td>1</td>\n",
       "      <td>0</td>\n",
       "      <td>0</td>\n",
       "      <td>0</td>\n",
       "      <td>0</td>\n",
       "      <td>0</td>\n",
       "      <td>0</td>\n",
       "      <td>0</td>\n",
       "      <td>0</td>\n",
       "      <td>1</td>\n",
       "      <td>0</td>\n",
       "      <td>2</td>\n",
       "      <td>9</td>\n",
       "      <td>1</td>\n",
       "      <td>0.847458</td>\n",
       "      <td>0</td>\n",
       "      <td>0</td>\n",
       "      <td>0</td>\n",
       "      <td>1</td>\n",
       "      <td>0</td>\n",
       "      <td>0</td>\n",
       "      <td>0</td>\n",
       "      <td>1</td>\n",
       "      <td>0.791667</td>\n",
       "      <td>0.392361</td>\n",
       "      <td>0.184028</td>\n",
       "      <td>0</td>\n",
       "      <td>0</td>\n",
       "      <td>0</td>\n",
       "      <td>1</td>\n",
       "    </tr>\n",
       "    <tr>\n",
       "      <th>3</th>\n",
       "      <td>6218</td>\n",
       "      <td>0</td>\n",
       "      <td>0</td>\n",
       "      <td>0</td>\n",
       "      <td>1</td>\n",
       "      <td>0</td>\n",
       "      <td>0</td>\n",
       "      <td>0</td>\n",
       "      <td>0</td>\n",
       "      <td>0</td>\n",
       "      <td>0</td>\n",
       "      <td>0</td>\n",
       "      <td>0</td>\n",
       "      <td>0</td>\n",
       "      <td>0</td>\n",
       "      <td>1</td>\n",
       "      <td>0</td>\n",
       "      <td>1</td>\n",
       "      <td>0</td>\n",
       "      <td>0</td>\n",
       "      <td>0</td>\n",
       "      <td>0</td>\n",
       "      <td>0</td>\n",
       "      <td>0</td>\n",
       "      <td>0</td>\n",
       "      <td>0</td>\n",
       "      <td>0</td>\n",
       "      <td>1</td>\n",
       "      <td>0</td>\n",
       "      <td>1</td>\n",
       "      <td>12</td>\n",
       "      <td>1</td>\n",
       "      <td>0.610169</td>\n",
       "      <td>0</td>\n",
       "      <td>0</td>\n",
       "      <td>0</td>\n",
       "      <td>1</td>\n",
       "      <td>0</td>\n",
       "      <td>0</td>\n",
       "      <td>0</td>\n",
       "      <td>0</td>\n",
       "      <td>0.225694</td>\n",
       "      <td>0.753472</td>\n",
       "      <td>0.979167</td>\n",
       "      <td>0</td>\n",
       "      <td>0</td>\n",
       "      <td>1</td>\n",
       "      <td>0</td>\n",
       "    </tr>\n",
       "    <tr>\n",
       "      <th>4</th>\n",
       "      <td>13302</td>\n",
       "      <td>0</td>\n",
       "      <td>0</td>\n",
       "      <td>0</td>\n",
       "      <td>1</td>\n",
       "      <td>0</td>\n",
       "      <td>0</td>\n",
       "      <td>0</td>\n",
       "      <td>0</td>\n",
       "      <td>0</td>\n",
       "      <td>0</td>\n",
       "      <td>0</td>\n",
       "      <td>1</td>\n",
       "      <td>0</td>\n",
       "      <td>0</td>\n",
       "      <td>0</td>\n",
       "      <td>0</td>\n",
       "      <td>0</td>\n",
       "      <td>0</td>\n",
       "      <td>0</td>\n",
       "      <td>0</td>\n",
       "      <td>0</td>\n",
       "      <td>1</td>\n",
       "      <td>0</td>\n",
       "      <td>0</td>\n",
       "      <td>0</td>\n",
       "      <td>0</td>\n",
       "      <td>1</td>\n",
       "      <td>0</td>\n",
       "      <td>1</td>\n",
       "      <td>1</td>\n",
       "      <td>0</td>\n",
       "      <td>0.000000</td>\n",
       "      <td>1</td>\n",
       "      <td>0</td>\n",
       "      <td>0</td>\n",
       "      <td>0</td>\n",
       "      <td>0</td>\n",
       "      <td>0</td>\n",
       "      <td>0</td>\n",
       "      <td>1</td>\n",
       "      <td>0.197917</td>\n",
       "      <td>0.701389</td>\n",
       "      <td>0.899306</td>\n",
       "      <td>1</td>\n",
       "      <td>0</td>\n",
       "      <td>0</td>\n",
       "      <td>0</td>\n",
       "    </tr>\n",
       "  </tbody>\n",
       "</table>\n",
       "</div>"
      ],
      "text/plain": [
       "   Price  Airline__Air Asia  Airline__Air India  Airline__GoAir  \\\n",
       "0   3897                  0                   0               0   \n",
       "1   7662                  0                   1               0   \n",
       "2  13882                  0                   0               0   \n",
       "3   6218                  0                   0               0   \n",
       "4  13302                  0                   0               0   \n",
       "\n",
       "   Airline__IndiGo  Airline__Jet Airways  Airline__Jet Airways Business  \\\n",
       "0                1                     0                              0   \n",
       "1                0                     0                              0   \n",
       "2                0                     1                              0   \n",
       "3                1                     0                              0   \n",
       "4                1                     0                              0   \n",
       "\n",
       "   Airline__Multiple carriers  Airline__Multiple carriers Premium economy  \\\n",
       "0                           0                                           0   \n",
       "1                           0                                           0   \n",
       "2                           0                                           0   \n",
       "3                           0                                           0   \n",
       "4                           0                                           0   \n",
       "\n",
       "   Airline__SpiceJet  Airline__Vistara  Airline__Vistara Premium economy  \\\n",
       "0                  0                 0                                 0   \n",
       "1                  0                 0                                 0   \n",
       "2                  0                 0                                 0   \n",
       "3                  0                 0                                 0   \n",
       "4                  0                 0                                 0   \n",
       "\n",
       "   Source__Banglore  Source__Chennai  Source__Delhi  Source__Kolkata  \\\n",
       "0                 1                0              0                0   \n",
       "1                 0                0              0                1   \n",
       "2                 0                0              1                0   \n",
       "3                 0                0              0                1   \n",
       "4                 1                0              0                0   \n",
       "\n",
       "   Source__Mumbai  Destination__Banglore  Destination__Cochin  \\\n",
       "0               0                      0                    0   \n",
       "1               0                      1                    0   \n",
       "2               0                      0                    1   \n",
       "3               0                      1                    0   \n",
       "4               0                      0                    0   \n",
       "\n",
       "   Destination__Delhi  Destination__Hyderabad  Destination__Kolkata  \\\n",
       "0                   0                       0                     0   \n",
       "1                   0                       0                     0   \n",
       "2                   0                       0                     0   \n",
       "3                   0                       0                     0   \n",
       "4                   0                       0                     0   \n",
       "\n",
       "   Destination__New Delhi  Additional_Info__Airport_Changed  \\\n",
       "0                       1                                 0   \n",
       "1                       0                                 0   \n",
       "2                       0                                 0   \n",
       "3                       0                                 0   \n",
       "4                       1                                 0   \n",
       "\n",
       "   Additional_Info__Business_Class  \\\n",
       "0                                0   \n",
       "1                                0   \n",
       "2                                0   \n",
       "3                                0   \n",
       "4                                0   \n",
       "\n",
       "   Additional_Info__In-flight meal not included  Additional_Info__Layover  \\\n",
       "0                                             0                         0   \n",
       "1                                             0                         0   \n",
       "2                                             0                         0   \n",
       "3                                             0                         0   \n",
       "4                                             0                         0   \n",
       "\n",
       "   Additional_Info__No Info  Additional_Info__No check-in baggage included  \\\n",
       "0                         1                                              0   \n",
       "1                         1                                              0   \n",
       "2                         1                                              0   \n",
       "3                         1                                              0   \n",
       "4                         1                                              0   \n",
       "\n",
       "   Encoded_stops  Journey_Day  Journey_over_weekend  Date_Lapse  \\\n",
       "0              0           24                     1    0.194915   \n",
       "1              2            1                     0    0.516949   \n",
       "2              2            9                     1    0.847458   \n",
       "3              1           12                     1    0.610169   \n",
       "4              1            1                     0    0.000000   \n",
       "\n",
       "   Dayis__Friday  Dayis__Monday  Dayis__Saturday  Dayis__Sunday  \\\n",
       "0              0              0                0              1   \n",
       "1              0              0                0              0   \n",
       "2              0              0                0              1   \n",
       "3              0              0                0              1   \n",
       "4              1              0                0              0   \n",
       "\n",
       "   Dayis__Thursday  Dayis__Tuesday  Dayis__Wednesday  Month_Start  \\\n",
       "0                0               0                 0            0   \n",
       "1                0               0                 1            1   \n",
       "2                0               0                 0            1   \n",
       "3                0               0                 0            0   \n",
       "4                0               0                 0            1   \n",
       "\n",
       "   Duration_Type  Fly_Hours  Arrival_Hours  Month__3  Month__4  Month__5  \\\n",
       "0       0.118056   0.930556       0.048611         1         0         0   \n",
       "1       0.309028   0.243056       0.552083         0         0         1   \n",
       "2       0.791667   0.392361       0.184028         0         0         0   \n",
       "3       0.225694   0.753472       0.979167         0         0         1   \n",
       "4       0.197917   0.701389       0.899306         1         0         0   \n",
       "\n",
       "   Month__6  \n",
       "0         0  \n",
       "1         0  \n",
       "2         1  \n",
       "3         0  \n",
       "4         0  "
      ]
     },
     "execution_count": 1752,
     "metadata": {},
     "output_type": "execute_result"
    }
   ],
   "source": [
    "data_copy.head()"
   ]
  },
  {
   "cell_type": "code",
   "execution_count": 1753,
   "metadata": {},
   "outputs": [],
   "source": [
    "test_final.drop(['Airline','Date_of_Journey','Source','Destination','Route','Dep_Time','Arrival_Time','Duration',\n",
    "                'Total_Stops','Additional_Info','Journey_day_of_week','Journey_Month'],axis=1,inplace=True)"
   ]
  },
  {
   "cell_type": "code",
   "execution_count": 1754,
   "metadata": {},
   "outputs": [],
   "source": [
    "test_final =  pd.DataFrame(scaler.transform(test_final),columns=test_final.columns)"
   ]
  },
  {
   "cell_type": "code",
   "execution_count": 1755,
   "metadata": {},
   "outputs": [
    {
     "data": {
      "text/plain": [
       "(2671, 47)"
      ]
     },
     "execution_count": 1755,
     "metadata": {},
     "output_type": "execute_result"
    }
   ],
   "source": [
    "test_final.shape"
   ]
  },
  {
   "cell_type": "code",
   "execution_count": 1756,
   "metadata": {
    "scrolled": true
   },
   "outputs": [
    {
     "data": {
      "text/plain": [
       "(10681, 47)"
      ]
     },
     "execution_count": 1756,
     "metadata": {},
     "output_type": "execute_result"
    }
   ],
   "source": [
    "train_Feature.shape"
   ]
  },
  {
   "cell_type": "code",
   "execution_count": 1757,
   "metadata": {
    "collapsed": true
   },
   "outputs": [],
   "source": [
    "y_train_log =  y_train.apply(log_transform)"
   ]
  },
  {
   "cell_type": "code",
   "execution_count": 1758,
   "metadata": {
    "collapsed": true
   },
   "outputs": [],
   "source": [
    "y_test_log =  y_test.apply(log_transform)"
   ]
  },
  {
   "cell_type": "markdown",
   "metadata": {},
   "source": [
    "##Random Forest"
   ]
  },
  {
   "cell_type": "code",
   "execution_count": 1759,
   "metadata": {},
   "outputs": [],
   "source": [
    "#X_train = X_train.loc[:,['Airline__Air Asia','Airline__Air India','Airline__GoAir',\n",
    "#                     'Airline__IndiGo','Airline__Multiple carriers','Airline__Vistara',\n",
    "#                     'Additional_Info__Airport_Changed','Additional_Info__Business_Class',\n",
    "#                     'Encoded_stops','Dayis__Friday','Dayis__Monday','Dayis__Thursday',\n",
    "#                     'Dayis__Tuesday','Month_Start','Duration_Type','Fly_Hours','Arrival_Hours']]"
   ]
  },
  {
   "cell_type": "code",
   "execution_count": 1760,
   "metadata": {
    "collapsed": true
   },
   "outputs": [],
   "source": [
    "#X_test = X_test.loc[:,['Airline__Air Asia','Airline__Air India','Airline__GoAir',\n",
    "#                     'Airline__IndiGo','Airline__Multiple carriers','Airline__Vistara',\n",
    "#                     'Additional_Info__Airport_Changed','Additional_Info__Business_Class',\n",
    "#                     'Encoded_stops','Dayis__Friday','Dayis__Monday','Dayis__Thursday',\n",
    "#                     'Dayis__Tuesday','Month_Start','Duration_Type','Fly_Hours','Arrival_Hours']]"
   ]
  },
  {
   "cell_type": "code",
   "execution_count": 1761,
   "metadata": {
    "collapsed": true
   },
   "outputs": [],
   "source": [
    "#test_final = test_final.loc[:,['Airline__Air Asia','Airline__Air India','Airline__GoAir',\n",
    "#                     'Airline__IndiGo','Airline__Multiple carriers','Airline__Vistara',\n",
    "#                    'Additional_Info__Airport_Changed','Additional_Info__Business_Class',\n",
    "#                     'Encoded_stops','Dayis__Friday','Dayis__Monday','Dayis__Thursday',\n",
    "#                     'Dayis__Tuesday','Month_Start','Duration_Type','Fly_Hours','Arrival_Hours']]"
   ]
  },
  {
   "cell_type": "code",
   "execution_count": 1762,
   "metadata": {},
   "outputs": [],
   "source": [
    "rf = RandomForestRegressor(random_state=101,\n",
    "                          bootstrap=True,max_depth=12,\n",
    "                           max_features='auto',min_samples_leaf=4,\n",
    "                           min_samples_split=5,n_estimators=100)"
   ]
  },
  {
   "cell_type": "code",
   "execution_count": 1763,
   "metadata": {
    "scrolled": true
   },
   "outputs": [
    {
     "data": {
      "text/html": [
       "<div>\n",
       "<style>\n",
       "    .dataframe thead tr:only-child th {\n",
       "        text-align: right;\n",
       "    }\n",
       "\n",
       "    .dataframe thead th {\n",
       "        text-align: left;\n",
       "    }\n",
       "\n",
       "    .dataframe tbody tr th {\n",
       "        vertical-align: top;\n",
       "    }\n",
       "</style>\n",
       "<table border=\"1\" class=\"dataframe\">\n",
       "  <thead>\n",
       "    <tr style=\"text-align: right;\">\n",
       "      <th></th>\n",
       "      <th>Airline__Air Asia</th>\n",
       "      <th>Airline__Air India</th>\n",
       "      <th>Airline__GoAir</th>\n",
       "      <th>Airline__IndiGo</th>\n",
       "      <th>Airline__Jet Airways</th>\n",
       "      <th>Airline__Jet Airways Business</th>\n",
       "      <th>Airline__Multiple carriers</th>\n",
       "      <th>Airline__Multiple carriers Premium economy</th>\n",
       "      <th>Airline__SpiceJet</th>\n",
       "      <th>Airline__Vistara</th>\n",
       "      <th>Airline__Vistara Premium economy</th>\n",
       "      <th>Source__Banglore</th>\n",
       "      <th>Source__Chennai</th>\n",
       "      <th>Source__Delhi</th>\n",
       "      <th>Source__Kolkata</th>\n",
       "      <th>Source__Mumbai</th>\n",
       "      <th>Destination__Banglore</th>\n",
       "      <th>Destination__Cochin</th>\n",
       "      <th>Destination__Delhi</th>\n",
       "      <th>Destination__Hyderabad</th>\n",
       "      <th>Destination__Kolkata</th>\n",
       "      <th>Destination__New Delhi</th>\n",
       "      <th>Additional_Info__Airport_Changed</th>\n",
       "      <th>Additional_Info__Business_Class</th>\n",
       "      <th>Additional_Info__In-flight meal not included</th>\n",
       "      <th>Additional_Info__Layover</th>\n",
       "      <th>Additional_Info__No Info</th>\n",
       "      <th>Additional_Info__No check-in baggage included</th>\n",
       "      <th>Encoded_stops</th>\n",
       "      <th>Journey_Day</th>\n",
       "      <th>Journey_over_weekend</th>\n",
       "      <th>Date_Lapse</th>\n",
       "      <th>Dayis__Friday</th>\n",
       "      <th>Dayis__Monday</th>\n",
       "      <th>Dayis__Saturday</th>\n",
       "      <th>Dayis__Sunday</th>\n",
       "      <th>Dayis__Thursday</th>\n",
       "      <th>Dayis__Tuesday</th>\n",
       "      <th>Dayis__Wednesday</th>\n",
       "      <th>Month_Start</th>\n",
       "      <th>Duration_Type</th>\n",
       "      <th>Fly_Hours</th>\n",
       "      <th>Arrival_Hours</th>\n",
       "      <th>Month__3</th>\n",
       "      <th>Month__4</th>\n",
       "      <th>Month__5</th>\n",
       "      <th>Month__6</th>\n",
       "    </tr>\n",
       "  </thead>\n",
       "  <tbody>\n",
       "    <tr>\n",
       "      <th>0</th>\n",
       "      <td>-0.170421</td>\n",
       "      <td>-0.444843</td>\n",
       "      <td>-0.131458</td>\n",
       "      <td>-0.489485</td>\n",
       "      <td>-0.752536</td>\n",
       "      <td>-0.016358</td>\n",
       "      <td>-0.356023</td>\n",
       "      <td>-0.036598</td>\n",
       "      <td>-0.281799</td>\n",
       "      <td>4.505457</td>\n",
       "      <td>-0.011566</td>\n",
       "      <td>-0.511637</td>\n",
       "      <td>-0.189818</td>\n",
       "      <td>1.163256</td>\n",
       "      <td>-0.602899</td>\n",
       "      <td>-0.266283</td>\n",
       "      <td>-0.602899</td>\n",
       "      <td>1.163256</td>\n",
       "      <td>-0.365729</td>\n",
       "      <td>-0.266283</td>\n",
       "      <td>-0.189818</td>\n",
       "      <td>-0.313498</td>\n",
       "      <td>-0.020036</td>\n",
       "      <td>-0.016358</td>\n",
       "      <td>-0.476426</td>\n",
       "      <td>-0.043315</td>\n",
       "      <td>0.525343</td>\n",
       "      <td>-0.172076</td>\n",
       "      <td>-1.221631</td>\n",
       "      <td>1.604183</td>\n",
       "      <td>1.547610</td>\n",
       "      <td>-0.214522</td>\n",
       "      <td>-0.306761</td>\n",
       "      <td>-0.461782</td>\n",
       "      <td>2.346599</td>\n",
       "      <td>-0.404898</td>\n",
       "      <td>-0.450440</td>\n",
       "      <td>-0.300719</td>\n",
       "      <td>-0.487594</td>\n",
       "      <td>-0.877909</td>\n",
       "      <td>-0.893940</td>\n",
       "      <td>0.315136</td>\n",
       "      <td>0.592942</td>\n",
       "      <td>-0.584764</td>\n",
       "      <td>2.979232</td>\n",
       "      <td>-0.691626</td>\n",
       "      <td>-0.686559</td>\n",
       "    </tr>\n",
       "    <tr>\n",
       "      <th>1</th>\n",
       "      <td>-0.170421</td>\n",
       "      <td>2.247986</td>\n",
       "      <td>-0.131458</td>\n",
       "      <td>-0.489485</td>\n",
       "      <td>-0.752536</td>\n",
       "      <td>-0.016358</td>\n",
       "      <td>-0.356023</td>\n",
       "      <td>-0.036598</td>\n",
       "      <td>-0.281799</td>\n",
       "      <td>-0.221953</td>\n",
       "      <td>-0.011566</td>\n",
       "      <td>-0.511637</td>\n",
       "      <td>-0.189818</td>\n",
       "      <td>1.163256</td>\n",
       "      <td>-0.602899</td>\n",
       "      <td>-0.266283</td>\n",
       "      <td>-0.602899</td>\n",
       "      <td>1.163256</td>\n",
       "      <td>-0.365729</td>\n",
       "      <td>-0.266283</td>\n",
       "      <td>-0.189818</td>\n",
       "      <td>-0.313498</td>\n",
       "      <td>-0.020036</td>\n",
       "      <td>-0.016358</td>\n",
       "      <td>-0.476426</td>\n",
       "      <td>-0.043315</td>\n",
       "      <td>0.525343</td>\n",
       "      <td>-0.172076</td>\n",
       "      <td>1.738315</td>\n",
       "      <td>0.893206</td>\n",
       "      <td>-0.646158</td>\n",
       "      <td>-1.230589</td>\n",
       "      <td>-0.306761</td>\n",
       "      <td>-0.461782</td>\n",
       "      <td>-0.426149</td>\n",
       "      <td>-0.404898</td>\n",
       "      <td>2.220051</td>\n",
       "      <td>-0.300719</td>\n",
       "      <td>-0.487594</td>\n",
       "      <td>-0.877909</td>\n",
       "      <td>1.796806</td>\n",
       "      <td>0.764349</td>\n",
       "      <td>0.800699</td>\n",
       "      <td>1.710090</td>\n",
       "      <td>-0.335657</td>\n",
       "      <td>-0.691626</td>\n",
       "      <td>-0.686559</td>\n",
       "    </tr>\n",
       "    <tr>\n",
       "      <th>2</th>\n",
       "      <td>-0.170421</td>\n",
       "      <td>-0.444843</td>\n",
       "      <td>-0.131458</td>\n",
       "      <td>-0.489485</td>\n",
       "      <td>1.328840</td>\n",
       "      <td>-0.016358</td>\n",
       "      <td>-0.356023</td>\n",
       "      <td>-0.036598</td>\n",
       "      <td>-0.281799</td>\n",
       "      <td>-0.221953</td>\n",
       "      <td>-0.011566</td>\n",
       "      <td>1.954512</td>\n",
       "      <td>-0.189818</td>\n",
       "      <td>-0.859656</td>\n",
       "      <td>-0.602899</td>\n",
       "      <td>-0.266283</td>\n",
       "      <td>-0.602899</td>\n",
       "      <td>-0.859656</td>\n",
       "      <td>2.734262</td>\n",
       "      <td>-0.266283</td>\n",
       "      <td>-0.189818</td>\n",
       "      <td>-0.313498</td>\n",
       "      <td>-0.020036</td>\n",
       "      <td>-0.016358</td>\n",
       "      <td>2.098962</td>\n",
       "      <td>-0.043315</td>\n",
       "      <td>-1.903517</td>\n",
       "      <td>-0.172076</td>\n",
       "      <td>-1.221631</td>\n",
       "      <td>1.604183</td>\n",
       "      <td>-0.646158</td>\n",
       "      <td>1.460616</td>\n",
       "      <td>-0.306761</td>\n",
       "      <td>-0.461782</td>\n",
       "      <td>-0.426149</td>\n",
       "      <td>-0.404898</td>\n",
       "      <td>2.220051</td>\n",
       "      <td>-0.300719</td>\n",
       "      <td>-0.487594</td>\n",
       "      <td>-0.877909</td>\n",
       "      <td>-0.923401</td>\n",
       "      <td>-0.293474</td>\n",
       "      <td>0.042994</td>\n",
       "      <td>-0.584764</td>\n",
       "      <td>-0.335657</td>\n",
       "      <td>-0.691626</td>\n",
       "      <td>1.456538</td>\n",
       "    </tr>\n",
       "    <tr>\n",
       "      <th>3</th>\n",
       "      <td>5.867817</td>\n",
       "      <td>-0.444843</td>\n",
       "      <td>-0.131458</td>\n",
       "      <td>-0.489485</td>\n",
       "      <td>-0.752536</td>\n",
       "      <td>-0.016358</td>\n",
       "      <td>-0.356023</td>\n",
       "      <td>-0.036598</td>\n",
       "      <td>-0.281799</td>\n",
       "      <td>-0.221953</td>\n",
       "      <td>-0.011566</td>\n",
       "      <td>-0.511637</td>\n",
       "      <td>-0.189818</td>\n",
       "      <td>-0.859656</td>\n",
       "      <td>1.658653</td>\n",
       "      <td>-0.266283</td>\n",
       "      <td>1.658653</td>\n",
       "      <td>-0.859656</td>\n",
       "      <td>-0.365729</td>\n",
       "      <td>-0.266283</td>\n",
       "      <td>-0.189818</td>\n",
       "      <td>-0.313498</td>\n",
       "      <td>-0.020036</td>\n",
       "      <td>-0.016358</td>\n",
       "      <td>-0.476426</td>\n",
       "      <td>-0.043315</td>\n",
       "      <td>0.525343</td>\n",
       "      <td>-0.172076</td>\n",
       "      <td>-1.221631</td>\n",
       "      <td>0.182230</td>\n",
       "      <td>1.547610</td>\n",
       "      <td>1.131081</td>\n",
       "      <td>-0.306761</td>\n",
       "      <td>-0.461782</td>\n",
       "      <td>2.346599</td>\n",
       "      <td>-0.404898</td>\n",
       "      <td>-0.450440</td>\n",
       "      <td>-0.300719</td>\n",
       "      <td>-0.487594</td>\n",
       "      <td>-0.877909</td>\n",
       "      <td>-0.972502</td>\n",
       "      <td>1.228051</td>\n",
       "      <td>1.265099</td>\n",
       "      <td>-0.584764</td>\n",
       "      <td>-0.335657</td>\n",
       "      <td>-0.691626</td>\n",
       "      <td>1.456538</td>\n",
       "    </tr>\n",
       "    <tr>\n",
       "      <th>4</th>\n",
       "      <td>-0.170421</td>\n",
       "      <td>-0.444843</td>\n",
       "      <td>-0.131458</td>\n",
       "      <td>2.042964</td>\n",
       "      <td>-0.752536</td>\n",
       "      <td>-0.016358</td>\n",
       "      <td>-0.356023</td>\n",
       "      <td>-0.036598</td>\n",
       "      <td>-0.281799</td>\n",
       "      <td>-0.221953</td>\n",
       "      <td>-0.011566</td>\n",
       "      <td>-0.511637</td>\n",
       "      <td>-0.189818</td>\n",
       "      <td>-0.859656</td>\n",
       "      <td>-0.602899</td>\n",
       "      <td>3.755400</td>\n",
       "      <td>-0.602899</td>\n",
       "      <td>-0.859656</td>\n",
       "      <td>-0.365729</td>\n",
       "      <td>3.755400</td>\n",
       "      <td>-0.189818</td>\n",
       "      <td>-0.313498</td>\n",
       "      <td>-0.020036</td>\n",
       "      <td>-0.016358</td>\n",
       "      <td>-0.476426</td>\n",
       "      <td>-0.043315</td>\n",
       "      <td>0.525343</td>\n",
       "      <td>-0.172076</td>\n",
       "      <td>-1.221631</td>\n",
       "      <td>-1.476716</td>\n",
       "      <td>-0.646158</td>\n",
       "      <td>-0.104677</td>\n",
       "      <td>-0.306761</td>\n",
       "      <td>-0.461782</td>\n",
       "      <td>-0.426149</td>\n",
       "      <td>-0.404898</td>\n",
       "      <td>-0.450440</td>\n",
       "      <td>-0.300719</td>\n",
       "      <td>2.050885</td>\n",
       "      <td>1.139070</td>\n",
       "      <td>-1.090345</td>\n",
       "      <td>-0.641251</td>\n",
       "      <td>-0.458069</td>\n",
       "      <td>-0.584764</td>\n",
       "      <td>-0.335657</td>\n",
       "      <td>1.445868</td>\n",
       "      <td>-0.686559</td>\n",
       "    </tr>\n",
       "  </tbody>\n",
       "</table>\n",
       "</div>"
      ],
      "text/plain": [
       "   Airline__Air Asia  Airline__Air India  Airline__GoAir  Airline__IndiGo  \\\n",
       "0          -0.170421           -0.444843       -0.131458        -0.489485   \n",
       "1          -0.170421            2.247986       -0.131458        -0.489485   \n",
       "2          -0.170421           -0.444843       -0.131458        -0.489485   \n",
       "3           5.867817           -0.444843       -0.131458        -0.489485   \n",
       "4          -0.170421           -0.444843       -0.131458         2.042964   \n",
       "\n",
       "   Airline__Jet Airways  Airline__Jet Airways Business  \\\n",
       "0             -0.752536                      -0.016358   \n",
       "1             -0.752536                      -0.016358   \n",
       "2              1.328840                      -0.016358   \n",
       "3             -0.752536                      -0.016358   \n",
       "4             -0.752536                      -0.016358   \n",
       "\n",
       "   Airline__Multiple carriers  Airline__Multiple carriers Premium economy  \\\n",
       "0                   -0.356023                                   -0.036598   \n",
       "1                   -0.356023                                   -0.036598   \n",
       "2                   -0.356023                                   -0.036598   \n",
       "3                   -0.356023                                   -0.036598   \n",
       "4                   -0.356023                                   -0.036598   \n",
       "\n",
       "   Airline__SpiceJet  Airline__Vistara  Airline__Vistara Premium economy  \\\n",
       "0          -0.281799          4.505457                         -0.011566   \n",
       "1          -0.281799         -0.221953                         -0.011566   \n",
       "2          -0.281799         -0.221953                         -0.011566   \n",
       "3          -0.281799         -0.221953                         -0.011566   \n",
       "4          -0.281799         -0.221953                         -0.011566   \n",
       "\n",
       "   Source__Banglore  Source__Chennai  Source__Delhi  Source__Kolkata  \\\n",
       "0         -0.511637        -0.189818       1.163256        -0.602899   \n",
       "1         -0.511637        -0.189818       1.163256        -0.602899   \n",
       "2          1.954512        -0.189818      -0.859656        -0.602899   \n",
       "3         -0.511637        -0.189818      -0.859656         1.658653   \n",
       "4         -0.511637        -0.189818      -0.859656        -0.602899   \n",
       "\n",
       "   Source__Mumbai  Destination__Banglore  Destination__Cochin  \\\n",
       "0       -0.266283              -0.602899             1.163256   \n",
       "1       -0.266283              -0.602899             1.163256   \n",
       "2       -0.266283              -0.602899            -0.859656   \n",
       "3       -0.266283               1.658653            -0.859656   \n",
       "4        3.755400              -0.602899            -0.859656   \n",
       "\n",
       "   Destination__Delhi  Destination__Hyderabad  Destination__Kolkata  \\\n",
       "0           -0.365729               -0.266283             -0.189818   \n",
       "1           -0.365729               -0.266283             -0.189818   \n",
       "2            2.734262               -0.266283             -0.189818   \n",
       "3           -0.365729               -0.266283             -0.189818   \n",
       "4           -0.365729                3.755400             -0.189818   \n",
       "\n",
       "   Destination__New Delhi  Additional_Info__Airport_Changed  \\\n",
       "0               -0.313498                         -0.020036   \n",
       "1               -0.313498                         -0.020036   \n",
       "2               -0.313498                         -0.020036   \n",
       "3               -0.313498                         -0.020036   \n",
       "4               -0.313498                         -0.020036   \n",
       "\n",
       "   Additional_Info__Business_Class  \\\n",
       "0                        -0.016358   \n",
       "1                        -0.016358   \n",
       "2                        -0.016358   \n",
       "3                        -0.016358   \n",
       "4                        -0.016358   \n",
       "\n",
       "   Additional_Info__In-flight meal not included  Additional_Info__Layover  \\\n",
       "0                                     -0.476426                 -0.043315   \n",
       "1                                     -0.476426                 -0.043315   \n",
       "2                                      2.098962                 -0.043315   \n",
       "3                                     -0.476426                 -0.043315   \n",
       "4                                     -0.476426                 -0.043315   \n",
       "\n",
       "   Additional_Info__No Info  Additional_Info__No check-in baggage included  \\\n",
       "0                  0.525343                                      -0.172076   \n",
       "1                  0.525343                                      -0.172076   \n",
       "2                 -1.903517                                      -0.172076   \n",
       "3                  0.525343                                      -0.172076   \n",
       "4                  0.525343                                      -0.172076   \n",
       "\n",
       "   Encoded_stops  Journey_Day  Journey_over_weekend  Date_Lapse  \\\n",
       "0      -1.221631     1.604183              1.547610   -0.214522   \n",
       "1       1.738315     0.893206             -0.646158   -1.230589   \n",
       "2      -1.221631     1.604183             -0.646158    1.460616   \n",
       "3      -1.221631     0.182230              1.547610    1.131081   \n",
       "4      -1.221631    -1.476716             -0.646158   -0.104677   \n",
       "\n",
       "   Dayis__Friday  Dayis__Monday  Dayis__Saturday  Dayis__Sunday  \\\n",
       "0      -0.306761      -0.461782         2.346599      -0.404898   \n",
       "1      -0.306761      -0.461782        -0.426149      -0.404898   \n",
       "2      -0.306761      -0.461782        -0.426149      -0.404898   \n",
       "3      -0.306761      -0.461782         2.346599      -0.404898   \n",
       "4      -0.306761      -0.461782        -0.426149      -0.404898   \n",
       "\n",
       "   Dayis__Thursday  Dayis__Tuesday  Dayis__Wednesday  Month_Start  \\\n",
       "0        -0.450440       -0.300719         -0.487594    -0.877909   \n",
       "1         2.220051       -0.300719         -0.487594    -0.877909   \n",
       "2         2.220051       -0.300719         -0.487594    -0.877909   \n",
       "3        -0.450440       -0.300719         -0.487594    -0.877909   \n",
       "4        -0.450440       -0.300719          2.050885     1.139070   \n",
       "\n",
       "   Duration_Type  Fly_Hours  Arrival_Hours  Month__3  Month__4  Month__5  \\\n",
       "0      -0.893940   0.315136       0.592942 -0.584764  2.979232 -0.691626   \n",
       "1       1.796806   0.764349       0.800699  1.710090 -0.335657 -0.691626   \n",
       "2      -0.923401  -0.293474       0.042994 -0.584764 -0.335657 -0.691626   \n",
       "3      -0.972502   1.228051       1.265099 -0.584764 -0.335657 -0.691626   \n",
       "4      -1.090345  -0.641251      -0.458069 -0.584764 -0.335657  1.445868   \n",
       "\n",
       "   Month__6  \n",
       "0 -0.686559  \n",
       "1 -0.686559  \n",
       "2  1.456538  \n",
       "3  1.456538  \n",
       "4 -0.686559  "
      ]
     },
     "execution_count": 1763,
     "metadata": {},
     "output_type": "execute_result"
    }
   ],
   "source": [
    "X_train.head()"
   ]
  },
  {
   "cell_type": "code",
   "execution_count": 1764,
   "metadata": {
    "scrolled": true
   },
   "outputs": [
    {
     "data": {
      "text/plain": [
       "RandomForestRegressor(bootstrap=True, criterion='mse', max_depth=12,\n",
       "           max_features='auto', max_leaf_nodes=None,\n",
       "           min_impurity_decrease=0.0, min_impurity_split=None,\n",
       "           min_samples_leaf=4, min_samples_split=5,\n",
       "           min_weight_fraction_leaf=0.0, n_estimators=100, n_jobs=1,\n",
       "           oob_score=False, random_state=101, verbose=0, warm_start=False)"
      ]
     },
     "execution_count": 1764,
     "metadata": {},
     "output_type": "execute_result"
    }
   ],
   "source": [
    "rf.fit(X_train, y_train_log)"
   ]
  },
  {
   "cell_type": "code",
   "execution_count": 1765,
   "metadata": {},
   "outputs": [
    {
     "data": {
      "text/plain": [
       "0.1407015124527019"
      ]
     },
     "execution_count": 1765,
     "metadata": {},
     "output_type": "execute_result"
    }
   ],
   "source": [
    "np.sqrt(mean_squared_log_error(y_test,10**rf.predict(X_test)))"
   ]
  },
  {
   "cell_type": "code",
   "execution_count": 1766,
   "metadata": {},
   "outputs": [
    {
     "data": {
      "text/plain": [
       "0.11611850135127433"
      ]
     },
     "execution_count": 1766,
     "metadata": {},
     "output_type": "execute_result"
    }
   ],
   "source": [
    "np.sqrt(mean_squared_log_error(y_train,10**rf.predict(X_train)))"
   ]
  },
  {
   "cell_type": "code",
   "execution_count": 1767,
   "metadata": {
    "collapsed": true
   },
   "outputs": [],
   "source": [
    "test_pred = rf.predict(test_final)"
   ]
  },
  {
   "cell_type": "code",
   "execution_count": 1768,
   "metadata": {
    "collapsed": true
   },
   "outputs": [],
   "source": [
    "test_pred = pd.DataFrame(10**test_pred,columns=['Price'])"
   ]
  },
  {
   "cell_type": "code",
   "execution_count": 1769,
   "metadata": {},
   "outputs": [],
   "source": [
    "test_pred.to_excel(\"C:/Users/LENOVO/Desktop/RandomForest_v1.xlsx\",index=False)"
   ]
  },
  {
   "cell_type": "code",
   "execution_count": 1770,
   "metadata": {
    "collapsed": true
   },
   "outputs": [],
   "source": [
    "param_grid = {\n",
    "    'bootstrap': [True],\n",
    "    'max_depth': [10,20,35,50],\n",
    "    'n_estimators': [200,400,600,800,1000]\n",
    "}"
   ]
  },
  {
   "cell_type": "code",
   "execution_count": 1771,
   "metadata": {
    "collapsed": true
   },
   "outputs": [],
   "source": [
    "rf = RandomForestRegressor()"
   ]
  },
  {
   "cell_type": "code",
   "execution_count": 1772,
   "metadata": {
    "collapsed": true
   },
   "outputs": [],
   "source": [
    "grid_search = GridSearchCV(estimator = rf, param_grid = param_grid, \n",
    "                          cv = 3, n_jobs = -1, verbose = 2)"
   ]
  },
  {
   "cell_type": "code",
   "execution_count": 1773,
   "metadata": {
    "scrolled": true
   },
   "outputs": [
    {
     "name": "stdout",
     "output_type": "stream",
     "text": [
      "Fitting 3 folds for each of 20 candidates, totalling 60 fits\n"
     ]
    },
    {
     "name": "stderr",
     "output_type": "stream",
     "text": [
      "[Parallel(n_jobs=-1)]: Done  37 tasks      | elapsed:  6.5min\n",
      "[Parallel(n_jobs=-1)]: Done  60 out of  60 | elapsed: 11.9min finished\n"
     ]
    },
    {
     "data": {
      "text/plain": [
       "GridSearchCV(cv=3, error_score='raise',\n",
       "       estimator=RandomForestRegressor(bootstrap=True, criterion='mse', max_depth=None,\n",
       "           max_features='auto', max_leaf_nodes=None,\n",
       "           min_impurity_decrease=0.0, min_impurity_split=None,\n",
       "           min_samples_leaf=1, min_samples_split=2,\n",
       "           min_weight_fraction_leaf=0.0, n_estimators=10, n_jobs=1,\n",
       "           oob_score=False, random_state=None, verbose=0, warm_start=False),\n",
       "       fit_params=None, iid=True, n_jobs=-1,\n",
       "       param_grid={'n_estimators': [200, 400, 600, 800, 1000], 'max_depth': [10, 20, 35, 50], 'bootstrap': [True]},\n",
       "       pre_dispatch='2*n_jobs', refit=True, return_train_score=True,\n",
       "       scoring=None, verbose=2)"
      ]
     },
     "execution_count": 1773,
     "metadata": {},
     "output_type": "execute_result"
    }
   ],
   "source": [
    "grid_search.fit(X_train, y_train_log)"
   ]
  },
  {
   "cell_type": "code",
   "execution_count": 1774,
   "metadata": {},
   "outputs": [
    {
     "data": {
      "text/plain": [
       "{'bootstrap': True, 'max_depth': 35, 'n_estimators': 200}"
      ]
     },
     "execution_count": 1774,
     "metadata": {},
     "output_type": "execute_result"
    }
   ],
   "source": [
    "grid_search.best_params_"
   ]
  },
  {
   "cell_type": "code",
   "execution_count": 1775,
   "metadata": {},
   "outputs": [
    {
     "data": {
      "text/plain": [
       "0.12254197530298852"
      ]
     },
     "execution_count": 1775,
     "metadata": {},
     "output_type": "execute_result"
    }
   ],
   "source": [
    "np.sqrt(mean_squared_log_error(y_test,10**grid_search.predict(X_test)))"
   ]
  },
  {
   "cell_type": "code",
   "execution_count": 1776,
   "metadata": {},
   "outputs": [
    {
     "data": {
      "text/plain": [
       "0.053537698409291262"
      ]
     },
     "execution_count": 1776,
     "metadata": {},
     "output_type": "execute_result"
    }
   ],
   "source": [
    "np.sqrt(mean_squared_log_error(y_train,10**grid_search.predict(X_train)))"
   ]
  },
  {
   "cell_type": "code",
   "execution_count": 1777,
   "metadata": {
    "collapsed": true
   },
   "outputs": [],
   "source": [
    "test_pred = 10**grid_search.predict(test_final)"
   ]
  },
  {
   "cell_type": "code",
   "execution_count": 1778,
   "metadata": {
    "collapsed": true
   },
   "outputs": [],
   "source": [
    "test_pred = pd.DataFrame(test_pred,columns=['Price'])"
   ]
  },
  {
   "cell_type": "code",
   "execution_count": 1785,
   "metadata": {
    "collapsed": true
   },
   "outputs": [],
   "source": [
    "test_pred.to_excel(\"C:/Users/LENOVO/Desktop/FinalOutput.xlsx\",index=False)"
   ]
  },
  {
   "cell_type": "code",
   "execution_count": 1786,
   "metadata": {
    "scrolled": true
   },
   "outputs": [
    {
     "name": "stdout",
     "output_type": "stream",
     "text": [
      "('Airline__Air Asia', 0.0017665909542312174)\n",
      "('Airline__Air India', 0.0075490430061892679)\n",
      "('Airline__GoAir', 0.0015146364648180278)\n",
      "('Airline__IndiGo', 0.0093781561917556343)\n",
      "('Airline__Jet Airways', 0.060738411563027291)\n",
      "('Airline__Jet Airways Business', 0.0012044165118728072)\n",
      "('Airline__Multiple carriers', 0.017594707067675016)\n",
      "('Airline__Multiple carriers Premium economy', 0.0011430142918755417)\n",
      "('Airline__SpiceJet', 0.0058009378602809939)\n",
      "('Airline__Vistara', 0.0065774394162790104)\n",
      "('Airline__Vistara Premium economy', 3.9221711745292223e-05)\n",
      "('Source__Banglore', 0.00096912715285481189)\n",
      "('Source__Chennai', 0.00090023047646028813)\n",
      "('Source__Delhi', 0.0020198442726403433)\n",
      "('Source__Kolkata', 0.0035210266346373271)\n",
      "('Source__Mumbai', 0.00241998991808019)\n",
      "('Destination__Banglore', 0.003654471362548518)\n",
      "('Destination__Cochin', 0.0019959059153145521)\n",
      "('Destination__Delhi', 0.0010942645951736313)\n",
      "('Destination__Hyderabad', 0.0027754482738147988)\n",
      "('Destination__Kolkata', 0.00075278250499928936)\n",
      "('Destination__New Delhi', 0.0024073967227261528)\n",
      "('Additional_Info__Airport_Changed', 5.8271175460127305e-06)\n",
      "('Additional_Info__Business_Class', 0.00014863353841129158)\n",
      "('Additional_Info__In-flight meal not included', 0.042923333927229371)\n",
      "('Additional_Info__Layover', 5.7609994887272781e-05)\n",
      "('Additional_Info__No Info', 0.0067670688623050756)\n",
      "('Additional_Info__No check-in baggage included', 6.3448977711777905e-05)\n",
      "('Encoded_stops', 0.024368393403107216)\n",
      "('Journey_Day', 0.0083461203463738049)\n",
      "('Journey_over_weekend', 0.0036539024514388118)\n",
      "('Date_Lapse', 0.089817379886931004)\n",
      "('Dayis__Friday', 0.0036896066625321101)\n",
      "('Dayis__Monday', 0.0013541216967990161)\n",
      "('Dayis__Saturday', 0.0012460449587293329)\n",
      "('Dayis__Sunday', 0.0022995545535137731)\n",
      "('Dayis__Thursday', 0.0015982468279352308)\n",
      "('Dayis__Tuesday', 0.00052655752482968056)\n",
      "('Dayis__Wednesday', 0.001315862694420143)\n",
      "('Month_Start', 0.00070866683027174897)\n",
      "('Duration_Type', 0.61052578798023849)\n",
      "('Fly_Hours', 0.025118438529384696)\n",
      "('Arrival_Hours', 0.027817905240911257)\n",
      "('Month__3', 0.0011519168084415297)\n",
      "('Month__4', 0.006472911010821346)\n",
      "('Month__5', 0.0020899790633066278)\n",
      "('Month__6', 0.0021156182429231249)\n"
     ]
    }
   ],
   "source": [
    "for i in zip(X_train.columns,grid_search.best_estimator_.feature_importances_):\n",
    "    print (i)"
   ]
  },
  {
   "cell_type": "code",
   "execution_count": 1781,
   "metadata": {},
   "outputs": [],
   "source": [
    "from statsmodels.stats.outliers_influence import variance_inflation_factor\n",
    "from statsmodels.tools.tools import add_constant"
   ]
  },
  {
   "cell_type": "code",
   "execution_count": 1782,
   "metadata": {
    "collapsed": true
   },
   "outputs": [],
   "source": [
    "data_copy1 = data_copy"
   ]
  },
  {
   "cell_type": "code",
   "execution_count": 1783,
   "metadata": {
    "collapsed": true
   },
   "outputs": [],
   "source": [
    "data_copy2 = add_constant(data_copy1)"
   ]
  },
  {
   "cell_type": "code",
   "execution_count": 1784,
   "metadata": {
    "scrolled": true
   },
   "outputs": [
    {
     "name": "stderr",
     "output_type": "stream",
     "text": [
      "C:\\Anaconda\\envs\\tfdeeplearning\\lib\\site-packages\\statsmodels\\regression\\linear_model.py:1543: RuntimeWarning: divide by zero encountered in double_scalars\n",
      "  return 1 - self.ssr/self.centered_tss\n",
      "C:\\Anaconda\\envs\\tfdeeplearning\\lib\\site-packages\\statsmodels\\stats\\outliers_influence.py:181: RuntimeWarning: divide by zero encountered in double_scalars\n",
      "  vif = 1. / (1. - r_squared_i)\n"
     ]
    },
    {
     "data": {
      "text/plain": [
       "const                                            0.000000\n",
       "Price                                            3.506180\n",
       "Airline__Air Asia                                     inf\n",
       "Airline__Air India                                    inf\n",
       "Airline__GoAir                                        inf\n",
       "Airline__IndiGo                                       inf\n",
       "Airline__Jet Airways                                  inf\n",
       "Airline__Jet Airways Business                         inf\n",
       "Airline__Multiple carriers                            inf\n",
       "Airline__Multiple carriers Premium economy            inf\n",
       "Airline__SpiceJet                                     inf\n",
       "Airline__Vistara                                      inf\n",
       "Airline__Vistara Premium economy                      inf\n",
       "Source__Banglore                                      inf\n",
       "Source__Chennai                                       inf\n",
       "Source__Delhi                                         inf\n",
       "Source__Kolkata                                       inf\n",
       "Source__Mumbai                                        inf\n",
       "Destination__Banglore                                 inf\n",
       "Destination__Cochin                                   inf\n",
       "Destination__Delhi                                    inf\n",
       "Destination__Hyderabad                                inf\n",
       "Destination__Kolkata                                  inf\n",
       "Destination__New Delhi                                inf\n",
       "Additional_Info__Airport_Changed                      inf\n",
       "Additional_Info__Business_Class                       inf\n",
       "Additional_Info__In-flight meal not included          inf\n",
       "Additional_Info__Layover                              inf\n",
       "Additional_Info__No Info                              inf\n",
       "Additional_Info__No check-in baggage included         inf\n",
       "Encoded_stops                                    3.741380\n",
       "Journey_Day                                           inf\n",
       "Journey_over_weekend                                  inf\n",
       "Date_Lapse                                            inf\n",
       "Dayis__Friday                                         inf\n",
       "Dayis__Monday                                         inf\n",
       "Dayis__Saturday                                       inf\n",
       "Dayis__Sunday                                         inf\n",
       "Dayis__Thursday                                       inf\n",
       "Dayis__Tuesday                                        inf\n",
       "Dayis__Wednesday                                      inf\n",
       "Month_Start                                      4.702320\n",
       "Duration_Type                                    2.591385\n",
       "Fly_Hours                                        1.064004\n",
       "Arrival_Hours                                    1.042552\n",
       "Month__3                                              inf\n",
       "Month__4                                              inf\n",
       "Month__5                                              inf\n",
       "Month__6                                              inf\n",
       "dtype: float64"
      ]
     },
     "execution_count": 1784,
     "metadata": {},
     "output_type": "execute_result"
    }
   ],
   "source": [
    "pd.Series([variance_inflation_factor(data_copy2.values, i) \n",
    "               for i in range(data_copy2.shape[1])], \n",
    "              index=data_copy2.columns)"
   ]
  },
  {
   "cell_type": "code",
   "execution_count": null,
   "metadata": {
    "collapsed": true
   },
   "outputs": [],
   "source": []
  }
 ],
 "metadata": {
  "kernelspec": {
   "display_name": "Python 3",
   "language": "python",
   "name": "python3"
  },
  "language_info": {
   "codemirror_mode": {
    "name": "ipython",
    "version": 3
   },
   "file_extension": ".py",
   "mimetype": "text/x-python",
   "name": "python",
   "nbconvert_exporter": "python",
   "pygments_lexer": "ipython3",
   "version": "3.5.4"
  }
 },
 "nbformat": 4,
 "nbformat_minor": 2
}
